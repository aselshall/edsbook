{
 "cells": [
  {
   "cell_type": "markdown",
   "id": "269d17fd-9edf-4bc6-ae60-1dd089219748",
   "metadata": {
    "slideshow": {
     "slide_type": ""
    },
    "tags": []
   },
   "source": [
    "# <h1 style=\"color:green; text-align:center;\">Lesson 9: Script Files and Modules</h1> \n",
    "\n",
    "This lesson is modified from [Using script files](https://geo-python-site.readthedocs.io/en/latest/notebooks/L4/script-files.html) and [loading and using modules](https://geo-python-site.readthedocs.io/en/latest/notebooks/L4/modules.html) \n",
    "from [geo-python](https://geo-python-site.readthedocs.io/en/latest/index.html).\n",
    "\n",
    "[![Binder](https://mybinder.org/badge_logo.svg)](https://mybinder.org/v2/gh/aselshall/eds/HEAD)"
   ]
  },
  {
   "cell_type": "markdown",
   "id": "c7c7ab7e-b4e2-47f6-a181-b1b40a0dd166",
   "metadata": {},
   "source": [
    "---\n",
    "## Objectives  \n",
    "By the end of this lesson, you will be able to\n",
    "- save functions to a script file for future use\n",
    "- be able to import and use a module\n",
    "- install and import new packages (a module or collection of modules)\n",
    "\n",
    "---"
   ]
  },
  {
   "cell_type": "markdown",
   "id": "3b8e434d-624b-443a-b930-26475f64ca2a",
   "metadata": {
    "tags": []
   },
   "source": [
    "## 1. An introduction to script files\n",
    "\n",
    "Up to this point we have been keeping our python code and markdown comments in a single jupyter notebook document.\n",
    "This is great, but there are some cases, like when you have long python code blocks or a set of functions used in many notebooks, in which you may want to have python code in a separate document to make sure your jupyter notebook is easy to read (and use).\n",
    "An alternative to typing in all of the commands you would like to run is the list them in a python `script` file.\n",
    "A python script file is simply a file containing a list of the commands you would like to run, normally with one command per line, and formatted in the same way as if you were to type them in.\n",
    "Python script files traditionally use the `.py` file extension in their names."
   ]
  },
  {
   "cell_type": "markdown",
   "id": "6f42bdd1-88d4-429b-9d29-fade72ad262a",
   "metadata": {
    "tags": []
   },
   "source": [
    "### 1.1 The general concept of a `.py` script file\n",
    "\n",
    "Because a python script file is simply a list of commands that you might otherwise type into a python cell in a jupyter notebook or a python console, we can quite easily create a basic script file and test things out."
   ]
  },
  {
   "cell_type": "markdown",
   "id": "34bde979-cd65-41fe-9702-12adc40517ce",
   "metadata": {
    "tags": []
   },
   "source": [
    "### 1.2 Getting started\n",
    "\n",
    "First, we need to create a new text file by clicking on **File** -> **New** -> **Python File** in the JupyterLab menu bar.\n",
    "\n",
    "![Creating a new Python file in JupyterLab.](https://geo-python-site.readthedocs.io/en/latest/_images/new-python-file-600.png)\n",
    "\n",
    "This will create a new tab in your JupyterLab window that should look something like that below, a blank slate.\n",
    "\n",
    "![Our new Python file in JupyterLab.](https://geo-python-site.readthedocs.io/en/latest/_images/new-python-file-created-800.png)\n",
    "\n",
    "Start by copying and pasting the text below into your new text file editor panel.\n",
    "\n",
    "```python\n",
    "def celsius_to_fahr(temp_celsius):\n",
    "    return 9/5 * temp_celsius + 32\n",
    "```"
   ]
  },
  {
   "cell_type": "markdown",
   "id": "ad84e4fb-43d4-4e3b-b005-a55bd1df8dce",
   "metadata": {},
   "source": [
    "### 1.3 Renaming our Python file\n",
    "\n",
    "Python scripts are just regular text files with the `.py` file extension that will identify them as source code for Python in JupyterLab.\n",
    "By default, new Python files will be called `untitled.py`.\n",
    "You can rename the file by right clicking on the tab titled `untitled.py` and renaming it as `temp_converter.py`.\n",
    "\n",
    "![Renaming a Python file in JupyterLab.](https://geo-python-site.readthedocs.io/en/latest/_images/rename-python-file-part1-600.png)\n",
    "\n",
    "![Changing the file name in JupyterLab.](https://geo-python-site.readthedocs.io/en/latest/_images/rename-python-file-part2-400.png)\n",
    "\n",
    "```{note}\n",
    "Be sure to save your `temp_converter.py` file after making your changes.\n",
    "```\n",
    "\n",
    "We'll return later to some best practices for writing script files, but for now let's continue with how to use our functions saved in the Python file we just created."
   ]
  },
  {
   "cell_type": "markdown",
   "id": "3dac663b-8723-49aa-9141-fdf885ae9a04",
   "metadata": {},
   "source": [
    "### 1.4 Saving functions in a script file\n",
    "Functions such as the ones we just created can also be saved in a script file and called from Jupyter notebooks.\n",
    "In fact, quite often it is useful to create a dedicated function library for functions that you use frequently, when doing data analysis, for example.\n",
    "Basically this is done by listing useful functions in a single `.py` file from which you can then import and use them whenever needed.\n",
    "\n",
    "Basically, we've just seen how to save some functions to a script file.\n",
    "Let's now add the other functions we had been using to our script.\n",
    "Simply copy and paste the text below into your `temp_converter.py` file leaving two blank lines between each function, as suggested in the [PEP 8 guidelines](https://pep8.org/#blank-lines).\n",
    "\n",
    "```python\n",
    "def kelvins_to_celsius(temp_kelvins):\n",
    "    return temp_kelvins - 273.15\n",
    "\n",
    "\n",
    "def kelvins_to_fahr(temp_kelvins):\n",
    "    temp_celsius = kelvins_to_celsius(temp_kelvins)\n",
    "    temp_fahr = celsius_to_fahr(temp_celsius)\n",
    "    return temp_fahr\n",
    "```\n",
    "\n",
    "Don't forget to save your changes!"
   ]
  },
  {
   "cell_type": "markdown",
   "id": "6e238ee3-00b8-4c5e-a9d5-8d538343b971",
   "metadata": {},
   "source": [
    "### 1.5 Calling functions from a script file\n",
    "Now that we have saved our temperature conversion functions into a script file we can start using them."
   ]
  },
  {
   "cell_type": "markdown",
   "id": "7a5b3ddb-1205-4de9-b9cb-dda3eae36dcd",
   "metadata": {},
   "source": [
    "#### 1.5.1 Making sure we're in the right working directory\n",
    "\n",
    "Hopefully you have saved your `temp_converter.py` file in the same location as this Jupyter notebook (`script-files.ipynb`).\n",
    "If so, that's good, but we need to do one more thing to be able to start working with it.\n",
    "We need to change the working directory in JupyterLab to be the one where the `temp_converter.py` exists.\n",
    "\n",
    "First, we can check where we are working currently using an IPython magic command called `%ls`. `%ls` allows us to see the files located in the directory where we are currently working. You can run the `%ls` command in the cell below to see which files are in the current working directory."
   ]
  },
  {
   "cell_type": "code",
   "execution_count": null,
   "id": "5f2a9933-5eb5-445d-bf29-13cdbbe4dca9",
   "metadata": {},
   "outputs": [],
   "source": []
  },
  {
   "cell_type": "markdown",
   "id": "1fcaac80-3b9c-4cd7-be84-6a26f1508fdf",
   "metadata": {},
   "source": [
    "```Note\n",
    "In python and jupyter notebooks, the \"%\" symbol is used to indicate magic commands, which are special commands that are not a part of the python language itself but are specific to the IPython environment used by jupyter. These commands provide additional functionality and are prefixed with a \"%\" character. These magic commands can be quite handy for performing various tasks and managing the Jupyter environment. You can find a list of available magic commands by running %lsmagic in a jupyter cell.\n",
    "```"
   ]
  },
  {
   "cell_type": "markdown",
   "id": "3171117d-940d-4840-b1df-e7dcfbd1b7ad",
   "metadata": {},
   "source": [
    "If your output from the `%ls` command is the directory where you jupyter notebook is, then you are all set to continue. Otherwise, you will need to change directories to the one containing the `temp_converter.py` file.\n",
    "You can do this using `%cd` like this example:\n",
    "```ipython\n",
    "%cd my-work/notebooks/\n",
    "```\n",
    "Replace the above path to the path where your \"Lesson9_script-files.ipynb\" and \"temp_converter.py\" are."
   ]
  },
  {
   "cell_type": "code",
   "execution_count": null,
   "id": "83d705cd-3d1a-4d71-8281-65d6dd9b213e",
   "metadata": {},
   "outputs": [],
   "source": []
  },
  {
   "cell_type": "markdown",
   "id": "5556eed9-7541-43d4-9583-43b620b43ac0",
   "metadata": {},
   "source": [
    "##### Confirming we are in the correct directory\n",
    "\n",
    "At this point we can run the `%ls` command once more to make sure we're in the correct directory. You should see the `temp_converter.py` file in the list of files and directories that are output."
   ]
  },
  {
   "cell_type": "code",
   "execution_count": null,
   "id": "4d47d115-1df7-443a-ab65-73a44176fe42",
   "metadata": {},
   "outputs": [],
   "source": []
  },
  {
   "cell_type": "markdown",
   "id": "09de914c-00bc-43f8-a4ef-0a7917cc4fb0",
   "metadata": {},
   "source": [
    "#### 1.5.2 Importing our script functions\n",
    "\n",
    "Let's now import our `celsius_to_fahr()` function from the other script by adding a specific `import` statement in the Python cell below: `from temp_converter import celsius_to_fahr`"
   ]
  },
  {
   "cell_type": "code",
   "execution_count": null,
   "id": "733f8cab-1487-4f15-b34f-8ef79e349bc1",
   "metadata": {
    "tags": []
   },
   "outputs": [],
   "source": []
  },
  {
   "cell_type": "markdown",
   "id": "5c388626-f8c9-4339-81f9-e97483f2ad3e",
   "metadata": {},
   "source": [
    "#### 1.5.3 Using our script functions\n",
    "\n",
    "Let's also use the function so that we can see that it is working. We can print the temperature in Fahrenheit at which water freezes using our `celsius_to_fahr()` function in the cell below."
   ]
  },
  {
   "cell_type": "code",
   "execution_count": null,
   "id": "1e4e9167-ce98-4691-a8d0-8fa830f50061",
   "metadata": {},
   "outputs": [],
   "source": []
  },
  {
   "cell_type": "markdown",
   "id": "6f51559a-8d44-4114-96a5-1233b8453e17",
   "metadata": {},
   "source": [
    "You should get following output:\n",
    "\n",
    "```\n",
    "The freezing point of water in Fahrenheit is 32.0\n",
    "```"
   ]
  },
  {
   "cell_type": "markdown",
   "id": "fcc8fa47-c982-48b6-8adc-01c2fbe1f4d6",
   "metadata": {},
   "source": [
    "#### 1.5.4 Importing multiple functions\n",
    "\n",
    "It is also possible to import more functions at the same time by listing and separating them with a comma.\n",
    "\n",
    "```python\n",
    "from my_script import func1, func2, func3\n",
    "```\n",
    "Here is an example:"
   ]
  },
  {
   "cell_type": "code",
   "execution_count": null,
   "id": "55b125aa-ac2d-4491-b7bf-e934284f8ff9",
   "metadata": {},
   "outputs": [],
   "source": []
  },
  {
   "cell_type": "markdown",
   "id": "687df034-d5ef-4e99-9c8e-4d73bdbe8dcc",
   "metadata": {},
   "source": [
    "#### 1.5.5 Importing all functions from a script\n",
    "\n",
    "Sometimes it is useful to import the whole script and all of its functions at once. Let's use a different `import` statement and test that all functions work. This time we can type `import temp_converter as tc`."
   ]
  },
  {
   "cell_type": "code",
   "execution_count": null,
   "id": "9ba2fe48-154a-471a-a9ab-8e5ef8f29a34",
   "metadata": {
    "tags": []
   },
   "outputs": [],
   "source": []
  },
  {
   "cell_type": "markdown",
   "id": "0467020c-3d8a-4f83-98d1-754d29b1c993",
   "metadata": {},
   "source": [
    "Just like the examples we have seen earlier with the `math` library, such as using `math.sin()`, we can now use our functions such as `tc.celsius_to_fahr()`. In the cells below, test our functions as they were used above by printing the freezing point of water in Fahrenheit, absolute zero in Celsius, and absolute zero in Fahrenheit. \n",
    "\n",
    "Try using your functions. Here is one of them.\n",
    "```\n",
    "temp=tc.celsius_to_fahr(0)\n",
    "print(f\"The freezing point of water in Fahrenheit is {temp}\")\n",
    "```"
   ]
  },
  {
   "cell_type": "code",
   "execution_count": null,
   "id": "13089f9a-25c4-4b19-9890-333876e1d538",
   "metadata": {
    "tags": []
   },
   "outputs": [],
   "source": []
  },
  {
   "cell_type": "markdown",
   "id": "4a6c56c0-8aea-48fe-b12f-8323ad6dc60f",
   "metadata": {},
   "source": [
    "Here you can use your other functions"
   ]
  },
  {
   "cell_type": "code",
   "execution_count": null,
   "id": "3f147b43-556b-40f6-92de-f1a77f4b423f",
   "metadata": {
    "tags": []
   },
   "outputs": [],
   "source": [
    "temp=tc.kelvins_to_celsius(temp_kelvins=0)\n",
    "print(f\"Absolute zero in Celsius is {temp}\")"
   ]
  },
  {
   "cell_type": "code",
   "execution_count": null,
   "id": "5d8f8076-d93e-430a-81ce-238266390646",
   "metadata": {
    "tags": []
   },
   "outputs": [],
   "source": [
    "temp=tc.kelvins_to_fahr(temp_kelvins=0)\n",
    "print(f\"Absolute zero in Fahrenheit is {temp}\")"
   ]
  },
  {
   "cell_type": "code",
   "execution_count": null,
   "id": "5e19c4b9-7f58-490c-9779-73e7acb416f2",
   "metadata": {},
   "outputs": [],
   "source": [
    "print(tc.add_power(2,3))"
   ]
  },
  {
   "cell_type": "markdown",
   "id": "839620a1-310a-4ab2-a999-466375b6f5c9",
   "metadata": {},
   "source": [
    "**Note** : When you add the two new functions `kelvins_to_celsius` and  `kelvins_to_fahr`, and you try to call `kelvins_to_celsius()`, for example, you will get an error:\n",
    "```error\n",
    "module 'temp_converter' has no attribute 'kelvins_to_celsius'.\n",
    "```\n",
    "Why? In Jupyter Notebooks or IPython environments, when you import a module, the imported module is cached in memory. If you make changes to the module (like adding a new function), simply re-importing the module may not reflect the changes immediately. This is because the kernel retains the previous version of the module in memory. Restarting the kernel is a way to clear the memory and reload all the modules, ensuring that any changes made to the module are applied. To do this, go to `Kernel` menu and select `Restart kernel` and you are good to go."
   ]
  },
  {
   "cell_type": "markdown",
   "id": "01e61069-0c07-4eed-8f95-6c72733d66f5",
   "metadata": {},
   "source": [
    "## 2. Example: Temperature calculator (*optional*)\n",
    "\n",
    "So far we have learned how to define functions with one parameter and with multiple parameters, and with one output or multiple outputs.\n",
    "Let's now make a simple `temp_calculator` function that accepts temperatures in Kelvins and returns values in either degrees Celsius or degrees Fahrenheit.\n",
    "The new function will have two parameters:\n",
    "\n",
    "- `temp_k` : The parameter for passing temperature in Kelvins\n",
    "- `convert_to` : The parameter that determines whether to output should be in Celsius or in Fahrenheit (using the letters `C` or `F` accordingly)"
   ]
  },
  {
   "cell_type": "markdown",
   "id": "faa079f0-d989-40ef-84ec-e8394cf6a05b",
   "metadata": {},
   "source": [
    "### 2.1 Making the function\n",
    "\n",
    "Let's start defining our function by giving it a name and setting the parameters.\n",
    "\n",
    "```python\n",
    "def temp_calculator(temp_k, convert_to):\n",
    "    \n",
    "    # Check if user wants the temperature in Celsius\n",
    "    if convert_to == \"C\":\n",
    "        \n",
    "        # Convert the value to Celsius \n",
    "        converted_temp = kelvins_to_celsius(temp_kelvins=temp_k)\n",
    "    \n",
    "    elif convert_to == \"F\":\n",
    "       \n",
    "        # Convert the value to Fahrenheit \n",
    "        converted_temp = kelvins_to_fahr(temp_kelvins=temp_k)\n",
    "   \n",
    "    \n",
    "    # Return the result\n",
    "    return converted_temp\n",
    "```"
   ]
  },
  {
   "cell_type": "markdown",
   "id": "ec0ef717-abba-45f4-90bb-d8920a2a08bd",
   "metadata": {},
   "source": [
    "### 2.2 Adding a docstring\n",
    "\n",
    "Since we want to be good programmers, we should add a short docstring at the beginning of our function that tells what the function does and how the parameters work."
   ]
  },
  {
   "cell_type": "markdown",
   "id": "a79f8a04-6de3-4028-bd76-e7a6dd6654a4",
   "metadata": {},
   "source": [
    "```python\n",
    "def temp_calculator(temp_k, convert_to):\n",
    "    \"\"\"\n",
    "    Function for converting temperature in Kelvins to Celsius or Fahrenheit.\n",
    "\n",
    "    Parameters\n",
    "    ----------\n",
    "    temp_k: numerical\n",
    "        Temperature in Kelvins\n",
    "    convert_to: str\n",
    "        Target temperature that can be either Celsius ('C') or Fahrenheit ('F'). Supported values: 'C' | 'F'\n",
    "\n",
    "    Returns\n",
    "    -------\n",
    "    converted_temp: float\n",
    "        Converted temperature.\n",
    "    \"\"\"\n",
    "\n",
    "    # Check if user wants the temperature in Celsius\n",
    "    if convert_to == \"C\":\n",
    "        \n",
    "        # Convert the value to Celsius using the dedicated function for the task that we imported from another script\n",
    "        converted_temp = kelvins_to_celsius(temp_kelvins=temp_k)\n",
    "    \n",
    "    elif convert_to == \"F\":\n",
    "        \n",
    "        # Convert the value to Fahrenheit using the dedicated function for the task that we imported from another script\n",
    "        converted_temp = kelvins_to_fahr(temp_kelvins=temp_k)\n",
    "   \n",
    "    # Return the result\n",
    "    return converted_temp\n",
    "```\n",
    "You can copy this to a file and rename it \"temp_converter.py\""
   ]
  },
  {
   "cell_type": "markdown",
   "id": "ce32fbc4-2e29-4373-9365-a0b53ccf42cc",
   "metadata": {},
   "source": [
    "### 2.3 Using the temp_calculator function\n",
    "Add this function to your \"temp_converter.py\", and do not forget to restart the kernel in order not to get an error.\n",
    "\n",
    "Now, let's use it."
   ]
  },
  {
   "cell_type": "code",
   "execution_count": null,
   "id": "7e64f666-a9ec-489c-b62a-c595470dab07",
   "metadata": {},
   "outputs": [],
   "source": [
    "import temp_converter as tc"
   ]
  },
  {
   "cell_type": "code",
   "execution_count": null,
   "id": "02ba856d-0ad1-4faa-8ba8-d54f942a424f",
   "metadata": {
    "tags": []
   },
   "outputs": [],
   "source": [
    "help(tc.temp_calculator)"
   ]
  },
  {
   "cell_type": "code",
   "execution_count": null,
   "id": "59dc6f0d-1c37-44dd-b73a-98abe96fd21d",
   "metadata": {},
   "outputs": [],
   "source": [
    "temp_kelvin = 30"
   ]
  },
  {
   "cell_type": "code",
   "execution_count": null,
   "id": "84459e98-85ef-42eb-bccd-c859bccf9b51",
   "metadata": {
    "tags": []
   },
   "outputs": [],
   "source": [
    "temperature_c = tc.temp_calculator(temp_k=temp_kelvin, convert_to=\"C\")"
   ]
  },
  {
   "cell_type": "code",
   "execution_count": null,
   "id": "6fa376bf-5659-4364-9c1c-fa1fdc16e516",
   "metadata": {
    "tags": []
   },
   "outputs": [],
   "source": [
    "print(f\"Temperature {temp_kelvin:.2f} in Kelvins is {temperature_c:.2f} in Celsius\")"
   ]
  },
  {
   "cell_type": "markdown",
   "id": "d1901d4d-5889-4729-ba11-61084f495249",
   "metadata": {},
   "source": [
    "## 3. Modules, packages and libraries?\n",
    "\n",
    "Python [module](https://docs.python.org/3/tutorial/modules.html#modules) refers to a piece of python code that is designed to execute a spesific task. Technically, modules are simply python script files (file extension`.py`) that contain function definitions and other statements. Python [packages](https://docs.python.org/3/tutorial/modules.html#packages) are a way of organizing modules into larger entities. The words \"module\", \"package\" and \"library\" are often used interchangeably."
   ]
  },
  {
   "cell_type": "markdown",
   "id": "8c9927d2-b1c6-404b-963b-5032276ce346",
   "metadata": {},
   "source": [
    "### 3.1 Loading modules\n",
    "\n",
    "Python modules can be loaded in a number of different ways."
   ]
  },
  {
   "cell_type": "markdown",
   "id": "dcca6ee5-77de-4070-a30f-9f0091115f25",
   "metadata": {},
   "source": [
    "#### 3.1.1 Loading whole module \n",
    "\n",
    "Python modules can be loaded in a number of different ways.\n",
    "\n",
    "Let's start simple with the math module.\n",
    "Here, we’ll load the math module using the `import` statement and try out some of the functions in the module, such as the square root function `sqrt`."
   ]
  },
  {
   "cell_type": "code",
   "execution_count": null,
   "id": "706bcbda-368e-4731-9c00-431aef0a2821",
   "metadata": {},
   "outputs": [],
   "source": []
  },
  {
   "cell_type": "code",
   "execution_count": null,
   "id": "f63cf6b7-769d-468e-8286-d5b6aa89439e",
   "metadata": {},
   "outputs": [],
   "source": []
  },
  {
   "cell_type": "markdown",
   "id": "2a2fcaa9-0c61-4e71-825c-d53511d3518a",
   "metadata": {},
   "source": [
    "Here we have loaded the math module by typing `import math`, which tells Python to read in the functions in the math module and make them available for use.\n",
    "In our example, we see that we can use a function within the math library by typing the name of the module first, a period, and then the name of function we would like to use afterward (e.g., `math.sqrt()`)."
   ]
  },
  {
   "cell_type": "markdown",
   "id": "cd42468c-9857-436e-bd35-f9431ea27169",
   "metadata": {},
   "source": [
    "##### Built-in functions\n",
    "\n",
    "[Built-in functions](https://docs.python.org/3/library/functions.html) such as `print()` are always available without importing anything:"
   ]
  },
  {
   "cell_type": "code",
   "execution_count": null,
   "id": "f4a82fd7-d1c7-4942-8787-08de4b7792de",
   "metadata": {},
   "outputs": [],
   "source": [
    "print(\"Hello world!\")"
   ]
  },
  {
   "cell_type": "markdown",
   "id": "0ba5daed-04b3-498f-9c4d-8bd75083b25b",
   "metadata": {},
   "source": [
    "Technically, the built-in functions belong to a module called `builtins`."
   ]
  },
  {
   "cell_type": "markdown",
   "id": "bb286f9d-f2ae-4676-9078-0d349bca9628",
   "metadata": {},
   "source": [
    "#### 3.1.2 Loading whole module with renaming\n",
    "\n",
    "We can also rename modules when they are imported.\n",
    "This can be helpful when using modules with longer names.\n",
    "Let's import the `math` module but rename it to `m` using the format `import module as name`.\n",
    "Then we can using the `sqrt` function from the math library and check the type of our module named `m`."
   ]
  },
  {
   "cell_type": "code",
   "execution_count": null,
   "id": "b142286b-75f6-42c2-aae4-4d314bdf383d",
   "metadata": {},
   "outputs": [],
   "source": []
  },
  {
   "cell_type": "code",
   "execution_count": null,
   "id": "f94f9f0f-fdf7-4037-836b-eefcb9ddcdde",
   "metadata": {},
   "outputs": [],
   "source": []
  },
  {
   "cell_type": "code",
   "execution_count": null,
   "id": "969f8ec6-288c-4916-a047-1c9211c2cc2f",
   "metadata": {},
   "outputs": [],
   "source": [
    "type(m)"
   ]
  },
  {
   "cell_type": "markdown",
   "id": "2ac5028e-ee0a-48f5-a981-04e9d2584f1c",
   "metadata": {},
   "source": [
    "Here, we imported the `math` module to be usable with the name `m` instead of `math`. We will see other examples later in the course where using an alternate name is rather useful. For example, next week we will start using the `pandas` library for data analysis. It is customary to import pandas as `pd`:"
   ]
  },
  {
   "cell_type": "code",
   "execution_count": null,
   "id": "39c8697e-e202-401a-ad4d-a059ce48c902",
   "metadata": {},
   "outputs": [],
   "source": [
    "import pandas as pd"
   ]
  },
  {
   "cell_type": "markdown",
   "id": "d4790b45-e786-4872-8184-f8f2c2b10783",
   "metadata": {},
   "source": [
    "#### 3.1.4 Importing a single function\n",
    "\n",
    "It is also possible to import only a single function from a module, rather than the entire module.\n",
    "This is sometimes useful when needing only a small piece of a large module.\n",
    "We can do this using the form `from module import function`.\n",
    "Let's import the `sqrt` function from the `math` module using this form.\n",
    "Again, we can test using our resulting function afterward."
   ]
  },
  {
   "cell_type": "code",
   "execution_count": null,
   "id": "5548511b-d59f-405b-a793-938e8b628431",
   "metadata": {},
   "outputs": [],
   "source": []
  },
  {
   "cell_type": "code",
   "execution_count": null,
   "id": "c3ee23e6-3d82-4244-8eeb-f720923377d5",
   "metadata": {},
   "outputs": [],
   "source": []
  },
  {
   "cell_type": "markdown",
   "id": "aef6c6ec-18b7-4c70-ba6b-0e095ccfbf4c",
   "metadata": {},
   "source": [
    "Though this can be useful, it has the drawback that **the imported function could conflict with other built-in or imported function names**, and you lose the information about which module contains the imported function.\n",
    "You should only do this when you truly need to."
   ]
  },
  {
   "cell_type": "markdown",
   "id": "7831a75a-7c9b-49a8-ba46-0a841bcc5297",
   "metadata": {},
   "source": [
    "#### 3.1.5 Importing a submodule\n",
    "\n",
    "Some modules have submodules that can also be imported without importing the entire module.\n",
    "We may see examples of this later when making data plots using the pyplot sub-module of the [Matplotlib module](http://matplotlib.org/).\n",
    "In case you're curious, here is an example."
   ]
  },
  {
   "cell_type": "markdown",
   "id": "f475f5e5-2a23-4368-87de-8ecda0134f3c",
   "metadata": {},
   "source": [
    "**Note**: When importing `matplotlib` you may get the following error\n",
    "```error\n",
    "ModuleNotFoundError: No module named 'matplotlib'\n",
    "```\n",
    "because you still did not install it. You need to first [install matplotlib](https://matplotlib.org/stable/users/getting_started/). Using pip install, you can type the flowing in a new code cell\n",
    "```python\n",
    "pip install matplotlib\n",
    "```\n",
    "that will install the package for you. It is not a small package so installation can take minutes. Do not forget to restart the kernel before using your new package. For more infromation: [4. Installing packages](#4.-Installing-packages)"
   ]
  },
  {
   "cell_type": "code",
   "execution_count": null,
   "id": "6bbf8fd6-24a3-4bb0-bb93-4f8e6fe298e4",
   "metadata": {},
   "outputs": [],
   "source": []
  },
  {
   "cell_type": "code",
   "execution_count": null,
   "id": "f4fe6446-205a-4e9b-b859-65b3aae1811a",
   "metadata": {},
   "outputs": [],
   "source": [
    "import matplotlib.pyplot as plt"
   ]
  },
  {
   "cell_type": "code",
   "execution_count": null,
   "id": "1a2ffd01-210b-46c7-bba6-c0d8ea5e2405",
   "metadata": {},
   "outputs": [],
   "source": [
    "# Plot a simple x y line graph with default settings\n",
    "plt.plot([1, 2, 3, 4, 5], [5, 4, 3, 2, 1])"
   ]
  },
  {
   "cell_type": "markdown",
   "id": "3d50cee0-0927-49ef-a313-17db8438c73c",
   "metadata": {},
   "source": [
    "You can read more about the plotting function in [matplotlib pyplot documentation](https://matplotlib.org/api/_as_gen/matplotlib.pyplot.plot.html). We will introduce matplotlib in detail later."
   ]
  },
  {
   "cell_type": "markdown",
   "id": "29911628-fc3c-451b-b690-80580a6add89",
   "metadata": {},
   "source": [
    "### 3.2 Using module functions\n",
    "\n",
    "As we see above, the easiest way to use a module is to import it an then use its functions by typing `modulename.functionname()` and providing the necessary arguments.\n",
    "Yes, it is that simple.\n",
    "\n",
    "However, there are times you may not know the names of all of the functions in a given module, or which are part of a module.\n",
    "You can view the list of functions that are part of a module by using the `dir()` function."
   ]
  },
  {
   "cell_type": "code",
   "execution_count": null,
   "id": "7112224c-9d05-447d-a23f-22201189f7ef",
   "metadata": {},
   "outputs": [],
   "source": [
    "import math"
   ]
  },
  {
   "cell_type": "code",
   "execution_count": null,
   "id": "3e557266-6aae-47a0-8b3a-c72a25ad3f78",
   "metadata": {},
   "outputs": [],
   "source": [
    "print(dir(math))"
   ]
  },
  {
   "cell_type": "markdown",
   "id": "5ddf791a-df6d-4767-82ce-3deefecce1f1",
   "metadata": {},
   "source": [
    "You can also browse the available modules by typing in modulename. and then pressing the <kbd>Tab</kbd> key:\n",
    "\n",
    "![view module keys img](https://geo-python-site.readthedocs.io/en/latest/_images/view_module_functions.png)"
   ]
  },
  {
   "cell_type": "markdown",
   "id": "a3c83631-6347-4957-9f3e-2a7703f3c699",
   "metadata": {},
   "source": [
    "So that's helpful, but what about when you don't know what a given function does?\n",
    "The easiest solution is to use the `help()` function (after importing the module).\n",
    "Let's check the help for the `math.sin` function."
   ]
  },
  {
   "cell_type": "code",
   "execution_count": null,
   "id": "39e03875-cdac-4581-9e01-9d2df37b0ef9",
   "metadata": {},
   "outputs": [],
   "source": [
    "help(math.sin)"
   ]
  },
  {
   "cell_type": "markdown",
   "id": "aff4107d-67a3-4f32-b91f-c780452c3a96",
   "metadata": {},
   "source": [
    "### 3.3 What should I not do?\n",
    "\n",
    "Here are a few things to avoid."
   ]
  },
  {
   "cell_type": "markdown",
   "id": "519abafe-c92b-4513-887e-23f9613cd1cf",
   "metadata": {},
   "source": [
    "#### 3.3.1 Using `from X import *`\n",
    "\n",
    "Don't use `from X import *`.\n",
    "This may be easier to understand by way of an example, but assuming `X` above is a Python module, `from X import *` will import all of the functions in module X.\n",
    "Though you might think this is helpful, it is much better to simply `import X` or `import X as Y` to keep the connection between the functions and their module.\n",
    "It is also much more likely you will encounter conflicting names when using `from X import *`."
   ]
  },
  {
   "cell_type": "markdown",
   "id": "5a9db7d6-60e0-454e-9388-63ba26b44a83",
   "metadata": {},
   "source": [
    "#### 3.3.2 Poor names when renaming on import\n",
    "When importing popular Python packages, there are some conventional short names that are commonly used across the Python community. These conventions are not strict rules, but following them can improve code readability and make your code more consistent with the broader Python ecosystem. Here are some common short names for popular python packages:\n",
    "```python\n",
    "import math\n",
    "import pandas as pd\n",
    "import numpy as np\n",
    "import matplotlib.pyplot as plt\n",
    "import seaborn as sns\n",
    "import sklearn\n",
    "import tensorflow as tf\n",
    "import torch\n",
    "```\n",
    "If you want to make the module name shorter on import, pick a reasonable abbreviation.\n",
    "For instance, `import matplotlib as m` could be confusing, especially if you're also using `import math as m` in other Jupyter notebooks or script files.\n",
    "Similarly, `import matplotlib as math` is perfectly OK syntax in python, but bound to cause a world of trouble.\n",
    "Remember, people need to be able to read and understand the code you write, keep it simple and logical."
   ]
  },
  {
   "cell_type": "markdown",
   "id": "9a9b9748-313a-49ce-869f-35790226db1c",
   "metadata": {},
   "source": [
    "#### 3.3.3 Importing modules along the way instead of on the top\n",
    "What does PEP 8 say about imports? According to good coding practices described in <a href=\"https://www.python.org/dev/peps/pep-0008/#imports\">PEP 8</a>, we should always import modules at the top of the file. In this lesson, we are demonstrating how to import different modules along the way, but in general it would be better to import requried modules as the very first thing. PEP 8 refers more to traditional script files, but we can apply the guideline to Jupyter Notebook files by placing our imports the first code cell in the Jupyter Notebook.\n"
   ]
  },
  {
   "cell_type": "markdown",
   "id": "41c9d42c-2c82-4743-a1f9-5034cfbc3589",
   "metadata": {
    "slideshow": {
     "slide_type": ""
    },
    "tags": []
   },
   "source": [
    "## 4. Installing packages\n",
    "\n",
    "It's also good to be aware of [pip](https://pypi.org/project/pip/), the package installer for python. [Mamba](https://mamba.readthedocs.io/en/latest/index.html) is another package installer for python that provides package management system. For example, with Mamba you can list installed package names and versions using the `mamba list` command. Pip and Mamba are often used for similar purposes, but the key difference is that pip is used for installing packages written in python, while Mamba handles packages that might also contain code written in other languages. \n",
    "\n",
    "```{admonition} Checking all available modules in a Jupyter Notebook\n",
    "In a Jupyter Notebook, you can type in `help(\"modules\")` to check the complete list of installed packages in Python. However, the output is a bit clumsy and hard to read...\n",
    "```\n",
    "You can try `help(\"modules\")` below."
   ]
  },
  {
   "cell_type": "code",
   "execution_count": null,
   "id": "583c6107-b36e-4bd5-877b-63d555a4706e",
   "metadata": {},
   "outputs": [],
   "source": [
    "# List all available modules. \n",
    "# Note: when running this command, \n",
    "#you might first get several warnings related to deprecated packages etc.\n"
   ]
  }
 ],
 "metadata": {
  "kernelspec": {
   "display_name": "Python 3 (ipykernel)",
   "language": "python",
   "name": "python3"
  },
  "language_info": {
   "codemirror_mode": {
    "name": "ipython",
    "version": 3
   },
   "file_extension": ".py",
   "mimetype": "text/x-python",
   "name": "python",
   "nbconvert_exporter": "python",
   "pygments_lexer": "ipython3",
   "version": "3.11.5"
  }
 },
 "nbformat": 4,
 "nbformat_minor": 5
}
