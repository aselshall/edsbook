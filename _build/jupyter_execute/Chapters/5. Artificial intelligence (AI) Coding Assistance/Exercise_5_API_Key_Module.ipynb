{
 "cells": [
  {
   "cell_type": "markdown",
   "id": "142703e0",
   "metadata": {},
   "source": [
    "\n",
    "# Exercise 5 - API-Key Module (Optional)\n",
    "\n",
    "**Level: Advanced**\n",
    "\n",
    "**Exercise time: ~ 2 hours**\n",
    "\n",
    "## Problem statement:\n",
    "\n",
    "Use a generative AI model to guide you through the process of creating an authentication package for any provider by setting the API key from any notebook on your machine. Here are the steps:\n",
    "\n",
    "1. **Create a package**: We did not learn package structure, but you can ask your generative AI model to show you how to create a package, say `ai_assistant`, and create a module, say `api_key`, with the function, say `set_API_key`, that can set your API key.\n",
    "2. **Create a configuration file for your JupyterLab environment** (e.g., `!jupyter notebook --generate-config`)\n",
    "3. **Append your configuration file** by appending the path to your local package directory.\n"
   ]
  }
 ],
 "metadata": {
  "kernelspec": {
   "display_name": "Python 3 (ipykernel)",
   "language": "python",
   "name": "python3"
  },
  "language_info": {
   "codemirror_mode": {
    "name": "ipython",
    "version": 3
   },
   "file_extension": ".py",
   "mimetype": "text/x-python",
   "name": "python",
   "nbconvert_exporter": "python",
   "pygments_lexer": "ipython3",
   "version": "3.11.0"
  }
 },
 "nbformat": 4,
 "nbformat_minor": 5
}