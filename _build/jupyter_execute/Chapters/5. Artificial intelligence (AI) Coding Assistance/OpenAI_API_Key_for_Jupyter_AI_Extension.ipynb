{
 "cells": [
  {
   "cell_type": "markdown",
   "id": "b715f875",
   "metadata": {},
   "source": [
    "\n",
    "# OpenAI API Key for Jupyter AI Extension (Optional)\n",
    "\n",
    "Jupyter AI extension integrates ChatGPT and other generative AI models into JupyterLab, providing real-time coding assistance. If you would like to follow along during class with the instructor's demo of the Jupyter AI extension, you need to have an OpenAI API key.\n",
    "\n",
    "If you do not know how to get an OpenAI API key or what is an OpenAI API key, please see the instructions in this link: [OpenAI API Key Instructions](https://aselshall.github.io/eds/L/L5/openai_api_key).\n",
    "\n",
    "Also, you need to have Anaconda or Miniconda to install Jupyter AI. For installing Anaconda or Miniconda, please see the instructions in this link: [Installing Anaconda or Miniconda](https://github.com/aselshall/eds/blob/main/L/L1/Installing_python.md).\n"
   ]
  }
 ],
 "metadata": {
  "language_info": {
   "codemirror_mode": {
    "name": "ipython",
    "version": 3
   },
   "file_extension": ".py",
   "mimetype": "text/x-python",
   "name": "python",
   "nbconvert_exporter": "python",
   "pygments_lexer": "ipython3",
   "version": "3.11.0"
  }
 },
 "nbformat": 4,
 "nbformat_minor": 5
}