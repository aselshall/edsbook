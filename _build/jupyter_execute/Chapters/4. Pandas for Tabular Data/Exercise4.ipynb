{
 "cells": [
  {
   "cell_type": "markdown",
   "id": "4c8ccc56-60e8-4df5-a2f1-73fc6f47bd83",
   "metadata": {},
   "source": [
    "# <h1 style=\"color:green; text-align:center;\"> Exercise 4 - Pandas </h1> \n",
    "\n",
    "[![Binder](https://mybinder.org/badge_logo.svg)](https://mybinder.org/v2/gh/aselshall/eds/HEAD)"
   ]
  },
  {
   "cell_type": "markdown",
   "id": "ea028474-98f9-4418-a3d2-08f248fdd736",
   "metadata": {},
   "source": [
    "### Dataset\n",
    "Red tides are caused by Karenia brevis harmful algae blooms. For Karenia brevis cell count data, you can use the [current dataset](https://www.ncei.noaa.gov/access/metadata/landing-page/bin/iso?id=gov.noaa.nodc:0120767) of Physical and biological data collected along the Texas, Mississippi, Alabama, and Florida Gulf coasts in the Gulf of Mexico as part of the Harmful Algal BloomS Observing System from 1953-08-19 to 2023-07-06 (NCEI Accession 0120767). For direct data download, you can use this [data link](https://www.nodc.noaa.gov/archive/arc0069/0120767/7.7/data/0-data/habsos_20230714.csv) and this [data documentation link](https://www.nodc.noaa.gov/archive/arc0069/0120767/7.7/data/0-data/Support%20Documents/).  Alternatively, FWRI documents Karenia brevis blooms from 1953 to the present. The dataset has more than 200,000 records is updated daily. To request this dataset email: HABdata@MyFWC.com. To learn more about this data, check the [FWRI  Red Tide  Red Tide Current Status](https://myfwc.com/research/redtide/statewide/)."
   ]
  },
  {
   "cell_type": "markdown",
   "id": "53177fb8-c759-483a-b5cc-e9a2a8ec86d7",
   "metadata": {},
   "source": [
    "### Study areas\n",
    "Conduct your analysis in Tampa Bay and Charlotte Harbor estuary. For Tampa Bay, restrict the Karenia brevis measurements from 27° N to 28° N and 85° W to coast. For Charlotte Harbor estuary, restrict the Karenia brevis measurements from 25.5° N to less than 27° N and 85° W to coast."
   ]
  },
  {
   "cell_type": "markdown",
   "id": "e4185580-a662-4118-ad9f-720b5aaf6401",
   "metadata": {},
   "source": [
    "### Problem statement\n",
    "\n",
    "For each of the two regions, plot the maximum Karenia brevis concentration (i.e., cellcount) per week for the whole study period and for the last 10 years. "
   ]
  },
  {
   "cell_type": "markdown",
   "id": "c6efc54b-0117-4ecb-ac45-681acb955c6a",
   "metadata": {},
   "source": [
    "### Exercise\n",
    "\n",
    "Peform the 10 tasks below. Use of a LLM is permitted. "
   ]
  },
  {
   "cell_type": "markdown",
   "id": "e8f24a93-5af6-47c0-8f33-20247fb1f126",
   "metadata": {},
   "source": [
    "#### 1. Import libraries"
   ]
  },
  {
   "cell_type": "code",
   "execution_count": null,
   "id": "859d0aac-8806-4968-a30b-c64045fb5349",
   "metadata": {},
   "outputs": [],
   "source": []
  },
  {
   "cell_type": "markdown",
   "id": "7b0c4ccb-9dcb-4e5d-96d2-17f2b7053816",
   "metadata": {},
   "source": [
    "#### 2. Read data from csv file"
   ]
  },
  {
   "cell_type": "code",
   "execution_count": 1,
   "id": "5e87aa70-2714-434f-a4f2-444671ffbc0a",
   "metadata": {
    "scrolled": true
   },
   "outputs": [],
   "source": [
    "# Read a csv file with Pandas\n"
   ]
  },
  {
   "cell_type": "markdown",
   "id": "f65bf71e-4f9a-4457-9b0a-b14f170bf758",
   "metadata": {},
   "source": [
    "#### 3. Filter to columns needed for analysis\n",
    "\n",
    "Select columns that include State ID, description, latitude, longitude, sample date, and cellcount."
   ]
  },
  {
   "cell_type": "code",
   "execution_count": 2,
   "id": "799ff9c2-ee27-4f8b-8e0b-c3baa5a0fbea",
   "metadata": {},
   "outputs": [],
   "source": [
    "#Display columns labels\n"
   ]
  },
  {
   "cell_type": "code",
   "execution_count": 3,
   "id": "e262e9cb-e831-4117-925d-f7ee2907bd19",
   "metadata": {},
   "outputs": [],
   "source": [
    "# Select column names that you need for your analysis (e.g., 'LATITUDE', 'LONGITUDE', 'SAMPLE_DATE', 'CELLCOUNT', etc.) \n",
    "\n",
    "# Filter the DataFrame to include only the selected columns\n",
    "\n",
    "# Display your DataFrame\n"
   ]
  },
  {
   "cell_type": "markdown",
   "id": "92aa2041-cf6b-4852-b37b-d6aa03674e8b",
   "metadata": {},
   "source": [
    "#### 4. Assign region name based on latitude and longitude values. \n",
    "\n",
    "First create a new column `REGION` with default value 'Other'. Then use a Boolean mask to change 'Other' in each row to 'Tampa Bay' or 'Charlotte Harbor' based on latitude and longitude values.  You can assign values, i.e., 'Tampa Bay` or 'Charlotte Harbor', uing for example, \n",
    "```python\n",
    "`df.loc[mask, 'column_name'] = 'your_value'\n",
    "```\n",
    "Or any other method of your choice. Do it with this method, and ask a LLM to suggest for you other methods. That is a very effective way of learning."
   ]
  },
  {
   "cell_type": "code",
   "execution_count": 4,
   "id": "b050d635-56e9-4e84-8c12-418b687e1bb6",
   "metadata": {},
   "outputs": [
    {
     "ename": "NameError",
     "evalue": "name 'df' is not defined",
     "output_type": "error",
     "traceback": [
      "\u001b[1;31m---------------------------------------------------------------------------\u001b[0m",
      "\u001b[1;31mNameError\u001b[0m                                 Traceback (most recent call last)",
      "Cell \u001b[1;32mIn[4], line 2\u001b[0m\n\u001b[0;32m      1\u001b[0m \u001b[38;5;66;03m# Create a new column 'region' with default value 'Other'\u001b[39;00m\n\u001b[1;32m----> 2\u001b[0m \u001b[43mdf\u001b[49m[\u001b[38;5;124m'\u001b[39m\u001b[38;5;124mREGION\u001b[39m\u001b[38;5;124m'\u001b[39m] \u001b[38;5;241m=\u001b[39m \u001b[38;5;124m'\u001b[39m\u001b[38;5;124mOther\u001b[39m\u001b[38;5;124m'\u001b[39m\n\u001b[0;32m      4\u001b[0m \u001b[38;5;66;03m# Mask for dicing: Define mask for Tampa Bay region based on latitude and longitude values\u001b[39;00m\n\u001b[0;32m      5\u001b[0m \n\u001b[0;32m      6\u001b[0m \u001b[38;5;66;03m# Assign value 'Tampa Bay' to rows matching Tampa Bay mask \u001b[39;00m\n\u001b[1;32m   (...)\u001b[0m\n\u001b[0;32m     11\u001b[0m \n\u001b[0;32m     12\u001b[0m \u001b[38;5;66;03m#Display dataframe\u001b[39;00m\n",
      "\u001b[1;31mNameError\u001b[0m: name 'df' is not defined"
     ]
    }
   ],
   "source": [
    "# Create a new column 'region' with default value 'Other'\n",
    "df['REGION'] = 'Other'\n",
    "\n",
    "# Mask for dicing: Define mask for Tampa Bay region based on latitude and longitude values\n",
    "\n",
    "# Assign value 'Tampa Bay' to rows matching Tampa Bay mask \n",
    "\n",
    "# Mask for decing: Define mask for Charlotte Harbor estuary region  based on latitude and longitude values\n",
    "\n",
    "# Assign value 'Charlotte Harbor' to rows matching Charlotte Harbor mask\n",
    "\n",
    "#Display dataframe\n"
   ]
  },
  {
   "cell_type": "markdown",
   "id": "6458fdb7-d44c-49b1-bdc1-c971c3231509",
   "metadata": {},
   "source": [
    "#### 5. Set column with date information as index\n",
    "\n",
    "Change `SAMPLE_DATE` to datetime format and set is as an index."
   ]
  },
  {
   "cell_type": "code",
   "execution_count": null,
   "id": "b7c89c0b-252d-453b-96e4-fed1459b5f3f",
   "metadata": {},
   "outputs": [],
   "source": [
    "# Convert the \"SAMPLE_DATE\" column to datetime format using pd.to_datetime()\n",
    "\n",
    "# Set the \"SAMPLE_DATE\" column as the index of your DataFrame\n"
   ]
  },
  {
   "cell_type": "markdown",
   "id": "4eeaa262-f455-4a57-9d11-70ae12f3aeed",
   "metadata": {},
   "source": [
    "Sort the index and display min and max index value"
   ]
  },
  {
   "cell_type": "code",
   "execution_count": null,
   "id": "9965ebe1-c90a-4a67-8dd7-9a8d0875f2cc",
   "metadata": {},
   "outputs": [],
   "source": [
    "#Sort index (optional step)\n",
    "\n",
    "#Display min index value\n",
    "\n",
    "#Display max index value\n"
   ]
  },
  {
   "cell_type": "markdown",
   "id": "6061f2cb-39c5-4485-b0dd-dd85644050b0",
   "metadata": {},
   "source": [
    "#### 6. Select the data for each region\n",
    "\n",
    "Create a new DataFrame from for each region: `charlotte_harbor_data` and `tampa_bay_data`. Each DataFrame should contain the maximum cellcount per month for the whole period. \n",
    "\n",
    "Start with charlotte harbor region"
   ]
  },
  {
   "cell_type": "code",
   "execution_count": null,
   "id": "3f414663-9c6b-47fb-9410-a2c4ab29adb4",
   "metadata": {},
   "outputs": [],
   "source": [
    "#Get rows for charlotte harbor region by creating a copy\n",
    "\n",
    "#For these rows, find the maximum cellcount per month for the study period \n",
    "\n",
    "# display data\n"
   ]
  },
  {
   "cell_type": "code",
   "execution_count": null,
   "id": "099a90aa-b744-4316-a938-734857b905d1",
   "metadata": {},
   "outputs": [],
   "source": [
    "#Get rows for tampa bay region\n",
    "\n",
    "#For these rows find the maximum cellcount per month for the study period \n",
    "\n",
    "# display data\n"
   ]
  },
  {
   "cell_type": "markdown",
   "id": "3806d59f-dda7-434b-b3b6-c74da6d79965",
   "metadata": {},
   "source": [
    "#### 7. Plot the data for each region\n",
    "\n",
    "Use the Pandas plot function to plot the data for each region. If you put the plot commands for each region together in the same code cell, both of them will be plotted on the same graph. "
   ]
  },
  {
   "cell_type": "code",
   "execution_count": null,
   "id": "1311c8b2-5778-4121-bc6f-0c61383ec4f5",
   "metadata": {},
   "outputs": [],
   "source": [
    "# Plot charlotte harbor data"
   ]
  },
  {
   "cell_type": "code",
   "execution_count": null,
   "id": "48b1ce4f-0dcd-4a46-9d2d-03b7236f0c61",
   "metadata": {},
   "outputs": [],
   "source": [
    "# Plot tampa bay data\n"
   ]
  },
  {
   "cell_type": "code",
   "execution_count": null,
   "id": "191a0c6c-477c-4ccc-ab10-49ef390c1344",
   "metadata": {},
   "outputs": [],
   "source": [
    "# Plot data for both regions by placing the two plot commands for each region below one another\n"
   ]
  },
  {
   "cell_type": "markdown",
   "id": "44422099-0746-45a5-b5cf-44f6a2cc2109",
   "metadata": {},
   "source": [
    "Now we have a problem because we do not know which is which. Ask a LLM about how to add a legend for two Pandas plots. "
   ]
  },
  {
   "cell_type": "markdown",
   "id": "3006651a-b4da-41f6-9c96-801ea359ac86",
   "metadata": {},
   "source": [
    "<div class=\"admonition alert alert-info\">\n",
    "    <p class=\"admonition-title\" style=\"font-weight:bold\">Note</p>\n",
    "    Pandas plot is something quick. Later we will learn how to use matplotlib library to make sophisticated and customized plots. Actually, your LLM may suggest that you use matplotlib because Pandas plot alone may not be able to do this. In that case you may need to install matplotlib with pip install before you use it.</a>\n",
    "</div>"
   ]
  },
  {
   "cell_type": "markdown",
   "id": "b9786da1-559f-4c71-a6b9-3f1a3b15cf30",
   "metadata": {},
   "source": [
    "#### 8. Asking a LLM about adding a legend to two pandas plots"
   ]
  },
  {
   "cell_type": "markdown",
   "id": "dda2d5b8-d507-49b1-8db5-a0ee20917cdd",
   "metadata": {},
   "source": [
    "Ask a LLM about how to add legend for two plots when using the plotting tool of pandas."
   ]
  },
  {
   "cell_type": "markdown",
   "id": "4c88f01b-0cf4-48b9-a5ca-fc933613de59",
   "metadata": {},
   "source": [
    "Document your LLM use here"
   ]
  },
  {
   "cell_type": "code",
   "execution_count": null,
   "id": "94bcb744-373f-4d9b-a2ca-2266bc74cdb3",
   "metadata": {},
   "outputs": [],
   "source": [
    "# LLM solution here"
   ]
  },
  {
   "cell_type": "markdown",
   "id": "be79be5e-d714-4f97-9032-66dd7b3e2b92",
   "metadata": {},
   "source": [
    "#### 9. You can do some cutomization with Pandas plot\n",
    "\n",
    "Set the size of the figure to (14, 4) inches and add a y-label. Check Section 4.15.4 Customize your Plot in Pandas lesson for details."
   ]
  },
  {
   "cell_type": "code",
   "execution_count": null,
   "id": "488c8654-0abb-4d50-8804-4018beaf642a",
   "metadata": {},
   "outputs": [],
   "source": [
    "# Plot the data with cutomization \n",
    "\n",
    "# Add legend\n",
    "\n",
    "\n",
    "# Show the plot\n"
   ]
  },
  {
   "cell_type": "markdown",
   "id": "c61ca216-a096-452a-a5b0-8dad7b5bbfc8",
   "metadata": {},
   "source": [
    "#### 10. Which region experienced more severe red tides in the last 10 years? \n",
    "\n",
    "To answer this question let use plot the data for the last 10 years.  You can do this with plot cutomization. Check Section 4.15.4 Customize your Plot in Pandas Primer lesson for details."
   ]
  },
  {
   "cell_type": "code",
   "execution_count": null,
   "id": "8aafcd5d-27db-496a-8011-86f38446aeb4",
   "metadata": {},
   "outputs": [],
   "source": [
    "# Plot the data with cutomization \n",
    "\n"
   ]
  },
  {
   "cell_type": "markdown",
   "id": "c6cda8f4-27ba-4460-8171-0e483c78d3bc",
   "metadata": {},
   "source": [
    "**Which region experienced more severe red tides in the last 10 years?**\n",
    "\n",
    "Add you analysis here"
   ]
  },
  {
   "cell_type": "markdown",
   "id": "c7d7414c-e168-491a-8fcd-2a7863b93767",
   "metadata": {},
   "source": [
    "<div class=\"admonition alert alert-info\">\n",
    "    <p class=\"admonition-title\" style=\"font-weight:bold\">Note</p>\n",
    "    The <a href=\"https://github.com/plotly/plotly.py\">Plotly</a> library in Python enables interactive plotting, allowing users to create figures where they can zoom in and out on specific parts of the data. While we will not cover Plotly this semester, now that you are a Python user, you have the opportunity to explore Plotly's capabilities independently.\n",
    "</div>"
   ]
  }
 ],
 "metadata": {
  "kernelspec": {
   "display_name": "Python 3 (ipykernel)",
   "language": "python",
   "name": "python3"
  },
  "language_info": {
   "codemirror_mode": {
    "name": "ipython",
    "version": 3
   },
   "file_extension": ".py",
   "mimetype": "text/x-python",
   "name": "python",
   "nbconvert_exporter": "python",
   "pygments_lexer": "ipython3",
   "version": "3.11.0"
  }
 },
 "nbformat": 4,
 "nbformat_minor": 5
}