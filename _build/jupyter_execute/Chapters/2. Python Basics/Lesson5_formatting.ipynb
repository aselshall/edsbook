{
 "cells": [
  {
   "cell_type": "markdown",
   "metadata": {},
   "source": [
    " # <h1 style=\"color:green; text-align:center;\">Lesson 5: Python Basics 3 - Formatting </h1> \n",
    "\n",
    "This lesson is modified from [Basic elements of Python](https://geo-python-site.readthedocs.io/en/latest/notebooks/L2/Python-basic-elements.html) from [geo-python](https://geo-python-site.readthedocs.io/en/latest/index.html).\n",
    "\n",
    "\n",
    "[![Binder](https://mybinder.org/badge_logo.svg)](https://mybinder.org/v2/gh/aselshall/eds/HEAD)"
   ]
  },
  {
   "cell_type": "markdown",
   "metadata": {
    "slideshow": {
     "slide_type": ""
    },
    "tags": []
   },
   "source": [
    "## Objectives\n",
    "By the end of this lesson, you will be able to\n",
    "- work with both text and numbers togehter\n",
    "- format text and numbers in python\n",
    "- use f-formatting to print text with numbers with decimal, scientific notation, and percentage"
   ]
  },
  {
   "cell_type": "markdown",
   "metadata": {},
   "source": [
    "## 1. Making different data types work together\n",
    "\n",
    "In the previous lesson we learned how to determine a variable's [`data type`](#def). Here we will learn how to enable data of different types to work together."
   ]
  },
  {
   "cell_type": "markdown",
   "metadata": {},
   "source": [
    "### 1.1 Reminder: Data types and their compatibility\n",
    "\n",
    "We can explore the different types of data stored in variables using the `type()` function.\n",
    "Let's use the cells below to check the data types of the variables `station_name`, `station_id`, and `station_lat`."
   ]
  },
  {
   "cell_type": "code",
   "execution_count": 1,
   "metadata": {},
   "outputs": [],
   "source": [
    "station_name = \"Immokalee\"\n",
    "station_id = 440\n",
    "station_lat = 25.5126\n",
    "station_lon = 24.96\n",
    "station_county = \"Collier\""
   ]
  },
  {
   "cell_type": "code",
   "execution_count": 2,
   "metadata": {},
   "outputs": [
    {
     "data": {
      "text/plain": [
       "str"
      ]
     },
     "execution_count": 2,
     "metadata": {},
     "output_type": "execute_result"
    }
   ],
   "source": [
    "type(station_name)"
   ]
  },
  {
   "cell_type": "code",
   "execution_count": 3,
   "metadata": {},
   "outputs": [
    {
     "data": {
      "text/plain": [
       "int"
      ]
     },
     "execution_count": 3,
     "metadata": {},
     "output_type": "execute_result"
    }
   ],
   "source": [
    "type(station_id)"
   ]
  },
  {
   "cell_type": "code",
   "execution_count": 4,
   "metadata": {},
   "outputs": [
    {
     "data": {
      "text/plain": [
       "float"
      ]
     },
     "execution_count": 4,
     "metadata": {},
     "output_type": "execute_result"
    }
   ],
   "source": [
    "type(station_lat)"
   ]
  },
  {
   "cell_type": "markdown",
   "metadata": {},
   "source": [
    "As expected, we see that the `station_name` is a character string, the `station_id` is an integer, and the `station_lat` is a floating point number."
   ]
  },
  {
   "cell_type": "markdown",
   "metadata": {},
   "source": [
    "```{hint}\n",
    "Remember, the data types are important because some are not compatible with one another.\n",
    "```\n",
    "\n",
    "What happens when you try to add the variables `station_name` and `station_id` in the cell below?"
   ]
  },
  {
   "cell_type": "code",
   "execution_count": null,
   "metadata": {
    "tags": [
     "raises-exception"
    ]
   },
   "outputs": [],
   "source": []
  },
  {
   "cell_type": "markdown",
   "metadata": {},
   "source": [
    "Here we get a `TypeError` because Python does not know to combine a string of characters (`station_name`) with an integer value (`station_id`)."
   ]
  },
  {
   "cell_type": "markdown",
   "metadata": {},
   "source": [
    "### 1.2 Converting data from one type to another\n",
    "\n",
    "It is not the case that things like the `station_name` and `station_id` cannot be combined at all, but in order to combine a character string with a number we need to perform a *data type conversion* to make them compatible. Let's convert `station_id` to a character string using the `str()` function."
   ]
  },
  {
   "cell_type": "code",
   "execution_count": null,
   "metadata": {},
   "outputs": [],
   "source": []
  },
  {
   "cell_type": "markdown",
   "metadata": {},
   "source": [
    "We can confirm the type has changed by checking the type of `station_id`, or by checking the output when you type the name of the variable into a cell and run it."
   ]
  },
  {
   "cell_type": "code",
   "execution_count": null,
   "metadata": {},
   "outputs": [],
   "source": []
  },
  {
   "cell_type": "code",
   "execution_count": null,
   "metadata": {},
   "outputs": [],
   "source": []
  },
  {
   "cell_type": "markdown",
   "metadata": {},
   "source": [
    "Notice the number is now enclosed in quotation marks. As you can see, `str()` converts a numerical value into a character string with the same numbers as before."
   ]
  },
  {
   "cell_type": "markdown",
   "metadata": {},
   "source": [
    "Now you can do `station_name + station_id` without an error"
   ]
  },
  {
   "cell_type": "code",
   "execution_count": null,
   "metadata": {},
   "outputs": [],
   "source": []
  },
  {
   "cell_type": "markdown",
   "metadata": {},
   "source": [
    "```{note}\n",
    "Similar to using `str()` to convert numbers to character strings, `int()` can be used to convert strings or floating point numbers to integers and `float()` can be used to convert strings or integers to floating point numbers.\n",
    "```"
   ]
  },
  {
   "cell_type": "markdown",
   "metadata": {},
   "source": [
    "Try converting `station_id` back to integer"
   ]
  },
  {
   "cell_type": "code",
   "execution_count": null,
   "metadata": {},
   "outputs": [],
   "source": []
  },
  {
   "cell_type": "markdown",
   "metadata": {},
   "source": [
    "### 1.3 Combining text and numbers\n",
    "\n",
    "Although most mathematical operations operate on numerical values, a common way to combine character strings is using the addition operator `+`. Let's create a text string in the variable `station_name_and_id` that is the combination of the `station_name` and `station_id` variables. Once we define `station_name_and_id`, we can print it to the screen to see the result that should look like this\n",
    "```\n",
    "Output: Immokalee: 440\n",
    "```\n",
    "\n",
    "Note you need to convert `station_id` to a character string using the `str()` function within the assignment to the variable `station_name_and_id`."
   ]
  },
  {
   "cell_type": "code",
   "execution_count": null,
   "metadata": {},
   "outputs": [],
   "source": []
  },
  {
   "cell_type": "markdown",
   "metadata": {},
   "source": [
    "## 2. Working with text (and numbers)\n",
    "\n",
    "The previous example demonstrated how it is possible to combine character strings and numbers (converted to character strings) together using the `+` operator. Although this approach works, it can become quite laborous and error-prone when working with more complicated sets of textual and/or numerical components. In addition, it is sometimes desirable to format the numerical output to change the number of decimal places for floating point values, for example. Hence, next we show a few useful techniques that make manipulating strings easier and more efficient.\n",
    "\n",
    "There are three approaches that can be used to manipulate strings in Python:\n",
    "\n",
    "1. f-strings\n",
    "2. the `.format()` method\n",
    "3. using the `%` operator\n",
    "\n",
    "The f-string approach is recommended and the most modern, introduced in Python 3.6. However, since you are likely to find examples of the older approaches we also show how they work."
   ]
  },
  {
   "cell_type": "markdown",
   "metadata": {
    "slideshow": {
     "slide_type": ""
    },
    "tags": []
   },
   "source": [
    "### 2.1 f-String formatting\n",
    "\n",
    "Here, we show how we can combine the `station_name` text, `station_id` integer number and another floating point number `temp` using Python's f-string formatting approach. In addition, we will simultaneously round the floating point number (`temp`) to two decimal places. We want an output that looks like this\n",
    "```\n",
    "Output: The temperature at Immokalee station (ID: 440) is 18.57 degrees Celsius.\n",
    "```\n",
    "Here is how to do this using f-formatting"
   ]
  },
  {
   "cell_type": "code",
   "execution_count": 5,
   "metadata": {},
   "outputs": [],
   "source": [
    "#Here are the variables that you will use\n",
    "station_name=\"Immokalee\"  #An example of string variable\n",
    "station_id= 440 #An example of integer variable\n",
    "temp = 18.56789876  # An example float variable with many decimals"
   ]
  },
  {
   "cell_type": "code",
   "execution_count": 6,
   "metadata": {},
   "outputs": [
    {
     "name": "stdout",
     "output_type": "stream",
     "text": [
      "The temperature at Immokalee station (ID: 440) is 18.57 degrees Celsius.\n"
     ]
    }
   ],
   "source": [
    "# The f-string approach (recommended)\n",
    "info_text = f\"The temperature at {station_name} station (ID: {station_id}) is {temp:.2f} degrees Celsius.\"\n",
    "print(info_text)"
   ]
  },
  {
   "cell_type": "markdown",
   "metadata": {
    "slideshow": {
     "slide_type": ""
    },
    "tags": []
   },
   "source": [
    "So, here we have managed to combined three different data types and format the floating point value in a single line. Let's break the f-string down a bit to understand how it works.\n",
    "\n",
    "![F-string formatting explained](https://geo-python-site.readthedocs.io/en/latest/_images/F-string-formatting.png)\n",
    "*f-string formatting explained. Image from the [draft text of the Introduction to Python for Geographic Data Analysis textbook by Tenkanen et al.](https://python-gis-book.readthedocs.io/en/develop/part1/chapter-02/nb/00-python-basics.html#working-with-text-and-numbers).*\n",
    "\n",
    "The key components here are:\n",
    "\n",
    "- The text that you want to create and/or modify is enclosed within the quotes preceded with letter `f`.\n",
    "- You can include any existing variable in the text template by placing the name of the variable inside a set of curly braces `{}`.\n",
    "    - Using string formatting, it is also possible to insert numbers (such as `station_id` and `temp`) into the body of text without needing first to convert the data type to a string. This is because the f-string functionality does the data type conversion for us.\n",
    "- It is possible to round numbers on the fly to a specific precision, such as two decimal points as in our example by adding format specifier (`:.2f`) after the variable that we want to format.\n",
    "    - The format specifier works by first adding a colon (`:`) after the variable name\n",
    "    - The decimal precision can be specified by adding a dot (`.`) followed by a number that indicates the number of decimal places (two in our case)\n",
    "    - The final character `f` in the format specifier defines the type of the conversion that will be conducted\n",
    "        - `f` will convert the value to decimal number\n",
    "        - `e` or `E` will make the number appear in scientific notation\n",
    "        - `%` will convert the value to a percentage\n",
    "\n",
    "Of the above, the most important thing is to remember to include the `f` at the start of your f-strings :). "
   ]
  },
  {
   "cell_type": "markdown",
   "metadata": {
    "slideshow": {
     "slide_type": ""
    },
    "tags": []
   },
   "source": [
    "##### Test your understanding\n",
    "Given the variables defined below, print the following sentence to screen: \n",
    "```\n",
    "Output: The concentration of carbon dioxide in the atmosphere has increased by more than 40% since the pre-industrial era, reaching 415.79 ppm in 2021, about 4.0E-02 percent of the atmosphere.\n",
    "```\n",
    "\n",
    "**Note** The line will get long, to contine typing in a new line you need to add `\\` to continue typing in a new line\n"
   ]
  },
  {
   "cell_type": "code",
   "execution_count": 7,
   "metadata": {
    "slideshow": {
     "slide_type": ""
    },
    "tags": []
   },
   "outputs": [],
   "source": [
    "#Here are the variables that you will use\n",
    "name=\"carbon dioxide\"      #string\n",
    "increase_rate=0.4          #this will be converted to percentage using % \n",
    "concentration=415.78888    #this will be shown with only two decimal numbers\n",
    "year=2021                  #intger \n",
    "CO2_ratio=0.04             #this will be shown in scientific notation "
   ]
  },
  {
   "cell_type": "code",
   "execution_count": null,
   "metadata": {},
   "outputs": [],
   "source": []
  },
  {
   "cell_type": "markdown",
   "metadata": {},
   "source": [
    "### 2.2 `.format()` approach (no longer recommended)\n",
    "\n",
    "As mentioned above, there are other approaches that can be used to format text and combine different data types. The first one is the `.format()` method. For example:"
   ]
  },
  {
   "cell_type": "code",
   "execution_count": 8,
   "metadata": {},
   "outputs": [
    {
     "name": "stdout",
     "output_type": "stream",
     "text": [
      "The temperature at Immokalee station (ID: 440) is 18.57 Celsius.\n"
     ]
    }
   ],
   "source": [
    "info_text2 = \"The temperature at {0} station (ID: {1}) is {2:.2f} Celsius.\".format(station_name, station_id, temp)\n",
    "print(info_text2)"
   ]
  },
  {
   "cell_type": "markdown",
   "metadata": {},
   "source": [
    "As you can see, here we get the same result as with f-strings using the `.format()` method, which is placed after the quotes. Placeholders are inserted inside curly braces where the numbers refer to the order of the variables listed in the `.format()` function. There are other ways to use this same approach, but the example above is typical. For example, you can omit the numbers and in this case variable will be taken in order. "
   ]
  },
  {
   "cell_type": "code",
   "execution_count": 9,
   "metadata": {},
   "outputs": [
    {
     "name": "stdout",
     "output_type": "stream",
     "text": [
      "The temperature at Immokalee station (ID: 440) is 18.57 Celsius.\n"
     ]
    }
   ],
   "source": [
    "info_text2 = \"The temperature at {} station (ID: {}) is {:.2f} Celsius.\".format(station_name, station_id, temp)\n",
    "print(info_text2)"
   ]
  },
  {
   "cell_type": "markdown",
   "metadata": {},
   "source": [
    "### 2.3 `%` operator approach (no longer recommended)\n",
    "\n",
    "The last (historical) string formatting approach is to use the `%` operator. In this approach, the placeholder `%` is added within the quotes, and the variables that are inserted into the body of text are placed inside parentheses after another `%` operator, like this:"
   ]
  },
  {
   "cell_type": "code",
   "execution_count": 10,
   "metadata": {},
   "outputs": [
    {
     "name": "stdout",
     "output_type": "stream",
     "text": [
      "The temperature at Immokalee station (ID: 440) is 18.57 Celsius.\n"
     ]
    }
   ],
   "source": [
    "info_text3 = \"The temperature at %s station (ID: %s) is %.2f Celsius.\" % (station_name, station_id, temp)\n",
    "print(info_text3)"
   ]
  },
  {
   "cell_type": "markdown",
   "metadata": {},
   "source": [
    "The order of the variables within the parentheses specify which `%` placeholder will receive what information and the number of variables should be exactly the same as the number of `%` placeholders within the text template."
   ]
  },
  {
   "cell_type": "markdown",
   "metadata": {},
   "source": [
    "### 2.4 More information about formatting text and numbers\n",
    "\n",
    "Of course, there is much more that can be done to format and interact with character strings and numbers. For more information, please have a look at the sites linked below.\n",
    "\n",
    "- [Common string manipulation techniques from *Introduction to Python for Geographic Data Analysis*](https://python-gis-book.readthedocs.io/en/develop/part1/chapter-02/nb/00-python-basics.html#common-string-manipulation-techniques)\n",
    "- [Python documentation: PEP 498 - Literal string interpolation](https://www.python.org/dev/peps/pep-0498/)"
   ]
  }
 ],
 "metadata": {
  "kernelspec": {
   "display_name": "Python 3 (ipykernel)",
   "language": "python",
   "name": "python3"
  },
  "language_info": {
   "codemirror_mode": {
    "name": "ipython",
    "version": 3
   },
   "file_extension": ".py",
   "mimetype": "text/x-python",
   "name": "python",
   "nbconvert_exporter": "python",
   "pygments_lexer": "ipython3",
   "version": "3.11.0"
  }
 },
 "nbformat": 4,
 "nbformat_minor": 4
}