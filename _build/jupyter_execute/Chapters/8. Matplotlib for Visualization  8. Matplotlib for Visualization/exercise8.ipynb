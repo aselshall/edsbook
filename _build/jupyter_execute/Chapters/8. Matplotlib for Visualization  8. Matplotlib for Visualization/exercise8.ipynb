{
 "cells": [
  {
   "cell_type": "markdown",
   "id": "6c053bb2-0604-4abe-9786-c110cc82cf32",
   "metadata": {},
   "source": [
    "# Exercise 8 Matplotlib: Air quality data visualization\n",
    "\n",
    "[![Binder](https://mybinder.org/badge_logo.svg)](https://mybinder.org/v2/gh/aselshall/eds/HEAD)\n",
    "\n",
    "---"
   ]
  },
  {
   "cell_type": "code",
   "execution_count": 1,
   "id": "ad4ff0a5-4d18-4484-a671-1723506dc7b0",
   "metadata": {},
   "outputs": [],
   "source": [
    "import numpy as np\n",
    "import pandas as pd\n",
    "import matplotlib.pylab as plt\n",
    "from scipy import stats"
   ]
  },
  {
   "cell_type": "markdown",
   "id": "7333cf33-c9c3-445f-a8e5-b3c5eb676032",
   "metadata": {},
   "source": [
    "## 1. Problem statement\n",
    "\n",
    "Analyize Miami's air quality data pre and post COVID-19 lockdown orders using EPA daily data for PM2.5, PM10, NO2, SO2, CO, and O3 from 01-04-2019 to 31-03-2021. For the six air quality parameters create: \n",
    "- line plots of the concnetrations in 6x1 subplot grid\n",
    "- box plots of the concnetrations in 2x3 subplot grid\n",
    "- box plots of the AQI values in 1x1 subplot grid (*optional*)\n",
    "\n",
    "The figures should include proper labels and annotation. To complete this exercise, you will apply the skills learned in the Data Science Workflow, NumPy, and Matplotlib lessons.\n",
    "\n",
    "\n",
    "\n"
   ]
  },
  {
   "cell_type": "markdown",
   "id": "320e8f50-be3a-4602-bd67-2fca1908c0ab",
   "metadata": {},
   "source": [
    "## 2. Prepare data "
   ]
  },
  {
   "cell_type": "markdown",
   "id": "22079cbc-de83-4758-ac75-937359b8b336",
   "metadata": {},
   "source": [
    "### 2.1 Load NumpPy arrays of dates, values, and aqi\n",
    "\n",
    "Let us lour our pre-proceeded data \n",
    "1. `pre_dates` one year datetime data before lockdown\n",
    "2. `pre_values` one year concentration data before lockdown for PM2.5, PM10, NO2, SO2,  CO, O3\n",
    "3. `pre_aqi` one year aqi data before lockdown for PM2.5, PM10, NO2, SO2,  CO, O3\n",
    "4. `post_dates` one year datetime data after lockdown\n",
    "5. `post_values` one year concentration data after lockdown for PM2.5, PM10, NO2, SO2,  CO, O3\n",
    "6. `post_aqi` one year aqi data after lockdown for PM2.5, PM10, NO2, SO2,  CO, O3\n",
    "\n",
    "We do not need to use `allow_pickle=True` argument because these arrays do not have data with mixed types."
   ]
  },
  {
   "cell_type": "code",
   "execution_count": 2,
   "id": "64ffb99b-f967-4cab-a47e-f865109976ea",
   "metadata": {},
   "outputs": [
    {
     "name": "stdout",
     "output_type": "stream",
     "text": [
      "pre_dates: datetime64[us] (358,)\n",
      "2019-04-01T00:00:00.000000 2020-03-31T00:00:00.000000\n",
      "pre_values: float64 (358, 6)\n",
      "pre_aqi: float64 (358, 6)\n",
      "post_dates: datetime64[us] (358,)\n",
      "2019-04-01T00:00:00.000000 2021-03-31T00:00:00.000000\n",
      "post_values: float64 (358, 6)\n",
      "post_aqi: float64 (358, 6)\n"
     ]
    }
   ],
   "source": [
    "# Load the array from file\n",
    "# Columns: [datetime, 'PM2.5', 'PM10',  'NO2', 'SO2',  'CO', 'O3']\n",
    "pre_dates = np.load('data/pre_dates.npy')\n",
    "pre_values = np.load('data/pre_values.npy')\n",
    "pre_aqi = np.load('data/pre_aqi.npy')\n",
    "post_dates = np.load('data/post_dates.npy')\n",
    "post_values = np.load('data/post_values.npy')\n",
    "post_aqi = np.load('data/post_aqi.npy')\n",
    "\n",
    "#Display loaded data\n",
    "print(\"pre_dates:\", pre_dates.dtype, pre_dates.shape)\n",
    "print(pre_dates[0],pre_dates[-1])\n",
    "print(\"pre_values:\", pre_values.dtype, pre_values.shape)\n",
    "print(\"pre_aqi:\", pre_aqi.dtype, pre_aqi.shape)\n",
    "print(\"post_dates:\", post_dates.dtype, pre_dates.shape)\n",
    "print(pre_dates[0],post_dates[-1])\n",
    "print(\"post_values:\", post_values.dtype, pre_values.shape)\n",
    "print(\"post_aqi:\", post_aqi.dtype, pre_aqi.shape)"
   ]
  },
  {
   "cell_type": "markdown",
   "id": "b15e9f58-1998-4eca-bdad-cc1acc0a2c4d",
   "metadata": {},
   "source": [
    "### 2.2 Additional information\n",
    "\n",
    "Here is additional information that can be helpful to our analysis. We can refer to EPA document [EPA 454/B-18-007](https://www.airnow.gov/sites/default/files/2020-05/aqi-technical-assistance-document-sept2018.pdf) for concentration breakpoints indicating unhealthy levels for sensitive groups."
   ]
  },
  {
   "cell_type": "code",
   "execution_count": 3,
   "id": "f71ceebc-27b7-42fd-a8a3-5f233ab637e2",
   "metadata": {},
   "outputs": [],
   "source": [
    "# Define date ranges\n",
    "lockdown_start = pd.Timestamp('2020-04-01')\n",
    "one_year_before = pd.Timestamp('2019-04-01')\n",
    "one_year_after = pd.Timestamp('2021-04-01')\n",
    "\n",
    "# Air quality parameter information\n",
    "parameters = [        'PM2.5', 'PM10',  'NO2', 'SO2',  'CO', 'O3']\n",
    "units = [             'µg/m³', 'µg/m³', 'ppb', 'ppb', 'ppm', 'ppm']\n",
    "limits = [        35 ,      155,    100,   50,     9,  0.07]  # Unhealthy levels of senitive groups"
   ]
  },
  {
   "cell_type": "markdown",
   "id": "a38822ba-777b-4a2a-9ca6-c373e2f975a3",
   "metadata": {},
   "source": [
    "## 3. Lineplot of concentration data\n",
    "\n",
    "In a 6x1 grid of subplots:\n",
    "1. plot pre and post data for the six parameter (Hint: use for loop)\n",
    "2. remove horizontal spacing between subplots using `fig.subplots_adjust()` with `hspace` keyword\n",
    "3. set x-axis limits from '2019-01-01' to '2021-01-01' using `ax.set_xlim()` with the aid of `pd.to_datetime('2019-04-01')` to convert string to datetime\n",
    "4. Add horizontal line with label if concentration exceeds the healthy limit\n",
    "5. Add propor labels and annotations\n",
    "\n",
    "Here is the code:"
   ]
  },
  {
   "cell_type": "code",
   "execution_count": 4,
   "id": "b409527f-c8af-4645-8dee-a9afd23ce1d7",
   "metadata": {},
   "outputs": [],
   "source": [
    "#Create Figure and Axes objects (6x1) \n",
    "# with figure size 10 inche long by 8 wide inches and shared x-axis\n",
    "\n",
    "#Change horizontal spaces between subplot\n",
    "\n",
    "    # Plot times as x-variable and air qualiy parameter as y-variable\n",
    "\n",
    "    # Add a horizontal line for healthy limit\n",
    " \n",
    "    # Set the x-axis limits using the datetime objects\n",
    "    # Note we need to convert date strings to datetime objects because our NumPy area has datetime\n",
    "    \n",
    "    # Set y-label\n"
   ]
  },
  {
   "cell_type": "markdown",
   "id": "59e0bbb1-b0d3-4c9f-bb2e-ba2d482d087e",
   "metadata": {},
   "source": [
    "## 4. Boxplots of concentration data and aqi values\n",
    "\n",
    "A boxplot is a useful visualization for understanding the spread and central tendency of a dataset."
   ]
  },
  {
   "cell_type": "markdown",
   "id": "f89dbb63-e8c1-449f-852c-c3fb8ea64e3c",
   "metadata": {},
   "source": [
    "### 4.1 Background\n",
    "\n",
    "A boxplot is a graphical representation of the distribution of a dataset that shows the median, quartiles, and potential outliers. It is a standardized way of displaying the distribution of data based on a five-number summary: minimum, first quartile (Q1), median, third quartile (Q3), and maximum where\n",
    "- Median (Q2): The middle value of the dataset when it is ordered in ascending order. It divides the data into two equal halves.\n",
    "- Quartiles (Q1 and Q3): Q1 is the value below which 25% of the data falls, and Q3 is the value below which 75% of the data falls.\n",
    "- Interquartile Range (IQR): The range between the first and third quartiles (IQR = Q3 - Q1). It represents the middle 50% of the data.\n",
    "- Whiskers: Lines extending from the box that show the range of the data. Typically, they extend 1.5 times the IQR from the edges of the box.\n",
    "- Outliers: Individual data points that fall outside the whiskers.\n",
    "\n",
    "When `notch=True` is set in a boxplot, the notches are added to the middle of the boxes. The notches represent a confidence interval around the median. If the notches of two boxes do not overlap, it suggests that the medians are significantly different at a certain confidence level."
   ]
  },
  {
   "cell_type": "markdown",
   "id": "f67f2bd7-5492-4be1-844f-6809362fe7bb",
   "metadata": {},
   "source": [
    "### 4.2 Boxplot of concentration data\n",
    "\n",
    "In a 2x3 subplot grid: \n",
    "- prepare boxplot for each parameter pre and post lockdown in a subplot\n",
    "- Add horizontal line with label if concentration exceeds the healthy limit\n",
    "- Add propor labels and annotations\n",
    "\n",
    "Here is the code:"
   ]
  },
  {
   "cell_type": "code",
   "execution_count": 5,
   "id": "463e55dd-c461-4ae5-81d9-3e4782df472c",
   "metadata": {},
   "outputs": [
    {
     "data": {
      "text/plain": [
       "<Figure size 640x480 with 0 Axes>"
      ]
     },
     "metadata": {},
     "output_type": "display_data"
    }
   ],
   "source": [
    "# Create a figure object and Axes object using subplots() method\n",
    "n = 2 #Number of rows\n",
    "m = 3 #Number of colums\n",
    "\n",
    "plt.subplots_adjust(wspace=0.3, hspace=0.2)  \n",
    "\n",
    "#Loop for each parameter\n",
    "\n",
    "    # Select axex\n",
    "    \n",
    "    # Plot data \n",
    "\n",
    "    # Set xtick Label\n",
    "\n",
    "    # Set y label\n",
    "\n",
    "    #Add a horizontal line at the healthy limit if exceeded\n",
    "    ## Maximum concentration value in the dataset\n",
    "\n",
    "    \n",
    "    ## Add a horizontal dashed red line at the healthy limit value\n",
    "\n",
    "        ### Add legend\n"
   ]
  },
  {
   "cell_type": "markdown",
   "id": "c684910d-9a64-4e28-82a2-b6e9c46ad7f2",
   "metadata": {},
   "source": [
    "### 4.3 Boxplot of aqi values (*optional*)\n",
    "\n",
    "By creating a plot with pre and post aqi values for each parameter, we can easily compare the changes that occurred for each parameter, enhancing visualization. We first need to prepare the dataset and labels for plotting."
   ]
  },
  {
   "cell_type": "markdown",
   "id": "3a1d5a96-3988-479c-acd2-4fcf0b89554a",
   "metadata": {},
   "source": [
    "#### 4.3.1 Prepare data \n",
    "\n",
    "We can prepare a dataset for each parameter both before and after the lockdown. The new dataset will be \n",
    "```python\n",
    "[PM25_Pre, PM25_Post, PM10_Pre, PM10_Post, ...]\n",
    "```\n",
    "with labels \n",
    "```python \n",
    "['PM2.5\\nPre', 'PM2.5\\nPost', 'PM10\\nPre', 'PM10\\nPost', ...]\n",
    "```\n",
    "You can use a for loop to prepare two lists one with data and one with labels.\n",
    "\n",
    "In case you are wondering, in the string 'Pre\\nPM2.5', the `\\n` character creates a line break, displaying 'Pre' on the first line and 'PM2.5' on the second line. This helps in making the xtick labels less crowded."
   ]
  },
  {
   "cell_type": "code",
   "execution_count": 6,
   "id": "19a1b00b-a77f-488e-ae9f-c10767ea63a7",
   "metadata": {},
   "outputs": [
    {
     "name": "stdout",
     "output_type": "stream",
     "text": [
      "boxplot_data: <class 'list'> 12\n",
      "['PM2.5\\nPre', 'PM2.5\\nPost', 'PM10\\nPre', 'PM10\\nPost', 'NO2\\nPre', 'NO2\\nPost', 'SO2\\nPre', 'SO2\\nPost', 'CO\\nPre', 'CO\\nPost', 'O3\\nPre', 'O3\\nPost']\n"
     ]
    }
   ],
   "source": [
    "#Prepare data and labels\n",
    "boxplot_data = []  #List for data \n",
    "labels = []        #List for labels\n",
    "\n",
    "#Loop for each parameter and each period\n",
    "for index,parameter in enumerate(parameters):\n",
    "    for period in ['Pre', 'Post']:\n",
    "\n",
    "        #Select data\n",
    "        if period == \"Pre\":\n",
    "            raw_data = pre_aqi[:, index]     \n",
    "        elif period == \"Post\":\n",
    "            raw_data = post_aqi[:, index]    \n",
    "            \n",
    "        # Append data \n",
    "        boxplot_data.append(raw_data)\n",
    "\n",
    "        # Append label\n",
    "        label=f\"{parameter}\\n{period}\"\n",
    "        labels.append(label)\n",
    "\n",
    "# Display dataset information\n",
    "print(\"boxplot_data:\", type(boxplot_data), len(boxplot_data))\n",
    "print(labels)"
   ]
  },
  {
   "cell_type": "markdown",
   "id": "ce78071a-99dc-4eb7-9ffa-77a075620ff8",
   "metadata": {},
   "source": [
    "#### 4.3.2 Plot data"
   ]
  },
  {
   "cell_type": "code",
   "execution_count": 7,
   "id": "1754d73d-e3d7-4f57-9c79-7328d3ee658b",
   "metadata": {},
   "outputs": [
    {
     "data": {
      "image/png": "[encoded data removed]",
      "text/plain": [
       "<Figure size 800x400 with 1 Axes>"
      ]
     },
     "metadata": {},
     "output_type": "display_data"
    }
   ],
   "source": [
    "# Create a figure object and Axes object using subplots() method\n",
    "fig, ax = plt.subplots(figsize=(8,4))\n",
    "\n",
    "# Plot data \n",
    "ax.boxplot(boxplot_data, notch=True)\n",
    "\n",
    "# Add horizontal line and text \"Moderate AQI\" at y=51 and at the middle with respect to x\n",
    "ax.axhline(y=51, color='b', linestyle='--')\n",
    "ax.text((len(boxplot_data) + 1) / 2, 55, \"Moderate (AQI 51 - 100)\", \n",
    "        ha='center', va='center', color='b')\n",
    "\n",
    "# Add horizontal line and text \"High AQI\" at y=101 and at the middle with respect to x\n",
    "ax.axhline(y=101, color='b', linestyle='--')\n",
    "ax.text((len(boxplot_data) + 1) / 2, 105, \"Unhealthy for Sensitive Groups (AQI 101 - 150)\", \n",
    "        ha='center', va='center', color='b')\n",
    "\n",
    "# Set xticklabels with two lines of labels and yticklabels\n",
    "ax.set_xticks(range(1, len(boxplot_data) + 1))\n",
    "ax.set_xticklabels(labels)\n",
    "ax.set_ylabel('Air Quality Index (AQI) Values')\n",
    "\n",
    "# Set title\n",
    "ax.set_title('Air quality parameters pre and post lockdown order in Miami, FL')\n",
    "\n",
    "#x-axis limit\n",
    "ax.set_ylim(0, 120)\n",
    "\n",
    "#Show figure\n",
    "plt.show;"
   ]
  }
 ],
 "metadata": {
  "kernelspec": {
   "display_name": "Python 3 (ipykernel)",
   "language": "python",
   "name": "python3"
  },
  "language_info": {
   "codemirror_mode": {
    "name": "ipython",
    "version": 3
   },
   "file_extension": ".py",
   "mimetype": "text/x-python",
   "name": "python",
   "nbconvert_exporter": "python",
   "pygments_lexer": "ipython3",
   "version": "3.12.9"
  }
 },
 "nbformat": 4,
 "nbformat_minor": 5
}