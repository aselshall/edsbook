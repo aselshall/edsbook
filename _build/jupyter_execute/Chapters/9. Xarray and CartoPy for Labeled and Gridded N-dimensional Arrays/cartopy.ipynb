{
 "cells": [
  {
   "cell_type": "markdown",
   "metadata": {},
   "source": [
    "<img src=https://scitools.org.uk/cartopy/docs/v0.16/_images/sphx_glr_logo_001.png width=400 />"
   ]
  },
  {
   "cell_type": "markdown",
   "metadata": {},
   "source": [
    "# Lesson 28: CartoPy Basics\n",
    "\n",
    "This lesson is modified from [Introduction to Cartopy](https://foundations.projectpythia.org/core/cartopy/cartopy.html) by [Project Pythia](https://projectpythia.org), and [Maps with CartoPy](https://rabernat.github.io/research_computing_2018/maps-with-cartopy.html) by [Research Computing in Earth Science](https://rabernat.github.io/research_computing_2018/)\n",
    "\n",
    "\n",
    "\n",
    "[![Binder](https://mybinder.org/badge_logo.svg)](https://mybinder.org/v2/gh/aselshall/eds/HEAD)\n",
    "\n",
    "---"
   ]
  },
  {
   "cell_type": "markdown",
   "metadata": {},
   "source": [
    "## Overview\n",
    "\n",
    "CartoPy is a Python library that provides cartographic tools for creating maps and visualizing geospatial data with Matplotlib. By then end of this lesson you will be able to \n",
    "1. Explain core Cartopy concepts such as map projections and `GeoAxes`\n",
    "2. . Creating regional maps with raster data (where each cell contains a single value) or vector data (represting geographic features as points, lines, and polygons)\n",
    "3. Create a map figure with multiple subplots\n"
   ]
  },
  {
   "cell_type": "markdown",
   "metadata": {},
   "source": [
    "---"
   ]
  },
  {
   "cell_type": "markdown",
   "metadata": {},
   "source": [
    "## Installation and import\n",
    "\n",
    "We import the main libraries of Cartopy: Coordinate Reference Systems (crs) and Feature. \n",
    "- CRS defines how coordinates are projected onto a flat surface.\n",
    "- Features in Cartopy represent elements such as coastlines, borders, and rivers that can be added to maps for better visualization and context.\n"
   ]
  },
  {
   "cell_type": "code",
   "execution_count": 1,
   "metadata": {},
   "outputs": [],
   "source": [
    "#pip install cartopy"
   ]
  },
  {
   "cell_type": "code",
   "execution_count": 2,
   "metadata": {},
   "outputs": [
    {
     "ename": "ModuleNotFoundError",
     "evalue": "No module named 'cartopy'",
     "output_type": "error",
     "traceback": [
      "\u001b[1;31m---------------------------------------------------------------------------\u001b[0m",
      "\u001b[1;31mModuleNotFoundError\u001b[0m                       Traceback (most recent call last)",
      "Cell \u001b[1;32mIn[2], line 1\u001b[0m\n\u001b[1;32m----> 1\u001b[0m \u001b[38;5;28;01mfrom\u001b[39;00m \u001b[38;5;21;01mcartopy\u001b[39;00m \u001b[38;5;28;01mimport\u001b[39;00m crs \u001b[38;5;28;01mas\u001b[39;00m ccrs\n\u001b[0;32m      2\u001b[0m \u001b[38;5;28;01mfrom\u001b[39;00m \u001b[38;5;21;01mcartopy\u001b[39;00m \u001b[38;5;28;01mimport\u001b[39;00m feature \u001b[38;5;28;01mas\u001b[39;00m cfeature\n\u001b[0;32m      3\u001b[0m \u001b[38;5;28;01mimport\u001b[39;00m \u001b[38;5;21;01mmatplotlib\u001b[39;00m\u001b[38;5;21;01m.\u001b[39;00m\u001b[38;5;21;01mpyplot\u001b[39;00m \u001b[38;5;28;01mas\u001b[39;00m \u001b[38;5;21;01mplt\u001b[39;00m\n",
      "\u001b[1;31mModuleNotFoundError\u001b[0m: No module named 'cartopy'"
     ]
    }
   ],
   "source": [
    "from cartopy import crs as ccrs\n",
    "from cartopy import feature as cfeature\n",
    "import matplotlib.pyplot as plt\n",
    "import numpy as np\n",
    "import pandas as pd\n",
    "import xarray as xr\n",
    "\n",
    "#  Suppress warnings issued by Cartopy when downloading data files\n",
    "import warnings\n",
    "warnings.filterwarnings('ignore')"
   ]
  },
  {
   "cell_type": "markdown",
   "metadata": {},
   "source": [
    "___"
   ]
  },
  {
   "cell_type": "markdown",
   "metadata": {},
   "source": [
    "## 1. Basic concepts"
   ]
  },
  {
   "cell_type": "markdown",
   "metadata": {},
   "source": [
    "Python integratez with libraries and tools for data analysis, visualization, and machine learning. This allows you to create end-to-end workflows. An important step in the workflow is map plotting.\r\n"
   ]
  },
  {
   "cell_type": "markdown",
   "metadata": {},
   "source": [
    "### 1.1 Extend Matplotlib's `axes` into georeferenced `GeoAxes`"
   ]
  },
  {
   "cell_type": "markdown",
   "metadata": {},
   "source": [
    "In previous tutorials, we learned that a *figure* in Matplotlib consists of a `Figure` object and a list of one or more `Axes` objects (subplots). By importing `cartopy.crs`, we gain access to Cartopy's *Coordinate Reference System*, which offers various geographical projections. Specifying one of these projections for an `Axes` object transforms it into a `GeoAxes` object, effectively *georeferencing* the subplot. "
   ]
  },
  {
   "cell_type": "markdown",
   "metadata": {},
   "source": [
    "### 1.2 Create a map with a specified projection\n",
    "\n",
    "Here, we will generate a `GeoAxes` object with the `PlateCarree` projection. The `PlateCarree` projection is a global lat-lon map projection where each point is evenly spaced in terms of degrees. The term \"Plate Carré\" is French for \"flat square.\"\n"
   ]
  },
  {
   "cell_type": "code",
   "execution_count": null,
   "metadata": {},
   "outputs": [],
   "source": [
    "# Create a figure with a specified size\n",
    "fig = plt.figure(figsize=(11, 8.5))\n",
    "\n",
    "# Add a subplot with PlateCarree projection\n",
    "ax = plt.subplot(1, 1, 1, projection=ccrs.PlateCarree(central_longitude=-75))\n",
    "ax.set_title(\"A Geo-referenced subplot, Plate Carree projection\")"
   ]
  },
  {
   "cell_type": "markdown",
   "metadata": {},
   "source": [
    "Although the figure seems empty, it has been georeferenced using a map projection using Cartopy's `crs` (coordinate reference system) class. We can now add in cartographic features to our subplot in the form of *shapefiles*. One such cartographic feature is coastlines, which can be added to our subplot using the callable `GeoAxes` method simply called `coastlines`."
   ]
  },
  {
   "cell_type": "code",
   "execution_count": null,
   "metadata": {},
   "outputs": [],
   "source": [
    "# Method 1 for pre-defined features of Natural Earht datasets\n",
    "ax.coastlines(resolution='110m', color='black')\n",
    "fig"
   ]
  },
  {
   "cell_type": "markdown",
   "metadata": {},
   "source": [
    "<div class=\"admonition alert alert-info\">\n",
    "    <p class=\"admonition-title\" style=\"font-weight:bold\">Info</p>\n",
    "    To get the figure to display again with the features that we've added since the original display, just type the name of the Figure object in its own cell.\n",
    "</div>"
   ]
  },
  {
   "cell_type": "markdown",
   "metadata": {},
   "source": [
    "### 1.3 Add cartographic features to the map"
   ]
  },
  {
   "cell_type": "markdown",
   "metadata": {},
   "source": [
    "Cartopy provides other cartographic features via its `features` class, which was imported at the beginning of this page, under the name `cfeature`. These cartographic features are represented as data stored in shapefiles. When these cartographic features are called for the first time in a script or notebook, the shapefiles are downloaded from [Natural Earth Data](https://www.naturalearthdata.com/features/). A list of the different Natural Earth shapefiles can be accessed from [CartoPy documentation](https://scitools.org.uk/cartopy/docs/latest/matplotlib/feature_interface.html) including a list of CartoPy pre-defined features (e.g. `.BORDERS` and `.STATES`).\n",
    "\n",
    "To incorporate these features into our subplot, we can utilize the `add_feature` method, which permits the specification of attributes (e.g., line style) through arguments (e.g. `linestyle=dashed`), similar to Matplotlib's `plot` method.\n",
    "\n",
    "Let us include borders and U.S. state lines in our subplot."
   ]
  },
  {
   "cell_type": "code",
   "execution_count": null,
   "metadata": {},
   "outputs": [],
   "source": [
    "# Adding borders and states to the plot\n",
    "ax.add_feature(cfeature.BORDERS, linewidth=0.5, edgecolor='black')\n",
    "ax.add_feature(cfeature.STATES, linewidth=0.3, edgecolor='brown')\n",
    "\n",
    "fig"
   ]
  },
  {
   "cell_type": "markdown",
   "metadata": {},
   "source": [
    "In the above example, we used predefined features like `cfeature.BORDERS`, but we can use any Natural Earth dataset by creating a CartoPy instance with `cfeature.NaturalEarthFeature()` as explained further below."
   ]
  },
  {
   "cell_type": "markdown",
   "metadata": {},
   "source": [
    "### 1.4 Add a background image \n",
    "\n",
    "CartoPy has only one pre-created background image that you can use with `.stock_img` method. You can add other background images such as [etopo toppgraphy or NASA Blue marble](http://earthpy.org/cartopy_backgroung.html) using background_img() method. In addition to background images, you can use `ax.imshow()` in CartoPy to display any image on your map as detailed below.\n",
    "\n",
    "Let us add the pre-created background image `stock_img`:"
   ]
  },
  {
   "cell_type": "code",
   "execution_count": null,
   "metadata": {},
   "outputs": [],
   "source": [
    "#Add the only pre-created background image in CartoPy\n",
    "ax.stock_img()\n",
    "\n",
    "fig"
   ]
  },
  {
   "cell_type": "markdown",
   "metadata": {},
   "source": [
    "### 1.5 Cartopy's map projections\n",
    "\n",
    "The [crs class](https://scitools.org.uk/cartopy/docs/latest/reference/crs.html) of CartoPy offers a [variety of map projections](https://scitools.org.uk/cartopy/docs/latest/reference/projections.html) for visualizing geospatial data such as\n",
    "1. **Plate Carree** that represents the globe as a rectangular grid with equal spacing in all directions, and thus exaggerates the spatial extent of regions closer to the poles. \n",
    "3. **Mercator**, which is a cylindrical map projection that preserves straight lines, making it useful for navigation purposes.\n",
    "4. **Robinson** that balances distortions in size and shape, suitable for world maps.\n",
    "5. **Orthographic**, a perspective projection where the globe is projected onto a tangent plane, creating a realistic view of the Earth.\n",
    "6. **Mollweide**, an equal-area projection that distorts shape and direction while preserving area, making it ideal for thematic maps and often used with global satellite mosaics\n",
    "\n",
    "In the Plate Carree (Equirectangular) projection, the meridians (lines of longitude) and parallels (lines of latitude) are straight and intersect at right angles similar to Mecator. This characteristic contributes to the simplicity of the Plate Carree projection, as the grid lines form a regular rectangular grid on the map. However. the distortion increases as you move towards the poles, making the higher latitudes appear larger than they actually are."
   ]
  },
  {
   "cell_type": "code",
   "execution_count": null,
   "metadata": {},
   "outputs": [],
   "source": [
    "projections = [ccrs.PlateCarree(),\n",
    "               ccrs.Mercator(),\n",
    "               ccrs.Robinson(),\n",
    "               ccrs.Orthographic(),\n",
    "               ccrs.Mollweide(),\n",
    "              ]\n",
    "\n",
    "for proj in projections:\n",
    "    plt.figure()\n",
    "    ax = plt.axes(projection=proj)\n",
    "    ax.stock_img()\n",
    "    ax.coastlines()\n",
    "    ax.add_feature(cfeature.BORDERS, linewidth=0.5, edgecolor='blue');\n",
    "    ax.set_title(f'{type(proj)}');"
   ]
  },
  {
   "cell_type": "markdown",
   "metadata": {},
   "source": [
    "## 2. Create regional maps\n",
    "\n",
    "For this example, let us plot a map for the Gulf of Mexico. We will :\n",
    "1. set extend to the Gulf of Mexico lat and lon coordinates\n",
    "2. add features such as coastlines, boarder, states, land, rivers, ocean, and bathymetry\n",
    "3. plot features such as markers for major cities, a track line, and study area boundaries\n",
    "4. plot 2d raster data such as sea surface height (zos)\n",
    "5. Add and georeference an image to our map\n",
    "\n",
    "Let us do this part by part."
   ]
  },
  {
   "cell_type": "markdown",
   "metadata": {},
   "source": [
    "### 2.1 Cartopy's `set_extent` method\n",
    "\n",
    "Using Plate Carree projection, we will use Cartopy's `set_extent` method to restrict the map coverage to a Florida view. \n",
    "\n",
    "Here we set the domain, which defines the geographical region to be plotted that is used in the `set_extent` call. Since these coordinates are expressed in degrees, they correspond to a PlateCarree projection."
   ]
  },
  {
   "cell_type": "code",
   "execution_count": null,
   "metadata": {},
   "outputs": [],
   "source": [
    "#Select plot extend: Lon_West, Lon_East, Lat_South, Lat_North in Degrees\n",
    "extent = [-75, -100, 18, 31] \n",
    "cLon = (extent[0] + extent[1]) / 2\n",
    "cLat = (extent[2] + extent[3]) / 2\n",
    "\n",
    "#Select projection\n",
    "projPC = ccrs.PlateCarree()"
   ]
  },
  {
   "attachments": {
    "867ab6d9-37c7-4922-b1a7-9b7dd422a2ff.png": {
     "image/png": "[encoded data removed]"
    }
   },
   "cell_type": "markdown",
   "metadata": {},
   "source": [
    "![image.png](attachment:867ab6d9-37c7-4922-b1a7-9b7dd422a2ff.png)\n",
    "\n",
    "Source:[https://www.satsig.net/lat_long.htm](https://www.satsig.net/lat_long.htm)"
   ]
  },
  {
   "cell_type": "markdown",
   "metadata": {},
   "source": [
    "Let us do this regional plot including plotting the latitude and longitude lines, and adding a title.\n"
   ]
  },
  {
   "cell_type": "code",
   "execution_count": null,
   "metadata": {},
   "outputs": [],
   "source": [
    "# Create figure and axes\n",
    "fig = plt.figure(figsize=(11, 8.5))\n",
    "ax = plt.subplot(1, 1, 1, projection=projPC)\n",
    "\n",
    "# Setting the extent of the plot\n",
    "ax.set_extent(extent, crs=projPC)\n",
    "\n",
    "# Add plot title and gridlines\n",
    "ax.set_title('Plate Carree')\n",
    "ax.gridlines(draw_labels=True, linewidth=1, color='gray', alpha=0.5, linestyle='--')"
   ]
  },
  {
   "cell_type": "markdown",
   "metadata": {},
   "source": [
    "<div class=\"admonition alert alert-info\">\n",
    "    <p class=\"admonition-title\" style=\"font-weight:bold\">Info</p>\n",
    "     The call to the <code>subplot</code> method use PateCarree projection, the calls to <code>set_extent</code> use PlateCarree. This ensures that the values we passed into <code>set_extent</code> will be transformed from degrees into the values appropriate for the projection we use for the map. Here it makes no difference since the map projection is also PateCarree.\n",
    "</div>"
   ]
  },
  {
   "cell_type": "markdown",
   "metadata": {},
   "source": [
    "### 2.2 Adding features from Natural Earth Datasets\n",
    "\n",
    "In CartoPy, you can add features from Natural Earth datasets to a map in various ways.\n",
    "\n",
    "```python\n",
    "\n",
    "# Method 1 for Cartopy pre-defined features of Natural Earht datasets\n",
    "ax.add_feature(cfeature.COASTLINE.with_scale('10m'),color='black')`,\n",
    "\n",
    "# Method 2 beyond Cartopy pre-defined features of Natural Earht datasets\n",
    "ax.add_feature(cfeature.NaturalEarthFeature(\n",
    "    category='physical', \n",
    "    name='coastline', \n",
    "    scale='10m', \n",
    "    facecolor='none', \n",
    "    edgecolor='black'))\n",
    "```\n",
    "\n",
    "The first method is suitable for [CartoPy's pre-defined features](https://scitools.org.uk/cartopy/docs/latest/matplotlib/feature_interface.html) including BORDERS, COASTLINE, LAKES, LAND, OCEAN, RIVERS, and STATES, while the second method allows you to incorporate additional shapefiles from Natural Earth beyond the pre-defined features. When using pre-defined features, you can specify resolutions of '10m', '50m', or '110m. For custom Natural Earth features, ensure to verify the available resolutions for the feature you intend to add by referring to the [Natural Earth features website](https://www.naturalearthdata.com/features/)."
   ]
  },
  {
   "cell_type": "markdown",
   "metadata": {},
   "source": [
    "#### 2.2.1 Add some predefined features\n",
    "\n",
    "For illustration, let us use the first method to add some pre-defined features such as boarders, land, rivers, and lakes.  Some cartographical features are predefined as constants in the `cartopy.feature` package. The resolution of these features depends on the amount of geographical area in your map, specified by `set_extent`."
   ]
  },
  {
   "cell_type": "code",
   "execution_count": null,
   "metadata": {},
   "outputs": [],
   "source": [
    "# Set background color to water color\n",
    "ax.set_facecolor(cfeature.COLORS['water'])\n",
    "\n",
    "# Add Land with zorder=0 meaning that feature order will be backward\n",
    "ax.add_feature(cfeature.LAND.with_scale('10m'), zorder=20) \n",
    "\n",
    "# Add Coastlines, and Lakes above Land features\n",
    "ax.add_feature(cfeature.LAKES.with_scale('10m'), color='aqua', zorder=21) \n",
    "ax.add_feature(cfeature.COASTLINE.with_scale('10m'), color='gray', zorder=21) \n",
    "\n",
    "# Add Boarders feature on the top\n",
    "ax.add_feature(cfeature.BORDERS, \n",
    "               edgecolor='red',facecolor='none', linewidth=2, zorder=22) \n",
    "\n",
    "fig"
   ]
  },
  {
   "cell_type": "markdown",
   "metadata": {},
   "source": [
    "<div class=\"admonition alert alert-info\">\n",
    "    <p class=\"admonition-title\" style=\"font-weight:bold\">Note:</p>\n",
    "    For high-resolution Natural Earth shapefiles such as this, while we could add Cartopy's <code>OCEAN</code> feature, it currently takes <i>much longer</i> to render on the plot. Instead, we take the strategy of first setting the facecolor of the entire subplot to match that of water bodies in Cartopy. When we then layer on the <code>LAND</code> feature, pixels that are not part of the <code>LAND</code> shapefile remain in the background as <code>water</code> facecolor, which is the same color as the <code>OCEAN</code>.\n",
    "</div>"
   ]
  },
  {
   "cell_type": "markdown",
   "metadata": {},
   "source": [
    "By setting different `zorder` values for different map features, you control their drawing order on the plot canvas. Features with higher `zorder` values are drawn on top of those with lower values. The above code adds land features and sets the `zorder` to 20, meaning that these land features will be drawn below features with higher `zorder` values such as lakes and coastlines with `zorder` of 21  to ensure that lakes and coastlines are  drawn above land features. The code adds borders to the plot with `zorder` of 22, placing the borders on top of all other features. We will later assign `zorder` values of 10 to 19 to ocean features to ensure that they drawn below land featurs."
   ]
  },
  {
   "cell_type": "markdown",
   "metadata": {},
   "source": [
    "#### 2.2.2 Add shapefiles from Natural Earth\n",
    "\n",
    "Instead of using pre-defined features, here we will use [shapefiles from Natural Earth](https://www.naturalearthdata.com/features/). This requires much more code than previous examples. We first need to create new objects associated shapefiles using the `NaturalEarthFeature` method, which is part of the Cartopy `feature` class. Then we can use `add_feature` to add the new objects to our new map. \n",
    "\n",
    "The general syntax is\n",
    "```python\n",
    "ax.add_feature(cfeature.NaturalEarthFeature(\n",
    "    category='physical', \n",
    "    name='coastline', \n",
    "    scale='10m', \n",
    "    facecolor='none', \n",
    "    edgecolor='black'))\n",
    "```\n",
    "The `category`can be:\n",
    "- 'physical' with `name` such as 'coastline', 'land', 'rivers_lake_centerlines', etc.\n",
    "- 'cultural' with `name` such as 'state', 'urban polygons', `admin_1_states_provinces`, etc. \n",
    "\n",
    "and  the scale can be `10`, `50`, or `110`. \n",
    "\n",
    "To find the feature `category`, `name` and `scale`:\n",
    "- select the feature that you want from [Natural Earth Data](https://www.naturalearthdata.com/features/)\n",
    "- and obtain the `category`, `name` and `scale` from the feature download link.\n",
    "\n",
    "For example, for rivers in North America, the download link is:\n",
    "\n",
    "> [http//www.naturalearthdata.com/download/10m/physical/ne_10m_rivers_north_america.zip](http//www.naturalearthdata.com/download/10m/physical/ne_10m_rivers_north_america.zip)\n",
    "\n",
    "Accordingly, we can set `category='physical'`,  `name='rivers_north_america'`, and `scale='10m'`, and so on.\n",
    "\n",
    "Let us add rivers and supplementary North America rivers. In addition, let us add few bathymetry lines using a loop."
   ]
  },
  {
   "cell_type": "code",
   "execution_count": null,
   "metadata": {},
   "outputs": [],
   "source": [
    "# Add rivers\n",
    "ax.add_feature(cfeature.NaturalEarthFeature(\n",
    "    'physical',\n",
    "    'rivers_lake_centerlines',\n",
    "    scale='10m',\n",
    "    edgecolor='blue',\n",
    "    facecolor='none')\n",
    "               ,zorder=21)\n",
    "\n",
    "# Add additional for North America\n",
    "ax.add_feature(cfeature.NaturalEarthFeature(\n",
    "    'physical',\n",
    "    'rivers_north_america',\n",
    "    scale='10m',\n",
    "    edgecolor='blue',\n",
    "    facecolor='none',\n",
    "    alpha=0.5),\n",
    "               zorder=21)\n",
    "\n",
    "# Plot 6 bathymetry lines using a loop\n",
    "# Names of bathymetry line \n",
    "bathymetry_names = ['bathymetry_L_0', 'bathymetry_K_200', \n",
    "                    'bathymetry_J_1000', 'bathymetry_I_2000', \n",
    "                    'bathymetry_H_3000', 'bathymetry_G_4000'] \n",
    "\n",
    "# Very light blue to light blue generated by ChatGPT 3.5 Turbo\n",
    "colors = [(0.9, 0.95, 1), (0.7, 0.85, 1), \n",
    "          (0.5, 0.75, 1), (0.3, 0.65, 1), \n",
    "          (0.1, 0.55, 1), (0, 0.45, 1), ]  \n",
    "\n",
    "# Loop to plot each bathymetry line\n",
    "for bathymetry_name, color in zip(bathymetry_names, colors):\n",
    "    ax.add_feature(\n",
    "        cfeature.NaturalEarthFeature(\n",
    "            category='physical', \n",
    "            name=bathymetry_name, \n",
    "            scale='10m', \n",
    "            edgecolor='none', \n",
    "            facecolor=color), \n",
    "        zorder = 11)\n",
    "\n",
    "fig"
   ]
  },
  {
   "cell_type": "markdown",
   "metadata": {},
   "source": [
    "<div class=\"admonition alert alert-warning\">\n",
    "    <p class=\"admonition-title\" style=\"font-weight:bold\">Warning</p>\n",
    "    Be patient; when plotting a small geographical area, the high-resolution \"10m\" shapefiles are used by default.  As a result, these plots take longer to create, especially if the shapefiles are not yet downloaded from Natural Earth.  Similar issues can occur whenever a `GeoAxes` object is transformed from one coordinate system to another. \n",
    "</div>"
   ]
  },
  {
   "cell_type": "markdown",
   "metadata": {},
   "source": [
    "### 2.3 plot user-defined features\n",
    "\n",
    "Let us as study area boundaries, a track line, and markers for major cities.\n",
    "\n"
   ]
  },
  {
   "cell_type": "code",
   "execution_count": null,
   "metadata": {},
   "outputs": [],
   "source": [
    "# Plot site area on GeoAxes given lon and lat coordinates\n",
    "ax.plot([-85.0, -85.0], [26.5, 28.0], color='red', linewidth=1, zorder = 15)  \n",
    "ax.plot([-85.0, -82.85], [28.0, 28.0], color='red', linewidth=1, zorder = 15)\n",
    "ax.plot([-85.0, -81.9], [26.5, 26.5], color='red', linewidth=1, zorder = 15)\n",
    "\n",
    "\n",
    "# Plot Track 026 line on GeoAxex and annotate with text using axes cooridnates\n",
    "# Deinfe start and end points of the line\n",
    "points = np.array([[-85.7940, 28.4487], [-83.6190, 23.8411]]) \n",
    "\n",
    "# Plot the line\n",
    "ax.plot(points[:,0],points[:,1], color='black', linewidth=2, zorder = 15)\n",
    "\n",
    "# Annotate the line\n",
    "ax.text(0.6, 0.6,  # Coordinates are in axes coordinate rather than data coordinates  \n",
    "        'Track 026',  # Specify text content\n",
    "        transform=ax.transAxes,  # Set coordinate system for coordinates, which is the coordinate system of the axes itself \n",
    "        color='black',  # Set color of the text\n",
    "        fontsize=10,  # Set font size of the text\n",
    "        ha='center',  # Set horizontal alignment of the text\n",
    "        va='center',  # Set vertical alignment of the text\n",
    "        rotation=300, # Rotate text\n",
    "        zorder = 15,  # Plot order of the feature\n",
    "       )\n",
    "\n",
    "# Add names and locations of major cities\n",
    "# Define markers for each location as a dictionary\n",
    "locations_coordinates = {\n",
    "    \"Tampa\": [27.9506, -82.4572],\n",
    "    \"Sarasota\": [27.3364, -82.5307],\n",
    "    \"Fort Myers\": [26.6406, -81.8723],\n",
    "    \"Naples\": [26.142, -81.7948]}\n",
    "\n",
    "# Use a loop to add markers and text labels slightly away from each other for each location \n",
    "for location, coordinates in locations_coordinates.items():\n",
    "    #Plot marker\n",
    "    ax.plot(coordinates[1],  # lon coordinate of locatin in Degrees\n",
    "            coordinates[0],  # lat coordinate of locatin in Degrees\n",
    "            transform=ccrs.PlateCarree(),  # Set coordinate system for coordinates, which is Plate Carree\n",
    "            marker='o',      # Marker style for the plot\n",
    "            color='black',     # Color of the markers\n",
    "            markersize=3,    # Size of the markers   \n",
    "            zorder = 22,  # Plot order of the feature\n",
    "           )\n",
    "    #Annote each city\n",
    "    ax.text(coordinates[1] + 0.1,   # lon coordinate of locatin in Degrees (slightly adjusted away from marker)\n",
    "            coordinates[0] + 0.1,   # lat coordinate of locatin in Degrees (slightly adjusted away from marker)\n",
    "            location,               # Text to display (city name)\n",
    "            transform=ccrs.PlateCarree(),   # Specify coordinate system for coordinates, which is Plate Carree\n",
    "            color='black',           # Color of the text\n",
    "            fontsize=8,              # Font size of the text\n",
    "            zorder = 22,  # Plot order of the feature\n",
    "           )\n",
    "\n",
    "fig"
   ]
  },
  {
   "cell_type": "markdown",
   "metadata": {},
   "source": [
    "<div class=\"admonition alert alert-info\">\n",
    "    <p class=\"admonition-title\" style=\"font-weight:bold\">Note:</p>\n",
    "    The transform=ax.transAxes parameter is used to specify the coordinate system of the provided coordinates.  In this case, <code>ax.transAxes</code> refers to the coordinate system of the axes itself. When you use <code>ax.transAxes</code>, the coordinates (0,0) correspond to the lower left corner of the axes and (1,1) correspond to the upper right corner of the axes, regardless of the data limits or scales within the plot. By specifying <code>transform=ax.transAxes</code>, you are indicating that the coordinates (0.6, 0.6) are relative to the size of the axes, ensuring that the text 'Track 026' is positioned at 60% of the width and 60% of the height of the axes, regardless of the data being plotted.\n",
    "</div>"
   ]
  },
  {
   "cell_type": "markdown",
   "metadata": {},
   "source": [
    "### 2.4 Plot 2d raster data "
   ]
  },
  {
   "cell_type": "markdown",
   "metadata": {},
   "source": [
    "Plotting data on a Cartesian grid is like using the PlateCarree projection, where meridians and parallels are straight lines with constant spacing. We can plot our raster data as a contour map. Similar to what we did before, we use the `transform` keyword argument in the contour-plotting method to specify the current projection of our raster data, which will be transformed into the projection of our `subplot` method. In this particular case, we do not need to use use the `transform` keyword since the project of our raster data is Plate Carree, which is the same as our subplot projection. \n",
    "\n",
    "We can read raster data from a NetCDF file using `xr.open_dataset()`, or generate our data. Let us generate some data that we can add to our figure."
   ]
  },
  {
   "cell_type": "code",
   "execution_count": null,
   "metadata": {},
   "outputs": [],
   "source": [
    "# Create coordinates for the four labels\n",
    "dates = pd.date_range('2024-01-03', periods=2)  # Generating a time range for the data\n",
    "depths = [10, 20, 30]  # List of depth values\n",
    "latitudes = np.linspace(24.5,30.5,80)  # latitude values (y-values)\n",
    "longitudes =np.linspace(-87,-77,100)  # longitude values (x-values)\n",
    "\n",
    "# Create a 4D Numpy Array representing values  for a 2x3x4x5 grid\n",
    "size=(len(dates), len(depths), len(latitudes), len(longitudes))\n",
    "zos = np.round(np.random.uniform(-1, 1, size= size), 2) #sea surface height [m]\n",
    "tos = np.round(np.random.uniform(26, 30, size=size), 2) #sea surface temperature [C]\n",
    "sos = np.round(np.random.uniform(33, 36, size=size), 2) #sea surface salinty (PSU) \n",
    "                 \n",
    "# Create a DataArray with zos values\n",
    "ds = xr.Dataset({'zos': (('date', 'depth', 'lat', 'lon'), zos),\n",
    "                'tos': (('date', 'depth', 'lat', 'lon'), tos),\n",
    "                'sos': (('date', 'depth', 'lat', 'lon'), sos),},\n",
    "    coords={'date': dates, 'depth': depths, 'lat': latitudes, 'lon': longitudes})\n",
    "\n",
    "# Add metadata to the DataArray\n",
    "ds.zos.attrs['Description'] = \"Sea surface height above the geoid (m)\"\n",
    "ds.tos.attrs['Description'] = \"Sea surface temperature (°C)\"\n",
    "ds.sos.attrs['Description'] = \"Sea surface salinty (PSU)\" \n",
    "\n",
    "# Display ds\n",
    "ds"
   ]
  },
  {
   "cell_type": "markdown",
   "metadata": {},
   "source": [
    "Let us add a slice of this zos data to our map, add a colorbar for zos, and add a label to the color bar."
   ]
  },
  {
   "cell_type": "code",
   "execution_count": null,
   "metadata": {},
   "outputs": [],
   "source": [
    "# Select the data for the specific time and depth\n",
    "data_slice = ds.zos.isel(date=0, depth=0)  \n",
    "\n",
    "dataplot = ax.contourf(data_slice.lon,   # X-coordinates for the contour plot\n",
    "                       data_slice.lat,   # Y-coordinates for the contour plot\n",
    "                       data_slice,       # Data values to plot\n",
    "                       cmap='coolwarm',  # Colormap for the plot\n",
    "                       zorder=12,         # Drawing order for the plot above bathymetry and below land and study area\n",
    "                       transform=ccrs.PlateCarree()  #Not needed as both our data and figure are Plate Carree\n",
    "                      )\n",
    "\n",
    "# Add a colorbar\n",
    "colorbar = plt.colorbar(dataplot,  # Create a colorbar for dataplot data\n",
    "                        orientation='horizontal',  # Set the orientation of the colorbar to horizontal\n",
    "                        pad=0.06,  # Set the padding between the colorbar and the plot\n",
    "                        shrink=0.8)  # Adjust the size of the colorbar to 80% of the default size\n",
    "\n",
    "# Add a label to the colorbar with a specified font size\n",
    "colorbar.set_label(ds.zos.attrs['Description'],  fontsize=12)\n",
    "\n",
    "\n",
    "fig"
   ]
  },
  {
   "cell_type": "markdown",
   "metadata": {},
   "source": [
    "### 2.5 Adding and georeferencing an image to a map\n",
    "\n",
    "We can add a satellite image on the map if we know the coordinates of the image edges. "
   ]
  },
  {
   "cell_type": "code",
   "execution_count": null,
   "metadata": {},
   "outputs": [],
   "source": [
    "# Read image \n",
    "img = plt.imread('Data/Track026.png')\n",
    "img_extent = (-90, -81, 23, 31) #lon E to W and Lat S to N\n",
    "\n",
    "# Add image to map \n",
    "ax.imshow(img,              # Image to plot\n",
    "          origin='upper',   # Origin is upper left corner for png image\n",
    "          extent=img_extent, \n",
    "          transform=ccrs.PlateCarree(), # Specify coordinate system for image coordinates \n",
    "          zorder=12,        # Drawing order for image is above raster data but below land\n",
    "         )\n",
    "\n",
    "fig"
   ]
  },
  {
   "cell_type": "markdown",
   "metadata": {},
   "source": [
    "## 3. A figure with multiple subplots\n",
    "\n",
    "Let put everything together and create a figure with three subplots for the three variables and one with an image, using a loop."
   ]
  },
  {
   "cell_type": "code",
   "execution_count": null,
   "metadata": {},
   "outputs": [],
   "source": [
    "# 1) Select plot extend: Lon_West, Lon_East, Lat_South, Lat_North in Degrees\n",
    "extent = [-75, -100, 18, 31] \n",
    "cLon = (extent[0] + extent[1]) / 2\n",
    "cLat = (extent[2] + extent[3]) / 2\n",
    "\n",
    "# 2) Select projection\n",
    "projPC = ccrs.PlateCarree()\n",
    "\n",
    "# 3) Create figure\n",
    "fig = plt.figure(figsize=(11, 8.5))\n",
    "plt.subplots_adjust(hspace=0.1, wspace=0.2)  # Adjust the height and width spaces between subplots\n",
    "\n",
    "# 4) Loop to plot variables \n",
    "variables = ['zos','tos','sos', 'image']\n",
    "titles = ['(a) ', '(b)', '(c)', '(d)']\n",
    "colormaps = ['coolwarm', 'jet', 'viridis', '']\n",
    "\n",
    "for index, (variable, title, colormap) in enumerate(zip(variables, titles, colormaps)):\n",
    "\n",
    "    # 5) Create Axes     \n",
    "    ax = plt.subplot(2, 2, index+1, projection=projPC)\n",
    "    \n",
    "    # 6) Setting the extent of the plot\n",
    "    ax.set_extent(extent, crs=projPC)\n",
    "    \n",
    "    # 7) Add plot title \n",
    "    ax.set_title(title, fontsize=10, loc='left')\n",
    "    \n",
    "    # 8) Add gridlines (we need to cutomize grid lines to improve visualization)                              \n",
    "    gl = ax.gridlines(draw_labels=True, xlocs=np.arange(extent[1],extent[0], 5), ylocs= np.arange(extent[2], extent[3], 5),\n",
    "                      linewidth=1, color='gray', alpha=0.5, linestyle='--',  zorder=40)\n",
    "    gl.right_labels = False  # \n",
    "    gl.top_labels = False    # Set the font size for x-axis labels\n",
    "    gl.xlabel_style = {'size': 10}  # Set the font size for x-axis labels\n",
    "    gl.ylabel_style = {'size': 10}  # Set the font size for y-axis labels\n",
    "    \n",
    "    # 9) Adding Natural Earth features\n",
    "    ## Pre-defined features\n",
    "    ax.set_facecolor(cfeature.COLORS['water'])  #Blackgroundwater color for the ocean\n",
    "    ax.add_feature(cfeature.LAND.with_scale('10m'), zorder=20) \n",
    "    ax.add_feature(cfeature.LAKES.with_scale('10m'), color='aqua', zorder=21) \n",
    "    ax.add_feature(cfeature.COASTLINE.with_scale('10m'), color='gray', zorder=21) \n",
    "    ax.add_feature(cfeature.BORDERS, edgecolor='red',facecolor='none', linewidth=2, zorder=22) \n",
    "\n",
    "    ## General features (not pre-defined)\n",
    "    ax.add_feature(cfeature.NaturalEarthFeature(\n",
    "        'physical', 'rivers_lake_centerlines', scale='10m', edgecolor='blue', facecolor='none') ,zorder=21)\n",
    "    ax.add_feature(cfeature.NaturalEarthFeature(\n",
    "        'physical','rivers_north_america', scale='10m', edgecolor='blue', facecolor='none', alpha=0.5),zorder=21)\n",
    "\n",
    "    ## Multiple features with a loop\n",
    "    bathymetry_names = ['bathymetry_L_0', 'bathymetry_K_200', 'bathymetry_J_1000', \n",
    "                        'bathymetry_I_2000',  'bathymetry_H_3000', 'bathymetry_G_4000'] \n",
    "    colors = [(0.9, 0.95, 1), (0.7, 0.85, 1),  (0.5, 0.75, 1), (0.3, 0.65, 1),  (0.1, 0.55, 1), (0, 0.45, 1), ]  \n",
    "    for bathymetry_name, color in zip(bathymetry_names, colors):\n",
    "        ax.add_feature(cfeature.NaturalEarthFeature(\n",
    "            category='physical', name=bathymetry_name, scale='10m', edgecolor='none', facecolor=color), zorder = 11)\n",
    "\n",
    "    # 10) Adding user-defined features \n",
    "    ## Plot site area on GeoAxes given lon and lat coordinates in first subplot \n",
    "    if index == 0:\n",
    "        ax.plot([-85.0, -85.0], [26.5, 28.0], color='black', linewidth=1, zorder = 15)  \n",
    "        ax.plot([-85.0, -82.85], [28.0, 28.0], color='black', linewidth=1, zorder = 15)\n",
    "        ax.plot([-85.0, -81.9], [26.5, 26.5], color='black', linewidth=1, zorder = 15)\n",
    "\n",
    "    ## Plot Track 026 line on GeoAxex and annotate with text using axes cooridnates in second subplot\n",
    "    if index == 1: \n",
    "        points = np.array([[-85.7940, 28.4487], [-83.6190, 23.8411]]) \n",
    "        ax.plot(points[:,0],points[:,1], color='black', linewidth=2, zorder = 15)\n",
    "        ax.text(0.58, 0.6, 'Track 026', transform=ax.transAxes, \n",
    "                color='black', fontsize=10,  ha='center',  va='center',  rotation=300, zorder = 15)\n",
    "\n",
    "    ## Adding names and locations of major cities\n",
    "    locations_coordinates = {\"Tampa\": [27.9506, -82.4572], \n",
    "                             #\"Sarasota\": [27.3364, -82.5307], \n",
    "                             #\"Fort Myers\": [26.6406, -81.8723], \n",
    "                             \"Naples\": [26.142, -81.7948]}\n",
    "    for location, coordinates in locations_coordinates.items():\n",
    "        ax.plot(coordinates[1], coordinates[0],  \n",
    "                transform=ccrs.PlateCarree(),  marker='o', color='black', markersize=3, zorder = 22)\n",
    "        ax.text(coordinates[1] + 0.1, coordinates[0] + 0.1, \n",
    "                location, transform=ccrs.PlateCarree(), color='black', fontsize=8, zorder = 22)\n",
    "\n",
    "    # 11) Adding raster data and colorbar for the first three subplots\n",
    "    if index < 3: \n",
    "        data_slice = ds[variable].isel(date=0, depth=0)  \n",
    "        dataplot = ax.contourf(data_slice.lon, data_slice.lat, data_slice, \n",
    "                               cmap=colormap, zorder=12, transform=ccrs.PlateCarree())\n",
    "        colorbar = plt.colorbar(dataplot, orientation='horizontal', pad=0.1, shrink=1)  \n",
    "        colorbar.set_label(ds[variable].attrs['Description'],  fontsize=10)\n",
    "\n",
    "    # 12) Adding an image for the fourth subplot \n",
    "    else:\n",
    "        img = plt.imread('Data/Track026.png')\n",
    "        img_extent = (-90, -81, 23, 31) #lon E to W and Lat S to N\n",
    "        imgplot = ax.imshow(img, origin='upper', extent=img_extent, transform=ccrs.PlateCarree(), zorder=12)\n",
    "        \n",
    "        # adding invisible colorbar for the layout of the subplots remains aligned visually\n",
    "        # you can also do this by adjusting subplot size or using GridSpec as suggested by ChatGPT 3.5 Turbo\n",
    "        cbar = plt.colorbar(imgplot, orientation='horizontal', pad=0.1, shrink=1)  \n",
    "        cbar.ax.set_visible(False)"
   ]
  },
  {
   "cell_type": "markdown",
   "metadata": {},
   "source": [
    "Creating publication-quality figures with subplots is time-consuming, as it involves balancing automation with attention to detail.  Factors contributing to this include precise layout adjustments, customization of plot elements, ensuring consistency, and handling complex visualizations. This iterative process of refinement is important for achieving a polished final figure. Libraries like Seaborn or Plotly can streamline complex visualization creation with less manual effort."
   ]
  },
  {
   "cell_type": "markdown",
   "metadata": {},
   "source": [
    "## 4. Saving a figure \n",
    "\n",
    "CartoPy is built on top of Matplotlib. When saving a figure in Matplotlib, you can specify the format using the `savefig()` function. For example, to save a figure as a PNG file, you can use:\n",
    "\n",
    "```python\n",
    "plt.savefig('figure.png', format='png')\n",
    "```\n",
    "\n",
    "Commonly used image formats in Matplotlib include:\n",
    "- PNG for sharp edges and solid colors with lossless compression\n",
    "- TIFF for high-quality images with lossless compression\n",
    "- JPEG for smooth gradients or photographs with small file sizes\n",
    "- SVG for scalable plots without quality loss as a vector format\n",
    "- PDF for embedding in documents \n",
    "\n",
    "You can choose the image format based on your specific requirements such as quality, scalability, and intended use of the plot.\n",
    "\n",
    "Let's save our last image with subplots."
   ]
  },
  {
   "cell_type": "code",
   "execution_count": null,
   "metadata": {},
   "outputs": [],
   "source": [
    "#Save the figure as an image file\n",
    "plt.savefig('output_image.png', dpi=300, bbox_inches='tight')"
   ]
  },
  {
   "cell_type": "markdown",
   "metadata": {},
   "source": [
    "___"
   ]
  },
  {
   "cell_type": "markdown",
   "metadata": {},
   "source": [
    "## Summary"
   ]
  },
  {
   "cell_type": "markdown",
   "metadata": {},
   "source": [
    "- Cartopy allows for the georeferencing of Matplotlib `Axes` objects.\n",
    "- Cartopy's `crs` class supports a variety of map projections.\n",
    "- Cartopy's `feature` class allows for a variety of cartographic features to be overlaid on a georeferenced plot or subplot."
   ]
  },
  {
   "cell_type": "markdown",
   "metadata": {},
   "source": [
    "___"
   ]
  },
  {
   "cell_type": "markdown",
   "metadata": {},
   "source": [
    "## Resources and References\n",
    "\n",
    "1. [Cartopy Documentation](https://scitools.org.uk/cartopy/docs/latest/)\n",
    "2. [Full list of projections in Cartopy](https://scitools.org.uk/cartopy/docs/latest/reference/crs.html) \n",
    "3. [Maps with Cartopy (Ryan Abernathey)](https://rabernat.github.io/research_computing_2018/maps-with-cartopy.html)\n",
    "4. [Map Projections (GeoCAT)](https://geocat-examples.readthedocs.io/en/latest/gallery/index.html#map-projections)\n",
    "5. [NCAR xdev Cartopy Tutorial Video](https://www.youtube.com/watch?v=ivmd3RluMiw)\n",
    "6. [Python Tutorial Seminar Series - Cartopy](https://youtu.be/ivmd3RluMiw)"
   ]
  }
 ],
 "metadata": {
  "kernelspec": {
   "display_name": "Python 3 (ipykernel)",
   "language": "python",
   "name": "python3"
  },
  "language_info": {
   "codemirror_mode": {
    "name": "ipython",
    "version": 3
   },
   "file_extension": ".py",
   "mimetype": "text/x-python",
   "name": "python",
   "nbconvert_exporter": "python",
   "pygments_lexer": "ipython3",
   "version": "3.11.0"
  }
 },
 "nbformat": 4,
 "nbformat_minor": 4
}