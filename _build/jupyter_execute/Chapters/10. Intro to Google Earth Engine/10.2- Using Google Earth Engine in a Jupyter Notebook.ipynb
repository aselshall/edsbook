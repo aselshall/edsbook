{
 "cells": [
  {
   "cell_type": "markdown",
   "id": "7f79d326-04fa-4ce7-bd18-aedcfa6fbcea",
   "metadata": {},
   "source": [
    "# Using Google Earth Engine in a Jupyter Notebook\n",
    "\n",
    "In this lesson, we will learn how to set up and use the Google Earth Engine (GEE) Python API in a Jupyter notebook. By the end of this lesson, you will be able to install the necessary packages, authenticate your account, write your first code, and access documentation to explore more advanced features.\n",
    "\n",
    "[![Binder](https://mybinder.org/badge_logo.svg)](https://mybinder.org/v2/gh/Thaliavch/Environmental-Data-Science-Book/main?filepath=Chapters/10.%20Intro%20to%20Google%20Earth%20Engine/10.2-%20Using%20Google%20Earth%20Engine%20in%20a%20Jupyter%20Notebook.ipynb)\n",
    "\n",
    "\n",
    "## Key Topics\n",
    "- Setup and Installation\n",
    "- Authentication\n",
    "- Writing Your First Code\n",
    "- Accessing Documentation and Resources\n",
    "- Example: Visualizing a Satellite Image\n"
   ]
  },
  {
   "cell_type": "markdown",
   "id": "716db485-3cdf-422a-a911-28003aae6b20",
   "metadata": {},
   "source": [
    "## Setup and Installation\n",
    "\n",
    "Before we can start using Google Earth Engine in a Jupyter notebook, we need to install the Earth Engine Python API.\n",
    "\n",
    "### Step 1: Install the Earth Engine Python API\n",
    "\n",
    "Run the following command to install the `earthengine-api` package:\n",
    "\n",
    "```bash\n",
    "!pip install earthengine-api\n"
   ]
  },
  {
   "cell_type": "markdown",
   "id": "7a5a6001-7194-48ba-bc74-705fd168312a",
   "metadata": {},
   "source": [
    "### Step 2: Install Additional Libraries\n",
    "We will also need the folium library to visualize maps. Run the following command to install folium:\n",
    "``` python\n",
    "!pip install folium\n"
   ]
  },
  {
   "cell_type": "markdown",
   "id": "3d1f740e-4532-4ad5-926e-76230415b125",
   "metadata": {},
   "source": [
    "### Step 3. Authentication\n",
    "\n",
    "##### Authentication\n",
    "\n",
    "To use Google Earth Engine, you need to authenticate your account. This involves linking your Google account to Earth Engine.\n",
    "\n",
    "##### Authenticate Your Account\n",
    "\n",
    "Run the following code to authenticate your account:\n",
    "\n",
    "```python\n",
    "import ee\n",
    "ee.Authenticate()\n",
    "```\n"
   ]
  },
  {
   "cell_type": "markdown",
   "id": "91cbf8e9-19a1-4260-83f8-ea949d6c2da3",
   "metadata": {},
   "source": [
    "Follow the instructions to open the provided URL in your browser, log in with your Google account, and paste the authentication code back into the notebook."
   ]
  },
  {
   "cell_type": "markdown",
   "id": "88ead7f8-e32a-43e2-8be7-a69e9a5155af",
   "metadata": {},
   "source": [
    "### Step 4. Initialize the Earth Engine API\n",
    "\n",
    "After authenticating, initialize the Earth Engine API:\n",
    "\n",
    "```python\n",
    "ee.Initialize()\n",
    "\n"
   ]
  },
  {
   "cell_type": "markdown",
   "id": "4c1d6bea-32d5-4e31-94eb-1900a834b5de",
   "metadata": {},
   "source": [
    "\n",
    "## Writing Your First Code\n",
    "\n",
    "Now that we have set up and authenticated the Earth Engine API, let's write our first code to load and display a satellite image.\n"
   ]
  },
  {
   "cell_type": "code",
   "execution_count": 1,
   "id": "eb09370d-7e62-4c03-a160-35197f9b3df5",
   "metadata": {},
   "outputs": [
    {
     "ename": "NameError",
     "evalue": "name 'ee' is not defined",
     "output_type": "error",
     "traceback": [
      "\u001b[1;31m---------------------------------------------------------------------------\u001b[0m",
      "\u001b[1;31mNameError\u001b[0m                                 Traceback (most recent call last)",
      "Cell \u001b[1;32mIn[1], line 2\u001b[0m\n\u001b[0;32m      1\u001b[0m \u001b[38;5;66;03m# Load a Landsat image\u001b[39;00m\n\u001b[1;32m----> 2\u001b[0m image \u001b[38;5;241m=\u001b[39m \u001b[43mee\u001b[49m\u001b[38;5;241m.\u001b[39mImage(\u001b[38;5;124m'\u001b[39m\u001b[38;5;124mLANDSAT/LC08/C01/T1_TOA/LC08_044034_20140318\u001b[39m\u001b[38;5;124m'\u001b[39m)\n\u001b[0;32m      4\u001b[0m \u001b[38;5;66;03m# Define visualization parameters\u001b[39;00m\n\u001b[0;32m      5\u001b[0m vis_params \u001b[38;5;241m=\u001b[39m {\n\u001b[0;32m      6\u001b[0m     \u001b[38;5;124m'\u001b[39m\u001b[38;5;124mbands\u001b[39m\u001b[38;5;124m'\u001b[39m: [\u001b[38;5;124m'\u001b[39m\u001b[38;5;124mB4\u001b[39m\u001b[38;5;124m'\u001b[39m, \u001b[38;5;124m'\u001b[39m\u001b[38;5;124mB3\u001b[39m\u001b[38;5;124m'\u001b[39m, \u001b[38;5;124m'\u001b[39m\u001b[38;5;124mB2\u001b[39m\u001b[38;5;124m'\u001b[39m],\n\u001b[0;32m      7\u001b[0m     \u001b[38;5;124m'\u001b[39m\u001b[38;5;124mmax\u001b[39m\u001b[38;5;124m'\u001b[39m: \u001b[38;5;241m0.3\u001b[39m\n\u001b[0;32m      8\u001b[0m }\n",
      "\u001b[1;31mNameError\u001b[0m: name 'ee' is not defined"
     ]
    }
   ],
   "source": [
    "# Load a Landsat image\n",
    "image = ee.Image('LANDSAT/LC08/C01/T1_TOA/LC08_044034_20140318')\n",
    "\n",
    "# Define visualization parameters\n",
    "vis_params = {\n",
    "    'bands': ['B4', 'B3', 'B2'],\n",
    "    'max': 0.3\n",
    "}\n",
    "\n",
    "import folium\n",
    "\n",
    "# Center the map on the image\n",
    "map_center = image.geometry().centroid().getInfo()['coordinates'][::-1]\n",
    "\n",
    "# Create a folium map\n",
    "mymap = folium.Map(location=map_center, zoom_start=10)\n",
    "mymap.add_ee_layer(image, vis_params, 'Landsat image')\n",
    "\n",
    "# Display the map\n",
    "mymap"
   ]
  },
  {
   "cell_type": "markdown",
   "id": "758bda96-f87a-4409-9bb9-b60f73e08af6",
   "metadata": {},
   "source": [
    "In this example, we:\n",
    "\n",
    "Loaded a Landsat image using the Earth Engine API.\n",
    "Defined visualization parameters to specify which bands to display and their maximum values.\n",
    "Created a Folium map centered on the image's location.\n",
    "Added the image layer to the map and displayed it."
   ]
  },
  {
   "cell_type": "markdown",
   "id": "31c9222d-1d55-4457-9fb2-60753fe960c5",
   "metadata": {
    "tags": []
   },
   "source": [
    "## Accessing Documentation and Resources\n",
    "\n",
    "Google Earth Engine provides extensive documentation and resources to help you learn and explore its capabilities.\n",
    "\n",
    "### Official Documentation\n",
    "\n",
    "- **Earth Engine API Documentation**: [Google Earth Engine API](https://developers.google.com/earth-engine)\n",
    "- **Python API Quickstart**: [Python API Quickstart](https://developers.google.com/earth-engine/guides/python_install)\n",
    "\n",
    "### Tutorials and Examples\n",
    "\n",
    "- **Earth Engine Guide**: [Earth Engine Guide](https://developers.google.com/earth-engine/guides)\n",
    "- **Code Editor Examples**: [Code Editor Examples](https://developers.google.com/earth-engine/datasets/catalog)\n",
    "\n",
    "### Community and Support\n",
    "\n",
    "- **Earth Engine Developers Group**: [Google Groups](https://groups.google.com/forum/#!forum/google-earth-engine-developers)\n",
    "- **Stack Overflow**: Use the tag `google-earth-engine` to ask questions and find answers.\n",
    "\n",
    "By exploring these resources, you can deepen your understanding of Google Earth Engine and discover new ways to apply it to your projects.\n"
   ]
  }
 ],
 "metadata": {
  "kernelspec": {
   "display_name": "Python 3 (ipykernel)",
   "language": "python",
   "name": "python3"
  },
  "language_info": {
   "codemirror_mode": {
    "name": "ipython",
    "version": 3
   },
   "file_extension": ".py",
   "mimetype": "text/x-python",
   "name": "python",
   "nbconvert_exporter": "python",
   "pygments_lexer": "ipython3",
   "version": "3.11.0"
  }
 },
 "nbformat": 4,
 "nbformat_minor": 5
}