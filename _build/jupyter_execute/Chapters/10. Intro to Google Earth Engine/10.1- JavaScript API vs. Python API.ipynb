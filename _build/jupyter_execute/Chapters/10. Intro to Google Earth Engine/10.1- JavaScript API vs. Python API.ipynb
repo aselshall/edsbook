{
 "cells": [
  {
   "cell_type": "markdown",
   "id": "28ff2a17-c516-48b9-a418-954a6f5c3beb",
   "metadata": {},
   "source": [
    "# JavaScript API vs. Python API\n",
    "[![Binder](https://mybinder.org/badge_logo.svg)](https://mybinder.org/v2/gh/Thaliavch/Environmental-Data-Science-Book/main?filepath=Chapters/10.%20Intro%20to%20Google%20Earth%20Engine/10.1-%20JavaScript%20API%20vs.%20Python%20API.ipynb)\n"
   ]
  },
  {
   "cell_type": "markdown",
   "id": "00c6a717-db0d-4fac-8910-ff06471bb7a7",
   "metadata": {},
   "source": [
    "\n",
    "## JavaScript API\n",
    "- **Environment**: Used within the GEE Code Editor.\n",
    "- **Strengths**: Immediate visualization of results, easy-to-use interface for developing scripts.\n",
    "- **Use Cases**: Ideal for quick prototyping and interactive exploration of data.\n",
    "\n",
    "## Python API\n",
    "- **Environment**: Used within Python environments like Jupyter notebooks.\n",
    "- **Strengths**: Integration with Python's extensive libraries (e.g., NumPy, Pandas, TensorFlow).\n",
    "- **Use Cases**: Suitable for integrating GEE with larger Python workflows, advanced data analysis, and machine learning applications.\n",
    "\n",
    "### Example\n",
    "Here is a simple comparison of how to load and display a Landsat image using both APIs.\n",
    "\n",
    "**JavaScript API:**\n",
    "```javascript\n",
    "// Load a Landsat image\n",
    "var image = ee.Image('LANDSAT/LC08/C01/T1_TOA/LC08_044034_20140318');\n",
    "\n",
    "// Display the image\n",
    "Map.centerObject(image, 10);\n",
    "Map.addLayer(image, {bands: ['B4', 'B3', 'B2'], max: 0.3}, 'Landsat image');"
   ]
  },
  {
   "cell_type": "markdown",
   "id": "73a8d258-7cbe-448a-9b65-37e8233ff745",
   "metadata": {},
   "source": [
    "**Python API:**\n",
    "```# Initialize the Earth Engine module\n",
    "ee.Initialize()\n",
    "\n",
    "```# Load a Landsat image\n",
    "image = ee.Image('LANDSAT/LC08/C01/T1_TOA/LC08_044034_20140318')\n",
    "\n",
    "```# Define visualization parameters\n",
    "vis_params = {\n",
    "    'bands': ['B4', 'B3', 'B2'],\n",
    "    'max': 0.3\n",
    "}\n",
    "\n",
    "```# Center the map on the image\n",
    "map_center = image.geometry().centroid().getInfo()['coordinates'][::-1]\n",
    "\n",
    "```# Create a folium map\n",
    "mymap = folium.Map(location=map_center, zoom_start=10)\n",
    "mymap.add_ee_layer(image, vis_params, 'Landsat image')\n",
    "\n",
    "```# Display the map\n",
    "mymap"
   ]
  },
  {
   "cell_type": "markdown",
   "id": "3ab5a089-07ff-42be-a73f-8bdbc6012376",
   "metadata": {},
   "source": [
    "## Conclusion\n",
    "\n",
    "In this course, we will focus on using the Python API for Google Earth Engine. The Python API offers powerful integration with Python's extensive libraries, making it ideal for advanced data analysis and machine learning applications. By leveraging the Python API, we can build robust and scalable geospatial analysis workflows within Jupyter notebooks."
   ]
  },
  {
   "cell_type": "code",
   "execution_count": null,
   "id": "612798e8-837a-4ccd-94f3-eaeb9821e30e",
   "metadata": {},
   "outputs": [],
   "source": []
  }
 ],
 "metadata": {
  "kernelspec": {
   "display_name": "Python 3 (ipykernel)",
   "language": "python",
   "name": "python3"
  },
  "language_info": {
   "codemirror_mode": {
    "name": "ipython",
    "version": 3
   },
   "file_extension": ".py",
   "mimetype": "text/x-python",
   "name": "python",
   "nbconvert_exporter": "python",
   "pygments_lexer": "ipython3",
   "version": "3.11.0"
  }
 },
 "nbformat": 4,
 "nbformat_minor": 5
}