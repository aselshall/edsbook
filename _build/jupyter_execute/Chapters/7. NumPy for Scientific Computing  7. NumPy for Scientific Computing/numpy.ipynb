{
 "cells": [
  {
   "cell_type": "markdown",
   "metadata": {},
   "source": [
    "<img src=https://github.com/numpy/numpy/raw/main/branding/logo/primary/numpylogo.svg width=250 alt=\"NumPy Logo\"></img>\n",
    "\n",
    "# Lessons 18-19: NumPy Basics\n",
    "\n",
    "This lesson is modified from [NumPy Basics](https://foundations.projectpythia.org/core/numpy/numpy-basics.html) by [Project Pythia](https://projectpythia.org).\n",
    "\n",
    "\n",
    "[![Binder](https://mybinder.org/badge_logo.svg)](https://mybinder.org/v2/gh/aselshall/eds/HEAD)\n",
    "\n",
    "---"
   ]
  },
  {
   "cell_type": "markdown",
   "metadata": {},
   "source": [
    "## Overview\n",
    "NumPy is a  basic package for scientific computing in Python. It offers powerful capabilities for working with n-dimensional arrays, a wide range of mathematical functions, and integration with Fortran, C, and C++ libraries. By the end of this lessons you will be able to: \n",
    "- Create NumPy arrays \n",
    "- Inspect  NumPy arrays with slicing and indexing\n",
    "- Preform math calculations with NumPy arrays\n",
    "- Read and save NumPy arrays"
   ]
  },
  {
   "cell_type": "markdown",
   "metadata": {},
   "source": [
    "---"
   ]
  },
  {
   "cell_type": "markdown",
   "metadata": {},
   "source": [
    "## 1. Installing and importing NumPy"
   ]
  },
  {
   "cell_type": "markdown",
   "metadata": {},
   "source": [
    "### 1.1 Installation"
   ]
  },
  {
   "cell_type": "code",
   "execution_count": 1,
   "metadata": {},
   "outputs": [],
   "source": [
    "#pip install --upgrade pip"
   ]
  },
  {
   "cell_type": "code",
   "execution_count": 2,
   "metadata": {},
   "outputs": [],
   "source": [
    "#pip install numpy"
   ]
  },
  {
   "cell_type": "markdown",
   "metadata": {},
   "source": [
    "After each the installation is complete, make sure to restart the kernel from the menu `Kernel`:`Restart Kernel...`. You need to install these once. Then you can comment the installation command (as they are already commented above) or delete these cells to avoid repeating this ever time your run this notebook."
   ]
  },
  {
   "cell_type": "markdown",
   "metadata": {},
   "source": [
    "### 1.2 Imports"
   ]
  },
  {
   "cell_type": "markdown",
   "metadata": {},
   "source": [
    "Just as we used the nickname `pd` used as an abbreviation for `pandas` in the import statement, we often import `numpy` as `np`. "
   ]
  },
  {
   "cell_type": "code",
   "execution_count": 3,
   "metadata": {},
   "outputs": [
    {
     "ename": "ModuleNotFoundError",
     "evalue": "No module named 'pandas'",
     "output_type": "error",
     "traceback": [
      "\u001b[1;31m---------------------------------------------------------------------------\u001b[0m",
      "\u001b[1;31mModuleNotFoundError\u001b[0m                       Traceback (most recent call last)",
      "Cell \u001b[1;32mIn[3], line 2\u001b[0m\n\u001b[0;32m      1\u001b[0m \u001b[38;5;28;01mimport\u001b[39;00m \u001b[38;5;21;01mnumpy\u001b[39;00m \u001b[38;5;28;01mas\u001b[39;00m \u001b[38;5;21;01mnp\u001b[39;00m\n\u001b[1;32m----> 2\u001b[0m \u001b[38;5;28;01mimport\u001b[39;00m \u001b[38;5;21;01mpandas\u001b[39;00m \u001b[38;5;28;01mas\u001b[39;00m \u001b[38;5;21;01mpd\u001b[39;00m\n\u001b[0;32m      3\u001b[0m \u001b[38;5;28;01mimport\u001b[39;00m \u001b[38;5;21;01mmatplotlib\u001b[39;00m\u001b[38;5;21;01m.\u001b[39;00m\u001b[38;5;21;01mpyplot\u001b[39;00m \u001b[38;5;28;01mas\u001b[39;00m \u001b[38;5;21;01mplt\u001b[39;00m\n",
      "\u001b[1;31mModuleNotFoundError\u001b[0m: No module named 'pandas'"
     ]
    }
   ],
   "source": [
    "import numpy as np\n",
    "import pandas as pd\n",
    "import matplotlib.pyplot as plt"
   ]
  },
  {
   "cell_type": "markdown",
   "metadata": {},
   "source": [
    "<div class=\"admonition alert alert-info\">\n",
    "    <p class=\"admonition-title\" style=\"font-weight:bold\">Note</p>\n",
    "    As a good coding practice, we generally import all the packages that we will need in the first cell in our notebook. However, we are importing NumPy here in the middle of our notebook for educational purpose.</a>\n",
    "</div>"
   ]
  },
  {
   "cell_type": "markdown",
   "metadata": {},
   "source": [
    "## 2. Basic concepts and terminologies"
   ]
  },
  {
   "cell_type": "markdown",
   "metadata": {},
   "source": [
    "### 2.1 NumPy array"
   ]
  },
  {
   "attachments": {
    "3de424a6-87c7-4345-ad58-0cb4b07b990a.png": {
     "image/png": "[encoded data removed]"
    }
   },
   "cell_type": "markdown",
   "metadata": {},
   "source": [
    "Below is a 7x4 2D NumPy array with 28 values, where the first dimension corresponds to rows and the second dimension corresponds to columns. Indexing works similarly to Python, starting from 0. This means that the element at the first row and first column is accessed using index (0, 0), the element at the second row and second column with index (1, 1), and so forth.\n",
    "\n",
    "![image.png](attachment:3de424a6-87c7-4345-ad58-0cb4b07b990a.png)"
   ]
  },
  {
   "cell_type": "markdown",
   "metadata": {},
   "source": [
    "### 2.2 Why array computing?\n",
    "\n",
    "In core Python, adding sequences of values requires writing a manual loops as we did before. \n",
    "\n",
    "Try doing `C = A + B` with core Python"
   ]
  },
  {
   "cell_type": "code",
   "execution_count": null,
   "metadata": {},
   "outputs": [],
   "source": [
    "# Add these two lists using core Python \n",
    "A = [2, 4, 6, 8, 10]\n",
    "B = [0, 10, 20, 30, 40]\n",
    "\n",
    "# C = A+B with a for loop: \n",
    "# Define empty list C  \n",
    "# looping through A and B lists\n",
    "# add elements in each list\n",
    "# use `.append()` to update C\n",
    "C = []\n",
    "for a, b in zip(A, B):\n",
    "    c = a + b\n",
    "    C.append(c)\n",
    "print(C)\n",
    "\n",
    "# Add with list comprehension (optional)\n",
    "C = [a + b for a, b in zip(A, B)]\n",
    "print(C)"
   ]
  },
  {
   "cell_type": "markdown",
   "metadata": {},
   "source": [
    "This is verbose. Now do this with NumPy"
   ]
  },
  {
   "cell_type": "code",
   "execution_count": null,
   "metadata": {},
   "outputs": [],
   "source": [
    "# Add these two lists using NumPy\n",
    "A = np.array([2, 4, 6, 8, 10])\n",
    "B = np.array([0, 10, 20, 30, 40])\n",
    "\n",
    "# Add with Numpy\n",
    "C = A + B\n",
    "print(C)"
   ]
  },
  {
   "cell_type": "markdown",
   "metadata": {},
   "source": [
    "### 2.3 NumPy, MATLAB, R, and Julia\n",
    "\n",
    "NumPy, like MATLAB and R, enables array-oriented computing. Here are few differences.\n",
    "\n",
    "Here is the updated table with information filled in for the Julia column:\n",
    "\n",
    "\n",
    "| Feature                                 | NumPy                                                | MATLAB                                               | R                                                    | Julia                                                |\n",
    "|-----------------------------------------|------------------------------------------------------|------------------------------------------------------|------------------------------------------------------|------------------------------------------------------|\n",
    "| Verbosity                               | Can be more verbose                                  | -                                                    | -                                                    | -                                                    |\n",
    "| Indexing and Memory Order               | 0-based indexing, row-major order                    | 1-based indexing, column-major order                  | 1-based indexing, column-major order                  | 1-based indexing, column-major order                  |\n",
    "| Variable Assignment                     | Creates a reference, use `.copy()` for a new copy    | Creates a copy by default, arrays are separate copies | Creates a copy by default, arrays are separate copies | Creates a copy by default, arrays are separate copies |\n",
    "| Data Structures                         | Mainly focuses on arrays and matrices                | Mainly focuses on matrices and cell arrays            | Supports a wide range of data structures like vectors, lists, and data frames | Supports a wide range of data structures like arrays, tuples, dictionaries, and user-defined composite types |\n",
    "| Function Syntax                         | Uses universal functions (ufuncs) for element-wise operations | Uses element-wise operations with dot notation (e.g., `.*`, `./`) | Vectorized operations with functions like `apply`      | Supports vectorized operations and broadcasting with functions like `broadcast` |\n",
    "| Broadcasting                            | Supports broadcasting for element-wise operations    | Requires array sizes to match for element-wise operations | Supports broadcasting for element-wise operations      | Supports broadcasting for element-wise operations      |"
   ]
  },
  {
   "cell_type": "markdown",
   "metadata": {},
   "source": [
    "#### 2.31 NumPy can be more verbose\n",
    "\n",
    "```matlab\n",
    "% Create a MATLAB array\n",
    "arr1 = [1 2 3 4 5];\n",
    "```\n",
    "```python\n",
    "# Create a NumPy array\n",
    "arr1 = np.array([1, 2, 3, 4, 5])\n",
    "\n",
    "# Perform element-wise operation (Python or MATLAB)\n",
    "arr2 = arr1 * 2\n",
    "```"
   ]
  },
  {
   "cell_type": "markdown",
   "metadata": {},
   "source": [
    "#### 2.3.2 Indexing and memory order\n",
    "\n",
    "In MATLAB and R, indexing starts at 1. MATLAB and R follow a column-major order for indexing, where elements in a matrix are stored column by column. For example, accessing the first element of a matrix in MATLAB would be `A(1, 1)`. On the other hand, NumPy follows the Python convention of 0-based indexing. NumPy uses row-major order for indexing, storing elements row by row in memory. So, accessing the first element of a NumPy array would be `arr[0]`.  \n",
    "\n",
    "MATLAB Indexing:\n",
    "```matlab\n",
    "A = [1 2 3; 4 5 6; 7 8 9];\n",
    "first_element = A(1, 1);\n",
    "```\n",
    "\n",
    "NumPy Indexing (Python):\n",
    "```python\n",
    "arr = np.array([[1, 2, 3], [4, 5, 6], [7, 8, 9]])\n",
    "first_element = arr[0, 0]\n",
    "```"
   ]
  },
  {
   "cell_type": "markdown",
   "metadata": {},
   "source": [
    "#### 2.3.3 Variable assignment\n",
    "\n",
    "In Numpy, assigning one array to another creates a reference to the same memory location, and thus any modifications to one array affect the other. To create a copy in NumPy similar to Pandas, you must use the `.copy()` method to duplicate the array into a new memory space. On the other hand, in MATLAB and R, assigning one array to another results in automatic duplication, creating separate copies with their own memory locations."
   ]
  },
  {
   "cell_type": "code",
   "execution_count": null,
   "metadata": {},
   "outputs": [],
   "source": [
    "arr1 = np.array([1, 2, 3, 4, 5])\n",
    "arr2 = arr1  # Creates a reference\n",
    "arr2[0] = 10  # Modifying arr2 affects arr1 as well\n",
    "print(arr1)  # Output: [10 2 3 4 5]\n",
    "\n",
    "arr3 = arr1.copy()  # Create a new copy\n",
    "arr3[1] = 20  # Modifying arr3 does not affect arr1\n",
    "print(arr1)  # Output: [10 2 3 4 5]\n",
    "print(arr3)  # Output: [10 20 3 4 5]"
   ]
  },
  {
   "cell_type": "markdown",
   "metadata": {},
   "source": [
    "#### 2.3.4 Which tool to use?\n",
    "\n",
    "MATLAB, R, Julia, and Python are powerful tools for data analysis and scientific computing, each with its own strengths and weaknesses. Here is a comparison:\n",
    "- MATLAB is ideal for projects that can leverage its specialized engineering toolboxes and where the availability of licenses is not a concern.\n",
    "- R shines in statistical analysis and is particularly suited for projects with a strong emphasis on statistical rigor and where the richness of R's packages can be fully utilized.\n",
    "- Julia is known for its high performance and ease of use in numerical computing, making it a great choice for projects that require fast execution and mathematical operations.\n",
    "- Python with NumPy is an all-around candidate, particularly for projects that may require integration with other aspects of the Python ecosystem.\n",
    "\n",
    "When choosing a tool for environmental data science, factors such as the specific task at hand, available resources, existing expertise, and integration with other tools should be considered. "
   ]
  },
  {
   "cell_type": "markdown",
   "metadata": {},
   "source": [
    "## 3. Generating a NumPy area\n",
    "\n",
    "There are different ways to generate NumPy arrays. Here are few examples."
   ]
  },
  {
   "cell_type": "markdown",
   "metadata": {},
   "source": [
    "### 3.1 Using `np.array()` function\n",
    "\n",
    "Syntax: `np.array(object, dtype=None, copy=True, order='K', subok=False, ndmin=0)`\n",
    "- `object`: This is the input data that you want to convert to a NumPy array. It can be a list, tuple, array-like object, etc.\n",
    "- `dtype`: The data type of the array elements. If not specified, NumPy will determine the data type of the array based on the input data. Common data types include `int`, `float`, `str`, etc.\n",
    "- `copy`: A boolean parameter that specifies whether to make a copy of the input data (`object`). By default, it is set to `True`, which means a copy is made. If set to `False`, the function will try to avoid a copy and use the input data directly.\n",
    "- `order`: Specifies the memory layout of the array. It can be `'C'` for C-style (row-major) or `'F'` for Fortran-style (column-major). The default value `'K'` means to keep the order of the input data.\n",
    "- `subok`: A boolean parameter indicating whether to force the data type of the output array to be a base class of the input data type. The default is `False`.\n",
    "- `ndmin`: Specifies the minimum number of dimensions that the resulting array should have. If set to a value greater than the number of dimensions in the input data, the output will have additional dimensions.\n",
    "\n",
    "Example, create this list with two sublists\n",
    "```python\n",
    "data = [[2, 4, 6, 8, 10], [0, 10, 20, 30, 40]]\n",
    "```\n",
    "and convert the list to NumPy array   ```\n",
    "\n",
    "\n",
    "\n"
   ]
  },
  {
   "cell_type": "code",
   "execution_count": null,
   "metadata": {},
   "outputs": [],
   "source": [
    "# Define a Python list containing two sublists representing rows of data\n",
    "data = [[2, 4, 6, 8, 10],\n",
    "        [0, 10, 20, 30, 40]]\n",
    "\n",
    "# Convert the Python list 'data' to a NumPy array and assign it to the variable 'np_array'\n",
    "\n",
    "\n",
    "# Print array type, shape, and values\n",
    "print(np_array.dtype, np_array.shape)\n",
    "print(np_array)"
   ]
  },
  {
   "cell_type": "markdown",
   "metadata": {},
   "source": [
    "<div class=\"admonition alert alert-warning\">\n",
    "    <p class=\"admonition-title\" style=\"font-weight:bold\">Warning</p>\n",
    "    Length of rows must be the same\n",
    "</div>"
   ]
  },
  {
   "cell_type": "markdown",
   "metadata": {},
   "source": [
    "### 3.2 Using `np.arange()` to create an array with a range of values (*optional*)\n",
    "\n",
    "Syntax: `np.arange([start, ]stop, [step, ]dtype=None)`\n",
    "- `[start, ]`: Optional start value. Default is 0.\n",
    "- `stop`: End value exclusive.\n",
    "- `[step, ]`: Optional step size. Default is 1.\n",
    "- `dtype=None`: Optional data type specification of output \n",
    "\n",
    "Let us generate \n",
    "```\n",
    "[2, 4, 6, 8, 10]\n",
    "```\n",
    "using np.arange."
   ]
  },
  {
   "cell_type": "code",
   "execution_count": null,
   "metadata": {},
   "outputs": [],
   "source": [
    "#Generate data with `np.arange` as `np_arange` and print it.\n",
    "\n",
    "\n",
    "# Print array type, shape, and values\n",
    "print(np_arange.dtype, np_arange.shape)\n",
    "print(np_arange)"
   ]
  },
  {
   "cell_type": "markdown",
   "metadata": {},
   "source": [
    "What is we want to generate the data below?\n",
    "```\n",
    "[[2, 4, 6, 8, 10], \n",
    " [0, 10, 20, 30, 40]]\n",
    "```\n",
    "To do this we can create a list, generate data using `np.arange` for each row as a sublist, and convert list to numpy array with `np.array`."
   ]
  },
  {
   "cell_type": "code",
   "execution_count": null,
   "metadata": {},
   "outputs": [],
   "source": [
    "# Generate data using np.arange for each row and combine with np.array in a list\n",
    "np_arange = np.array([np.arange(2, 12, 2), np.arange(0, 50, 10)])\n",
    "\n",
    "# Print array type, shape, and values\n",
    "print(np_arange.dtype, np_arange.shape)\n",
    "print(np_arange)"
   ]
  },
  {
   "cell_type": "markdown",
   "metadata": {},
   "source": [
    "### 3.3 Using `np.linspace()` to create an array with evenly spaced values (*optional*)\n",
    "Syntax: `np.linspace(start, stop, num=50, endpoint=True, retstep=False, dtype=None)`\n",
    "- `start`: The starting value of the sequence.\n",
    "- `stop`: The end value of the sequence.\n",
    "- `num`: The number of samples to generate. Default is 50.\n",
    "- `endpoint`: If `True`, `stop` is the last sample. Default is `True`.\n",
    "- `retstep`: If `True`, return `(array, step)`, where `step` is the spacing between samples.\n",
    "- `dtype`: The data type of the output array.\n",
    "\n",
    "Let us create an array 'linspace_array' using np.linspace with start=2, stop=10, and containing 17 equally spaced elements"
   ]
  },
  {
   "cell_type": "code",
   "execution_count": null,
   "metadata": {},
   "outputs": [],
   "source": [
    "# Generate 'linspace_array' with np.linspace: start=2, stop=10, 16 elements\n",
    "\n",
    "\n",
    "# Print array type, shape, and values\n",
    "print(linspace_array.dtype, linspace_array.shape)\n",
    "print(linspace_array)"
   ]
  },
  {
   "cell_type": "markdown",
   "metadata": {},
   "source": [
    "You can even display the spacing between samples with the parameter `retstep=True`"
   ]
  },
  {
   "cell_type": "code",
   "execution_count": null,
   "metadata": {},
   "outputs": [],
   "source": [
    "# Generate 'linspace_array' with np.linspace: start=2, stop=10, 16 elements with `retstep=True`\n",
    "linspace_array = np.linspace(2,10,17,retstep=True)\n",
    "\n",
    "# Print array type, shape, and values\n",
    "print(linspace_array[0].dtype, linspace_array[0].shape)\n",
    "print(linspace_array)"
   ]
  },
  {
   "cell_type": "markdown",
   "metadata": {},
   "source": [
    "### 3.4 Using `np.ones()` or `np.zeros()` to create ones or zeros array (*optional*)\n",
    "\n",
    "Syntax: `np.ones(shape, dtype=None, order='C')`  \n",
    "Syntax: `np.zeros(shape, dtype=None, order='C')`\n",
    "  \n",
    "Try creating 3x5 array with values of zeros, ones, and eights"
   ]
  },
  {
   "cell_type": "code",
   "execution_count": null,
   "metadata": {},
   "outputs": [],
   "source": [
    "# Generate and print 3x5 np_zeros array\n",
    "\n",
    "print(np_zeros.dtype, np_zeros.shape)\n",
    "print(np_zeros,'\\n')"
   ]
  },
  {
   "cell_type": "code",
   "execution_count": null,
   "metadata": {},
   "outputs": [],
   "source": [
    "# Generate and print 3x5 np_ones array\n",
    "np_ones = np.ones([3,5])\n",
    "\n",
    "print(np_ones.dtype, np_ones.shape)\n",
    "print(np_ones,'\\n')\n",
    "\n",
    "# Generate and print 3x5 np_eights array\n",
    "np_eights = np.ones([3,5]) * 8\n",
    "\n",
    "print(np_eights.dtype, np_eights.shape)\n",
    "print(np_eights)"
   ]
  },
  {
   "cell_type": "markdown",
   "metadata": {},
   "source": [
    "### 3.5 Using `np.full()` with any specified value and type\n",
    "\n",
    "The `np.full` function in NumPy is used to create a new array of a specified shape and fill it with a specified value.\n",
    "Syntax: `np.full(shape, fill_value, dtype=None, order='C')`\n",
    "- `shape`: The shape of the new array. This can be a single integer to specify a 1-D array or a tuple of integers to specify multi-dimensional arrays.\n",
    "- `fill_value`: The value to fill the new array with.\n",
    "- `dtype`: The data type of the output array. If not specified, the data type is inferred from the `fill_value`.\n",
    "- `order`: Specifies the memory layout of the array. By default, it is 'C', which specifies row-major order.\n",
    "\n",
    "For example, let us create 3x5 NumPy array filled with NaN values."
   ]
  },
  {
   "cell_type": "code",
   "execution_count": null,
   "metadata": {},
   "outputs": [],
   "source": [
    "# Generate and print 3x5 np_nans array\n",
    "\n",
    "\n",
    "print(np_nans.dtype, np_nans.shape)\n",
    "print(np_nans)"
   ]
  },
  {
   "cell_type": "markdown",
   "metadata": {},
   "source": [
    "In this example, we will create two NumPy arrays:\n",
    "- An array named `colors` of size 5, initialized using `np.full()` with all elements set to 'black'.\n",
    "- An array named `values` of size 5, created using `np.array()` with some arbitrary values.\n",
    "\n",
    "The task is to update the `colors` array such that if the values at corresponding positions in the `values` array are 10 or higher, the value in the `colors` array will be changed to 'Red'."
   ]
  },
  {
   "cell_type": "code",
   "execution_count": null,
   "metadata": {},
   "outputs": [],
   "source": [
    "# Create the array (5,) with arbitrary values\n",
    "values= np.array([10, 14, 9, 4, 17])\n",
    "\n",
    "# Create the colors array (5,) with all elements set to 'black'\n",
    "colors = np.full(5, 'Black')\n",
    "\n",
    "# Update colors to 'Red' where values >= 5\n",
    "colors[values >= 10 ]= 'Red'\n",
    "\n",
    "# Display array, type, shape and values\n",
    "print(colors.dtype, colors.shape)\n",
    "print(colors)"
   ]
  },
  {
   "cell_type": "markdown",
   "metadata": {},
   "source": [
    "## 4. Read csv file with mixed data types as NumPy array\n",
    "\n",
    "We want to read the AQI data from 'aqi_data_Miami.csv' into a NumPy array. To read a CSV file into one NumPy array with mixed data types (datetime and floats) is tricky. Using `np.loadtxt` directly will not work due to datetime and numeric data. Instead, we can use `np.genfromtxt` of NumPy or `pd.read_csv` of Pandas."
   ]
  },
  {
   "cell_type": "markdown",
   "metadata": {},
   "source": [
    "### 4.1 Using `genformtxt` (*Optional*)\n",
    "\n",
    "To read a CSV file into one NumPy array with mixed data types (datetime and floats), you can use the `genfromtxt` function with appropriate data types specified for each column, or read it as an object and convert to float or datetime as needed.\n",
    "\n",
    "Here's an example:\n",
    "- We load the CSV file as an array of objects (strings)\n",
    "- We replace empty strings with np.nan before converting to datetime or float \n",
    "- We convert string to datetime or float \n",
    "\n",
    "By handling empty strings and converting the data to datetime or floats, this approach should help you avoid the conversion error when using different NumPy functions and methods. Here we are only replacing empty strings with np.nan; how to handle NaN when performing calculations is a different issue that is discussed later."
   ]
  },
  {
   "cell_type": "code",
   "execution_count": null,
   "metadata": {},
   "outputs": [],
   "source": [
    "# Read the CSV file into a NumPy string array with dtype object\n",
    "# Column names: [datetime-empty], 'PM2.5', 'PM10',  'NO2', 'SO2',  'CO', 'O3'\n",
    "data_genfromtxt = np.genfromtxt('data/aqi_data_Miami.csv', delimiter=',', dtype=object, skip_header=1)\n",
    "print(\"data_str:\", data_genfromtxt.dtype, data_genfromtxt.shape)\n",
    "print(data_genfromtxt[0],'\\n')\n",
    "\n",
    "# Extracting first column as datetime (you can do it in one line)\n",
    "dates =data_genfromtxt[:, 0]  # String\n",
    "dates = np.where(dates == b'', np.nan, dates) # Replace empty strings with a placeholder value (np.nan)\n",
    "dates = np.asarray(dates, dtype=np.datetime64) # Convert string to dateime\n",
    "print(\"dates:\", dates.dtype, dates.shape)\n",
    "print(dates[0],'\\n')\n",
    "\n",
    "# Extract numerical values as numbers (you can do it in one line)\n",
    "values = data_genfromtxt[:, 1:] # String\n",
    "values = np.where(values == b'', np.nan, values) # Replace empty strings with a placeholder value (np.nan)\n",
    "values = np.asarray(values, dtype=np.float64) # Convert string to float\n",
    "print(\"values:\", values.dtype, values.shape)\n",
    "print(values[0],)"
   ]
  },
  {
   "cell_type": "markdown",
   "metadata": {},
   "source": [
    "<div class=\"admonition alert alert-info\">\n",
    "    <p class=\"admonition-title\" style=\"font-weight:bold\">Info</p>\n",
    "    <p>When you see <code>dtype=object</code> in a NumPy array, it implies that the elements in that array are not of a homogeneous data type like integers, floats, or strings. Instead, each element can be of any Python object type, which can make operations on the array less efficient compared to arrays with a fixed data type.</p>\n",
    "</div>"
   ]
  },
  {
   "cell_type": "markdown",
   "metadata": {},
   "source": [
    "### 4.2 Using `pd.read_csv`\n",
    "\n",
    "To read the data into NumPy array as follows:\n",
    "- Read the data from 'aqi_data_Miami.csv'with Pandas as DataFrame\n",
    "- Convert DataFrame into a NumPy array using `.to_numpy()`\n",
    "- Convert first column into datetime format using `pd.to_datetime()`\n",
    "\n",
    "Let us try to do it."
   ]
  },
  {
   "cell_type": "code",
   "execution_count": null,
   "metadata": {},
   "outputs": [],
   "source": [
    "# Read the CSV file into a NumPy mixed type array with dtype object\n",
    "# Column names: [datetime-empty], 'PM2.5', 'PM10',  'NO2', 'SO2',  'CO', 'O3'\n",
    "data_read_csv = pd.read_csv('data/aqi_data_Miami.csv').to_numpy()\n",
    "\n",
    "# Convert the first column in the NumPy array to datetime format\n",
    "data_read_csv[:, 0] = pd.to_datetime(data_read_csv[:, 0])\n",
    "print(\"data:\", data_read_csv.dtype, data_read_csv.shape)\n",
    "print(data_read_csv[0],'\\n')\n",
    "\n",
    "# Extracting first column as datetime (you can do it in one line)\n",
    "dates =data_read_csv[:, 0]  # object\n",
    "dates = np.asarray(dates, dtype=np.datetime64) # Convert object to dateime\n",
    "print(\"dates:\", dates.dtype, dates.shape)\n",
    "print(dates[0],'\\n')\n",
    "\n",
    "# Extract numerical values as numbers (you can do it in one line)\n",
    "values = data_read_csv[:, 1:] # object\n",
    "values = np.asarray(values, dtype=np.float64) # Convert object to float\n",
    "print(\"values:\", values.dtype, values.shape)\n",
    "print(values[0])"
   ]
  },
  {
   "cell_type": "markdown",
   "metadata": {},
   "source": [
    "The `data_genfromtxt` array is mainly a string array unsuitable for calculations, while `data_read_csv` can be used for calculations but may cause data type errors with certain NumPy operations, functions, or methods."
   ]
  },
  {
   "cell_type": "markdown",
   "metadata": {},
   "source": [
    "<div class=\"admonition alert alert-info\">\n",
    "    <p class=\"admonition-title\" style=\"font-weight:bold\">Info</p>\n",
    "The purpose of <code>np.asarray</code> is to ensure that the input is returned as a NumPy array, irrespective of whether the input is already a NumPy array or another array-like object. You can use the keyword argument <code>dtype</code> to set data type.\n",
    "</div>"
   ]
  },
  {
   "cell_type": "markdown",
   "metadata": {},
   "source": [
    "## 5. Perform calculations with NumPy"
   ]
  },
  {
   "cell_type": "markdown",
   "metadata": {},
   "source": [
    "#### 5.1 Formula\n",
    "\n",
    "NumPy is used for basic arithmetic operations such as addition (`+`), subtraction (`-`), division (`/`), multiplication (`*`), exponentiation (`**`).\n",
    "\n",
    "For example compute element-wise:  \n",
    "$c= 4a^2 - b + 5$"
   ]
  },
  {
   "cell_type": "code",
   "execution_count": null,
   "metadata": {},
   "outputs": [],
   "source": [
    "# Add these two lists using NumPy\n",
    "a = np.array([2, 4, 6, 8, 10])\n",
    "b = np.array([0, 10, 20, 30, 40])\n",
    "\n",
    "# Add with Numpy\n",
    "\n",
    "print(C)"
   ]
  },
  {
   "cell_type": "markdown",
   "metadata": {},
   "source": [
    "<div class=\"admonition alert alert-warning\">\n",
    "    <p class=\"admonition-title\" style=\"font-weight:bold\">Warning</p>\n",
    "    These arrays must be the same shape!\n",
    "</div>"
   ]
  },
  {
   "cell_type": "markdown",
   "metadata": {},
   "source": [
    "#### 5.2 Functions\n",
    "\n",
    "In addition to basic arithmetic operations, NumPy has common mathematical and trigonometric functions, descriptive statistics and statistical functions, rounding functions, and commonly used math functions."
   ]
  },
  {
   "cell_type": "markdown",
   "metadata": {},
   "source": [
    "**Arithmetic Operations**\n",
    "\n",
    "| Calculation        | Op | NumPy Function     | Output                |\n",
    "|--------------------|----|--------------------|------------------------|\n",
    "| Addition           | +  | `np.add(2, 3)`     | `5`                    |\n",
    "| Subtraction        | -  | `np.subtract(5, 2)`| `3`                    |\n",
    "| Division           | /  | `np.divide(6, 2)`  | `3.0`                  |\n",
    "| Multiplication     | *  | `np.multiply(2, 4)`| `8`                    |\n",
    "| Exponentiation     | ** | `np.power(2, 3)`   | `8`                    |\n",
    "\n",
    "**Absolute and Sign Functions**\n",
    "\n",
    "| Calculation        | NumPy Function | Output                |\n",
    "|--------------------|----------------|------------------------|\n",
    "| Absolute value     | `np.abs(-5)`   | `5`                    |\n",
    "| Sign function      | `np.sign(-3)`  | `-1`                   |\n",
    "\n",
    "**Square Root and Exponential Functions**\n",
    "\n",
    "| Calculation        | NumPy Function | Output                |\n",
    "|--------------------|----------------|------------------------|\n",
    "| Square root        | `np.sqrt(25)`  | `5.0`                  |\n",
    "| Cube root          | `np.cbrt(8)`   | `2.0`                  |\n",
    "| Exponential        | `np.exp(2)`    | `7.3890561`            |\n",
    "| 2^x                | `np.exp2(3)`   | `8.0`                  |\n",
    "\n",
    "**Logarithmic Functions**\n",
    "\n",
    "| Calculation        | NumPy Function         | Output                |\n",
    "|--------------------|------------------------|------------------------|\n",
    "| Natural logarithm  | `np.log(10)`           | `2.3025851`            |\n",
    "| Logarithm (base 10)| `np.log10(100)`        | `2.0`                  |\n",
    "| Logarithm (base 2) | `np.log2(8)`           | `3.0`                  |\n",
    "| Logarithm (base x) | `np.log(8)/np.log(2)`  | `3.0`                  |\n",
    "| Logarithm of (1+x) | `np.log1p(0.5)`        | `0.4054651`            |\n",
    "\n",
    "**Trigonometric Functions**\n",
    "\n",
    "| Calculation        | NumPy Function     | Output                |\n",
    "|--------------------|--------------------|------------------------|\n",
    "| Sine               | `np.sin(np.pi/2)`  | `1.0`                  |\n",
    "| Cosine             | `np.cos(0)`        | `1.0`                  |\n",
    "| Tangent            | `np.tan(np.pi/4)`  | `1.0`                  |\n",
    "| Inverse Sine       | `np.arcsin(1)`     | `1.5707963`            |\n",
    "| Inverse Cosine     | `np.arccos(0)`     | `1.5707963`            |\n",
    "| Inverse Tangent    | `np.arctan(1)`     | `0.7853982`            |\n",
    "| Hyperbolic Sine    | `np.sinh(0.5)`     | `0.5210953`            |\n",
    "| Inverse Hyperbolic | `np.arcsinh(0.5)`  | `0.48121183`           |\n",
    "| Convert to Radians | `np.radians(90)`   | `1.5707963`            |\n",
    "| Convert to Degrees | `np.degrees(np.pi)`| `180.0`                |\n",
    "\n",
    "**Statistical Functions**\n",
    "\n",
    "| Calculation              | NumPy Function      | Output        |\n",
    "|--------------------------|---------------------|----------------|\n",
    "| Mean (average)           | `np.mean([1, 2, 3])`| `2.0`          |\n",
    "| Mean with NaN values     | `np.nanmean([1, 2, np.nan, 3])` | `2.0` |\n",
    "| Standard deviation       | `np.std([1, 2, 3])` | `0.81649658`   |\n",
    "| Standard deviation with NaN values | `np.nanstd([1, 2, np.nan, 3])` | `0.816496580927726` |\n",
    "| Variance                 | `np.var([1, 2, 3])` | `0.66666667`   |\n",
    "| Variance with NaN values | `np.nanvar([1, 2, np.nan, 3])` | `0.6666666666666666` |\n",
    "| Maximum value            | `np.max([1, 2, 3])` | `3`            |\n",
    "| Maximum value with NaN values | `np.nanmax([1, 2, np.nan, 3])` | `3.0` |\n",
    "| Minimum value            | `np.min([1, 2, 3])` | `1`            |\n",
    "| Minimum value with NaN values | `np.nanmin([1, 2, np.nan, 3])` | `1.0` |\n",
    "| Pearson correlation coefficient | `np.corrcoef([1, 2, 3], [3, 2, 1])` | `array([[ 1., -1.], [-1.,  1.]])` |\n",
    "\n",
    "**Rounding Functions**\n",
    "\n",
    "| Calculation                                      | NumPy Function       | Output          |\n",
    "|--------------------------------------------------|----------------------|------------------|\n",
    "| Round to nearest even value                      | `np.round(3.6)`      | `4.0`            |\n",
    "| Round towards zero                               | `np.trunc(-2.8)`     | `-2.0`           |\n",
    "| Round up towards positive infinity               | `np.ceil(5.4)`       | `6.0`            |\n",
    "| Round down towards negative infinity             | `np.floor(4.9)`      | `4.0`            |\n",
    "\n",
    "**Random Number Generation**\n",
    "\n",
    "| Calculation                                      | NumPy Function       | Output             |\n",
    "|--------------------------------------------------|----------------------|---------------------|\n",
    "| Generate random numbers from [0, 1)              | `np.random.rand(5)`   | `[0.97625072, 0.8556528, 0.18848637, 0.83233422, 0.80931194]` |\n",
    "| Generate random integers                         | `np.random.randint(1, 10, 3)`| `[7, 3, 5]`     |\n",
    "| Generate random numbers from a normal distribution| `np.random.randn(2, 2)`  | `[[-0.06505159,  0.29853219], [-0.78611954,  0.2610972 ]]` |\n",
    "| Generate random numbers from a uniform distribution| `np.random.uniform(0, 1, 3)`| `[0.5488135 , 0.71518937, 0.60276338]` |\n",
    "| Generate random samples from a given 1-D array   | `np.random.choice([1, 2, 3, 4, 5], 3)` | `[4, 1, 2]`      |\n",
    "\n",
    "**Differentiation and Integration**\n",
    "\n",
    "| Calculation                              | NumPy/SciPy Function          | Output |\n",
    "|------------------------------------------|-------------------------------|---------|\n",
    "| Trapezoidal rule integration             | `np.trapz([1, 2, 3])`         | `4.0`   |\n",
    "| Cumulative trapezoidal integration       | `np.cumtrapz([1, 2, 3])`      | `[1.5, 3.0, 4.5]` |\n",
    "| Adaptive quadrature integration          | `scipy.integrate.quad(func, 0, 1)` | `0.78539816, 2.77555756e-14` |\n",
    "| Simpson's rule integration               | `scipy.integrate.simps([1, 2, 3])` | `4.0` |\n",
    "| Gradient-based numerical differentiation | `np.gradient([1, 2, 3])`     | `[1. 1. 1.]` |\n",
    "| Discrete numerical differentiation       | `np.diff([1, 4, 9, 16])`     | `[3, 5, 7]` |\n",
    "\n",
    "**Matrix Operations**\n",
    "\n",
    "| Calculation                              | NumPy Function          | Output |\n",
    "|------------------------------------------|-------------------------|---------|\n",
    "| Permute the dimensions of an array.             | `np.transpose([[1, 2], [3, 4]])` | `array([[1, 3], [2, 4]])`   |\n",
    "| Compute the dot product of two arrays.          | `np.dot([1, 2], [3, 4])` | `11`                        |\n",
    "| Perform matrix multiplication.                   | `np.matmul([[1, 2], [3, 4]], [[5, 6], [7, 8]])` | `array([[19, 22], [43, 50]])` |\n",
    "| Compute the matrix transpose.                    | `np.transpose([[1, 2], [3, 4]])` | `array([[1, 3], [2, 4]])`    |\n",
    "| Compute the matrix inverse.                      | `np.linalg.inv([[1, 2], [3, 4]])` | `array([[-2. ,  1. ], [ 1.5, -0.5]])` |\n",
    "| Concatenate arrays along a specified axis.      | `np.concatenate(([1, 2], [3, 4]))` | `array([1, 2, 3, 4])`       |\n",
    "\n",
    "**NumPy Constants**\n",
    "\n",
    "| NumPy Constants | Constant                                                  | Output  |\n",
    "|-----------------|-----------------------------------------------------------|----------|\n",
    "| `np.pi`         | The mathematical constant π (pi)                         | `3.14159265` |\n",
    "| `np.e`          | The mathematical constant e (Euler's number)             | `2.71828183` |\n",
    "| `np.inf`        | Positive infinity                                        | `inf`    |\n",
    "| `np.nan`        | Not a Number (NaN)                                       | `nan`    |\n",
    "| `np.NINF`       | Negative infinity                                        | `-inf`   |\n",
    "| `np.finfo(np.float64).eps` | Machine epsilon for float64                     | `2.220446049250313e-16` |\n",
    "| `np.finfo(np.float64).max` | Maximum representable number in float64           | `1.7976931348623157e+308` |\n",
    "| `np.finfo(np.float64).min` | Minimum positive normal number in float64         | `2.2250738585072014e-308` |\n",
    "\n",
    "The above tables showcase some of the calcuations that you can perform with NumPy."
   ]
  },
  {
   "cell_type": "markdown",
   "metadata": {},
   "source": [
    "<div class=\"admonition alert alert-info\">\n",
    "    <p class=\"admonition-title\" style=\"font-weight:bold\">Info</p>\n",
    "    Check out NumPy's list of mathematical functions <a href=https://numpy.org/doc/stable/reference/routines.math.html>here</a>!\n",
    "</div>"
   ]
  },
  {
   "cell_type": "markdown",
   "metadata": {},
   "source": [
    "**Test your understanding**\n",
    "\n",
    "Complete the code below"
   ]
  },
  {
   "cell_type": "code",
   "execution_count": null,
   "metadata": {},
   "outputs": [],
   "source": [
    "# Generate Two NumPy arrays\n",
    "A = np.array([2, 4, 6, 8, 10])\n",
    "B = np.array([0, 10, 20, 30, 40])  #Anlge in degrees\n",
    "\n",
    "# B/A\n"
   ]
  },
  {
   "cell_type": "code",
   "execution_count": null,
   "metadata": {},
   "outputs": [],
   "source": [
    "#sqrt(A)\n"
   ]
  },
  {
   "cell_type": "code",
   "execution_count": null,
   "metadata": {},
   "outputs": [],
   "source": [
    "#log(A)\n"
   ]
  },
  {
   "cell_type": "code",
   "execution_count": null,
   "metadata": {},
   "outputs": [],
   "source": [
    "# sin(B)\n",
    "# Use `np.sin?` to check if angle in degrees or radians\n"
   ]
  },
  {
   "cell_type": "code",
   "execution_count": null,
   "metadata": {},
   "outputs": [],
   "source": [
    "#Try np.sin? or help(np.sin)"
   ]
  },
  {
   "cell_type": "markdown",
   "metadata": {},
   "source": [
    "### 5.3 NumPy methods"
   ]
  },
  {
   "cell_type": "markdown",
   "metadata": {},
   "source": [
    "In addition to the general functions above,  NumPy arrays have a variety methods to perform operations on the arrays.\n",
    "\n",
    "| Description                                      | Method              | Output                      |\n",
    "|--------------------------------------------------|---------------------|-----------------------------|\n",
    "| Calculate the sum of array elements.             | `a.sum([1, 2, 3])` | `6`                         |\n",
    "| Compute the arithmetic mean along the specified axis. | `a.mean([1, 2, 3])` | `2.0`                       |\n",
    "| Find the minimum value in an array.             | `a.min([1, 2, 3])` | `1`                         |\n",
    "| Find the maximum value in an array.             | `a.max([1, 2, 3])` | `3`                         |\n",
    "| Find the index of the minimum value in an array. | `a.argmin([1, 2, 3])` | `0`                         |\n",
    "| Find the index of the maximum value in an array. | `a.argmax([1, 2, 3])` | `2`                         |\n",
    "| Return a sorted copy of an array.               | `a.sort([3, 1, 2])` | `array([1, 2, 3])`          |\n",
    "| Reshape the array into a new shape.             | `a.reshape([1, 2, 3], (3, 1))` | `array([[1], [2], [3]])`    |\n",
    "| Find the unique elements of an array.           | `a.unique([1, 2, 2, 3])` | `array([1, 2, 3])`          |"
   ]
  },
  {
   "cell_type": "code",
   "execution_count": null,
   "metadata": {},
   "outputs": [],
   "source": [
    "# Generate Two NumPy arrays\n",
    "A = np.array([[2, 4, 6, 8, 10],[0, 10, 20, 30, 40]])  \n",
    "\n",
    "# Use a .max method to find max of array A\n"
   ]
  },
  {
   "cell_type": "code",
   "execution_count": null,
   "metadata": {},
   "outputs": [],
   "source": [
    "#Reshape A from 2x5 array to 5x2 array\n"
   ]
  },
  {
   "cell_type": "markdown",
   "metadata": {},
   "source": [
    "### 5.4 Perform operation along a specific dimesion\n",
    "\n",
    "Many functions like `np.sum(axis=)`, `np.mean(axis=)`, `np.max(axis=)`, etc., are commonly used for performing operations along a specific dimension in NumPy arrays. For example: \n",
    "- `np.sum(arr, axis=0)` calculates the sum along axis 0, summing elements vertically.\n",
    "- `np.mean(arr, axis=1)` calculates the mean along axis 1, computing the mean horizontally.\n",
    "- `np.max(arr, axis=0)` finds the maximum value along axis 0.\n",
    "\n",
    "and so on."
   ]
  },
  {
   "cell_type": "code",
   "execution_count": null,
   "metadata": {},
   "outputs": [],
   "source": [
    "# Generate a 2d NumPy array\n",
    "A = np.array([[2, 4, 6, 8, 10], \n",
    "              [0, 10, 20, 30, 40]])\n",
    "\n",
    "# Calculate the mean of each column in array A (across rows)\n",
    "print(\"Mean of each column:\")\n",
    "\n",
    "print(mean_of_each_column)\n"
   ]
  },
  {
   "cell_type": "code",
   "execution_count": null,
   "metadata": {},
   "outputs": [],
   "source": [
    "# Calculate the mean of each row in array A (across columns)\n",
    "print(\"\\nMean of each row:\")\n",
    "mean_of_each_row = np.mean(A, axis=1)\n",
    "print(mean_of_each_row)\n",
    "\n",
    "# Find the maximum value in each row of array A\n",
    "print(\"\\nMaximum value in each row:\")\n",
    "max_value_in_each_row = np.max(A, axis=1)\n",
    "print(max_value_in_each_row)"
   ]
  },
  {
   "cell_type": "markdown",
   "metadata": {},
   "source": [
    "### 5.5 Apply a function to a NumPy Array (*optional*)\n",
    "To apply a function to a NumPy array, you can use NumPy's `vectorize` function. Here is the general syntax:\n",
    "```python\n",
    "# Apply the function element-wise to the array\n",
    "result_arr = func(arr)\n",
    "```\n",
    "Here's an example of applying a function to convert temperatures from Fahrenheit to Celsius using a NumPy array:"
   ]
  },
  {
   "cell_type": "code",
   "execution_count": null,
   "metadata": {},
   "outputs": [],
   "source": [
    "# Define the function to convert Fahrenheit to Celsius\n",
    "def fahrenheit_to_celsius(f):\n",
    "    return (f - 32) * 5/9\n",
    "\n",
    "# Create a NumPy array of temperatures in Fahrenheit\n",
    "temps_fahrenheit = np.array([32, 68, 86, 104])\n",
    "\n",
    "# Apply the conversion function element-wise to the array\n",
    "temps_celsius = fahrenheit_to_celsius(temps_fahrenheit)\n",
    "\n",
    "print(temps_celsius)"
   ]
  },
  {
   "cell_type": "markdown",
   "metadata": {},
   "source": [
    "### 5.6 Example (*advanced*)"
   ]
  },
  {
   "cell_type": "markdown",
   "metadata": {},
   "source": [
    "Let us calculate temperature advection using the formula: \n",
    "$$\n",
    "\\text{advection} = -\\vec{v} \\cdot \\nabla T\n",
    "$$\n",
    "where\n",
    "- $\\vec{v}$ is the velocity vector\n",
    "- $\\nabla T$ represents the temperature gradient\n",
    "\n",
    "The dot product of the velocity vector and the temperature gradient gives the temperature advection. If you're not familiar with the advection dispersion equation, do not worry, and you can just look at how we apply some NumPy functions. \n",
    "   \n",
    "We'll start with some random $T$ and $\\vec{v}$ values"
   ]
  },
  {
   "cell_type": "code",
   "execution_count": null,
   "metadata": {},
   "outputs": [],
   "source": [
    "# Generate random temperature (T) and velocity components (u, v)\n",
    "temp = np.random.randn(100, 50)  # Random temperature values in a 100x50 array\n",
    "u = np.random.randn(100, 50)     # Random u component of velocity in a 100x50 array\n",
    "v = np.random.randn(100, 50)     # Random v component of velocity in a 100x50 array"
   ]
  },
  {
   "cell_type": "markdown",
   "metadata": {},
   "source": [
    "We can calculate the `np.gradient` of our new $T(100x50)$ field as two separate component gradients,"
   ]
  },
  {
   "cell_type": "code",
   "execution_count": null,
   "metadata": {},
   "outputs": [],
   "source": [
    "gradient_x, gradient_y = np.gradient(temp)"
   ]
  },
  {
   "cell_type": "markdown",
   "metadata": {},
   "source": [
    "In order to calculate $-\\vec{v} \\cdot \\nabla T$, we will use `np.dstack` to turn our two separate component gradient fields into one multidimensional field containing $x$ and $y$ gradients at each of our $100x50$ points,"
   ]
  },
  {
   "cell_type": "code",
   "execution_count": null,
   "metadata": {},
   "outputs": [],
   "source": [
    "grad_vectors = np.dstack([gradient_x, gradient_y])\n",
    "print(grad_vectors.shape)"
   ]
  },
  {
   "cell_type": "markdown",
   "metadata": {},
   "source": [
    "and then do the same for our separate $u$ and $v$ wind components,"
   ]
  },
  {
   "cell_type": "code",
   "execution_count": null,
   "metadata": {},
   "outputs": [],
   "source": [
    "wind_vectors = np.dstack([u, v])\n",
    "print(wind_vectors.shape)"
   ]
  },
  {
   "cell_type": "markdown",
   "metadata": {},
   "source": [
    "Finally, we can calculate the dot product of these two multidimensional fields of wind and temperature gradient components as an element-wise multiplication, `*`, and then a `sum` of our separate components at each point (i.e., along the last `axis`),"
   ]
  },
  {
   "cell_type": "code",
   "execution_count": null,
   "metadata": {},
   "outputs": [],
   "source": [
    "advection = (wind_vectors * -grad_vectors).sum(axis=-1)\n",
    "print(advection.shape)"
   ]
  },
  {
   "cell_type": "markdown",
   "metadata": {},
   "source": [
    "## 6. Indexing and subsetting arrays"
   ]
  },
  {
   "cell_type": "markdown",
   "metadata": {},
   "source": [
    "### 6.1 Indexing\n",
    " \n",
    "We can use integer indexing to reach into our arrays and pull out individual elements. Let's make a toy 2-d array to explore. Here we create a 12-value `arange` and `reshape` it into a 3x4 array."
   ]
  },
  {
   "cell_type": "code",
   "execution_count": null,
   "metadata": {},
   "outputs": [],
   "source": [
    "a = np.arange(12).reshape(3, 4)\n",
    "a"
   ]
  },
  {
   "cell_type": "markdown",
   "metadata": {},
   "source": [
    "NumPy uses row-major order for indexing, storing elements row by row in memory. So, accessing the first row of a NumPy array would be `a[0]`. "
   ]
  },
  {
   "cell_type": "code",
   "execution_count": null,
   "metadata": {},
   "outputs": [],
   "source": [
    "a[0]"
   ]
  },
  {
   "cell_type": "markdown",
   "metadata": {},
   "source": [
    "Similarly, to pull out the last _row_ we can index in reverse with negative indices,"
   ]
  },
  {
   "cell_type": "code",
   "execution_count": null,
   "metadata": {},
   "outputs": [],
   "source": [
    "a[-1]"
   ]
  },
  {
   "cell_type": "markdown",
   "metadata": {},
   "source": [
    "We can do this for multiple dimensions. For example, `a[1,2]` will pull out the 2nd row and the 3rd column in array `a`."
   ]
  },
  {
   "cell_type": "code",
   "execution_count": null,
   "metadata": {},
   "outputs": [],
   "source": [
    "a[1, 2]"
   ]
  },
  {
   "cell_type": "markdown",
   "metadata": {},
   "source": [
    "We can again use these negative indices to index backwards,"
   ]
  },
  {
   "cell_type": "code",
   "execution_count": null,
   "metadata": {},
   "outputs": [],
   "source": [
    "a[-1, -1]"
   ]
  },
  {
   "cell_type": "markdown",
   "metadata": {},
   "source": [
    "and even mix-and-match along dimensions,"
   ]
  },
  {
   "cell_type": "code",
   "execution_count": null,
   "metadata": {},
   "outputs": [],
   "source": [
    "a[1, -2]"
   ]
  },
  {
   "cell_type": "markdown",
   "metadata": {},
   "source": [
    "### 6.2 Slicing\n",
    "\n",
    "Slicing syntax is written as `array[start:stop[:step]]`, where **all numbers are optional**.\n",
    "- defaults: \n",
    "  - start = 0\n",
    "  - stop = len(dim)\n",
    "  - step = 1\n",
    "- The second colon is **also optional** if no step is used.\n",
    "\n",
    "Let's pull out just the first row, `m=0` of `a` and see how this works!"
   ]
  },
  {
   "cell_type": "code",
   "execution_count": null,
   "metadata": {},
   "outputs": [],
   "source": [
    "# 2x6 2d array a\n",
    "a =np.array([[10, 20, 30, 40, 50, 60],\n",
    "             [100, 200, 300, 400, 500, 600]])\n",
    "\n"
   ]
  },
  {
   "cell_type": "markdown",
   "metadata": {},
   "source": [
    "In Python, the colon `:` is commonly used in slicing operations for sequences like DataFrames, NumPy arrays, lists, tuples, and strings. For example, in NumPy, the colon `:` allows for slicing of NumPy arrays along different elements and dimensions.\n",
    "\n",
    "For example, for a 1D array `a`:\n",
    "- `a[:]` would select all elements of array `a`.\n",
    "- `a[1:4]` would select elements from index 1 to index 4 (exclusive).\n",
    "- `a[2:]` would select elements starting from index 2 to the end of the array.\n",
    "- `a[:3]` would select elements from the beginning up to index 3 (exclusive).\n",
    "\n",
    "For a 2D array `a`:\n",
    "- `a[:, :]` would select all elements of array `a`.\n",
    "- `a[1:4, :]` would select rows from index 1 to index 4 (exclusive) and all columns.\n",
    "- `a[2:, :]` would select rows starting from index 2 to the end and all columns.\n",
    "- `a[:3, :]` would select rows from the beginning up to index 3 (exclusive) and all columns.\n",
    "\n",
    "Let us try few examples"
   ]
  },
  {
   "cell_type": "markdown",
   "metadata": {},
   "source": [
    "<div class=\"admonition alert alert-warning\">\n",
    "    <p class=\"admonition-title\" style=\"font-weight:bold\">Warning</p>\n",
    "    Slice notation is <b>exclusive</b> of the final index.\n",
    "</div>"
   ]
  },
  {
   "cell_type": "code",
   "execution_count": null,
   "metadata": {},
   "outputs": [],
   "source": [
    "# 2x6 2d array a\n",
    "a =np.array([[10, 20, 30, 40, 50, 60],\n",
    "             [100, 200, 300, 400, 500, 600]])\n",
    "\n",
    "a[:,2]"
   ]
  },
  {
   "cell_type": "code",
   "execution_count": null,
   "metadata": {},
   "outputs": [],
   "source": [
    "# 2x6 2d array a\n",
    "a =np.array([[10, 20, 30, 40, 50, 60],\n",
    "             [100, 200, 300, 400, 500, 600]])\n",
    "\n",
    "a[1,1:]"
   ]
  },
  {
   "cell_type": "code",
   "execution_count": null,
   "metadata": {},
   "outputs": [],
   "source": [
    "# 2x6 2d array a\n",
    "a =np.array([[10, 20, 30, 40, 50, 60],\n",
    "             [100, 200, 300, 400, 500, 600]])\n",
    "\n",
    "a[:,2:4]"
   ]
  },
  {
   "cell_type": "code",
   "execution_count": null,
   "metadata": {},
   "outputs": [],
   "source": [
    "# 2x6 2d array a\n",
    "a =np.array([[10, 20, 30, 40, 50, 60],\n",
    "             [100, 200, 300, 400, 500, 600]])\n",
    "\n",
    "a[0,1:4:2]"
   ]
  },
  {
   "cell_type": "markdown",
   "metadata": {},
   "source": [
    "### 6.3 Indexing arrays with boolean values"
   ]
  },
  {
   "cell_type": "markdown",
   "metadata": {},
   "source": [
    "#### 6.3.1 Array comparisons\n",
    "NumPy can easily create arrays of Boolean values and use those to select certain values to extract from an array\n",
    "\n",
    "We want to create two datasets:\n",
    "- `pre_data` for  one year before lockdown\n",
    "- `post_data` for data one year after lockdown\n",
    "\n",
    "By doing a comparison between a NumPy array and a value, we get an array of values representing the results of the comparison between each element and the value."
   ]
  },
  {
   "cell_type": "code",
   "execution_count": null,
   "metadata": {},
   "outputs": [],
   "source": [
    "# Define date ranges\n",
    "lockdown_start = pd.Timestamp('2020-04-01')\n",
    "one_year_before = pd.Timestamp('2019-04-01')\n",
    "one_year_after = pd.Timestamp('2021-04-01')\n",
    "\n",
    "#Original data\n",
    "print(\"Original data:\", data_read_csv.shape)\n",
    "print(data_read_csv[0],'\\n')\n",
    "\n",
    "# Filter the NumPy array based on the date range for pre-covid19 data\n",
    "mask = (data_read_csv[:, 0] >= one_year_before) & (data_read_csv[:, 0] < lockdown_start)\n",
    "pre_data = data_read_csv[mask]\n",
    "print(\"Pre data:\", pre_data.shape)\n",
    "print(pre_data[0],'\\n')\n",
    "\n",
    "# Filter the NumPy array based on the date range for post-covid19 data\n",
    "mask = (data_read_csv[:, 0] >= lockdown_start) & (data_read_csv[:, 0] < one_year_after)\n",
    "post_data = data_read_csv[mask]\n",
    "print(\"Post data:\", post_data.shape)\n",
    "print(post_data[0])"
   ]
  },
  {
   "cell_type": "markdown",
   "metadata": {},
   "source": [
    "<div class=\"admonition alert alert-warning\">\n",
    "    <p class=\"admonition-title\" style=\"font-weight:bold\">Warning</p>\n",
    "    Indexing arrays with arrays requires them to be the same size!\n",
    "</div>"
   ]
  },
  {
   "cell_type": "markdown",
   "metadata": {},
   "source": [
    "We can plot pre and post data using `plt.plot(x,y)`."
   ]
  },
  {
   "cell_type": "code",
   "execution_count": null,
   "metadata": {},
   "outputs": [],
   "source": []
  },
  {
   "cell_type": "markdown",
   "metadata": {},
   "source": [
    "#### 6.3.2 Replacing values with indexing\n",
    "We can use this conditional indexing to _assign_ new values to certain positions within our array, somewhat like a masking operation.\n",
    "\n",
    "For example, replace negative numbers with 0."
   ]
  },
  {
   "cell_type": "code",
   "execution_count": null,
   "metadata": {},
   "outputs": [],
   "source": [
    "#Wind speed array where -ve value is measurement error \n",
    "wind_speed = np.array([1, -0.1, 8, np.nan, 10])\n",
    "\n"
   ]
  },
  {
   "cell_type": "markdown",
   "metadata": {},
   "source": [
    "Another bitwise operator we can find helpful is Python's `~` complement operator, which can give us the **inverse** of our specific mask to every value _not_ satisfied \n",
    "\n",
    "For example, with some cleverness we can remove both nan and negative numbers with the `~`"
   ]
  },
  {
   "cell_type": "code",
   "execution_count": null,
   "metadata": {},
   "outputs": [],
   "source": [
    "#Wind speed array where -ve value is measurement error \n",
    "wind_speed = np.array([1, -0.1, 8, np.nan, 10])\n",
    "\n"
   ]
  },
  {
   "cell_type": "markdown",
   "metadata": {},
   "source": [
    "#### 6.3.3 Cleaning data: Replacing NaN with `np.nan_to_num`\n",
    "\n",
    "Replacing NaN with zero or the mean value can be done using `np.nan_to_num`.\n",
    "\n",
    "For example, replace the NaN value the with mean of the dataset:"
   ]
  },
  {
   "cell_type": "code",
   "execution_count": null,
   "metadata": {},
   "outputs": [],
   "source": [
    "# Make a copy so we don't modify the original data\n",
    "wind_speed = np.array([1, -0.1, 8, np.nan, 10])\n",
    "\n",
    "# Replace all places with NaN to the mean value of data\n",
    "wind_speed_clean = np.nan_to_num(wind_speed, nan=np.nanmean(wind_speed))\n",
    "\n",
    "#Display wind speed without NaN\n",
    "wind_speed_clean"
   ]
  },
  {
   "cell_type": "markdown",
   "metadata": {},
   "source": [
    "In the example above, `np.nanmean` is used instead of `np.mean` to handle datasets with NaN values, as the mean of a dataset containing NaN values is NaN."
   ]
  },
  {
   "cell_type": "markdown",
   "metadata": {},
   "source": [
    "<div class=\"admonition alert alert-warning\">\n",
    "    <p class=\"admonition-title\" style=\"font-weight:bold\">Warning</p>\n",
    "Replacing NaN values should be done carefully and transparently to maintain analysis integrity. These replacements have the potential to change data distribution, skew results, and introduce statistical biases, possibly leading to information loss if NaN values were meaningful. Before substituting NaN values, it's advisable to explore alternative strategies such as imputation, elimination of NaN-containing rows/columns, or utilizing advanced methods that suit the data and analysis requirements.\n",
    "</div>"
   ]
  },
  {
   "cell_type": "markdown",
   "metadata": {},
   "source": [
    "#### 6.3.4 Cleaning data: Remove rows with NaN"
   ]
  },
  {
   "cell_type": "markdown",
   "metadata": {},
   "source": [
    "Another approach for dealing with NaN is to remove rows with NaNs. You can use the `np.isnan` function to find elements with NaN values along rows and columns with the logical function `any`.\n",
    "\n",
    "Here is an example:"
   ]
  },
  {
   "cell_type": "code",
   "execution_count": null,
   "metadata": {},
   "outputs": [],
   "source": [
    "# A 2D array with NaN values\n",
    "values = np.array([[1, 2, 3],\n",
    "                 [4, np.nan, 6],\n",
    "                 [7, 8, 9]])\n",
    "\n",
    "# Find rows with NaN values\n",
    "nan_rows = np.any(np.isnan(values), axis=1) \n",
    "\n",
    "\n",
    "# Remove rows with NaN values\n",
    "values_cleaned = values[~nan_rows]\n",
    "\n",
    "values_cleaned"
   ]
  },
  {
   "cell_type": "markdown",
   "metadata": {},
   "source": [
    "The code `np.any(np.isnan(values), axis=1)` identifies rows in a 2D array with NaN values:\n",
    "- `np.isnan(values)` creates a boolean mask for NaN in `values`\n",
    "- `np.any(..., axis=1)` checks each row for NaN, such that if any value in the row is NaN (i.e. True) it turns True, otherwise it returns False\n",
    "- `nan_rows` shows rows with NaN in `values`\n",
    "- Once we know the rows with NaN, we can keep the rows without NaN using the not `~` operator.\n",
    "\n",
    "This operation helps handle missing data in datasets to avoid calculation errors. After cleaning, 8 rows were removed.\n"
   ]
  },
  {
   "cell_type": "markdown",
   "metadata": {},
   "source": [
    "#### 6.3.5 Cleaning data: Remove rows with NaN for mixed data array\n",
    "\n",
    "Many of the NumPy functions such `isnan` is not directly supported on arrays that contain a mix of datetimes and floats such as the `data` array below. To address this issue, we can create a mask for NaN values for one data type (e.g., float columns) and use this mask to remove NaN rows from `data`, `dates`, and `values`."
   ]
  },
  {
   "cell_type": "code",
   "execution_count": null,
   "metadata": {},
   "outputs": [],
   "source": [
    "#Read csv file to NumPy array\n",
    "data = pd.read_csv('data/aqi_data_Miami.csv').to_numpy() #Read csv file as np array\n",
    "data[:, 0] = pd.to_datetime(data[:, 0]) # Convert 1st column to datetime\n",
    "dates = np.asarray(data[:, 0], dtype=np.datetime64) # Extract dates\n",
    "values = np.asarray(data[:, 1:], dtype=np.float64) # Extract number \n",
    "print(\"Original data shape: data\", data.shape, \n",
    "      \"dates\", dates.shape,\"values\", values.shape)\n",
    "\n",
    "#Remove NaNs\n",
    "nan_rows = np.any(np.isnan(values), axis=1) # Find rows with NaN values in float columns\n",
    "data = data[~nan_rows] # Remove rows with NaN values\n",
    "dates = dates[~nan_rows] # Remove rows with NaN values\n",
    "values = values[~nan_rows] # Remove rows with NaN values\n",
    "print(\"Cleaned data shape: data\", data.shape, \n",
    "      \"dates\", dates.shape,\"values\", values.shape)"
   ]
  },
  {
   "cell_type": "markdown",
   "metadata": {},
   "source": [
    "#### 6.3.6 Indexing using arrays of indices (*optional*)\n",
    "\n",
    "You can also use a list or array of indices to extract particular values--this is a natural extension of the regular indexing. For instance, just as we can select the first element:"
   ]
  },
  {
   "cell_type": "code",
   "execution_count": null,
   "metadata": {},
   "outputs": [],
   "source": [
    "# 2x6 2d array a\n",
    "temp =np.array([101, 98, 88, 97, 96, 98])"
   ]
  },
  {
   "cell_type": "markdown",
   "metadata": {},
   "source": [
    "We can also extract the first, third, and last elements "
   ]
  },
  {
   "cell_type": "code",
   "execution_count": null,
   "metadata": {},
   "outputs": [],
   "source": [
    "temp[[0,2,-1]]"
   ]
  },
  {
   "cell_type": "markdown",
   "metadata": {},
   "source": [
    "One of the ways this comes into play is trying to sort NumPy arrays using `argsort`. This function returns the indices of the array that give the items in sorted order. So for our `temp`,"
   ]
  },
  {
   "cell_type": "code",
   "execution_count": null,
   "metadata": {},
   "outputs": [],
   "source": [
    "inds = temp.argsort()\n",
    "inds"
   ]
  },
  {
   "cell_type": "markdown",
   "metadata": {},
   "source": [
    "i.e., our lowest value is at index `2`, next `4`, and so on. We can use this array of indices as an index for `temp`,"
   ]
  },
  {
   "cell_type": "code",
   "execution_count": null,
   "metadata": {},
   "outputs": [],
   "source": [
    "temp[inds]"
   ]
  },
  {
   "cell_type": "markdown",
   "metadata": {},
   "source": [
    "to get a sorted array back!"
   ]
  },
  {
   "cell_type": "markdown",
   "metadata": {},
   "source": [
    "With some clever slicing, we can pull out the last 3, or 103highest, values of `temp`,"
   ]
  },
  {
   "cell_type": "code",
   "execution_count": null,
   "metadata": {},
   "outputs": [],
   "source": [
    "three_highest = inds[-3:]\n",
    "print(temp[three_highest])"
   ]
  },
  {
   "cell_type": "markdown",
   "metadata": {},
   "source": [
    "There are other NumPy `arg` methods that return indices for operating; check out the [NumPy docs](https://numpy.org/doc/stable/reference/routines.sort.html) on sorting your arrays!"
   ]
  },
  {
   "cell_type": "markdown",
   "metadata": {},
   "source": [
    "## 7. Loop through an NumPy array"
   ]
  },
  {
   "cell_type": "markdown",
   "metadata": {},
   "source": [
    "### 7.1 Loop through elements\n",
    "\n",
    "To loop through elements of a 2D NumPy array, you can use nested loops similar to looping in nested lists. This enables iterating over each row in the 2D array and then iterating through each element within that row.\n",
    "\n",
    "Here is an example:"
   ]
  },
  {
   "cell_type": "code",
   "execution_count": null,
   "metadata": {},
   "outputs": [],
   "source": [
    "a=np.array([[10, 20],[40, 50], [70, 80]])\n",
    "\n",
    "for row_values in a:\n",
    "    for element_value in row_values:\n",
    "        print(element_value)\n",
    "        "
   ]
  },
  {
   "cell_type": "markdown",
   "metadata": {},
   "source": [
    "### 7.2 Loop with index\n",
    "\n",
    "You can loop with an index in case you want to use the index. \n",
    "  \n",
    "This is a MATLAB style:"
   ]
  },
  {
   "cell_type": "code",
   "execution_count": null,
   "metadata": {
    "scrolled": true
   },
   "outputs": [],
   "source": [
    "a=np.array([[10, 20],[40, 50], [70, 80]])\n",
    "\n",
    "for row_index in range(a.shape[0]):\n",
    "    for col_index in range(a.shape[1]):\n",
    "        print(row_index,col_index)\n",
    "        print(a[row_index,col_index])"
   ]
  },
  {
   "cell_type": "markdown",
   "metadata": {},
   "source": [
    "This is the MATLAB code in case you are wondering:\n",
    "```MATLAB\n",
    "% This is MATLAB, not Python \n",
    "a = [10 20; 40 50; 70 80];\n",
    "\n",
    "for row_index = 1:size(a, 1)\n",
    "    for col_index = 1:size(a, 2)\n",
    "        disp([row_index, col_index])\n",
    "        disp(a(row_index, col_index))\n",
    "    end\n",
    "end\n",
    "```\n",
    "This is not very different from NumPy!"
   ]
  },
  {
   "cell_type": "markdown",
   "metadata": {},
   "source": [
    "This is a Python style Using the `enumerate` that provides both the index and the value of elements in a sequence during iteration."
   ]
  },
  {
   "cell_type": "code",
   "execution_count": null,
   "metadata": {},
   "outputs": [],
   "source": [
    "Values = np.array([10, 20, 30, 40, 50])\n",
    "\n",
    "# Using enumerate to loop over the array elements with their index\n",
    "for index, Value in enumerate(Values):\n",
    "    print(\"Index:\", index, \"Value:\", Value)"
   ]
  },
  {
   "cell_type": "markdown",
   "metadata": {},
   "source": [
    "Here is another example with two 2d NumPy arrays.  The outer loop iterates over rows of two NumPy arrays `array_a` and `array_b`, while the inner loop iterates over corresponding elements in each row."
   ]
  },
  {
   "cell_type": "code",
   "execution_count": null,
   "metadata": {},
   "outputs": [],
   "source": [
    "a_array = np.array([[10, 20], [40, 50], [70, 80]])\n",
    "b_array = np.array([[100, 200], [400, 500], [700, 800]])\n",
    "\n",
    "for row_index, (a_row_values, b_row_values) in enumerate(zip(a_array, b_array)):\n",
    "    for col_index, (a_value, b_value) in enumerate(zip(a_row_values, b_row_values)):\n",
    "        print(\"Row Index:\", row_index)\n",
    "        print(\"Column Index:\", col_index)\n",
    "        print(\"Sum of elements:\", a_value + b_value)"
   ]
  },
  {
   "cell_type": "markdown",
   "metadata": {},
   "source": [
    "### 7.3 Loop with index using `np.ndindex`\n",
    "\n",
    "When you have a multidimensional array and you want to iterate over all the indices of the array, `np.ndindex` comes in handy. It generates an iterator that produces tuples of indices that can be used to access elements of the array in a nested loop structure."
   ]
  },
  {
   "cell_type": "code",
   "execution_count": null,
   "metadata": {},
   "outputs": [],
   "source": [
    "arr = np.array([[10, 20, 0],\n",
    "                 [40, 50, 60]])\n",
    "\n",
    "# Iterate over all indices of the array using np.ndindex\n",
    "for idx in np.ndindex(arr.shape):\n",
    "    print(f\"Index: {idx}, Value: {arr[idx]}\")"
   ]
  },
  {
   "cell_type": "markdown",
   "metadata": {},
   "source": [
    "<div class=\"admonition alert alert-info\">\n",
    "    <p class=\"admonition-title\" style=\"font-weight:bold\">Info</p>\n",
    "The Python built-in function <code>enumerate</code> returns an iterator yielding pairs of index and value for each element in an iterable, allowing for easy access to both the index and the value during iteration.\n",
    "</div>"
   ]
  },
  {
   "cell_type": "markdown",
   "metadata": {},
   "source": [
    "## 8. Broadcasting (*advanced*)\n",
    "\n",
    "Broadcasting in NumPy is a powerful mechanism that allows arrays of different shapes to be operated together. The smaller array is \"broadcast\" across the larger array so that they have compatible shapes for element-wise operations.\n",
    "\n",
    "For example, when you add a 1D array to a 2D array, NumPy will automatically broadcast the 1D array to the shape of the 2D array to perform the addition element-wise."
   ]
  },
  {
   "cell_type": "code",
   "execution_count": null,
   "metadata": {},
   "outputs": [],
   "source": [
    "a = np.array([1, 2, 3])  # 1D array shape (3,)\n",
    "b = np.array([[4, 5, 6], [7, 8, 9]])  # 2D array shape (2, 3)\n",
    "\n",
    "# Perform broadcasting\n",
    "a + b"
   ]
  },
  {
   "cell_type": "markdown",
   "metadata": {},
   "source": [
    "To broadcast arrays `a` and `b` in NumPy, arrays should have compatible shapes for broadcasting. If `a` has shape (3,) and `b` has shape (4,), then we need to reshape `a` to be a column vector (2D array). Then NumPy will automatically broadcast the 1D array `b` to the shape of the 2D array `a` to perform the addition element-wise similar to the previous example."
   ]
  },
  {
   "cell_type": "code",
   "execution_count": null,
   "metadata": {},
   "outputs": [],
   "source": [
    "a = np.array([1, 2, 3])   #  1D array shape (3,)\n",
    "b = np.array([4, 5, 6, 7]) # 1D array shape (4,)\n",
    "\n",
    "# Reshape 'a' from row vector (1D shape) to column vector (2D shape)\n",
    "a = a[:, np.newaxis]  # 2d array shape (3, 1)\n",
    "\n",
    "# Perform broadcasting\n",
    "a + b"
   ]
  },
  {
   "cell_type": "markdown",
   "metadata": {},
   "source": [
    "## 9. Write NumPy arrays to a file\n",
    "\n",
    "Writing a NumPy array to a: \n",
    "- csv file using `np.savetxt()` offers easy readability and compatibility with various programs\n",
    "- npy file with `np.save()` offers faster read and write times and the ability to preserve array-specific properties like shape and dtype"
   ]
  },
  {
   "cell_type": "markdown",
   "metadata": {},
   "source": [
    "### 9.1 Write NumPy arrays to csv files\n",
    "\n",
    "To write a NumPy array to a CSV file, you can use `np.savetxt()` function. For example, using \n",
    "\n",
    "```python\n",
    "np.savetxt('output.csv', data, delimiter=',')\n",
    "```\n",
    "\n",
    "is a convenient way to save NumPy arrays to csv files with specified delimiters."
   ]
  },
  {
   "cell_type": "markdown",
   "metadata": {},
   "source": [
    "### 9.2 Write NumPy arrays to npy files\n",
    "\n",
    "To write a NumPy array to a NPY file, you can use `np.save()` function. For example, using \n",
    "\n",
    "```python\n",
    "np.save('output.npy', data, allow_pickle=True)\n",
    "```\n",
    "is an efficient way to save NumPy array to npy file, preserving array data in a binary format.\n",
    "\n",
    "\n",
    "When dealing with arrays containing mixed data types like floats and datetimes, you can simplify the saving process by using `np.save` with `allow_pickle=True`. This parameter allows you to save and load the array without converting it to a structured array.\n",
    "\n",
    "Here is an example,"
   ]
  },
  {
   "cell_type": "code",
   "execution_count": null,
   "metadata": {},
   "outputs": [],
   "source": [
    "# Display data before saving\n",
    "print(\"data:\", data.dtype, data.shape)\n",
    "print(data[0],'\\n')\n",
    "print(\"dates:\", dates.dtype, dates.shape)\n",
    "print(dates[0],'\\n')\n",
    "print(\"values:\", values.dtype, values.shape)\n",
    "print(values[0])\n",
    "\n",
    "# Save the data arrays to a file \n",
    "np.save('data/data.npy', data, allow_pickle=True) #Mixed data types (datetime and float)\n",
    "np.save('data/dates.npy', dates) #Data type datetime \n",
    "np.save('data/values.npy', values) #Data type float"
   ]
  },
  {
   "cell_type": "markdown",
   "metadata": {},
   "source": [
    "To load the array saved with `allow_pickle=True`, you can use `np.load` with the same parameter set to `True`."
   ]
  },
  {
   "cell_type": "code",
   "execution_count": null,
   "metadata": {},
   "outputs": [],
   "source": [
    "# Load the array from the saved file with allow_pickle=True\n",
    "data = np.load('data/data.npy', allow_pickle=True) #Mixed data types (datetime and float)\n",
    "dates = np.load('data/dates.npy') #Data type datetime \n",
    "values = np.load('data/values.npy') #Data type float\n",
    "\n",
    "# Display data after loading\n",
    "print(\"data:\", data.dtype, data.shape)\n",
    "print(data[0],'\\n')\n",
    "print(\"dates:\", dates.dtype, dates.shape)\n",
    "print(dates[0],'\\n')\n",
    "print(\"values:\", values.dtype, values.shape)\n",
    "print(values[0])"
   ]
  },
  {
   "cell_type": "markdown",
   "metadata": {},
   "source": [
    "<div class=\"admonition alert alert-info\">\n",
    "    <p class=\"admonition-title\" style=\"font-weight:bold\">Info</p>\n",
    "    <code>np.load()</code> in NumPy has an <code>allow_pickle</code> parameter that determines whether pickled objects can be loaded. Pickled objects are like packages created by Python's pickle tool for easy storage or sharing. The default setting is <code>False</code> for security reasons. You can set it to <code>True</code> if you trust the source and need to load arrays with Python objects like Timestamps.\n",
    "</div>"
   ]
  },
  {
   "cell_type": "markdown",
   "metadata": {},
   "source": [
    "Let us confirm the successful loading of the array with mixed data types. We can plot the time against PM2.5, which are the first and second columns, respectively. "
   ]
  },
  {
   "cell_type": "code",
   "execution_count": null,
   "metadata": {},
   "outputs": [],
   "source": [
    "plt.plot(data[:,0],data[:,1]);"
   ]
  },
  {
   "cell_type": "markdown",
   "metadata": {},
   "source": [
    "### 9.3 Write NumPy arrays to npz file\n",
    "\n",
    "You can save multiple arrays in one `.npz` file."
   ]
  },
  {
   "cell_type": "code",
   "execution_count": null,
   "metadata": {},
   "outputs": [],
   "source": [
    "# Display data before saving\n",
    "print(\"data:\", data.dtype, data.shape)\n",
    "print(data[0],'\\n')\n",
    "print(\"dates:\", dates.dtype, dates.shape)\n",
    "print(dates[0],'\\n')\n",
    "print(\"values:\", values.dtype, values.shape)\n",
    "print(values[0])\n",
    "\n",
    "# Save the data arrays to a file \n",
    "np.savez('data/data.npz', data, dates, values, allow_pickle=True) #Mixed data types (datetime and float)"
   ]
  },
  {
   "cell_type": "markdown",
   "metadata": {},
   "source": [
    "We can load the data from the `.npz` file and access arrays with array keys  `arr_0`, `arr_1`, and so on. "
   ]
  },
  {
   "cell_type": "code",
   "execution_count": null,
   "metadata": {},
   "outputs": [],
   "source": [
    "# Load the data from the file\n",
    "loaded_data = np.load('data/data.npz', allow_pickle=True)\n",
    "\n",
    "# Access the arrays saved in the file\n",
    "data = loaded_data['arr_0']\n",
    "dates = loaded_data['arr_1']\n",
    "values = loaded_data['arr_2']\n",
    "\n",
    "# Display data after loading\n",
    "print(\"data:\", data.dtype, data.shape)\n",
    "print(data[0],'\\n')\n",
    "print(\"dates:\", dates.dtype, dates.shape)\n",
    "print(dates[0],'\\n')\n",
    "print(\"values:\", values.dtype, values.shape)\n",
    "print(values[0])"
   ]
  },
  {
   "cell_type": "markdown",
   "metadata": {},
   "source": [
    "## 10. Summary\n",
    "In this notebook we introduced NumPy with some useful technique such as:\n",
    "- generating NumPy array with numeric and non-numeric values\n",
    "- reading a csv file with mixed data types as NumPy array\n",
    "- preforming calcuations with formula and functions\n",
    "- specifying math (e.g., mean or sum) along `axis`\n",
    "- subset data according to conditions\n",
    "- Handling missing values NaN\n",
    "- save and load a NumPy array with mixed data types\n",
    "\n",
    "Next, let us explore an exercise and application."
   ]
  },
  {
   "cell_type": "markdown",
   "metadata": {},
   "source": [
    "---"
   ]
  },
  {
   "cell_type": "markdown",
   "metadata": {},
   "source": [
    "## Resources and references\n",
    "- [NumPy Users Guide](https://numpy.org/devdocs/user/quickstart.html#less-basic) expands further on some of these topics, as well as suggests various [Tutorials](https://numpy.org/learn/), lectures, and more.\n",
    "- [SciPy Lecture Notes](https://scipy-lectures.org)\n",
    "- [Basic 1-page cheat sheet by Data Camp](https://images.datacamp.com/image/upload/v1676302459/Marketing/Blog/Numpy_Cheat_Sheet.pdf)\n",
    "- [Top 10 NumPy Cheat sheets](https://www.kaggle.com/discussions/getting-started/255139)"
   ]
  }
 ],
 "metadata": {
  "kernelspec": {
   "display_name": "Python 3 (ipykernel)",
   "language": "python",
   "name": "python3"
  },
  "language_info": {
   "codemirror_mode": {
    "name": "ipython",
    "version": 3
   },
   "file_extension": ".py",
   "mimetype": "text/x-python",
   "name": "python",
   "nbconvert_exporter": "python",
   "pygments_lexer": "ipython3",
   "version": "3.11.0"
  },
  "toc-autonumbering": false
 },
 "nbformat": 4,
 "nbformat_minor": 4
}