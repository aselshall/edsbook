{
 "cells": [
  {
   "cell_type": "markdown",
   "metadata": {
    "editable": true,
    "slideshow": {
     "slide_type": ""
    },
    "tags": []
   },
   "source": [
    "# GCP 2 - Describing your code\n",
    "\n",
    "This file is adopted with modifications from [GCP 2 - Describing your code](https://geo-python-site.readthedocs.io/en/latest/notebooks/L2/gcp-2-describing-code.html) by [Geo-python](https://geo-python-site.readthedocs.io/en/latest/index.html)\n",
    "\n",
    "[![Binder](https://mybinder.org/badge_logo.svg)](https://mybinder.org/v2/gh/aselshall/eds/HEAD)"
   ]
  },
  {
   "cell_type": "markdown",
   "metadata": {},
   "source": [
    "Another good coding practice (GCP) is describing your code. In a Jupyter notebook, text can take two basic forms:\n",
    "- **Code comments**: Text in codes to help user understand what the code is doing\n",
    "- **Markdown text**: Text in markdown cells to provides a broader view of the code or analysis\n",
    "\n",
    "Providing code comments or markdown text makes is easier for you and other understand your code. \n",
    "\n",
    "Code descriptions are a big part of why Jupyter notebooks are so powerful because you write scientific texts with embedded code cells to be able to perform calculations, analyze data and visualize your results. This powerful platform is an excellent open science tool that provides a clear means to reproduce your results on demand. [**Here**](https://www.frontiersin.org/research-topics/22582/rapid-reproducible-and-robust-environmental-modeling-for-decision-support-worked-examples-and-open-source-software-tools#articles) you can find some examples. \n",
    "\n",
    "For this course, comments serve an additional purpose. For us, comments make sure we understand what each line of our code does, and help the graders follow your thinking in the code.\n",
    "\n",
    "\n",
    "\n",
    "This notebook provides examples of both below, along with some tips."
   ]
  },
  {
   "cell_type": "markdown",
   "metadata": {},
   "source": [
    "## 1. Code comments\n",
    "\n",
    "Code comments are text within your Python code that does not get executed. There are two types of code comments in Python, described below."
   ]
  },
  {
   "cell_type": "markdown",
   "metadata": {
    "editable": true,
    "slideshow": {
     "slide_type": ""
    },
    "tags": []
   },
   "source": [
    "### 1.1 Line comments\n",
    "\n",
    "Line comments begin with the `#` character and everything to the right of that character will be ignored by the Python interpreter. These comments are most frequently used to describe single lines of code or a small group of related lines. Let's have a look at an example."
   ]
  },
  {
   "cell_type": "code",
   "execution_count": 1,
   "metadata": {},
   "outputs": [],
   "source": [
    "# This is a line comment. It will be ignored when this cell is run"
   ]
  },
  {
   "cell_type": "markdown",
   "metadata": {},
   "source": [
    "When you run the cell above, nothing happens. The `#` character indicates the line contains a comment and the Python interpreter simply skips over this line.\n",
    "\n",
    "Let's have a look at a few more examples."
   ]
  },
  {
   "cell_type": "code",
   "execution_count": 2,
   "metadata": {},
   "outputs": [],
   "source": [
    "# This list has the names of some observation stations in South Florida\n",
    "station_names = [\n",
    "    \"Homestead\",\n",
    "    \"Fort lauderdale\",\n",
    "    \"Immokalee\", \n",
    "]"
   ]
  },
  {
   "cell_type": "code",
   "execution_count": 3,
   "metadata": {
    "editable": true,
    "slideshow": {
     "slide_type": ""
    },
    "tags": []
   },
   "outputs": [
    {
     "name": "stdout",
     "output_type": "stream",
     "text": [
      "Immokalee\n"
     ]
    }
   ],
   "source": [
    "print(station_names[-1])  # This prints the last value in the list station_names"
   ]
  },
  {
   "cell_type": "code",
   "execution_count": 4,
   "metadata": {},
   "outputs": [],
   "source": [
    "# This is not needed for at this stage, so I'm commenting it out\n",
    "# station_names.append(\"Belle Glade\")"
   ]
  },
  {
   "cell_type": "markdown",
   "metadata": {},
   "source": [
    "In the examples above you can see some of the ways in which line comments can be used in Python. "
   ]
  },
  {
   "cell_type": "markdown",
   "metadata": {},
   "source": [
    "### 1.2 Block comments\n",
    "\n",
    "Block comments are similar to line comments in that they are embedded within your code and are not executed when a code cell is run. You can begin a line comment with three quotation marks `'''` and end it with the same thing, three quotation marks `'''`. Everything within the groups of quotation marks will be ignored and it does not make any difference whether you use three single `'''` or double `\"\"\"` quotation marks.\n",
    "Let's see some examples."
   ]
  },
  {
   "cell_type": "code",
   "execution_count": 5,
   "metadata": {},
   "outputs": [
    {
     "data": {
      "text/plain": [
       "' This text will also be ignored.\\nEven if it is spread across multiple lines.\\nCool! '"
      ]
     },
     "execution_count": 5,
     "metadata": {},
     "output_type": "execute_result"
    }
   ],
   "source": [
    "\"\"\" This text will also be ignored.\n",
    "Even if it is spread across multiple lines.\n",
    "Cool! \"\"\""
   ]
  },
  {
   "cell_type": "code",
   "execution_count": 6,
   "metadata": {},
   "outputs": [],
   "source": [
    "\"\"\" The list below contains names of observation stations in South Florida.\n",
    "More information and a complete list of stations can be found at \n",
    "https://fawn.ifas.ufl.edu/tour/location_info.php \"\"\"\n",
    "station_names = [\n",
    "    \"Homestead\",\n",
    "    \"Fort lauderdale\",\n",
    "    \"Immokalee\", \n",
    "]"
   ]
  },
  {
   "cell_type": "code",
   "execution_count": 7,
   "metadata": {
    "editable": true,
    "slideshow": {
     "slide_type": ""
    },
    "tags": []
   },
   "outputs": [
    {
     "name": "stdout",
     "output_type": "stream",
     "text": [
      "['Homestead', 'Fort lauderdale', 'Immokalee']\n"
     ]
    }
   ],
   "source": [
    "\"\"\" None of the code below is needed, commenting this out for now.\n",
    "station_names.remove(\"Homestead\")\n",
    "station_names.pop(0)\n",
    "station_names.append(\"Fort Myers\")\n",
    "station_names.append(\"Immokalee\")\n",
    "station_names.reverse()\n",
    "\"\"\"\n",
    "print(station_names)"
   ]
  },
  {
   "cell_type": "markdown",
   "metadata": {},
   "source": [
    "In a future lesson you will be introduced to a common form of block comment called a docstring that can be used to provide information about certain parts of Python programs to the users."
   ]
  },
  {
   "cell_type": "markdown",
   "metadata": {},
   "source": [
    "## 2. Markdown text\n",
    "\n",
    "Markdown text is not a replacement for line or block comments in the code cells, but rather a place to provide a broader description of the code. Let's see an example of the use of a Markdown cell below under the heading \"Data source\"."
   ]
  },
  {
   "cell_type": "markdown",
   "metadata": {
    "editable": true,
    "slideshow": {
     "slide_type": ""
    },
    "tags": []
   },
   "source": [
    "#### Data source\n",
    "\n",
    "Data used in this example comprises observtion station:\n",
    "\n",
    "- names\n",
    "- locations\n",
    "- types\n",
    "- identification codes\n",
    "\n",
    "These data are sourced from the [Florida Automated Weather Network (FAWN)](https://fawn.ifas.ufl.edu/tour/location_info.php) that was created in 1997 with a legislative appropriation for the University of Florida Institute of Food and Agricultural Sciences (UF/IFAS).FAWN was created to assist growers in making decisions related primarily to crop and landscape irrigation, freeze protection, and chemical application.\n",
    "\n",
    "An example Python cell with select observation station names in South Florida is below. **NOTE**: These are only some of the observation stations in South Florida."
   ]
  },
  {
   "cell_type": "code",
   "execution_count": 8,
   "metadata": {},
   "outputs": [],
   "source": [
    "station_names = [\n",
    "    \"Homestead\",\n",
    "    \"Fort lauderdale\",\n",
    "    \"Immokalee\", \n",
    "]"
   ]
  },
  {
   "cell_type": "markdown",
   "metadata": {
    "editable": true,
    "slideshow": {
     "slide_type": ""
    },
    "tags": []
   },
   "source": [
    "In the example above, you clearly see the benefit of the Markdown cells for providing nicely formatted text to support the code block beneath it. We can also embed images and other features that make the Jupyter notebook document a powerful tool for studying and learning. We'll get more practice working with Markdown cells in the exercise for this week."
   ]
  }
 ],
 "metadata": {
  "kernelspec": {
   "display_name": "Python 3 (ipykernel)",
   "language": "python",
   "name": "python3"
  },
  "language_info": {
   "codemirror_mode": {
    "name": "ipython",
    "version": 3
   },
   "file_extension": ".py",
   "mimetype": "text/x-python",
   "name": "python",
   "nbconvert_exporter": "python",
   "pygments_lexer": "ipython3",
   "version": "3.11.0"
  }
 },
 "nbformat": 4,
 "nbformat_minor": 4
}