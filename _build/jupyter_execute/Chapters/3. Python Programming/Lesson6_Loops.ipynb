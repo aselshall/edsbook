{
 "cells": [
  {
   "cell_type": "markdown",
   "metadata": {},
   "source": [
    "# <h1 style=\"color:green; text-align:center;\">Lesson 6: Python Programming 1 - Loops </h1> \n",
    "\n",
    "This lesson is modified from [for-loops](https://geo-python-site.readthedocs.io/en/latest/notebooks/L3/for-loops.html) from [geo-python](https://geo-python-site.readthedocs.io/en/latest/index.html).\n",
    "\n",
    "[![Binder](https://mybinder.org/badge_logo.svg)](https://mybinder.org/v2/gh/aselshall/eds/HEAD)"
   ]
  },
  {
   "cell_type": "markdown",
   "metadata": {},
   "source": [
    "## Objectives\n",
    "By the end of this lesson, you will be able to\n",
    "- repeat tasks using `for` and `while` loops\n",
    "- iterate over all of the items in a list to perform calculation\n",
    "- use list and dictionary comprehensions to create a python list and python dictionary  (optional)"
   ]
  },
  {
   "cell_type": "markdown",
   "metadata": {},
   "source": [
    "## 1. Basics of for loops\n",
    "\n",
    "In our last lesson we covered lists in Python, one form of a collection of values that can be referenced (indexed) by a single variable. In this lesson we will learn how to use *loops*. Loops allow parts of code to be repeated some number of times, such as using a section of code to process each item in a list.\n",
    "\n",
    "![Looping through my day](https://geo-python-site.readthedocs.io/en/latest/_images/2009-11-03-Cats-Eye.gif)\n",
    "Source: https://www.bugmartini.com/comic/cats-eye/"
   ]
  },
  {
   "cell_type": "markdown",
   "metadata": {},
   "source": [
    "### 1.1 A (bad) example\n",
    "\n",
    "Let’s consider an example using the list below:"
   ]
  },
  {
   "cell_type": "code",
   "execution_count": 1,
   "metadata": {},
   "outputs": [],
   "source": [
    "time_slots = [\"7:00 AM\", \"7:13 AM\", \"3:00 PM\", \"3:10 PM\", \"4:30 PM\" , \"5:15 PM\", \"6:33 PM\"]\n",
    "daily_activities = [\"Wake up\", \"Nap\", \"Beg for food\", \"Doze\", \"Rest\", \"Sleep\", \"Act bat sh*t crazy for no good reason\"]"
   ]
  },
  {
   "cell_type": "markdown",
   "metadata": {},
   "source": [
    "Suppose we want to check each activity in our lists and for each item print something like this:\n",
    "```\n",
    "Output: At 7:00 am, I Wake Up\n",
    "```\n",
    "\n",
    "We could use the index value for each time and activity and do the following:"
   ]
  },
  {
   "cell_type": "code",
   "execution_count": 2,
   "metadata": {},
   "outputs": [
    {
     "name": "stdout",
     "output_type": "stream",
     "text": [
      "At 7:00 AM, I Wake up\n"
     ]
    }
   ],
   "source": [
    "print(f\"At {time_slots[0]}, I {daily_activities[0]}\")"
   ]
  },
  {
   "cell_type": "code",
   "execution_count": 3,
   "metadata": {},
   "outputs": [
    {
     "name": "stdout",
     "output_type": "stream",
     "text": [
      "At 7:13 AM, I Nap\n"
     ]
    }
   ],
   "source": [
    "print(f\"At {time_slots[1]}, I {daily_activities[1]}\")"
   ]
  },
  {
   "cell_type": "code",
   "execution_count": 4,
   "metadata": {},
   "outputs": [
    {
     "name": "stdout",
     "output_type": "stream",
     "text": [
      "At 3:00 PM, I Beg for food\n"
     ]
    }
   ],
   "source": [
    "print(f\"At {time_slots[2]}, I {daily_activities[2]}\")"
   ]
  },
  {
   "cell_type": "code",
   "execution_count": 5,
   "metadata": {},
   "outputs": [
    {
     "name": "stdout",
     "output_type": "stream",
     "text": [
      "At 3:10 PM, I Doze\n"
     ]
    }
   ],
   "source": [
    "print(f\"At {time_slots[3]}, I {daily_activities[3]}\")"
   ]
  },
  {
   "cell_type": "markdown",
   "metadata": {},
   "source": [
    "But this is a bad idea. Why? Well there are two reasons:\n",
    "\n",
    "1. It does not scale nicely for long lists; it will take forever to type in.\n",
    "2. It won’t work if the length of the list has fewer or more activies\n",
    "\n",
    "Here is an example of how it will not work with new lists."
   ]
  },
  {
   "cell_type": "code",
   "execution_count": 6,
   "metadata": {},
   "outputs": [],
   "source": [
    "time_slot2 = [\"7:00 AM\", \"7:13 AM\"]\n",
    "daily_activities2 = [\"Wake up\", \"Nap\"]"
   ]
  },
  {
   "cell_type": "code",
   "execution_count": 7,
   "metadata": {},
   "outputs": [
    {
     "name": "stdout",
     "output_type": "stream",
     "text": [
      "At 7:00 AM, I Wake up\n"
     ]
    }
   ],
   "source": [
    "print(f\"At {time_slot2[0]}, I {daily_activities2[0]}\")"
   ]
  },
  {
   "cell_type": "code",
   "execution_count": 8,
   "metadata": {},
   "outputs": [
    {
     "name": "stdout",
     "output_type": "stream",
     "text": [
      "At 7:13 AM, I Nap\n"
     ]
    }
   ],
   "source": [
    "print(f\"At {time_slot2[1]}, I {daily_activities2[1]}\")"
   ]
  },
  {
   "cell_type": "code",
   "execution_count": 9,
   "metadata": {},
   "outputs": [
    {
     "ename": "IndexError",
     "evalue": "list index out of range",
     "output_type": "error",
     "traceback": [
      "\u001b[1;31m---------------------------------------------------------------------------\u001b[0m",
      "\u001b[1;31mIndexError\u001b[0m                                Traceback (most recent call last)",
      "Cell \u001b[1;32mIn[9], line 1\u001b[0m\n\u001b[1;32m----> 1\u001b[0m \u001b[38;5;28mprint\u001b[39m(\u001b[38;5;124mf\u001b[39m\u001b[38;5;124m\"\u001b[39m\u001b[38;5;124mAt \u001b[39m\u001b[38;5;132;01m{\u001b[39;00m\u001b[43mtime_slot2\u001b[49m\u001b[43m[\u001b[49m\u001b[38;5;241;43m2\u001b[39;49m\u001b[43m]\u001b[49m\u001b[38;5;132;01m}\u001b[39;00m\u001b[38;5;124m, I \u001b[39m\u001b[38;5;132;01m{\u001b[39;00mdaily_activities2[\u001b[38;5;241m2\u001b[39m]\u001b[38;5;132;01m}\u001b[39;00m\u001b[38;5;124m\"\u001b[39m)\n",
      "\u001b[1;31mIndexError\u001b[0m: list index out of range"
     ]
    }
   ],
   "source": [
    "print(f\"At {time_slot2[2]}, I {daily_activities2[2]}\")"
   ]
  },
  {
   "cell_type": "markdown",
   "metadata": {},
   "source": [
    "Here we encounter an `IndexError` because we have tried to access a value outside the range of values in the updated `european_cities` list."
   ]
  },
  {
   "cell_type": "markdown",
   "metadata": {},
   "source": [
    "Would not it be easier if we just did this:"
   ]
  },
  {
   "cell_type": "code",
   "execution_count": null,
   "metadata": {},
   "outputs": [],
   "source": [
    "for time_slot, daily_activity in zip(time_slots, daily_activities):\n",
    "    print(f\"At {time_slot}, I {daily_activity}\")"
   ]
  },
  {
   "cell_type": "markdown",
   "metadata": {},
   "source": [
    "### 1.2 Introducing the for loop\n",
    "\n",
    "In such situations it is far more efficient to use a `for` loop. Let's see an example."
   ]
  },
  {
   "cell_type": "code",
   "execution_count": null,
   "metadata": {},
   "outputs": [],
   "source": [
    "florida_cities = [\"Fort Myers\", \"Cape Coral\", \"Lehigh Acres\", \"Estero\"]"
   ]
  },
  {
   "cell_type": "code",
   "execution_count": null,
   "metadata": {},
   "outputs": [],
   "source": [
    "for city in florida_cities:\n",
    "    print(city)"
   ]
  },
  {
   "cell_type": "markdown",
   "metadata": {},
   "source": [
    "Not only is this shorter than indexing through the list item by item, but it is also more flexible.\n",
    "  \n",
    "Try doing your first for loop to print out each city in this list."
   ]
  },
  {
   "cell_type": "code",
   "execution_count": null,
   "metadata": {},
   "outputs": [],
   "source": [
    "us_cities = [\n",
    "    \"Detroit\",\n",
    "    \"Chicago\",\n",
    "    \"Denver\",\n",
    "    \"Boston\",\n",
    "    \"Portland\",\n",
    "    \"San Francisco\",\n",
    "    \"Houston\",\n",
    "    \"Orlando\",\n",
    "]"
   ]
  },
  {
   "cell_type": "code",
   "execution_count": null,
   "metadata": {},
   "outputs": [],
   "source": []
  },
  {
   "cell_type": "markdown",
   "metadata": {},
   "source": [
    "### 1.3 for loop format"
   ]
  },
  {
   "cell_type": "markdown",
   "metadata": {},
   "source": [
    "The `for` loops in Python have the general form below.\n",
    "\n",
    "```python\n",
    "for variable in collection:\n",
    "    use the variable to do things\n",
    "```\n",
    "\n",
    "Let's break down the code above to see some essential aspects of `for` loops:\n",
    "\n",
    "1. The `variable` can be any name you like other than a [reserved keyword](https://docs.python.org/3/reference/lexical_analysis.html#keywords)\n",
    "2. The statement of the `for` loop must end with a `:`\n",
    "3. The code that should be executed as part of the loop must be indented beneath the `for` statement\n",
    "```\n",
    "The typical indentation is 4 spaces\n",
    "```   \n",
    "4. There is no additional special word needed to end the loop, you simply change the indentation back to normal.\n",
    "\n",
    "```{hint}\n",
    "`for` loops are useful to repeat some part of the code a *finite* number of times.\n",
    "```"
   ]
  },
  {
   "cell_type": "markdown",
   "metadata": {},
   "source": [
    "### 1.4 for loop variables\n",
    "\n",
    "Note that the variable used in a `for` loop is just a normal variable. Thus, its value still exists after the loop has been run. Let's loop over the list of weather conditions below and print them to the screen. If you use `weather` for the loop variable, what is its value after the `for` loop has completed?\n",
    "   \n",
    "For this list below, write a for loop that prints each weather condition in the list.   \n",
    "After the loop, print the variable name `weather` in a new cell."
   ]
  },
  {
   "cell_type": "code",
   "execution_count": null,
   "metadata": {},
   "outputs": [],
   "source": [
    "weather_conditions = [\n",
    "    \"rain\",\n",
    "    \"sleet\",\n",
    "    \"snow\",\n",
    "    \"freezing fog\",\n",
    "    \"sunny\",\n",
    "    \"cloudy\",\n",
    "    \"ice pellets\",\n",
    "]"
   ]
  },
  {
   "cell_type": "code",
   "execution_count": null,
   "metadata": {},
   "outputs": [],
   "source": []
  },
  {
   "cell_type": "code",
   "execution_count": null,
   "metadata": {},
   "outputs": [],
   "source": []
  },
  {
   "cell_type": "markdown",
   "metadata": {},
   "source": [
    "### 1.5 for loops and the range() function\n",
    "\n",
    "A loop can be used to iterate over any collection of values in Python. So far we have considered only iterating over lists, but we could also write a loop that performs a calculation a specified number of times by using the `range()` function. \n",
    "  \n",
    "Use the `range()` function to create a list  using `list(range())` or `[*range()]`.  Here is how to do it to create, for example, this list \"[0, 1, 2, 4]\""
   ]
  },
  {
   "cell_type": "code",
   "execution_count": null,
   "metadata": {},
   "outputs": [],
   "source": []
  },
  {
   "cell_type": "code",
   "execution_count": null,
   "metadata": {},
   "outputs": [],
   "source": []
  },
  {
   "cell_type": "markdown",
   "metadata": {},
   "source": [
    "In this case, we used a special function called `range()` to give us a list of 5 numbers `[0, 1, 2, 3, 4]`. When given an integer (whole number) as an argument, `range(number)` will produce a list of numbers with a length equal to the specified `number`.\n",
    "The list starts at `0` and ends with `number - 1`.\n",
    "```note\n",
    "In case you are wondering about the syntax `[* range()]`, asterisk `*` is used for unpacking elements from iterables like lists, tuples, or other iterable objects.\n",
    "```\n",
    "You can learn a bit more about range by typing `range?` or `help(range)` ?"
   ]
  },
  {
   "cell_type": "code",
   "execution_count": null,
   "metadata": {},
   "outputs": [],
   "source": []
  },
  {
   "cell_type": "markdown",
   "metadata": {},
   "source": [
    "Let's consider an example where we use a for loop with `value` as the loop variable and `range(5)` as the collection. What happens when you print `value` at each iteration?"
   ]
  },
  {
   "cell_type": "code",
   "execution_count": null,
   "metadata": {},
   "outputs": [],
   "source": []
  },
  {
   "cell_type": "markdown",
   "metadata": {},
   "source": [
    "#### Check your understanding\n",
    "\n",
    "The program below will print numbers to the screen using the `range()` function.\n",
    "\n",
    "```python\n",
    "for i in range(...):\n",
    "    print(i)\n",
    "```\n",
    "\n",
    "Using the documentation that is produced when you run `help(range)`, what values would you replace the `...` in the parentheses of the `range()` function with to have the following output printed to the screen?\n",
    "\n",
    "```python\n",
    "2\n",
    "5\n",
    "8\n",
    "```\n",
    "\n",
    "You can test your solution in the cell below"
   ]
  },
  {
   "cell_type": "code",
   "execution_count": null,
   "metadata": {
    "tags": [
     "hide-cell"
    ]
   },
   "outputs": [],
   "source": [
    "# Here's one possible solution\n"
   ]
  },
  {
   "cell_type": "markdown",
   "metadata": {},
   "source": [
    "### 1.6 Looping over the length of lists using index values\n",
    "\n",
    "Since we already know how to find the length of a list using the `len()` function, we can now take advantage of this knowledge to make our `for` loops more flexible. Let's start by doing something we have done earlier, printing out city names using a `for` loop. However, this time we will also use the `range()` function to print the cities."
   ]
  },
  {
   "cell_type": "markdown",
   "metadata": {},
   "source": [
    "#### 1.6.1 How to use index values to loop over a list?\n",
    "Since we already know how to find the length of a list using the `len()` function, we can now take advantage of this knowledge to make our `for` loops more flexible. Let's start by doing something we have done earlier, printing out city names using a `for` loop. However, this time we will also use the `range()` function to print the cities."
   ]
  },
  {
   "cell_type": "code",
   "execution_count": null,
   "metadata": {},
   "outputs": [],
   "source": [
    "african_cities = [\"Dakar\", \"Addis Ababa\", \"Nairobi\", \"Cairo\", \"Rabat\", \"Kampala\"]"
   ]
  },
  {
   "cell_type": "code",
   "execution_count": null,
   "metadata": {},
   "outputs": [],
   "source": [
    "for idx in range(len(african_cities)):\n",
    "    print(f\"{african_cities[idx]} is at index {idx} in the list.\")"
   ]
  },
  {
   "cell_type": "markdown",
   "metadata": {},
   "source": [
    "Let's see what is different now:\n",
    "\n",
    "1. You can see that because we are using the `range()` function, the value assigned to the loop variable `idx` starts with `0` and increases by `1` each time through the loop. \n",
    "2. In order to access individual cities in the `african_cities` list, we need to include the index value (e.g., `african_cities[idx]`. Here, the variable `idx` will be replaced by the current value assigned from the `range()` function.\n",
    "\n",
    "```{note}\n",
    "While the variable `i` is commonly used to denote the index variable in loops, a good coding practice often involves using meaningful and descriptive variable names to enhance code readability.  For example, if you are iterating over elements in an array representing a number of items, you might use `itemIdx` or `idx` instead of `i`. If you are working with matrices, you could use `rowIdx` and `colIdx` instead of `i` and `j`. For nested loops, consider using more descriptive names like `outerIdx` and `innerIdx`.\n",
    "\n",
    "```"
   ]
  },
  {
   "cell_type": "markdown",
   "metadata": {},
   "source": [
    "#### 1.6.2 Why use index values to loop over a list?\n",
    "\n",
    "Good question. There are two common case where you might need to loop using index values:\n",
    "\n",
    "1. If you want to update individual values in a list you're likely going to need a loop that includes the index values. There are functions such as `enumerate()` as shown below that can help, but their use can be somewhat confusing for new programmers.\n",
    "2. In cases where you have multiple lists that are related to one another, it can be handy to use a loop with the index values to be able to access corresponding locations in each list. For this, let's consider an example with the two lists below."
   ]
  },
  {
   "cell_type": "markdown",
   "metadata": {},
   "source": [
    "##### Check your understanding\n",
    "\n",
    "What output would the following program produce?\n",
    "\n",
    "```python\n",
    "odd_numbers = [1, 3, 5, 7, 9]\n",
    "even_numbers = [10, 4, 6, 8, 2]\n",
    "for idx in range(len(odd_numbers)):\n",
    "    print(odd_numbers[idx]*3 + even_numbers[idx]*5)\n",
    "```\n",
    "\n",
    "Try to think about the loop without running the code"
   ]
  },
  {
   "cell_type": "code",
   "execution_count": null,
   "metadata": {
    "tags": [
     "hide-cell"
    ]
   },
   "outputs": [],
   "source": [
    "# Here's the solution\n"
   ]
  },
  {
   "cell_type": "markdown",
   "metadata": {},
   "source": [
    "Try to do this one. As you can see we have 5 cities and 5 corresponding counties. Print out each pair using a single for loop and print the output to screer to look like this \n",
    "```\n",
    "Washington D.C. is the capital of USA\n",
    "```\n",
    "for each city."
   ]
  },
  {
   "cell_type": "code",
   "execution_count": null,
   "metadata": {},
   "outputs": [],
   "source": [
    "cities = [\"Washington D.C.\", \"Berlin\", \"Cairo\", \"Sydney\", \"Kathmandu\"]\n",
    "countries = [\"USA\", \"Germany\", \"Egypt\", \"Australia\", \"Nepal\"]"
   ]
  },
  {
   "cell_type": "code",
   "execution_count": null,
   "metadata": {},
   "outputs": [],
   "source": []
  },
  {
   "cell_type": "markdown",
   "metadata": {},
   "source": [
    "Cool. So as you can see, the index `idx` is used in this case to access each item in the two lists of cities and countries and allow us to print out the city/country pairs. We'll get more practice with this kind of thing in the exercises for this week.\n",
    "\n",
    "```{note}\n",
    "In the example above, we used the length of the list `cities` or `countries` in the `range()` function since both lists are the same length.\n",
    "```"
   ]
  },
  {
   "cell_type": "markdown",
   "metadata": {},
   "source": [
    "### 1.7 Loop with `zip` - no idexing required"
   ]
  },
  {
   "cell_type": "markdown",
   "metadata": {},
   "source": [
    "You can use `zip` function to iterate over multiple lists simultaneously, something like this\n",
    "```python\n",
    "for variable1, variable2 in zip(list1, list2):\n",
    "    use variable1, variable2 to do something\n",
    "```\n",
    "Try the above sample using `zip` instead of indexing."
   ]
  },
  {
   "cell_type": "code",
   "execution_count": null,
   "metadata": {},
   "outputs": [],
   "source": [
    "cities = [\"Washington D.C.\", \"Berlin\", \"Cairo\", \"Sydney\", \"Kathmandu\"]\n",
    "countries = [\"USA\", \"Germany\", \"Egypt\", \"Australia\", \"Nepal\"]"
   ]
  },
  {
   "cell_type": "code",
   "execution_count": null,
   "metadata": {},
   "outputs": [],
   "source": []
  },
  {
   "cell_type": "markdown",
   "metadata": {},
   "source": [
    "In that case `zip` is pairing corresponding elements from `cities` and `countries`, and you can iterate over these pairs in the for loop. Using `zip` is more pythonic. Using indexing is more like MATLAB."
   ]
  },
  {
   "cell_type": "markdown",
   "metadata": {
    "jp-MarkdownHeadingCollapsed": true
   },
   "source": [
    "### 1.8 Looping over the length of list using `enumerate()` (*advanced topic*)\n",
    "If you want to use python as python (not as MATLAB) instead of using `range(len())` use the `enumerate()` function. Here we do the above example but with `enumerate()` instead of `range(len())`. "
   ]
  },
  {
   "cell_type": "markdown",
   "metadata": {},
   "source": [
    "#### 1.8.1 Understanding `enumerate()` step-by-step\n",
    "Before we use `enumerate()` let use first understand what it does with this example"
   ]
  },
  {
   "cell_type": "code",
   "execution_count": null,
   "metadata": {},
   "outputs": [],
   "source": [
    "african_cities = [\"Dakar\", \"Addis Ababa\", \"Nairobi\", \"Cairo\", \"Rabat\", \"Kampala\"]\n",
    "for object in enumerate(african_cities):\n",
    "    print(object)\n",
    "    print(f\"{african_cities[object[0]]} is at index {object[1]} in the list.\")"
   ]
  },
  {
   "cell_type": "markdown",
   "metadata": {},
   "source": [
    "In case you are wondering, the above object is a `tuple`, which is a data strcuture similar to `list`, that is defined using parentheses, and can contain elements of different data types. Other data strctures in python include `dict` and `set`. Check [Chapter 3. Built-In Data Structures, Functions, and Files](https://wesmckinney.com/book/python-builtin) in your textbook if you want to learn more about data strctures in python.\n"
   ]
  },
  {
   "cell_type": "markdown",
   "metadata": {},
   "source": [
    "#### 1.8.2 How to use `enumerate()` to loop over a list?"
   ]
  },
  {
   "cell_type": "markdown",
   "metadata": {},
   "source": [
    "The above example is still more or less like how you will do it in MATLAB, but to do this in python style:"
   ]
  },
  {
   "cell_type": "code",
   "execution_count": null,
   "metadata": {},
   "outputs": [],
   "source": [
    "african_cities = [\"Dakar\", \"Addis Ababa\", \"Nairobi\", \"Cairo\", \"Rabat\", \"Kampala\"]\n",
    "for idx,city in enumerate(african_cities):\n",
    "    print(f\"{idx} is at index {city} in the list.\")"
   ]
  },
  {
   "cell_type": "markdown",
   "metadata": {},
   "source": [
    "Much simpler than MATLAB style as shown in  [Section 1.6](#1.6-Looping-over-the-length-of-lists-using-index-values). But it might take you sometime to migrate from coding the MATLAB way to the python way."
   ]
  },
  {
   "cell_type": "markdown",
   "metadata": {
    "jp-MarkdownHeadingCollapsed": true
   },
   "source": [
    "### 1.9 Using list and dictionary comprehensions (*advanced topic*)\n",
    "Comprehensions in python provide a concise and efficient way to create lists and dictionaries. They are particularly useful when dealing with large datasets. "
   ]
  },
  {
   "cell_type": "markdown",
   "metadata": {},
   "source": [
    "#### 1.9.1 The syntax and concept of list comprehensions\n",
    "A list comprehension consists of brackets containing an expression followed by a for clause, then zero or more for or if clauses. The result will be a new list resulting from evaluating the expression in the context of the for and if clauses which follow it.\n",
    "```python\n",
    "[expression for item in list if condition]\n",
    "```\n",
    "Example, let us create a list of 5 positive  integers and call it `list1`"
   ]
  },
  {
   "cell_type": "code",
   "execution_count": null,
   "metadata": {},
   "outputs": [],
   "source": [
    "list1=[value for value in range(1,6)]\n",
    "print(list1)"
   ]
  },
  {
   "cell_type": "markdown",
   "metadata": {},
   "source": [
    "let us create this list [2, 4, 6, 8] by at least three different ways"
   ]
  },
  {
   "cell_type": "code",
   "execution_count": null,
   "metadata": {},
   "outputs": [],
   "source": [
    "print([value*2 for value in range(1,5)])\n",
    "print([value for value in range(2,10,2)])\n",
    "print([value for value in range(2,10,2) if value % 2 == 0])  "
   ]
  },
  {
   "cell_type": "markdown",
   "metadata": {},
   "source": [
    "You are familiar with the first two methods. I am adding the third method to make you curious. We will learn the if condition in the next lesson. But you are probably wondering what is this `%` ? The `%` operator in python is the modulus operator. It returns the remainder when the left operand is divided by the right operand. In the context of `if value % 2 == 0`, it is checking if the variable `value` is even. Here is the breakdown: `value % 2` calculates the remainder when `value` is divided by 2, and `value % 2 == 0` checks if the remainder is equal to 0, which means that `value` is divisible evenly by 2.  So, `if value % 2 == 0` is a common way to test for even numbers.\n"
   ]
  },
  {
   "cell_type": "markdown",
   "metadata": {},
   "source": [
    "#### Test your understanding\n",
    "Use list comprehension to convert a list of temperatures in Celsius to Fahrenheit.  \n",
    "```\n",
    "fahrenheit_temp = (celsius_temp * 9/5) + 32\n",
    "```\n",
    "remember here is the formula\n",
    "```python\n",
    "[expression for item in iterable]\n",
    "```\n",
    "To think about this: Identify your expression, item, and iterable"
   ]
  },
  {
   "cell_type": "code",
   "execution_count": null,
   "metadata": {},
   "outputs": [],
   "source": [
    "celsius_temperatures = [-50, -40, -30, -20, -10, 0, 5, 10, 15, 20, 25, 30, 35, 40, 40, 45, 50, 56.7]\n",
    "\n",
    "fahrenheit_temperatures= [(celsius_temperature * 9/5) + 32 for celsius_temperature in celsius_temperatures]\n",
    "print(fahrenheit_temperatures)"
   ]
  },
  {
   "cell_type": "markdown",
   "metadata": {},
   "source": [
    "Note that 134°F (56.7°C), which was recorded in Death Valley, California on July 10, 1913, is the highest recorded temperature on Earth. The lowest temperature ever recorded in Florida is -2°F, which was recorded in Tallahassee on February 13, 1899."
   ]
  },
  {
   "cell_type": "markdown",
   "metadata": {},
   "source": [
    "#### 1.9.2 Dictionary Comprehensions\n",
    "A concept similar to list comprehensions, is dictionary comprehensions that allow you to create dictionaries in a single, readable line."
   ]
  },
  {
   "cell_type": "markdown",
   "metadata": {},
   "source": [
    "Before we learn how to do this, what is a python dictionary ? We learned about the `list` data structure (e.g., `mylist=[1,2,3]`). Python dictionary `dic` is another python data structure that stores key-value pairs. Each key in the dictionary must be unique, and it is associated with a corresponding value. Dictionaries are defined within braces `{}` with each item being a pair in the form `key: value`. \n",
    "\n",
    "Here's a brief example of a Python dictionary:"
   ]
  },
  {
   "cell_type": "code",
   "execution_count": null,
   "metadata": {},
   "outputs": [],
   "source": [
    "# Creating a dictionary\n",
    "city_data = {\n",
    "    'city': 'Fort Myers',\n",
    "    'temperature': 40.5,\n",
    "    'humidity': 60,\n",
    "    'air_quality': 'good'\n",
    "}\n",
    "\n",
    "# Accessing values using keys\n",
    "print(\"City:\", city_data['city'])\n",
    "print(\"Temperature:\", city_data['temperature'])\n",
    "print(\"Humidity:\", city_data['humidity'])\n",
    "print(\"Air Quality:\", city_data['air_quality'])"
   ]
  },
  {
   "cell_type": "markdown",
   "metadata": {},
   "source": [
    "So dictionary is another form of storing data in python like a list. In the above example, we created the dictionary `city_data` manually. Now hwo to create a dictionary with dictionary comprehensions? \n",
    "Here is one syntax\n",
    "```python\n",
    "{key: value for key, value in zip(keys,values)}\n",
    "```\n",
    "Try it out with the following example:"
   ]
  },
  {
   "cell_type": "code",
   "execution_count": null,
   "metadata": {},
   "outputs": [],
   "source": [
    "# Key parameters and corresponding values for a location\n",
    "parameters = ['City', 'Temperature', 'Humidity', 'Air Quality']\n",
    "values = ['Fort Myers', '40.5', '60','good']\n",
    "\n",
    "# Create a dictionary mapping each parameter to its value\n",
    "city_data={parameter : value for parameter, value in zip(parameters, values)}\n",
    "print(city_data)"
   ]
  },
  {
   "cell_type": "markdown",
   "metadata": {},
   "source": [
    "You can also create a dictionary from lists. Here is an example:"
   ]
  },
  {
   "cell_type": "code",
   "execution_count": null,
   "metadata": {},
   "outputs": [],
   "source": [
    "#Multiple lists \n",
    "models=['A', 'B', 'C', 'D']\n",
    "launched=[1983,1984,1984,1984]\n",
    "discontinued=[1986, 1985, 1984, 1986]\n",
    "\n",
    "#Dictionary with list comprehension (the easy way flowing the syntax above)\n",
    "keys=['models','launched', 'discontinued']\n",
    "values=[models, launched, discontinued]\n",
    "data1 = {key: value for key, value in zip(keys,values)}\n",
    "\n",
    "#Dictionary with list comprehension (another way of doing it)\n",
    "data2 = {key:values[idx] for idx, key in enumerate(keys)}\n",
    "\n",
    "#Printing some outputs\n",
    "print(data1['models'][0])\n",
    "print(data1['models'])\n",
    "print(data1)\n",
    "print(data2)"
   ]
  },
  {
   "cell_type": "markdown",
   "metadata": {},
   "source": [
    "#### 1.9.3 Challaning problem\n",
    "This is a challanging problem where you can apply what you have learned in Lesson 4 about the method `list.count()`, list comprehesions, and diconary comprehesions. You need to apply these three tools to solve this problem. \n",
    "\n",
    "Suppose you have a dataset that includes species names and their counts"
   ]
  },
  {
   "cell_type": "code",
   "execution_count": null,
   "metadata": {},
   "outputs": [],
   "source": [
    "species = ['Oak', 'Pine', 'Birch', 'Oak', 'Pine', 'Oak']"
   ]
  },
  {
   "cell_type": "markdown",
   "metadata": {},
   "source": [
    "How can you count each species and produce a dictionary showning each species with its corresponding count as follows:\n",
    "```python\n",
    "Output: {'Oak': 3, 'Pine': 2, 'Birch': 1}\n",
    "```\n",
    "This is not an easy puzzle, but you already have a clue about the three tools that you can use. Start by remembering what `list.count()` can do. "
   ]
  },
  {
   "cell_type": "code",
   "execution_count": null,
   "metadata": {},
   "outputs": [],
   "source": [
    "species = ['Oak', 'Pine', 'Birch', 'Oak', 'Pine', 'Oak']\n",
    "species.count('Oak')"
   ]
  },
  {
   "cell_type": "markdown",
   "metadata": {},
   "source": [
    "Can I loop over the list `species` can keep counting. Something like this\n",
    "```python\n",
    "[expression for item in list]\n",
    "```\n",
    "In that case my expression will be the counting."
   ]
  },
  {
   "cell_type": "code",
   "execution_count": null,
   "metadata": {},
   "outputs": [],
   "source": [
    "species = ['Oak', 'Pine', 'Birch', 'Oak', 'Pine', 'Oak']\n",
    "counts = [species.count(name) for name in species]\n",
    "print(counts)"
   ]
  },
  {
   "cell_type": "markdown",
   "metadata": {},
   "source": [
    "Now remeber each key in the dictionary must be unique, so if we created a dictionary using the two lists that we have that are `species` and `counts`, we will get what we want. Here is the dictionary syntax again\n",
    "```python\n",
    "{key: value for key, value in zip(keys,values}\n",
    "```\n",
    "Apply this syntax with the two lists that you have, to create an new dictionary `species_dict`"
   ]
  },
  {
   "cell_type": "code",
   "execution_count": null,
   "metadata": {},
   "outputs": [],
   "source": [
    "species_dict = {name: count for name, count in zip(species, counts)}\n",
    "print(species_dict)"
   ]
  },
  {
   "cell_type": "markdown",
   "metadata": {},
   "source": [
    "If you can understand that much, this means that you have a very good command of python.\n",
    "\n",
    "So far you have learned how to use list and dictionary comprehensions to create lists and dictionaries efficiently. These techniques are valuable for handling and processing large datasets, allowing us to perform data transformations and analysis."
   ]
  },
  {
   "cell_type": "markdown",
   "metadata": {},
   "source": [
    "### 1.10 Using for-loop to apply a mathematical formula to a list\n",
    "We will do this later more effectively with the numpy library similar to MATLAB. Here we will use for-loops to perform calculations on elements of a list and store the results in a new list. We will see this with both explicit for-loop and implicit for-loop (i.e., list comprehensions)."
   ]
  },
  {
   "cell_type": "markdown",
   "metadata": {
    "jp-MarkdownHeadingCollapsed": true
   },
   "source": [
    "#### 1.10.1 Using explicit for-loop\n",
    "We want to create a new list `new_list` based on values from another list `existing_list` and a formula. To do this:\n",
    "- create new empty list `new_list = []`\n",
    "- use for-loop to calculate formula element by element \n",
    "- append `new_list` with the calculated value using append method   \n",
    "  \n",
    "For example, apply the formua `y= x * 3` to each element in this list \n",
    "```python\n",
    "existing_list=[2, 4, 6, 8]\n",
    "```\n",
    "such the the output will be \n",
    "```python\n",
    "output: new_list=[6, 12, 18, 24]\n",
    "```\n",
    "Here is how to do this.`\n"
   ]
  },
  {
   "cell_type": "code",
   "execution_count": null,
   "metadata": {},
   "outputs": [],
   "source": [
    "#One list\n",
    "existing_list=[2, 4, 6, 8]\n",
    "\n",
    "#Create new empty list \"new_list\"\n",
    "new_list = []\n",
    "\n",
    "#for loop to apply formula y= x* 3 to the existing list element by element and save output to the new list\n",
    "for value in existing_list:\n",
    "    new_list.append(value*3)    #append list with calculated value\n",
    "\n",
    "#Print new list\n",
    "print(new_list)"
   ]
  },
  {
   "cell_type": "markdown",
   "metadata": {},
   "source": [
    "#### 1.10.2 Using list comprehension (advanced topic)\n",
    "List comprehension can achieve the same result without explicitly writing a loop. Here is the syntax again\n",
    "```python\n",
    "new_list=[expression for item in existing_list]\n",
    "```\n",
    "  \n",
    "Here's how you can do it:"
   ]
  },
  {
   "cell_type": "code",
   "execution_count": null,
   "metadata": {},
   "outputs": [],
   "source": [
    "#One list\n",
    "existing_list=[2, 4, 6, 8]\n",
    "\n",
    "# Apply formula y= x * 3  using list comprehension\n",
    "new_list = [value*3 for value in existing_list]\n",
    "\n",
    "# Print new list \n",
    "print(new_list)"
   ]
  },
  {
   "cell_type": "markdown",
   "metadata": {},
   "source": [
    "This code does exactly the same thing as the previous one, but it does so in a more concise way by using a list comprehension instead of a for loop."
   ]
  },
  {
   "cell_type": "markdown",
   "metadata": {},
   "source": [
    "## 1.11 For loop with unpacking\n",
    "\n",
    "How can you loop through a nested list that has four sublists.\n",
    "```python\n",
    "list_of_lists=[\n",
    "          [10, 100, 1000],\n",
    "          [20, 200, 2000],\n",
    "          [40, 500, 6000],\n",
    "          [50, 500, 5000],\n",
    "]\n",
    "```\n",
    "You have many opitions. You can do indexing, or unpacking for the sublist.\n",
    "\n",
    "For example, add the three numbers in each of the above four sublists. "
   ]
  },
  {
   "cell_type": "code",
   "execution_count": 5,
   "metadata": {},
   "outputs": [],
   "source": [
    "list_of_lists=[\n",
    "          [10, 100, 1000],\n",
    "          [20, 200, 2000],\n",
    "          [40, 400, 4000],\n",
    "          [50, 500, 5000],\n",
    "]"
   ]
  },
  {
   "cell_type": "markdown",
   "metadata": {},
   "source": [
    "This is the indexing method (the MATLAB way)"
   ]
  },
  {
   "cell_type": "code",
   "execution_count": 7,
   "metadata": {},
   "outputs": [
    {
     "name": "stdout",
     "output_type": "stream",
     "text": [
      "1110\n",
      "2220\n",
      "4440\n",
      "5550\n"
     ]
    }
   ],
   "source": [
    "for sublist in list_of_lists:\n",
    "    sum= sublist[0]+ sublist[1]+ sublist[2]\n",
    "    print(sum)"
   ]
  },
  {
   "cell_type": "markdown",
   "metadata": {},
   "source": [
    "This is the unpacking method"
   ]
  },
  {
   "cell_type": "code",
   "execution_count": 8,
   "metadata": {},
   "outputs": [
    {
     "name": "stdout",
     "output_type": "stream",
     "text": [
      "1110\n",
      "2220\n",
      "4440\n",
      "5550\n"
     ]
    }
   ],
   "source": [
    "for sublist in list_of_lists:\n",
    "    num1, num2, num3 = sublist\n",
    "    sum= num1 + num2 + num3\n",
    "    print(sum)"
   ]
  },
  {
   "cell_type": "markdown",
   "metadata": {},
   "source": [
    "Unpacking, more concisely "
   ]
  },
  {
   "cell_type": "code",
   "execution_count": 9,
   "metadata": {},
   "outputs": [
    {
     "name": "stdout",
     "output_type": "stream",
     "text": [
      "1110\n",
      "2220\n",
      "4440\n",
      "5550\n"
     ]
    }
   ],
   "source": [
    "for num1,num2,num3 in list_of_lists:\n",
    "    sum= num1 + num2 + num3\n",
    "    print(sum)"
   ]
  },
  {
   "cell_type": "markdown",
   "metadata": {},
   "source": [
    "You can also do a nested loop that is a loop inside a loop, but that should be your last resort, when no other approach can solve your problem."
   ]
  },
  {
   "cell_type": "markdown",
   "metadata": {},
   "source": [
    "## 2. Intorduction to while loop\n",
    "Control structures in python are loops (i.e, for-loop and while-loop) and conditional statements (next lesson).  While [for loop](https://docs.python.org/3/reference/compound_stmts.html#for) loops a collection of values, [while loop](https://docs.python.org/3/reference/compound_stmts.html#while) loops until some condition is met. Here is a simple example."
   ]
  },
  {
   "cell_type": "code",
   "execution_count": null,
   "metadata": {},
   "outputs": [],
   "source": [
    "x = 0\n",
    "while x < 5:\n",
    "    print('x is ', x)\n",
    "    x = x+2"
   ]
  },
  {
   "cell_type": "markdown",
   "metadata": {},
   "source": [
    "Note: In Python, incrementing the value of x by 2, you will see the syntax `x += 2` used more often than `x = x+2` as shown above. The reason for using `+=` is not just brevity, but it can also saves some memory, making the code slightly more efficient. Let us rewrite the above code to be more pythonic "
   ]
  },
  {
   "cell_type": "code",
   "execution_count": null,
   "metadata": {},
   "outputs": [],
   "source": [
    "x = 0\n",
    "while x < 5:\n",
    "    print('x is ', x)\n",
    "    x += 2"
   ]
  },
  {
   "cell_type": "markdown",
   "metadata": {},
   "source": [
    "## References\n",
    "- [for-loops](https://geo-python-site.readthedocs.io/en/latest/notebooks/L3/for-loops.html) by Geo-python\n",
    "- [Intorduction to Python](https://aaltoscicomp.github.io/python-for-scicomp/python/) by Python for Scientific Computing\n",
    "- [1.2 The Python language](https://lectures.scientific-python.org/intro/language/python_language.html) by Scientific Python Lectures\n",
    "- [3  Built-In Data Structures, Functions, and Files](https://wesmckinney.com/book/python-builtin) in Python for Data Analysis, 3rd edition\n",
    "\n"
   ]
  }
 ],
 "metadata": {
  "kernelspec": {
   "display_name": "Python 3 (ipykernel)",
   "language": "python",
   "name": "python3"
  },
  "language_info": {
   "codemirror_mode": {
    "name": "ipython",
    "version": 3
   },
   "file_extension": ".py",
   "mimetype": "text/x-python",
   "name": "python",
   "nbconvert_exporter": "python",
   "pygments_lexer": "ipython3",
   "version": "3.11.0"
  }
 },
 "nbformat": 4,
 "nbformat_minor": 4
}