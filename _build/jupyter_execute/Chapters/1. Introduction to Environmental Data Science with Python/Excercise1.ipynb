{
 "cells": [
  {
   "cell_type": "markdown",
   "id": "3a6e4e48",
   "metadata": {},
   "source": [
    "# Installing Python and JupyterLab\n",
    "[https://aselshall.github.io/eds/L/L1/installing_python](https://aselshall.github.io/eds/L/L1/installing_python)"
   ]
  },
  {
   "cell_type": "markdown",
   "id": "b46808a0",
   "metadata": {},
   "source": [
    "## Overview\n",
    "In this course we will use Python with [Jupyterlab](https://jupyter.org/), which is an open-source interactive development environment (IDE) that facilitates data science and scientific computing in Python through a web-based interface.\n",
    "\n",
    "You can install Python using different methods:\n",
    "- Anaconda (*not very much recommended*):\n",
    "  Installing Python using [anaconda](https://docs.anaconda.com/free/anaconda/install/index.html) provides a streamlined and comprehensive approach, bundling not only Python but also popular data science libraries and tools. [This video](https://youtu.be/ozTSqhU9Hek?si=cGzNRATmPOPsoLCg) for example shows how to install Python with Anaconda, the different tools that Anaconda provides, how to create a shortcut for jupyterl lab, and how to get started.\n",
    "  - Pros: It simplifies the setup process, ensuring compatibility among packages.\n",
    "  - Cons: Too much time and too much space needed and you will get a lot of tools that you will not use for this course\n",
    "- Miniconda (*recommended*):\n",
    "  - Pros: Light weight version of Anaconda\n",
    "  - Cons: You would need to do few extra steps as shown in this tutorial\n",
    "- Installing Python manually (*not recommended*):\n",
    "  - Pros: Allows for more control over specific versions\n",
    "  - Cons: Requires much additional effort in managing dependencies and configurations\n",
    "- FGCU AppsAnywhere (*not recommended*):\n",
    "  If you cannot install Python on your machine, [FGCU appsanywhere](https://www.fgcu.edu/its/appsanywhere/) has Anaconda.\n",
    "  - Pros: You do not need to install anything and you can use Jupyterlab on the cloud\n",
    "  - Cons: Many features such as adding Jupyterlab extensions will be disabled; old version of Python 3.8x; can create sync issues with OneDrive.\n",
    "\n",
    "This tutorial shows you how to:\n",
    "- install Miniconda that will install Python for you\n",
    "- use Miniconda to install JupyterLab\n",
    "- create a JupyterLab shortcut"
   ]
  },
  {
   "cell_type": "markdown",
   "id": "5f967c1c",
   "metadata": {},
   "source": [
    "## Installing Python and JupyterLab\n",
    "\n",
    "### 1. Install Python with Miniconda\n",
    "\n",
    "You can easily install Python through Minoconda from [Minconda webpage](https://docs.conda.io/projects/miniconda/en/latest/miniconda-install.html). You can find more information at [GeoPython - Installing Python](https://geo-Python-site.readthedocs.io/en/latest/course-info/installing-miniconda.html).\n",
    "\n",
    "After the installation is complete, from Windows Start Menu, open Anaconda Prompt (Miniconda3) and type:\n",
    "```code\n",
    "python --version\n",
    "```\n",
    "This will return to you the Python version that you have installed (e.g., Python 3.11.5).\n",
    "\n",
    "**Note:** Make sure you that you have a 64-bit system. If you do not know: Use the search icon near \"Start Menu\" and search for \"About\" that will take you to \"Settings\": \"About\" where you can know if you have a 32-bit or 64-bit processor."
   ]
  },
  {
   "cell_type": "markdown",
   "id": "20479cf5",
   "metadata": {},
   "source": [
    "### 2. Install and run JupyterLab\n",
    "You do not want to use Python in a back screen, so you need to install a graphical user interface (GUI). For programming languages, a GUI is called an interactive development environment (IDE). The IDE that we will use for this course is [JupyterLab](https://jupyter.org/), which is an open-source IDE for Python, Julia, R, MATLAB/Octave, and a few other programming languages.\n",
    "\n",
    "In Python, we generally use `pip` or `conda` for installation. For JupyterLab installation details you can check the [JupyterLab documentation](https://jupyter.org/install), or follow these steps:\n",
    "\n",
    "Open your Anaconda Prompt (Miniconda3) from the Windows Start menu and install JupyterLab with pip by running this command:\n",
    "```code\n",
    "pip install jupyterlab\n",
    "```\n",
    "Alternatively, you can install JupyterLab with conda with conda-forge channel by running this command:\n",
    "```code\n",
    "conda install -c conda-forge jupyterlab\n",
    "```\n",
    "\n",
    "Once installed, launch JupyterLab with:\n",
    "```code\n",
    "jupyter lab\n",
    "```"
   ]
  },
  {
   "cell_type": "markdown",
   "id": "0175454f",
   "metadata": {},
   "source": [
    "### 3. Create JupyterLab shortcut\n",
    "Each time you use JupyterLab, you do not want to open an Anaconda Prompt (Miniconda3) and type `jupyter lab`, so you can create a shortcut to automatically launch JupyterLab. Here are the steps:\n",
    "\n",
    "**Create Anaconda Prompt Shortcut:** Drag Anaconda Prompt (Miniconda3) from Start Menu to Desktop, which will create an Anaconda Prompt (Miniconda3) shortcut. You can check that by clicking on it and then typing `jupyter lab` which will launch JupyterLab.\n",
    "\n",
    "**Customize Anaconda Prompt Shortcut:** To customize the shortcut to launch JupyterLab automatically, right click on your shortcut and select \"Properties\". Then at the end of the \"Target\" cell type:\n",
    "```code\n",
    "& jupyter lab && exit\n",
    "```\n",
    "At my machine the content of the \"Target\" cell now looks something like this:\n",
    "```\n",
    "%windir%\\System32\\cmd.exe \"/K\" C:\\Users\\username\\AppData\\Local\\miniconda3\\Scripts\\activate.bat C:\\Users\\username\\AppData\\Local\\miniconda3 & jupyter lab && exit\n",
    "```\n",
    "If this is unclear, check this [YouTube video](https://youtu.be/ozTSqhU9Hek?si=cGzNRATmPOPsoLCg)."
   ]
  },
  {
   "cell_type": "markdown",
   "id": "84493be9",
   "metadata": {},
   "source": [
    "### 4. Change JupyterLab shortcut icon (*optional*)\n",
    "In case you want your icon to look nice:\n",
    "- Download this [jupyterlab icon](https://github.com/aselshall/git-tutorial-/blob/master/JupyterLab-icon.ico) and save it anywhere you like.\n",
    "- If you do not like this icon, get any other icon that you like that has the extension `.ico`.\n",
    "- Right click on the shortcut: \"Change Icon\": \"Browse\": Select the icon from where you saved it.\n",
    "- You can now drag your icon from Desktop to Taskbar to make your JupyterLab handy."
   ]
  },
  {
   "cell_type": "markdown",
   "id": "c0f9a96c",
   "metadata": {},
   "source": [
    "### 5. Install basic libraries\n",
    "From the miniconda terminal install these libraries one by one. You can install all of them now or before the lesson.\n",
    "```python\n",
    "pip install pyarrow\n",
    "```\n",
    "```python\n",
    "pip install pandas\n",
    "```\n",
    "```python\n",
    "pip install matplotlib\n",
    "```\n",
    "```python\n",
    "pip install lckr_jupyterlab_variableinspector\n",
    "```\n",
    "```python\n",
    "pip install numpy\n",
    "```\n",
    "```python\n",
    "pip install cartopy\n",
    "```\n",
    "```python\n",
    "pip install xarray\n",
    "```\n",
    "```python\n",
    "pip install netCDF4\n",
    "```\n",
    "The following are optional libraries:\n",
    "```python\n",
    "pip install geemap\n",
    "```\n",
    "This library will not work for python version 3.12 and you need to downgrade your version to 3.11\n",
    "```python\n",
    "pip install jupyter-ai\n",
    "```"
   ]
  },
  {
   "cell_type": "markdown",
   "id": "028293e4",
   "metadata": {},
   "source": [
    "## Next steps\n",
    "Now you have JupyterLab and Python installed, you can start with these:\n",
    "- Jupyter tutorial (*recommended*): [Getting Started with Jupyter](https://foundations.projectpythia.org/foundations/getting-started-jupyter.html)\n",
    "- Zero-to-hero Python tutorial (*highly recommended*): [Getting Started with Python](https://foundations.projectpythia.org/foundations/getting-started-python.html)"
   ]
  }
 ],
 "metadata": {
  "kernelspec": {
   "display_name": "Python 3 (ipykernel)",
   "language": "python",
   "name": "python3"
  },
  "language_info": {
   "codemirror_mode": {
    "name": "ipython",
    "version": 3
   },
   "file_extension": ".py",
   "mimetype": "text/x-python",
   "name": "python",
   "nbconvert_exporter": "python",
   "pygments_lexer": "ipython3",
   "version": "3.11.0"
  }
 },
 "nbformat": 4,
 "nbformat_minor": 5
}