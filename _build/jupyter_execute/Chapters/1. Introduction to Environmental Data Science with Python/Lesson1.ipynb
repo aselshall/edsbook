{
 "cells": [
  {
   "cell_type": "markdown",
   "id": "d25e717a",
   "metadata": {},
   "source": [
    "# Introduction to Environmental Data Science with Python\n",
    "\n",
    "**Lesson 1**\n",
    "\n",
    "**EGN 4930/EGN 5932C  ST: Environmental Data Science**\n",
    "\n",
    "Department of Bioengineering, Civil Engineering and Environmental Engineering\n",
    "\n",
    "U.A. Whitaker College of Engineering\n",
    "\n",
    "Florida Gulf Coast University"
   ]
  },
  {
   "cell_type": "markdown",
   "id": "7cab0c9b",
   "metadata": {},
   "source": [
    "## Syllabus\n",
    "- Get to know each other\n",
    "- Installing Python and Jupyter Lab\n",
    "\n",
    "### Objectives\n",
    "(Typically, you would list specific objectives here)"
   ]
  },
  {
   "cell_type": "markdown",
   "id": "460d7c1d",
   "metadata": {},
   "source": [
    "## Get to Know Each Other\n",
    "[https://bit.ly/eds-2024](https://bit.ly/eds-2024)"
   ]
  },
  {
   "cell_type": "markdown",
   "id": "9eb138bf",
   "metadata": {},
   "source": [
    "## Installing Python and Jupyter Lab\n",
    "[https://youtu.be/ozTSqhU9Hek](https://youtu.be/ozTSqhU9Hek)\n",
    "\n",
    "For the shortcut, a Jupyter Lab icon can be found here:\n",
    "[https://github.com/aselshall/git-tutorial-/blob/master/JupyterLab-icon.ico](https://github.com/aselshall/git-tutorial-/blob/master/JupyterLab-icon.ico)"
   ]
  }
 ],
 "metadata": {
  "kernelspec": {
   "display_name": "Python 3 (ipykernel)",
   "language": "python",
   "name": "python3"
  },
  "language_info": {
   "codemirror_mode": {
    "name": "ipython",
    "version": 3
   },
   "file_extension": ".py",
   "mimetype": "text/x-python",
   "name": "python",
   "nbconvert_exporter": "python",
   "pygments_lexer": "ipython3",
   "version": "3.11.0"
  }
 },
 "nbformat": 4,
 "nbformat_minor": 5
}