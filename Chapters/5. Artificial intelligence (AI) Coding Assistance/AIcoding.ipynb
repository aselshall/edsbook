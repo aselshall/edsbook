{
 "cells": [
  {
   "cell_type": "markdown",
   "id": "46061d42-f95a-4fe2-9e83-800abe4f42b9",
   "metadata": {},
   "source": [
    " # <h1 style=\"color:green; text-align:center;\">Lesson 15: AI Coding Assistance</h1> \n",
    "\n",
    "This lesson was generated with assistance from Jupter AI using ChatGPT 3.5 Turbo.\n",
    "\n",
    "[![Binder](https://mybinder.org/badge_logo.svg)](https://mybinder.org/v2/gh/aselshall/eds/HEAD)\n",
    "\n",
    "---"
   ]
  },
  {
   "cell_type": "markdown",
   "id": "03ad2f84-e023-4464-9294-e8038f07679d",
   "metadata": {},
   "source": [
    "## Overview\n",
    "\n",
    "Using an AI code assistant, we will explore the use of generative AI models, mainly language models (LMs) such as ChatGPT, in Jupyter. This is to perform various coding tasks such as generating, completing, debugging, explaining, formatting, and optimizing Python codes. By the end of this lesson, you will be able to:\n",
    "- explain the pros and cons of generative AI in enhancing your Python learning and productivity  \n",
    "- use a generative AI model such as ChatGPT in Jupyter through an AI code assistant such as [Jupyter AI](https://github.com/jupyterlab/jupyter-ai)\n",
    "- chat with and perform coding tasks in Jupyter with a generative AI model of your choice\n",
    "- utilize multiple generative AI models in an open crowdsourced environment with Chatbot Arena (*optional*)\n",
    "\n",
    "--- \n"
   ]
  },
  {
   "cell_type": "code",
   "execution_count": null,
   "id": "7fa6a1c0-869a-4d3a-9ed1-2451c43d1d84",
   "metadata": {},
   "outputs": [],
   "source": [
    "%load_ext jupyter_ai              \n",
    "from ai_assistant import api_key  #Import api_key module  \n",
    "api_key.set_API_key('OPENAI')     #Set API key for selected Provider: 'OPENAI' and 'ANTHROPIC'"
   ]
  },
  {
   "cell_type": "markdown",
   "id": "0260ced2-b97d-4a2c-96bb-90231b1a7ab6",
   "metadata": {},
   "source": [
    "## 1. Introduction "
   ]
  },
  {
   "cell_type": "markdown",
   "id": "380ee847-e8fd-4dd5-b323-e5cafadf1b05",
   "metadata": {},
   "source": [
    "### 1.1 Generative AI to enhance your Python learning and productivity\n",
    "\n",
    "Generative AI refers to artificial intelligence capabilities that can generate new content and insights automatically. In this lesson, we will explore how generative AI within the Jupyter notebook environment can **augment human capabilities**, and **enhance learning and productivity**.\n",
    "\n",
    "\n",
    "<img src=\"https://github.com/deepseek-ai/DeepSeek-LLM/raw/main/images/mathexam.png\" width=\"600\">\n",
    "\n",
    "AI - Language models (LMs) have different capabilities with respect to reasoning, coding, mathematics, and language comprehension. This figure shows proficiency in mathematics (GSM8K Score) and model’s generalisation abilities (Exam Score) on the Hungarian National High School Exam (Image Credit: [DeepSeek-LLM](https://github.com/deepseek-ai/DeepSeek-LLM))"
   ]
  },
  {
   "attachments": {
    "bf40960c-4306-4b80-b3e2-34d1d45dec63.png": {
     "image/png": "[encoded data removed]"
    }
   },
   "cell_type": "markdown",
   "id": "23f12e92-52e4-4678-b21c-2e3e7688e744",
   "metadata": {
    "jp-MarkdownHeadingCollapsed": true
   },
   "source": [
    "### 1.2 AI code assistant\n",
    "\n",
    "AI code assistants such as [Jupyter AI](https://github.com/jupyterlab/jupyter-ai) leverage generative AI models from different providers such as [OpenAI : ChatGPT](https://chat.openai.com/)  within an IDE environment such as [JupyterLab](https://jupyter.org/).\n",
    "An AI code assistant will provide: \n",
    "- prompt engineering with respect to your programming language, \n",
    "- context-aware code suggestions, completions, debugging, formatting, explaination and generation\n",
    "- chat user-interface to ask question and get help on related topics such as installation troubleshooting\n",
    "- and many more\n",
    "\n",
    "This is to improvde learning and productivitiy. \n",
    "\n",
    "![flowchart.png](attachment:bf40960c-4306-4b80-b3e2-34d1d45dec63.png)"
   ]
  },
  {
   "cell_type": "markdown",
   "id": "faf7da09-ae9d-42ae-a2c2-be1bcee6ca07",
   "metadata": {
    "jp-MarkdownHeadingCollapsed": true
   },
   "source": [
    "### 1.3 Gallery of AI code assistants \n",
    "\n",
    "Selecting an AI code assistant depends on factors such as language support, integration with preferred IDEs, customization options, accuracy in suggestions, real-time feedback, resource efficiency, and cost considerations as shown in the table. \n",
    "\n",
    "| AI Code Assistant | Providers: Models | Compatible IDE | Pros | Cons | Use-fee |\n",
    "|---|---|---|---|---|---|\n",
    "| [Jupyter AI]((https://github.com/jupyterlab/jupyter-ai)) | AI21, [Anthropic](https://claude.ai/chats), AWS, Cohere, [Hugging Face](https://huggingface.co), NVIDIA, [OpenAI](https://openai.com/) and more (via third-party plugins) | [JupyterLab](https://jupyter.org/) | 1. Seamless Jupyter integration<br> 2. Multi-feature chat user-interface <br> 3. Supports text-embedding | 1. Not user-friendly<br> 2. Chat user-interface may not function <br> 3. Authentication of API KEY for each notebook <br> 4. Requires plugins for each provider | Free but generative AI models may not be free|\n",
    "| [ChatGPT Jupyter AI Assistant](https://github.com/TiesdeKok/chat-gpt-jupyter-extension)| [OpenAI: ChatGPT]([OpenAI](https://openai.com/) | [JupyterLab](https://jupyter.org/) | Impressive and user-friendly code assistant features | 1. No longer maintained and advise to switch to Jupyter AI<br>2. Code assistant features may not function | Free but generative AI models may not be free|\n",
    "| [Amazon CodeWhisperer](https://aws.amazon.com/codewhisperer/) | Amazon: In-house AI models |  [JupyterLab](https://jupyter.org/), [PyCharm](https://www.jetbrains.com/pycharm/), and [VSCode](https://code.visualstudio.com/]) | 1. Seamless Jupyter integration<br> 2. Real-time feedback | Installation build error may occure| Individual Tier is free for individual use |\n",
    "| [GitHub Copilot](https://github.com/features/copilot) | OpenAI: Codex | [PyCharm](https://www.jetbrains.com/pycharm/), and [VSCode](https://code.visualstudio.com/]) | 1. Powerful and mature code assistant<br> 2 . Context-aware suggestions<br> 3. Automated code refactoring | No Jupyter integration  | Free for students and educators|\n",
    "\n",
    "Here we will use Jupyter AI, but you can also experiment with other ones. "
   ]
  },
  {
   "cell_type": "markdown",
   "id": "64d88735-1eab-40da-b482-5b4bb5c237e1",
   "metadata": {},
   "source": [
    "## 2. Jupyter AI Extension\n",
    "\n",
    "This section is modefied from [jupyter-ai documentation](https://github.com/jupyterlab/jupyter-ai). You can also check the YouTube video [AWS re:Invent 2023 - Jupyter AI](https://youtu.be/nDoojNaRhPE) where the developers introduce this tool."
   ]
  },
  {
   "cell_type": "markdown",
   "id": "8fe6ada1-3ca6-4cea-85fe-0bb5632fac1f",
   "metadata": {
    "jp-MarkdownHeadingCollapsed": true
   },
   "source": [
    "### 2.1 Overview\n",
    "\n",
    "[Jupyter AI](https://github.com/jupyterlab/jupyter-ai) connects generative AI models with Jupyter notebooks, which can enhance your learning and productivity. Specifically, Jupyter AI:\n",
    "1. turns your notebook into generative AI playground\n",
    "2. provides chat user-interface in JupyterLab for chatting with your generative AI model\n",
    "3. supports a wide range of generative model providers including AI21, Anthropic, AWS, Cohere, Hugging Face, NVIDIA, and OpenAI \n",
    "4. allows users to run generative AI models on their own machines through GPT4All rather than relying on cloud-based services.\n",
    "\n",
    "In this section we will learn the first two points with focus on ChatGPT3.5 Turbo of OpenAI."
   ]
  },
  {
   "cell_type": "markdown",
   "id": "5163f583-72c7-4145-babe-57e2cbc138cf",
   "metadata": {},
   "source": [
    "### 2.2 Installing Jupyter AI"
   ]
  },
  {
   "cell_type": "markdown",
   "id": "ff6a0418-8dc9-4ecb-989d-347ad3758d10",
   "metadata": {},
   "source": [
    "#### 2.2.1 Installation Steps\n",
    "\n",
    "Steps to install Jupyter AI:\n",
    "1. Open an Anaconda Prompt (Anaconda3) or Anaconda Prompt (Miniconda3)\n",
    "2. It is not a bad idea to update your pip before installing a new package\n",
    "```code\n",
    "pip install --upgrade pip\n",
    "```\n",
    "3. Then you can install Python Jupyter AI with pip:\n",
    "```code\n",
    "pip install jupyter-ai\n",
    "```\n",
    "Alternatively, you can use install this extension with a conda. Details on installing and using Jupyter AI can be found on [Jupyter AI official documentation](https://jupyter-ai.readthedocs.io/en/latest/users/index.html).  The above steps should work for windows and linux users. For mac users, you need to do more steps as shown on [jupyter-ai GitHub repository](https://github.com/jupyterlab/jupyter-ai)."
   ]
  },
  {
   "cell_type": "markdown",
   "id": "f6b3f513-143b-47aa-aef4-1c2735ad29c1",
   "metadata": {},
   "source": [
    "#### 2.2.2 Installation Troubeshooting\n",
    "\n",
    "The Chat UI on the left menu may not work you will get this error message:\n",
    "```error\n",
    "There seems to be a problem with the Chat backend, please look at the JupyterLab server logs or contact your administrator to correct this problem.\n",
    "```\n",
    "You might need to install few extra packages such as `langchain_nvidia_ai_endpoints` and `cohere`, and **restart your computer**. Check this [stackoverflow post](https://stackoverflow.com/questions/78008875/jupyter-ai-there-seems-to-be-a-problem-with-the-chat-backend/78023497#78023497) for details."
   ]
  },
  {
   "cell_type": "markdown",
   "id": "9d5874ce-d08c-434a-a435-b9435c3942fe",
   "metadata": {},
   "source": [
    "### 2.3 Loading Jupyter AI magic commands"
   ]
  },
  {
   "cell_type": "markdown",
   "id": "053ddc4d-e37b-4a3f-a555-75db50f00046",
   "metadata": {},
   "source": [
    "To use Jupyter AI, you need enable the `%ai` and `%%ai` magic commands in your notebook.\n",
    "\n",
    "What is a magic command? Ask your LLM. "
   ]
  },
  {
   "cell_type": "code",
   "execution_count": null,
   "id": "abe2f944-0d57-4873-9287-f1452a02666e",
   "metadata": {},
   "outputs": [],
   "source": [
    "# # Load extension\n",
    "# %load_ext jupyter_ai"
   ]
  },
  {
   "cell_type": "markdown",
   "id": "5451bd4c-7ba9-4efe-bb45-bf8e75edc1a6",
   "metadata": {},
   "source": [
    "### 2.4 Select provider"
   ]
  },
  {
   "cell_type": "markdown",
   "id": "fe896a60-9b03-420a-ae36-dff61a561142",
   "metadata": {},
   "source": [
    "Jupyter AI supports a wide range of model providers and models. To use Jupyter AI with a particular provider, you must install its Python plugins for that provider and set the provider's API key (or other credentials) in your notebook or in the Jupyter AI Chat user-interface (UI) at the left menu.\n",
    "\n",
    "You can view the available providers and models as follows:"
   ]
  },
  {
   "cell_type": "code",
   "execution_count": null,
   "id": "f9184732-fe6c-4fac-8e39-29f640d70fcd",
   "metadata": {},
   "outputs": [],
   "source": [
    "# List available LM\n",
    "%ai list"
   ]
  },
  {
   "cell_type": "markdown",
   "id": "12454720-ff52-49fd-a0bd-d3969c47db56",
   "metadata": {},
   "source": [
    "The environment variable names of API-keys are used when setting up a model.  If multiple variable names are listed for a provider, all must be specified. Check [Jupyter AI offical documentation](https://jupyter-ai.readthedocs.io/en/latest/users/index.html#model-providers) for information about how to use each of the above listed providers. \n",
    "\n",
    "The label `Set` is \n",
    "- ✅ if you provided the API-key for that provider \n",
    "- ❌ if you did not provide the API-key for that provider\n",
    "- N/A if the provider does not require API-key\n",
    "  \n",
    "The label `Models` shows the `provider_name:model_name`. \n",
    "  \n",
    "Aliases are are nicknames for models. For example, typing `chatgpt` is the same as typing `openai-chat:gpt-3.5-turbo`."
   ]
  },
  {
   "cell_type": "markdown",
   "id": "e531c743-fbe6-45a7-bcfa-1aaf98816388",
   "metadata": {},
   "source": [
    "### 2.5 Install provider plugins"
   ]
  },
  {
   "cell_type": "markdown",
   "id": "f87d64cc-c084-4ab8-a34f-a14ad24314ec",
   "metadata": {},
   "source": [
    "You need to select your language model, and you can also select an embedding model. \n",
    "- A language model are typically pre-trained.\n",
    "- An embedding model is used when learning and asking about local data. \n",
    "\n",
    "You can select language model and embedding model through the `Jupyter AI Chat` interface at the left menu or manually.  However, Jupyter AI requires third-party plugins, so before we use a model, we need to install the Python plugins for that model or provider.\n",
    "   \n",
    "The provider that we will select is **OpenAI** that is the developer of ChaTGPT 3.5 Turbo and many other LLMs. For other providers, you need to check the required plugins."
   ]
  },
  {
   "cell_type": "code",
   "execution_count": null,
   "id": "23ba265a-c6f0-4e5d-a4ad-56743598124a",
   "metadata": {},
   "outputs": [],
   "source": [
    "# Uncomment and run the command below to install openAI plugins\n",
    "#!pip install openai"
   ]
  },
  {
   "cell_type": "markdown",
   "id": "95342c9d-74cc-426f-89c2-d324beca40b5",
   "metadata": {},
   "source": [
    "### 2.6 Get API-key for the selected provider"
   ]
  },
  {
   "cell_type": "markdown",
   "id": "9697c6a2-8080-401d-8bab-793cb4d7564b",
   "metadata": {},
   "source": [
    "To be able to use Jupyter AI for a given notebook, you need to do the environment variable authentication in that notebook using your unique API-key. API-key is a special code that grants users access to the provider services. This code is like a password, so you should not share this code with anyone.\n",
    "\n",
    "\n",
    "For this lesson the provider is OpenAI, but you can select any other provider of your choice. You need to [create an OpenAI account](https://openai.com/blog/openai-api) to get OpenAI API key. It will be free for a period of time, and then you can add a credit card number to get charged for your usage of paid services. This [GitHub file](https://github.com/aselshall/eds/blob/main/L/L5/openai_api_key.md) provides information about OpenAI API Key and how to get OpenAI API Key. "
   ]
  },
  {
   "cell_type": "markdown",
   "id": "e0ebc520-40ab-440e-9e86-7197e149a61f",
   "metadata": {},
   "source": [
    "### 2.7 Set API-key for the select provider\n",
    "\n",
    "One on the drawbacks of Jupyter AI environment variable authentication through the Chat UI may be insufficent, and you need to do environment variable authentication using your unique API-key in the notebook."
   ]
  },
  {
   "cell_type": "markdown",
   "id": "0da37c8b-4edd-4066-bb43-e2f773f3d883",
   "metadata": {},
   "source": [
    "#### 3.7.1 Option 1: Reading your API key from the notebook\n",
    "- Pros: Convenient\n",
    "- Cons: Security risk; Ensure to remove your API key before sharing the notebook"
   ]
  },
  {
   "cell_type": "markdown",
   "id": "2550e8e1-e076-40bb-b81c-437c04ba1cbc",
   "metadata": {},
   "source": [
    "To set API key from your notebook, you need to import the operating system module `os` and use `os.environ['Environment_variable']= 'API_key'` to set the API for your selected provider. \n",
    "   \n",
    "The example below is for OpenAI provider: \n",
    "```python\n",
    "%load_ext jupyter_ai\n",
    "import os\n",
    "os.environ['OPENAI_API_KEY'] = 'add your OpenAP API key here'\n",
    "```\n",
    "Try it out:"
   ]
  },
  {
   "cell_type": "code",
   "execution_count": null,
   "id": "356765ba-cd59-4778-aafc-4802b0a58b64",
   "metadata": {},
   "outputs": [],
   "source": [
    "## Load Jupyter AI extension\n",
    "# %load_ext jupyter_ai \n",
    "# # Set API key\n",
    "# import os\n",
    "# os.environ['OPENAI_API_KEY'] = 'add your OpenAP API key here'"
   ]
  },
  {
   "cell_type": "markdown",
   "id": "54d1f27e-1b93-449f-9818-804860ac0e1b",
   "metadata": {},
   "source": [
    "#### 3.7.2 Option 2: Reading API key from an external file \n",
    "- Pros: Enhanced security; Separating the API key into a separate file enables sharing the notebook without exposing the key\n",
    "- Cons: Additional setup required; You must include the code snippet below at the start of each notebook and specify the path to your API key file"
   ]
  },
  {
   "cell_type": "markdown",
   "id": "8dcc47fc-8b93-4515-b4f3-178d48826121",
   "metadata": {},
   "source": [
    "To set an API key from a file, copy and paste your API-key to a textfile, let us say 'OPENAI_API_KEY.txt'.\n",
    "Then place this code at the beginning of your file. Make sure to change the `file_path_name` as needed."
   ]
  },
  {
   "cell_type": "code",
   "execution_count": null,
   "id": "43d11e3f-9212-4e62-b3f7-6213c484ac0e",
   "metadata": {},
   "outputs": [],
   "source": [
    "# # Load Jupyter AI extension\n",
    "# %load_ext jupyter_ai\n",
    "\n",
    "# #Read API key from a file\n",
    "# def read_API_Key(file_name):\n",
    "\n",
    "#     # Open the file in read mode \n",
    "#     with open(file_name, 'r') as file:\n",
    "#         # Read the content of the file\n",
    "#         API_key = file.read().strip()  # strip() removes any leading or trailing whitespace\n",
    "#     return API_key\n",
    "\n",
    "# # Set API key\n",
    "# import os\n",
    "# file_path_name = 'ai_assistant/OPENAI_API_KEY.txt'\n",
    "# os.environ['OPENAI_API_KEY'] = read_API_Key(file_path_name)"
   ]
  },
  {
   "cell_type": "markdown",
   "id": "4772aa60-01ac-45eb-976a-91ee07ea0e00",
   "metadata": {},
   "source": [
    "#### 3.7.3 Option 3: Create an authentication module \n",
    "- Pros: Versatile solution; Enables authentication for various providers from any location\n",
    "- Cons: Technical proficiency needed; Involves coding skills"
   ]
  },
  {
   "cell_type": "markdown",
   "id": "2a62b63d-f13e-4f11-bb0c-2a58f20fd5a0",
   "metadata": {},
   "source": [
    "At the beginning of my notebook, I can place these three lines to load AI magic commands and set up environment variable authentication:\n",
    "\n",
    "```python\n",
    "%load_ext jupyter_ai\n",
    "from ai_assistant import api_key  # Import the api_key module\n",
    "api_key.set_API_key('OPENAI')     # Set the API key for the selected provider: 'OPENAI' or 'ANTHROPIC'\n",
    "```\n",
    "\n",
    "By passing the provider name to the `api_key.set_API_key()` function, authentication is performed based on the API key saved in a file. The module is saved somewhere on my machine, but I can import it from anywhere because I structured it as a package with `__init__.py`, rather than just a single Python module file as we covered in a previous lesson.\n",
    "\n",
    "While we have not covered package structures, you can ask your generative AI model to demonstrate how to create a package like `ai_assistant` and develop a module such as `api_key` with the `set_API_key` function."
   ]
  },
  {
   "cell_type": "code",
   "execution_count": null,
   "id": "d22821f1-6040-4001-9336-c21fdeba6d46",
   "metadata": {},
   "outputs": [],
   "source": [
    "# %load_ext jupyter_ai              \n",
    "# from ai_assistant import api_key  #Import api_key module  \n",
    "# api_key.set_API_key('OPENAI')     #Set API key for selected Provider: 'OPENAI' and 'ANTHROPIC'"
   ]
  },
  {
   "cell_type": "markdown",
   "id": "cc220187-cb1b-47cc-882a-ded12ccbc1a1",
   "metadata": {},
   "source": [
    "### 2.8 Getting help (*optional*)\n",
    "\n",
    "Let use look at the help of Jupyter AI to learn about what Jupyter AI offers and how to use this AI code assistant."
   ]
  },
  {
   "cell_type": "code",
   "execution_count": null,
   "id": "d8feea8c-0c56-4031-9c5f-3a0a9be00bf7",
   "metadata": {},
   "outputs": [],
   "source": [
    "#Getting help\n",
    "%ai --help"
   ]
  },
  {
   "cell_type": "markdown",
   "id": "ad48bc79-fc1b-497e-bff5-e91b5c05e777",
   "metadata": {},
   "source": [
    "The above help tells us that the magic command\n",
    "```python\n",
    "%%ai [OPTIONS] COMMAND \n",
    "# Or \n",
    "%%ai COMMAND [OPTIONS]\n",
    "```\n",
    "invokes a language model identified by MODEL_ID, with the prompt being contained in all lines after the first. \n",
    "  \n",
    "From  `OPTIONS` , the most important opition is `-f` that allows you to format your model output as `code`, `html`, `image`, `json`, `markdown`, `math`, `md`, or `text`. If this is unclear, it will be clear with an example, so let us see few examples. "
   ]
  },
  {
   "cell_type": "markdown",
   "id": "42334270-151b-48a7-b1ea-f9415f3c03c2",
   "metadata": {},
   "source": [
    "You can get help on a specific command. For example, let us get help on `error` command:"
   ]
  },
  {
   "cell_type": "code",
   "execution_count": null,
   "id": "ce19fc94-318b-460c-8100-d264e8cd5082",
   "metadata": {},
   "outputs": [],
   "source": [
    "%ai error --help"
   ]
  },
  {
   "cell_type": "markdown",
   "id": "a1a1d127-a066-473d-8e78-fba552a2d13d",
   "metadata": {},
   "source": [
    "### 2.9 Using `%%ai` and `%ai` magic commands (*not very much recommended*)"
   ]
  },
  {
   "cell_type": "markdown",
   "id": "53264acb-65a4-45d0-ac5d-e9df00276976",
   "metadata": {},
   "source": [
    "#### 2.9.1 Using magic command with default format"
   ]
  },
  {
   "cell_type": "markdown",
   "id": "e04aee51-06b5-4cf0-b20c-90eb7d3ec046",
   "metadata": {},
   "source": [
    "Now we want to use ChatGPT-3.5 Turbo to generate a function the finds the minimum value in a list. \n",
    "  \n",
    "Here is our prompt. \n",
    "```\n",
    "Write a function that identifies the minimum value in a list without relying on the built-in min() function.\n",
    "Ensure the function is capable of handling various data types and edge cases.\n",
    "Run at least two test cases to validate the accuracy of the minimum value identification process.\n",
    "```\n",
    "Here is the general format:\n",
    "```python\n",
    "%%ai provider:model [OPTIONS]\n",
    "prompt\n",
    "```\n",
    "In  that case this the provider and model would be `%%ai openai-chat:gpt-3.5-turbo` or simply use the provider-model aliase that is `%%ai chatgpt`. \n",
    "\n",
    "Here is how to do it:"
   ]
  },
  {
   "cell_type": "code",
   "execution_count": null,
   "id": "90dcd4a4-2a87-488f-bf6d-b5b62a829cc7",
   "metadata": {},
   "outputs": [],
   "source": [
    "%%ai chatgpt\n",
    "Function that identifies the minimum value in a list without relying on the built-in min() function\n",
    "Function is capable of handling various data types and edge cases\n",
    "Two test cases"
   ]
  },
  {
   "cell_type": "markdown",
   "id": "1bdc5f8a-de54-4f82-a006-cab63ead28df",
   "metadata": {},
   "source": [
    "In our prompt, we omitted specifying Python as Jupyter AI will automatically manage the task, providing necessary details like Python version and other relevant information to achieve the desired output."
   ]
  },
  {
   "cell_type": "markdown",
   "id": "ef17d97c-156b-4089-8a40-060b7fcae7e8",
   "metadata": {},
   "source": [
    "More importantly, in the above example, the default output is markdown format. We can change this with the argument `[OPTION]`? "
   ]
  },
  {
   "cell_type": "markdown",
   "id": "22fb78ba-0143-4e8b-a495-a89794951e64",
   "metadata": {},
   "source": [
    "#### 2.9.2. Formatting the output \n",
    "\n",
    "By default the output of an `%%ai` command will be formatted as markdown. You can override this using the `-f` or `--format` argument to your magic command. Valid formats include: `code`, `markdown`,  `math`, `html`, `text`, `json`, and `image` (for Hugging Face Hub's text-to-image models).\n",
    "\n",
    "Repeat the above example using `-f code`"
   ]
  },
  {
   "cell_type": "code",
   "execution_count": null,
   "id": "dfb63775-c448-441e-b1fb-f12fada4fce2",
   "metadata": {},
   "outputs": [],
   "source": [
    "%%ai -f code chatgpt \n",
    "Function that identifies the minimum value in a list without relying on the built-in min() function\n",
    "Function is capable of handling various data types and edge cases\n",
    "Two test cases"
   ]
  },
  {
   "cell_type": "markdown",
   "id": "616781e0-eda2-40ff-b126-d86d933d8879",
   "metadata": {},
   "source": [
    "Here is another example modified from [Jupyter AI documentation](https://github.com/jupyterlab/jupyter-ai?tab=readme-ov-file#the-ai-magic-command)"
   ]
  },
  {
   "cell_type": "code",
   "execution_count": null,
   "id": "d5b9fed7-c957-49f8-a07c-024288552e9e",
   "metadata": {},
   "outputs": [],
   "source": [
    "%%ai chatgpt -f math\n",
    "Generate 3d solute transport equation"
   ]
  },
  {
   "cell_type": "code",
   "execution_count": null,
   "id": "23f0cda0-2948-46e0-9473-3438603cef97",
   "metadata": {},
   "outputs": [],
   "source": [
    "%%ai chatgpt -f md\n",
    "Generate 3d solute transport equation in compact form with explaintation"
   ]
  },
  {
   "cell_type": "code",
   "execution_count": null,
   "id": "e8d7833b-77aa-42a2-b42a-e10265c0646f",
   "metadata": {},
   "outputs": [],
   "source": [
    "%%ai chatgpt -f markdown\n",
    "Markdown code for 3d solute transport equation in LaTeX surrounded by `$$`. Do not include explanation."
   ]
  },
  {
   "cell_type": "markdown",
   "id": "ada3fce3-4e86-4186-84a1-e70b07ae6627",
   "metadata": {},
   "source": [
    "$$\n",
    "\\frac{{\\partial c}}{{\\partial t}} = D \\nabla^2 c - \\nabla \\cdot (\\mathbf{v}c)\n",
    "$$"
   ]
  },
  {
   "cell_type": "markdown",
   "id": "9c309b7e-04e8-4614-9f8f-f23c8e5c16c6",
   "metadata": {},
   "source": [
    "#### 2.9.3 The error command"
   ]
  },
  {
   "cell_type": "markdown",
   "id": "750a48be-2f4c-4a58-a6fc-b4c173816cbf",
   "metadata": {},
   "source": [
    "The `error` command explains the most recent error. For usage:\n",
    "```\n",
    "%ai error MODEL_ID\n",
    "```\n",
    "Run the code below, and use error command to understand error"
   ]
  },
  {
   "cell_type": "code",
   "execution_count": null,
   "id": "f5b4b26c-c26a-42bf-83a8-7143262fc0fd",
   "metadata": {
    "scrolled": true
   },
   "outputs": [],
   "source": [
    "a= 1\n",
    "b= \"2\"\n",
    "c= 1+b"
   ]
  },
  {
   "cell_type": "code",
   "execution_count": null,
   "id": "562ae69e-cd49-45b1-bcb3-c2a31ba85c46",
   "metadata": {},
   "outputs": [],
   "source": [
    "%ai error chatgpt"
   ]
  },
  {
   "cell_type": "markdown",
   "id": "01eafba5-b8a8-4711-b696-b22feb0f5172",
   "metadata": {},
   "source": [
    "To address and rectify this error, you can utilize the list variable `Err[]` or `In[]` as illustrated below. "
   ]
  },
  {
   "cell_type": "code",
   "execution_count": null,
   "id": "876e188a-1774-4af0-ba2e-cd2e69ddeb3b",
   "metadata": {},
   "outputs": [],
   "source": [
    "%%ai chatgpt -f code\n",
    "Fix {Err[12]}"
   ]
  },
  {
   "cell_type": "markdown",
   "id": "9303aff3-a37c-462d-8845-085f5fb80b2c",
   "metadata": {},
   "source": [
    "<div class=\"admonition alert alert-info\">\n",
    "    <p class=\"admonition-title\" style=\"font-weight:bold\">Note</p>\n",
    "Using list variable Err[] is not advisable for codes with intricate formatting, as it may not yield the desired outcome.\n",
    "</div>"
   ]
  },
  {
   "cell_type": "markdown",
   "id": "79f8e5f8-f2b6-4e7e-9a75-ae57cc9d084d",
   "metadata": {},
   "source": [
    "### 2.10 Code Interaction with list variables (*not recommended*)\n",
    "- Pros: Enables working solely within the notebook without the need for a Chat UI interface\n",
    "- Cons: Limited functionality for codes with complex formatting"
   ]
  },
  {
   "cell_type": "markdown",
   "id": "0e364964-03e0-4298-9a34-5b04eb36793d",
   "metadata": {},
   "source": [
    "Jupyter AI can assist you in interacting with code or markdown cells using Python expressions like `{}`. You can use the special list variables `In[n]`,`Out[n]`, or `Err[n]`: \n",
    "- `{In[n]}`: Retrieves the input \n",
    "- `{Out[n]}`: Retrieves the output  \n",
    "- `{Err[n]}`: Retrives the error \n",
    "\n",
    "of a specific cell where `n` is sequential number that Jupyter notebook  assign to each cell based on execution order in the notebook. This is the number on the left hand side of the cell. For instance, `{In[1]}` would retrieve the input of cell  [1]."
   ]
  },
  {
   "cell_type": "code",
   "execution_count": null,
   "id": "73026210-514f-4694-ab75-f4df493c542b",
   "metadata": {},
   "outputs": [],
   "source": [
    "{In[1]}"
   ]
  },
  {
   "cell_type": "markdown",
   "id": "58328b49-0867-4192-949f-d21685ffaebf",
   "metadata": {},
   "source": [
    "Now you can use these list variables to interact with your Jupyter notebook. \n",
    " \n",
    "Taking the minimum function code above as an example, ask Jupyter AI to:\n",
    "```\n",
    "improve the code and run it for three test cases a list, dictionary, and tuple\n",
    "```\n",
    "Call the `%%ai chatgpt -f code` to try it out:"
   ]
  },
  {
   "cell_type": "code",
   "execution_count": null,
   "id": "34b4fe09-d508-46fa-8fc9-43251da2d9ef",
   "metadata": {},
   "outputs": [],
   "source": [
    "%%ai chatgpt -f code\n",
    "improve the code below and run it for three test cases a list, dictionary, and tuple:\n",
    "{In[15]}"
   ]
  },
  {
   "cell_type": "markdown",
   "id": "931435be-2681-4025-836a-2e3a03cfb3bf",
   "metadata": {},
   "source": [
    "### 2.11 Code Interaction with Chat UI (*recommended*)\n",
    "- Pros: Provides the capability to execute various tasks, as demonstrated below\n",
    "- Cons: Requires more typing to customize the output as desired"
   ]
  },
  {
   "cell_type": "markdown",
   "id": "e86c607b-6958-4bca-a57f-51a127bd1b18",
   "metadata": {},
   "source": [
    "With Chat UI you can ask your LM to perform many coding tasks.\n",
    "- **Complete:** LM provides code completion as suggested by developer\n",
    "- **Debug:** LM  debugs an error message in your code\n",
    "- **Expalain:** LM provides explanations, documentation, and insights about the code or part of the code \n",
    "- **Translate:** LM translates codes between different programming languages or paradigms like converting flowchart symbols to a code to a figure \n",
    "- **Review:** LM reviews and suggests refactoring improvements to existing code such as optimizing performance, improving readability, or adhering to best practices\n",
    "- **Format:** LM automatically adds comments, docstrings, formatting to code cell, and formatting to markdown cell\n",
    "- **Troubleshoot:** LM troubleshoots errors when installing a new package \n",
    "- **Spellcheck:** LM corrects your language errors\n",
    "- **Improve:** LM can improve your content\n",
    "- **Chat:** LM answers your questions and provide information\n",
    "- **And much more**: LM can perform many other tasks in your Jupyter notebook\n",
    "\n",
    "The idea is simple. You have a chat user-interface that allows you to\n",
    "- ask questions\n",
    "- include selection from a code or markdown cell\n",
    "- replace selection from a code or markdown cell"
   ]
  },
  {
   "cell_type": "markdown",
   "id": "9bae41c7-2287-410f-8e7b-3a4991ad9f8a",
   "metadata": {
    "jp-MarkdownHeadingCollapsed": true
   },
   "source": [
    "You can try out this code completion example:\n",
    "```python\n",
    "# Generate a Pandas DataFrame with daily data from 2020-01-01 to 2023-12-31 in Fort Myers, Florida \n",
    "#columns: \n",
    "#(1) 'TMIN' that is the minimum temperature, \n",
    "#(2) 'TMAX' that is the maximum temperature, \n",
    "#(3) 'PRCP' that is precipitation in inches, \n",
    "#(4) 'AWDS' that is the average wind speed in miles per hour, \n",
    "# (5) 'STATION' which has two stations, 'Field Airport' and 'SWF Airport'. \n",
    "\n",
    "# The index is the date\n",
    "\n",
    "# Display the DataFrame in JupyterLab\n",
    "\n",
    "# Pandas operation to find rows of the days that has the maximum precipitation \n",
    "# in the study period  for each of the two stations for each year\n",
    "\n",
    "# Display the DataFrame in JupyterLab\n",
    "```\n",
    "Try this below with using the Chat UI by copying and pasting the above incomplete code below and asking your LM to complete this code and return code only"
   ]
  },
  {
   "cell_type": "code",
   "execution_count": null,
   "id": "30691c96-6c55-43e1-bb13-7270d3fc210c",
   "metadata": {},
   "outputs": [],
   "source": [
    "import pandas as pd\n",
    "import numpy as np\n",
    "\n",
    "# Generate data\n",
    "dates = pd.date_range(start='2020-01-01', end='2023-12-31')\n",
    "stations = ['Field Airport', 'SWF Airport']\n",
    "data = {\n",
    "    'TMIN': np.random.randint(50, 90, len(dates)),\n",
    "    'TMAX': np.random.randint(70, 100, len(dates)),\n",
    "    'PRCP': np.random.uniform(0, 2, len(dates)),\n",
    "    'AWDS': np.random.randint(5, 15, len(dates)),\n",
    "    'STATION': np.random.choice(stations, len(dates))\n",
    "}\n",
    "\n",
    "df = pd.DataFrame(data, index=dates)\n",
    "df"
   ]
  },
  {
   "cell_type": "code",
   "execution_count": null,
   "id": "8b286a5b-da32-4131-9203-8fe49bafdfbf",
   "metadata": {},
   "outputs": [],
   "source": [
    "# Find rows with max precipitation for each station for each year\n",
    "max_indices = df.groupby([df.index.year, 'STATION'])['PRCP'].idxmax()\n",
    "result = df.loc[max_indices]\n",
    "result"
   ]
  },
  {
   "cell_type": "markdown",
   "id": "9aded254-8dec-4424-aa6a-b9282f35e53e",
   "metadata": {},
   "source": [
    "## 3. Class exercise\n",
    "\n",
    "Complete this exercise by utilizing: \n",
    "- Jupyter AI,\n",
    "- another AI chat assistant,\n",
    "- or any Language Model (LM) of your preference directly without an AI chat assistant.\n",
    "\n",
    "The exercise aims to teach the utilization of Language Models (LMs) for coding assistance and emphasizes the significance of prompt engineering."
   ]
  },
  {
   "cell_type": "markdown",
   "id": "7e5075db-6907-4c84-9ac4-2b7616f37e0d",
   "metadata": {},
   "source": [
    "### 3.1 Problem statement\n",
    "An student asked: For a Pandas DataFrame, how to display the rows of the days with the maximum precipitation for each weather station in each year in our study period and area? "
   ]
  },
  {
   "cell_type": "markdown",
   "id": "806b46f5-14a9-4e22-9b13-3df8f2dd8113",
   "metadata": {},
   "source": [
    "### 3.2 Prompt engineering and code generation"
   ]
  },
  {
   "cell_type": "markdown",
   "id": "4a12049d-0350-4e47-a529-41df55053585",
   "metadata": {},
   "source": [
    "<div class=\"admonition alert alert-info\">\n",
    "    <p class=\"admonition-title\" style=\"font-weight:bold\">Note</p>\n",
    "Prompt engineering involves crafting and refining the language or structure of prompts to improve the performance of a language model in generating accurate and relevant responses. Mastering prompt engineering enables effective utilization of LMs across tasks from problem-solving to creative writing. Learn more with Real Python's tutorial  <a href=\"https://realpython.com/practical-prompt-engineering/\">Prompt Engineering: A Practical Example</a>.\n",
    "</div>"
   ]
  },
  {
   "cell_type": "markdown",
   "id": "e9ddeba1-830f-4523-9620-f5c787b2112f",
   "metadata": {},
   "source": [
    "Here is one prompt that we can start with and refine later as needed: \n",
    "```\n",
    "Generate a Pandas DataFrame with daily data from 2020-01-01 to 2023-12-31 in Fort Myers, Florida with the following columns:\n",
    "(1) 'TMIN' that is the minimum temperature,\n",
    "(2) 'TMAX' that is the maximum temperature,\n",
    "(3) 'PRCP' that is precipitation in inches,\n",
    "(4) 'AWDS' that is the average wind speed in miles per hour,\n",
    "and (5) 'STATION' which has two stations, 'Field Airport' and 'SWF Airport'.\n",
    "\n",
    "The index is the date.\n",
    "\n",
    "Display the DataFrame to screen.\n",
    "\n",
    "Find and display the rows of the days that has the maximum precipitation in the study period for each of the two stations for each year.\n",
    "```\n",
    "Let use see if our select LM can do this. You can use an AI code assistant such as Jupter AI or directly use any LM of your choice."
   ]
  },
  {
   "cell_type": "code",
   "execution_count": null,
   "id": "363eeafb-cd23-4a81-a95d-5a21eac436eb",
   "metadata": {},
   "outputs": [],
   "source": [
    "%%ai chatgpt -f code\n",
    "Generate a Pandas DataFrame with daily data from 2020-01-01 to 2023-12-31 in Fort Myers, Florida with the following columns:\n",
    "(1) 'TMIN' that is the minimum temperature,\n",
    "(2) 'TMAX' that is the maximum temperature,\n",
    "(3) 'PRCP' that is precipitation in inches,\n",
    "(4) 'AWDS' that is the average wind speed in miles per hour,\n",
    "and (5) 'STATION' which has two stations, 'Field Airport' and 'SWF Airport'.\n",
    "\n",
    "The index is the date.\n",
    "\n",
    "Display the DataFrame to screen.\n",
    "\n",
    "Find and display the rows of the days that has the maximum precipitation in the study period for each of the two stations for each year."
   ]
  },
  {
   "cell_type": "code",
   "execution_count": null,
   "id": "5f76a6e7-11c8-4cb3-926f-258c6a959823",
   "metadata": {},
   "outputs": [],
   "source": []
  },
  {
   "cell_type": "markdown",
   "id": "8cbc941d-964d-4c17-8b76-9ac4f8aa2e50",
   "metadata": {},
   "source": [
    "This is a promising beginning.\n",
    "\n",
    "We need to verify the output and not just rely on everything that our LM is providing. The code snippet above exhibits a few issues:\n",
    "1. Our current LM setup does not have access to datasets.\n",
    "2. It employs a for loop instead of utilizing Pandas operations.\n",
    "3. It utilizes `print` instead of the `display` function, which presents data in a visually appealing tabular format for Jupyter notebooks.\n",
    "\n",
    "To tackle the first issue, we can instruct our LM to access a specific data file online or on our machine, instead of generating random data. \n",
    "\n",
    "Let us now address the second and third problems."
   ]
  },
  {
   "cell_type": "markdown",
   "id": "ad171586-2bd0-4ae9-85cf-d50c19c7a92e",
   "metadata": {},
   "source": [
    "### 3.3 Code improvement"
   ]
  },
  {
   "cell_type": "markdown",
   "id": "530c0a34-eb32-47ac-b085-368c8c683a90",
   "metadata": {},
   "source": [
    "Ask your LM to use Pandas operations instead of for loop, and to display results in JupyterLab that is to use `display` instead of `print` function.\n",
    "\n",
    "Here is what the LM sugguested."
   ]
  },
  {
   "cell_type": "code",
   "execution_count": null,
   "id": "0f452a4a-74b9-4ede-953d-aded8363cce8",
   "metadata": {},
   "outputs": [],
   "source": []
  },
  {
   "cell_type": "markdown",
   "id": "871a3bbc-b7e3-4dda-b7da-ef730f2272ea",
   "metadata": {},
   "source": [
    "### 3.4 Handling challanging problems"
   ]
  },
  {
   "cell_type": "markdown",
   "id": "e43f7cb3-d4b9-411c-8cae-c588147a94c1",
   "metadata": {},
   "source": [
    "The above example demonstrates that our LM, which is ChatGPT 3.5 Turbo, is able to solve this relatively straightforward problem. However, a more challenging problem might require additional strategies to handle effectively. \n",
    "  \n",
    "When faced with a more complex problem, several approaches can be beneficial. I asked my LM to complete this section for me. The LM suggests the first four points. I added the heading of point 5 and asked my LM to complete it for me: \n",
    "1. **Break Down the Problem**: If the problem is complex, breaking it down into smaller, more manageable sub-problems can help. Providing step-by-step instructions or dividing the problem into sequential tasks can guide the model in tackling each part systematically.\n",
    "2. **Provide Context and Examples**: Offering context, examples, or related information can assist the model in understanding the problem better. Clear descriptions, relevant data samples, or background information can enhance the model's comprehension and problem-solving capabilities.\n",
    "3. **Ask Specific Questions**: Instead of presenting a broad or vague problem statement, asking specific questions or providing precise requirements can help direct the model's attention to the key aspects of the problem.\n",
    "4. **Iterative Approach**: In cases where the problem is intricate, an iterative approach may be beneficial. Engaging in a dialogue with the model, providing feedback on its responses, and refining the problem statement based on initial outputs can lead to a more targeted and accurate solution.\n",
    "5. **Consider Advanced Language Models**: By leveraging a robust language model, you can potentially achieve more accurate results, handle more complex patterns, and tackle a wider range of tasks with greater efficiency.\n",
    "\n",
    "Now let us try using different version of ChatGPT 4 in [Chatbot Arena](https://chat.lmsys.org)."
   ]
  },
  {
   "cell_type": "markdown",
   "id": "2939d59f-cbf9-4523-b94d-c9d70cce43f5",
   "metadata": {},
   "source": [
    "## 4. Other useful tools \n",
    "[Chatbot Arena](https://chat.lmsys.org) is an open-source research project developed to an open crowdsourced platform to evaluate LMs.\n",
    "\n",
    "Let us try to use [Chatbot Arena](https://chat.lmsys.org). "
   ]
  },
  {
   "cell_type": "markdown",
   "id": "38fa85a3-f502-4de2-b23c-f0d91f68a423",
   "metadata": {},
   "source": [
    "## 5. Conclusions\n",
    "\n",
    "Here are the key points to consider:\n",
    "\n",
    "- **Pros of Language Models**: These models offer the potential to improve various aspects of the coding process, spanning from initial development to code optimization.\n",
    "- **Cons of Language Models**: Drawbacks include creating a dependency on AI for coding tasks can hinder personal skill development; no guarantee of error-free code without human review; and the inability to provide creative solutions that require human insight.\n",
    "- **Effective Prompts**: Step-by-step, detailed, clear, precise, and contextually relevant prompts can proficiently guide language models towards precise and targeted responses.\n",
    "- **AI Code Assistants**: Tools like Jupyter AI can boost your Python learning and productivity by aiding in coding tasks directly within your integrated development environment (IDE), such as JupyterLab.\n",
    "\n",
    "To sum up, AI assistanance is not here to replace the work that you do, but to help you. Try to balance the benefits of AI assistance with the need for personal skill development and critical thinking."
   ]
  }
 ],
 "metadata": {
  "kernelspec": {
   "display_name": "Python 3 (ipykernel)",
   "language": "python",
   "name": "python3"
  },
  "language_info": {
   "codemirror_mode": {
    "name": "ipython",
    "version": 3
   },
   "file_extension": ".py",
   "mimetype": "text/x-python",
   "name": "python",
   "nbconvert_exporter": "python",
   "pygments_lexer": "ipython3",
   "version": "3.11.5"
  }
 },
 "nbformat": 4,
 "nbformat_minor": 5
}
