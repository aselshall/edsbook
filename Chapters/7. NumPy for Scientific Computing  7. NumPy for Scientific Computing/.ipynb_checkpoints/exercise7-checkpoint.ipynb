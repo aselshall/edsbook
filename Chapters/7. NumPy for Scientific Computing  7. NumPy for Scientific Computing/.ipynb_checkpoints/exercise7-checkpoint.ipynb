{
 "cells": [
  {
   "cell_type": "markdown",
   "id": "6c053bb2-0604-4abe-9786-c110cc82cf32",
   "metadata": {},
   "source": [
    "# Exercise 7 NumPy: Air quality data analysis\n",
    "\n",
    "[![Binder](https://mybinder.org/badge_logo.svg)](https://mybinder.org/v2/gh/aselshall/eds/HEAD)\n",
    "\n",
    "---"
   ]
  },
  {
   "cell_type": "code",
   "execution_count": null,
   "id": "ad4ff0a5-4d18-4484-a671-1723506dc7b0",
   "metadata": {},
   "outputs": [],
   "source": [
    "import numpy as np\n",
    "import pandas as pd\n",
    "import matplotlib.pylab as plt\n",
    "from scipy import stats"
   ]
  },
  {
   "cell_type": "markdown",
   "id": "7333cf33-c9c3-445f-a8e5-b3c5eb676032",
   "metadata": {},
   "source": [
    "## 1. Problem statement\n",
    "\n",
    "This assignment involves analyzing air quality data for the Miami core-based statistical area (CBSA) to evaluate the impact of COVID-19 lockdown orders on air quality in Miami. The analysis will be based on EPA daily air quality data for PM2.5, PM10, NO2, SO2, CO, and O3 from 01-04-2019 to 31-03-2021, covering one year before and after the lockdown order on April 1, 2020. The tasks include:\n",
    "- Calculating the mean concentrations for these 6 air quality parameters before and after the lockdown order.\n",
    "- Conducting hypothesis testing to determine if there is a statistically significant difference in the pre and post data.\n",
    "\n",
    "To complete this exercise, you will apply the skills learned in the Data Science Workflow and NumPy lessons.\n",
    "\n",
    "\n",
    "\n",
    "\n",
    "\n",
    "\n",
    "\n"
   ]
  },
  {
   "cell_type": "markdown",
   "id": "320e8f50-be3a-4602-bd67-2fca1908c0ab",
   "metadata": {},
   "source": [
    "## 2. Prepare data "
   ]
  },
  {
   "cell_type": "markdown",
   "id": "8bcf698b-50e1-4a26-80ad-6c416750f259",
   "metadata": {},
   "source": [
    "### 2.1 Read data as Numpy array\n",
    "\n",
    "Read data from 'aqi_data_Miami.csv' as NumPy array `data`"
   ]
  },
  {
   "cell_type": "code",
   "execution_count": null,
   "id": "9b0fd8ad-8dfe-45df-adc5-ef7a06ea38f9",
   "metadata": {},
   "outputs": [],
   "source": [
    "# Read the CSV file into a NumPy mixed type array with dtype object\n",
    "# Column names: [datetime-empty], 'PM2.5', 'PM10',  'NO2', 'SO2',  'CO', 'O3'\n",
    "data = pd.read_csv('data/aqi_data_Miami.csv').to_numpy()\n",
    "\n",
    "# Convert the first column in the NumPy array to datetime format\n",
    "\n",
    "# Display data\n"
   ]
  },
  {
   "cell_type": "markdown",
   "id": "c5163ef6-480d-4fda-b188-4d5bbab88087",
   "metadata": {},
   "source": [
    "### 2.2 Extract dates and values \n",
    "\n",
    "Extract dates and values from Numpy array `data` as Numpy arrays `dates` and `values` "
   ]
  },
  {
   "cell_type": "code",
   "execution_count": null,
   "id": "e53d82d5-62cd-4a32-bd94-d3084dcd18a5",
   "metadata": {},
   "outputs": [],
   "source": [
    "# Extracting first column as datetime (you can do it in one line)\n",
    "\n",
    "\n",
    "# Extract numerical values as numbers (you can do it in one line)\n"
   ]
  },
  {
   "cell_type": "markdown",
   "id": "b33c6ca0-9f96-4b79-95e7-aacefa7bb7a7",
   "metadata": {},
   "source": [
    "### 2.3 Remove rows with NaNs\n",
    "\n",
    "Remove rows with NaN values from `data`, `dates`, and `values`."
   ]
  },
  {
   "cell_type": "code",
   "execution_count": null,
   "id": "c8ca381a-1b35-4a0e-8715-1d1977f1ba49",
   "metadata": {},
   "outputs": [],
   "source": [
    "#Original dataset information\n",
    "\n",
    "#Remove NaNs\n",
    "\n",
    "#Cleaned dataset information\n"
   ]
  },
  {
   "cell_type": "markdown",
   "id": "83e4be95-ce54-4921-b1b4-27e51f5bbebd",
   "metadata": {},
   "source": [
    "### 2.4 Extracting pre and post-lockdown data\n",
    "\n",
    "Extract data based on the lockdown order on April 1, 2020:\n",
    "- Extract data one year before lockdown as `pre_dates` and `pre_values`,\n",
    "- Extract data one year after lockdown as `post_dates` and `post_values`,\n",
    "- Extract data one year before and after lockdown combined as `pre_post_dates` and `pre_post_values`."
   ]
  },
  {
   "cell_type": "code",
   "execution_count": null,
   "id": "b2cd7088-2ea7-424f-a799-30abc9b1b3e7",
   "metadata": {},
   "outputs": [],
   "source": [
    "# Define date ranges\n",
    "lockdown_start = pd.Timestamp('2020-04-01')\n",
    "one_year_before = pd.Timestamp('2019-04-01')\n",
    "one_year_after = pd.Timestamp('2021-04-01')\n",
    "\n",
    "#Cleaned dataset information\n",
    "\n",
    "# Filter the NumPy array based on the date range for pre-post-covid19 data\n",
    "\n",
    "\n",
    "# Filter the NumPy array based on the date range for pre-covid19 data\n",
    "\n",
    "\n",
    "# Filter the NumPy array based on the date range for post-covid19 data\n"
   ]
  },
  {
   "cell_type": "markdown",
   "id": "22079cbc-de83-4758-ac75-937359b8b336",
   "metadata": {},
   "source": [
    "### 2.5 Save NumpPy arrays of dates and values (*extra*)\n",
    "\n",
    "Let us save our pre-proceeded data \n",
    "- `pre_dates` one year datetime data before lockdown\n",
    "- `pre_values` one year concentration data before lockdown for PM2.5, PM10, NO2, SO2,  CO, O3\n",
    "- `post_dates` one year datetime data after lockdown\n",
    "- `post_values` one year concentration data after lockdown for PM2.5, PM10, NO2, SO2,  CO, O3\n",
    "\n",
    "because we will use it in Matplotlib exercise. We do not need to use `allow_pickle=True` argument because these arrays do not have data with mixed types."
   ]
  },
  {
   "cell_type": "code",
   "execution_count": null,
   "id": "846e95c1-1f0f-4dd7-8c29-3e64b073cbf7",
   "metadata": {},
   "outputs": [],
   "source": [
    "# Save the data arrays to a file \n",
    "np.save('data/pre_dates.npy', pre_dates)\n",
    "np.save('data/post_dates.npy', post_dates)\n",
    "np.save('data/pre_values.npy', pre_values)\n",
    "np.save('data/post_values.npy', post_values)"
   ]
  },
  {
   "cell_type": "markdown",
   "id": "24033134-3fc0-4c2b-817a-fe857434c637",
   "metadata": {},
   "source": [
    "Let us double check that we can load and use the saved data"
   ]
  },
  {
   "cell_type": "code",
   "execution_count": null,
   "id": "64ffb99b-f967-4cab-a47e-f865109976ea",
   "metadata": {},
   "outputs": [],
   "source": [
    "# Load the array from file\n",
    "pre_dates = np.load('data/pre_dates.npy')\n",
    "pre_values = np.load('data/pre_values.npy')\n",
    "print(\"pre_dates:\", pre_dates.dtype, pre_dates.shape,\n",
    "      \"pre_values:\", pre_values.dtype, pre_values.shape)"
   ]
  },
  {
   "cell_type": "markdown",
   "id": "b15e9f58-1998-4eca-bdad-cc1acc0a2c4d",
   "metadata": {},
   "source": [
    "### 2.6 Additional information\n",
    "\n",
    "Here is additional information that can be helpful to our analysis. We can refer to EPA document [EPA 454/B-18-007](https://www.airnow.gov/sites/default/files/2020-05/aqi-technical-assistance-document-sept2018.pdf) for concentration breakpoints indicating unhealthy levels for sensitive groups."
   ]
  },
  {
   "cell_type": "code",
   "execution_count": null,
   "id": "f71ceebc-27b7-42fd-a8a3-5f233ab637e2",
   "metadata": {},
   "outputs": [],
   "source": [
    "# Define date ranges\n",
    "lockdown_start = pd.Timestamp('2020-04-01')\n",
    "one_year_before = pd.Timestamp('2019-04-01')\n",
    "one_year_after = pd.Timestamp('2021-04-01')\n",
    "\n",
    "# Air quality parameter information\n",
    "parameters = [        'PM2.5', 'PM10',  'NO2', 'SO2',  'CO', 'O3']\n",
    "units = [             'µg/m³', 'µg/m³', 'ppb', 'ppb', 'ppm', 'ppm']\n",
    "limits = [        35 ,      155,    100,   50,     9,  0.07]  # Unhealthy levels of senitive groups"
   ]
  },
  {
   "cell_type": "markdown",
   "id": "5e8e392c-48d9-467b-aba8-f5cb2d61277f",
   "metadata": {},
   "source": [
    "## 3. Mean values for each parameter befor and after lockdown \n",
    " \n",
    "Before proceeding with hypothesis testing, let's analyze the mean values of each air quality parameter before and after the lockdown. \n",
    "- For a simple analysis, we can compare the mean concentrations before and after the lockdown for each parameter.\n",
    "- For a more sophisticated analysis, an Air Quality Index (AQI) calculation method, to calculate the AQI for quality parameter. Then we can calcuate the mean AQI values before and after the lockdown for each parameter.\n",
    "\n",
    "Let us try both analyses."
   ]
  },
  {
   "cell_type": "markdown",
   "id": "0446a80c-04f3-4bad-9717-0fd0d5a19a00",
   "metadata": {},
   "source": [
    "### 3.1 Simple approach\n",
    "\n",
    "We can calculate the Air Quality Index (AQI) for PM2.5, PM10, etc.using an AQI calculation method, which can be complex. For simplicity, let's just compare the mean concentrations or pre and post lockdown for each parameter."
   ]
  },
  {
   "cell_type": "code",
   "execution_count": null,
   "id": "b4d7736f-613f-43e7-9e75-363f31d7b653",
   "metadata": {},
   "outputs": [],
   "source": [
    "# Six air quality parameters\n",
    "parameters =['PM2.5','PM10','NO2','SO2','CO','O3']\n",
    "\n",
    "# Calculate mean concentrations for pre-lockdown and post-lockdown\n",
    "\n",
    "\n",
    "# Display results in a table form with `parameters` as index,\n",
    "# and first and second column values are `pre_mean` and `post_mean` \n"
   ]
  },
  {
   "cell_type": "markdown",
   "id": "af65e848-644c-44ac-b6a2-d9d3dcae9981",
   "metadata": {},
   "source": [
    "The means of the pre and post seem similar. Let us confirm this with some statstical analysis. Before we do this, let us try a simple version of the AQI calculation method."
   ]
  },
  {
   "cell_type": "markdown",
   "id": "dfab210d-467e-4373-9377-fe6fa4deff23",
   "metadata": {},
   "source": [
    "### 3.2 AQI approach (*optional*)"
   ]
  },
  {
   "cell_type": "markdown",
   "id": "7db8cc6a-f937-4865-a059-056714d9494a",
   "metadata": {},
   "source": [
    "#### 3.2.1 Calculate AQI values\n",
    "\n",
    "We can compile a concentration breakpoints and their corresponding AQI values for various pollutants [(EPA 454/B-18-007)](https://www.airnow.gov/sites/default/files/2020-05/aqi-technical-assistance-document-sept2018.pdf). Here is an example:\n",
    "\n",
    "\n",
    "| Parameter | Unit | Good <br>AQI  (0-50) | Moderate <br>AQI  (51-100) | Unhealthy for Sensitive Groups <br>AQI  (101-150) | Unhealthy <br>AQI  (151-200) |\n",
    "|-----------|------|-------------------|------------------------|-----------------------------------------------|--------------------------|\n",
    "| PM2.5     | µg/m³| 0.0 - 12.0         | 12.1 - 35.4            | 35.5 - 55.4                                   | 55.5 - 150.4             |\n",
    "| PM10      | µg/m³| 0 - 54             | 55 - 154               | 155 - 254                                     | 255 - 354                |\n",
    "| NO2       | ppb  | 0 -  40             |  41 - 100               |   101 - 200                                     | 201 - 250                |\n",
    "| SO2       | ppb  | 0 - 20             | 21 - 50                | 51 - 100                                      | 101 - 304                |\n",
    "| CO        | ppm  | 0.0 - 4.4          | 4.5 - 9.4              | 9.5 - 12.4                                    | 12.5 - 15.4              |\n",
    "| O3        | ppm  | 0.000 - 0.054      | 0.055 - 0.07          | 0.071 - 0.085                                 | 0.086 - 0.115     \n",
    "\n",
    "The \"Good\" category ranges from 0 to 50 on the AQI, indicating satisfactory air quality. \"Moderate\" falls between 51 and 100, generally acceptable but may affect sensitive groups. \"Unhealthy for Sensitive Groups\" is 101-150, suggesting limits on outdoor activities for at-risk individuals. \"Unhealthy\" is 151-200, signaling adverse health effects for everyone, requiring outdoor limits.\n",
    "\n",
    "We can create a dictionary for each pollutant containing its respective concentration breakpoints and corresponding AQI values."
   ]
  },
  {
   "cell_type": "code",
   "execution_count": null,
   "id": "9bdf9e0b-7526-4b59-8627-4b2b67aafe65",
   "metadata": {},
   "outputs": [],
   "source": [
    "#Dictionary for breakpoints of 6 parameters\n",
    "pollutants = {\n",
    "    'PM2.5': {'breakpoints': [0, 12.1, 35.5, 55.5, 150.4]},\n",
    "    'PM10': {'breakpoints': [0, 55, 155, 255, 354]},\n",
    "    'NO2': {'breakpoints': [0, 41, 101, 201, 250]},\n",
    "    'SO2': {'breakpoints': [0, 21, 51, 101, 304]},\n",
    "    'CO': {'breakpoints': [0, 4.5, 9.5, 12.5, 15.4]},\n",
    "    'O3': {'breakpoints': [0, 0.055, 0.071, 0.086, 0.115]}}"
   ]
  },
  {
   "cell_type": "markdown",
   "id": "d882c92c-677f-479c-b2bd-4c83db35fa69",
   "metadata": {},
   "source": [
    "With linear interpolation we can calcuate the AQI for a given concentration."
   ]
  },
  {
   "cell_type": "code",
   "execution_count": null,
   "id": "4e6394af-8334-407d-abdc-2354c44dfa82",
   "metadata": {},
   "outputs": [],
   "source": [
    "def calculate_aqi(pollutant, concentration):\n",
    "    poll_data = pollutants[pollutant]\n",
    "    bp = poll_data['breakpoints']\n",
    "    aqi = [0, 51, 101, 151,200]\n",
    "\n",
    "    if concentration <= bp[1]:\n",
    "        aqi_val = ((aqi[1]-aqi[0])/(bp[1]-bp[0])) *(concentration-bp[0])+ aqi[0]\n",
    "    elif concentration <= bp[2]:\n",
    "        aqi_val = ((aqi[2]-aqi[1])/(bp[2]-bp[1])) *(concentration-bp[1])+ aqi[1]\n",
    "    elif concentration <= bp[3]:\n",
    "        aqi_val = ((aqi[3]-aqi[2])/(bp[3]-bp[2])) *(concentration-bp[2])+ aqi[2]\n",
    "    else:\n",
    "        aqi_val = ((aqi[4]-aqi[3])/(bp[4]-bp[3])) *(concentration-bp[3])+ aqi[3]\n",
    "        \n",
    "    return aqi_val"
   ]
  },
  {
   "cell_type": "markdown",
   "id": "20379bd5-fa9d-4fd2-a3c3-c61c35d75ee5",
   "metadata": {},
   "source": [
    "Then we can call this function to calculate AQI value for each sample."
   ]
  },
  {
   "cell_type": "code",
   "execution_count": null,
   "id": "2755e925-5794-453d-a074-8c0fa3646472",
   "metadata": {},
   "outputs": [],
   "source": [
    "# Six air quality parameters\n",
    "parameters =['PM2.5','PM10','NO2','SO2','CO','O3']\n",
    "\n",
    "#Calculate aqi for pre and post data\n",
    "for dataset in ['pre', 'post']:\n",
    "\n",
    "    #Intiate variable aqi to store calculated aqi values\n",
    "    if dataset == 'pre':\n",
    "        aqi_data = pre_values.copy()\n",
    "    elif dataset == 'post':\n",
    "        aqi_data = post_values.copy()\n",
    "    \n",
    "    #Loop through each row and each element in the row to calcuate aqi\n",
    "    for row_index, row in enumerate(aqi_data):\n",
    "        for col_index, element in enumerate(row):\n",
    "            \n",
    "            #Get parameter name\n",
    "            parameter= parameters[col_index]\n",
    "    \n",
    "            #Pass parameter name and value to calculate_aqi\n",
    "            #Update pre_aqi with the calculated aqi for that parameter and date\n",
    "            aqi_data[row_index,col_index] = calculate_aqi(parameter, element)\n",
    "\n",
    "    #Display aqi\n",
    "    print(dataset, aqi_data.dtype, aqi_data.shape)\n",
    "    print(aqi_data[0])\n",
    "    \n",
    "    # Save aqi for pre and post\n",
    "    if dataset == 'pre':\n",
    "        pre_aqi = aqi_data\n",
    "    elif dataset == 'post':\n",
    "        post_aqi = aqi_data"
   ]
  },
  {
   "cell_type": "markdown",
   "id": "c3797b06-28b8-402f-baa9-42e3bae3c6e8",
   "metadata": {},
   "source": [
    "#### 3.2.2 Save AQI values as NumPy arrays (*extra*)\n",
    "\n",
    "This step is not needed in this exercise, but we want to use this data in the Matplotlib exercise."
   ]
  },
  {
   "cell_type": "code",
   "execution_count": null,
   "id": "69f9b7e5-dd81-4960-a7f0-23aad5392b0d",
   "metadata": {},
   "outputs": [],
   "source": [
    "# Save the data arrays to a file \n",
    "np.save('data/pre_aqi.npy', pre_aqi)\n",
    "np.save('data/post_aqi.npy', post_aqi)"
   ]
  },
  {
   "cell_type": "markdown",
   "id": "e1fee999-ee80-46fc-a524-13d7af4768a6",
   "metadata": {},
   "source": [
    "Load saved data for double checking."
   ]
  },
  {
   "cell_type": "code",
   "execution_count": null,
   "id": "25695859-7062-4add-9ca2-906c5cfe7bc2",
   "metadata": {},
   "outputs": [],
   "source": [
    "pre_aqi = np.load('data/pre_aqi.npy')\n",
    "post_aqi = np.load('data/post_aqi.npy')\n",
    "print(\"pre_aqi:\", pre_aqi.dtype, pre_aqi.shape)\n",
    "print(\"post_aqi:\", post_aqi.dtype, pre_aqi.shape)"
   ]
  },
  {
   "cell_type": "markdown",
   "id": "631d348d-4c9f-4521-ad53-8e1226d0ab88",
   "metadata": {},
   "source": [
    "#### 3.2.3 Calculate mean AQI values for each parameter "
   ]
  },
  {
   "cell_type": "markdown",
   "id": "d2c3c709-95e0-42b8-87e3-81f48fc93a2a",
   "metadata": {},
   "source": [
    "We calculated the AQI for PM2.5, PM10, etc.. Now let us compare the mean AQI for pre and post lockdown for each parameter."
   ]
  },
  {
   "cell_type": "code",
   "execution_count": null,
   "id": "3660cb9f-43cf-43f7-ac79-28190e87bed2",
   "metadata": {},
   "outputs": [],
   "source": [
    "# Six air quality parameters\n",
    "parameters =['PM2.5','PM10','NO2','SO2','CO','O3']\n",
    "\n",
    "# Calculate mean concentrations for pre-lockdown and post-lockdown\n",
    "pre_aqi = np.mean(pre_aqi, axis=0)\n",
    "post_aqi = np.mean(post_aqi, axis=0)\n",
    "\n",
    "# Display results in a table form with `parameters` as index,\n",
    "# and first and second column values are `pre_mean` and `post_mean` \n",
    "df = pd.DataFrame({'Pre Mean AQI': np.round(pre_aqi,2), \n",
    "                   'Post Mean AQI': np.round(post_aqi,2)}, \n",
    "                  index=parameters)\n",
    "\n",
    "df"
   ]
  },
  {
   "cell_type": "markdown",
   "id": "d37c4f41-4851-4891-ae7f-0bd155911ff3",
   "metadata": {},
   "source": [
    "The means of the pre and post seem similar. Let us confirm this with some statstical analysis."
   ]
  },
  {
   "cell_type": "markdown",
   "id": "ef75b9e6-df4e-4ec3-b7c6-381654bea0cb",
   "metadata": {},
   "source": [
    "## 4. Hypothesis testing"
   ]
  },
  {
   "cell_type": "markdown",
   "id": "04e1445d-929e-4ddd-be71-f65e0480b181",
   "metadata": {},
   "source": [
    "### 4.1 Introduction\n",
    "\n",
    "We analyze one year of air quality data before and after the April 2020 lockdown order in Miami, Florida. The air quality parameters considered are PM2.5, PM10, NO2, SO2, CO, and O3. We employ hypothesis testing for the analysis. To learn about hypothesis testing, you can refer to this [Statistical Vignettes presentation of Project EDDIE](https://cdn.serc.carleton.edu/files/eddie/teaching_materials/vignettes/statvignette06_hyptesting_10_14_2022.v4.ppt).\n",
    "\n",
    "Hypothesis testing is a statistical method used to compare sample data and make conclusions about a population. With air quality data before and after a COVID-19 lockdown, we are investigating differences in air quality parameters. We typically set up null hypothesis $H_0$ and alternative hypothesis $H_a$. For instance, for PM2.5 concentration:\n",
    "- Null hypthesos $H_0$: Mean PM2.5 before and after the lockdown are equal.\n",
    "- Alternative hyptheis $H_a$: Mean PM2.5 before and after the lockdown differ.\n",
    "\n",
    "Then to determine whether there is a statistically significant difference between the mean PM2.5 concentrations before and after the lockdown we can calculate the test statistic and p-value. \n",
    "- We choose a statistic test like a t-test or Mann-Whitney U test based on based on the distribution of our data (e.g., whether it is normally distributed).\n",
    "- We set the significance level to 0.05, indicating that we are willing to accept a 5% chance of mistakenly rejecting the null hypothesis when it is actually true.\n",
    "- If the p-value is below 0.05, we reject the null hypothesis, indicating a significant difference in PM2.5 concentrations pre and post COVID-19 lockdown.\n",
    "\n",
    "We can repeat the same for the other air quality parameters."
   ]
  },
  {
   "cell_type": "markdown",
   "id": "9325b358-7ab4-420b-8a35-953bd086ef55",
   "metadata": {},
   "source": [
    "<div class=\"admonition alert alert-info\">\n",
    "    <p class=\"admonition-title\" style=\"font-weight:bold\">Info</p>\n",
    "The t-test is a statistical test used to compare the means of two independent groups, assuming that the data is normally distributed and the variances of the two groups are equal. We can relaxe the variance condtion. For example, in the t-test function <code>ttest_ind</code> in scipy library, we can set <code>equal_var=False</code>. For non-normally distributed data or small samples, the Mann-Whitney U test compares two groups based on ranks by checking if one group tends to have higher values.</div>"
   ]
  },
  {
   "cell_type": "markdown",
   "id": "4aacd54b-c084-4a4f-9126-2c9bc296c702",
   "metadata": {},
   "source": [
    "### 4.2 Method"
   ]
  },
  {
   "cell_type": "markdown",
   "id": "cd103dd3-cb27-4fbb-bee2-d37fcaec074a",
   "metadata": {},
   "source": [
    "Hypothesis testing steps for each parameter:\n",
    "\n",
    "1. Hypotheses:\n",
    "   - $H_0$: No lockdown impact\n",
    "   - $H_1$: Lockdown impact present\n",
    "\n",
    "2. Significance Level: Set at 0.05\n",
    "\n",
    "3. Data Preparation: Organize pre and post data \n",
    "\n",
    "4. Test Statistic Selection: Choose t-test or Mann-Whitney U test for mean comparison\n",
    "\n",
    "5. Testing: Use `scipy.stats` to calculate p-values\n",
    "\n",
    "6. Interpretation: Reject $H_0$ if p-value < 0.05, indicating significant lockdown impact on Miami's air quality \n",
    "\n",
    "Performing a t-test to assess the statistical significance of mean differences."
   ]
  },
  {
   "cell_type": "code",
   "execution_count": null,
   "id": "57e6bec0-d4dc-4f30-a83f-6becadf5ea38",
   "metadata": {},
   "outputs": [],
   "source": [
    "# Air quality parameters\n",
    "parameters = ['PM2.5', 'PM10',  'NO2', 'SO2',  'CO', 'O3']\n",
    "\n",
    "#Loop for all parameter is pre_data and post_data\n",
    "\n",
    "\n",
    "    # Step 3 Data prearation\n",
    "\n",
    "    # Step 4 Select test\n",
    "    #\"Student t-test\",  \"Mann-Whitney U test\"\n",
    "\n",
    "    # Step 5 Perform test\n",
    "        # Perform a t-test for PM2.5\n",
    "  \n",
    "        # Perform Mann-Whitney U test\n",
    "\n",
    "\n",
    "    # Step 6 Check if the result is significant\n"
   ]
  },
  {
   "cell_type": "markdown",
   "id": "08410c98-aa99-4919-8928-86c020ea88ce",
   "metadata": {},
   "source": [
    "<div class=\"admonition alert alert-info\">\n",
    "    <p class=\"admonition-title\" style=\"font-weight:bold\">Info</p>\n",
    "In the example above, we utilized SciPy, a Python library for scientific computing that encompasses tools for optimization, integration, interpolation, linear algebra, statistics, and more. While we have not covered SciPy or statistical tests in this class, a key learning objective is to independently explore and apply new libraries and methods</div>"
   ]
  },
  {
   "cell_type": "markdown",
   "id": "8d3100cf-22d0-446e-827f-4a222b453f7b",
   "metadata": {},
   "source": [
    "### 4.3 Results\n",
    "\n",
    "Present your main findings here."
   ]
  },
  {
   "cell_type": "markdown",
   "id": "44686173-399b-4fd5-a73f-385517ce7cbb",
   "metadata": {
    "jp-MarkdownHeadingCollapsed": true
   },
   "source": [
    "### 4.4 Discussion \n",
    "\n",
    "Critically discuss your hypthesis testing results here.\n",
    "\n",
    "Instruction:\n",
    "- Discuss p-values showing understanding of the statistical method used\n",
    "- Explain expected and unexpected results with references to relevant studies\n",
    "- Discuss analysis limitations and suggest areas for further analysis to enhance understanding \n",
    "- Ensure a well-organized, coherent response within 150-300 words\n",
    "- Use appropriate citations to support arguments\n",
    "\n",
    "The learning objective of this question is to help you to enhance your critical thinking in data analysis, use of references to support your arguments, and clarity in presenting findings. This shall help you to prepare for your final project."
   ]
  }
 ],
 "metadata": {
  "kernelspec": {
   "display_name": "Python 3 (ipykernel)",
   "language": "python",
   "name": "python3"
  },
  "language_info": {
   "codemirror_mode": {
    "name": "ipython",
    "version": 3
   },
   "file_extension": ".py",
   "mimetype": "text/x-python",
   "name": "python",
   "nbconvert_exporter": "python",
   "pygments_lexer": "ipython3",
   "version": "3.11.5"
  }
 },
 "nbformat": 4,
 "nbformat_minor": 5
}
