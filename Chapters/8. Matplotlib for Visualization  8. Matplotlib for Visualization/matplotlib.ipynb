{
 "cells": [
  {
   "cell_type": "markdown",
   "metadata": {},
   "source": [
    "![Matplotlib logo](https://matplotlib.org/stable/_images/sphx_glr_logos2_003.png)"
   ]
  },
  {
   "cell_type": "markdown",
   "metadata": {},
   "source": [
    "# Lesson 20 - 21: Matplotlib Basics\n",
    "\n",
    "This lesson is modified from [Matplotlib Basics](https://foundations.projectpythia.org/core/matplotlib.html) by [Project Pythia](https://projectpythia.org).\n",
    "\n",
    "\n",
    "[![Binder](https://mybinder.org/badge_logo.svg)](https://mybinder.org/v2/gh/aselshall/eds/HEAD)\n",
    "\n",
    "---"
   ]
  },
  {
   "cell_type": "markdown",
   "metadata": {},
   "source": [
    "## Overview\n",
    "We will explore using Matplotlib to create various plots. By the end of this lesson, you will be able to\n",
    "- decide if Matplotlib fits your visualization needs or if you need other plotting libraries\n",
    "- explain the difference between `Figure` and `Axes`\n",
    "- create and customize line plots with `subplots`\n",
    "- utilize different plot types like scatter plots, images, and contour plots (*optional*)\n",
    "\n",
    "---"
   ]
  },
  {
   "cell_type": "markdown",
   "metadata": {},
   "source": [
    "## 1. Introduction\n",
    "\n",
    "1. **[Effective data visualization](https://geo-python-site.readthedocs.io/en/latest/lessons/L1/motivation.html)** is needed as raw data alone is often insufficient for understanding the information it holds.\n",
    "<br>\n",
    "<br>\n",
    "2. **Python has many data visualization libraries** like Matplotlib, Cartopy,  Plotly, Seaborn, GeoCAT-viz, MetPy, Vapor,and Bokeh.\n",
    "   - When selecting a library for your data visualization needs, consider factors like data type, visualization complexity, and interactivity needs.\n",
    "   - For example, you can use:\n",
    "     -  [Matplotlib](https://matplotlib.org/2.0.2/gallery.html) for creating static, animated, and interactive visualizations with a wide range of plotting options,\n",
    "     -  [Seaborn](https://seaborn.pydata.org/examples/index.html) for creating complex statistical graphics with a high-level interface,\n",
    "     -  [Plotly](https://plotly.com/python/) for creating interactive visualizations with dynamic capabilities,\n",
    "     -  [Bokeh](https://docs.bokeh.org/en/latest/docs/gallery.html) for creating interactive web-based visualizations with interactive tools,\n",
    "     -  [hvPlot](https://hvplot.holoviz.org/reference/index.html) as a user-friendly tool for creating advanced interactive plots easily,\n",
    "     -  [Cartopy](https://scitools.org.uk/cartopy/docs/latest/gallery/index.html) for creating static maps with various projections and geospatial data,\n",
    "     -  [GeoCAT](https://geocat-examples.readthedocs.io/en/latest/gallery/index.html) for specialized geospatial data visualization, particularly for geoscience data,\n",
    "     -  [MetPy](https://unidata.github.io/MetPy/latest/examples/index.html) when working with weather data,\n",
    "     -  [Vapor](https://visgallery.ucar.edu/category/visualization-software/vapor/) for interactive 3D visualization, \n",
    "     -  or other libraries based on your specific data visualization needs.\n",
    "   - The [Comparison of Visualization Packages](https://projectpythia.org/advanced-viz-cookbook/notebooks/1-comparison.html) cookbook of Project Pythia offers information and resources to help you get started with these libraries.\n",
    "<br>\n",
    "<br>\n",
    "4. **Matplotlib is widely used** for creating a varity of plots in Python\n",
    "   - It is suitable for basic to intermediate level plotting needs\n",
    "   - Matplotlib documentation provides [example plots](https://matplotlib.org/stable/gallery/index.html) for different [plot types](https://matplotlib.org/stable/plot_types/index.html#plot-types)\n",
    "   - There are many online resources. For example:\n",
    "       -  [Top 50 Matplotlib Visualizations](https://www.machinelearningplus.com/plots/top-50-matplotlib-visualizations-the-master-plots-python/) provide codes based on different visualization objectives with emphasis on conveying accurate information, simplicity in design, aesthetics complementing the information, and avoiding information overload.\n",
    "      - The [geocat gallery](https://geocat-examples.readthedocs.io/en/latest/gallery/index.html) contains visualization examples from many plotting categories of geosciences data."
   ]
  },
  {
   "cell_type": "markdown",
   "metadata": {},
   "source": [
    "## 2. Imports"
   ]
  },
  {
   "cell_type": "markdown",
   "metadata": {},
   "source": [
    "Matplotlib is a Python 2-D plotting library.  It is used to produce publication quality figures in a variety of hard-copy formats and interactive environments across platforms. Matplotlib includes modules such as `pyplot`, `figure`, `axes`, `patches`, `colors`, `cm`, and `colorbar` for creating and customizing plots and visualizations. \n",
    "  \n",
    "Importing `pyplot` from Matplotlib simplifies figure creation with a MATLAB-like interface. Renaming `pyplot` as `plt` is the common convention for brevity. "
   ]
  },
  {
   "cell_type": "code",
   "execution_count": null,
   "metadata": {},
   "outputs": [],
   "source": [
    "import matplotlib.pyplot as plt\n",
    "import numpy as np\n",
    "import pandas as pd"
   ]
  },
  {
   "cell_type": "markdown",
   "metadata": {},
   "source": [
    "## 3. Prepare plotting data "
   ]
  },
  {
   "cell_type": "markdown",
   "metadata": {},
   "source": [
    "### 3.1 Air quality data"
   ]
  },
  {
   "cell_type": "code",
   "execution_count": null,
   "metadata": {
    "scrolled": true
   },
   "outputs": [],
   "source": [
    "# Read the data from the CSV file into a Pandas DataFrame\n",
    "# Columns: [datetime, 'PM2.5', 'PM10',  'NO2', 'SO2',  'CO', 'O3']\n",
    "# Load the array from file\n",
    "pre_dates = np.load('data/pre_dates.npy')\n",
    "pre_values = np.load('data/pre_values.npy')\n",
    "pre_aqi = np.load('data/pre_aqi.npy')\n",
    "post_dates = np.load('data/post_dates.npy')\n",
    "post_values = np.load('data/post_values.npy')\n",
    "post_aqi = np.load('data/post_aqi.npy')\n",
    "\n",
    "#Display loaded data\n",
    "print(\"pre_dates:\", pre_dates.dtype, pre_dates.shape)\n",
    "print(pre_dates[0],pre_dates[-1])\n",
    "print(\"pre_values:\", pre_values.dtype, pre_values.shape)\n",
    "print(\"pre_aqi:\", pre_aqi.dtype, pre_aqi.shape)\n",
    "print(\"post_dates:\", post_dates.dtype, pre_dates.shape)\n",
    "print(pre_dates[0],post_dates[-1])\n",
    "print(\"post_values:\", post_values.dtype, pre_values.shape)\n",
    "print(\"post_aqi:\", post_aqi.dtype, pre_aqi.shape)"
   ]
  },
  {
   "cell_type": "markdown",
   "metadata": {},
   "source": [
    "### 3.2 Additional information\n",
    "\n",
    "Let us define some additonal infromation that we may need to improve visualization."
   ]
  },
  {
   "cell_type": "code",
   "execution_count": null,
   "metadata": {},
   "outputs": [],
   "source": [
    "# Define date ranges\n",
    "lockdown_start = pd.Timestamp('2020-04-01')\n",
    "one_year_before = pd.Timestamp('2019-04-01')\n",
    "one_year_after = pd.Timestamp('2021-04-01')\n",
    "\n",
    "# Air quality parameter information\n",
    "parameters = [        'PM2.5', 'PM10',  'NO2', 'SO2',  'CO', 'O3']\n",
    "units = [             'µg/m³', 'µg/m³', 'ppb', 'ppb', 'ppm', 'ppm']\n",
    "limits = [        35 ,      155,    100,   50,     9,  0.07]  # Unhealthy levels of senitive groups"
   ]
  },
  {
   "cell_type": "markdown",
   "metadata": {},
   "source": [
    "## 4. Matplotlib basics"
   ]
  },
  {
   "cell_type": "markdown",
   "metadata": {},
   "source": [
    "### 4.1 Axes and Figures\n",
    "\n",
    "In the context of Matplotlib and plotting in general, understanding the concepts of figures and axes is fundamental. Matplotlib has two core objects:\n",
    "- The Figure is the top-level container for all plot elements.\n",
    "- The Axes is the area of the figure where the data is plotted.\n",
    "\n",
    "**Figure:**\n",
    "\n",
    "- A Figure in Matplotlib is the top-level container that holds all elements of your plot(s).\n",
    "- A `Figure` can contain one or more `Axes` objects, which are the individual plots.\n",
    "- The `Figure` also provides methods for saving plots to files in various formats such as PNG, SVG, etc.\n",
    "- You can think of the `Figure` as the canvas on which all the plotting occurs.\n",
    "- You can create a Figure using\n",
    "  - `plt.figure()`\n",
    "  - or `plt.subplots()`.\n",
    "\n",
    "**Axes:**\n",
    "\n",
    "- The `Axes` in Matplotlib refers to a single plot within a figure and not to the plural form of multiple plots.\n",
    "- An `Axes` object includes aspects like the x-axis, y-axis, labels, title, and the plot elements themselves.\n",
    "- An `Axes` object contains various methods for creating plots, including `plot()`, `scatter()`, `bar()`, and many others.\n",
    "- Within a single `Figure`, you can have multiple `Axes` arranged in a grid.\n",
    "- You can create `Axes` objects by using:\n",
    "  - `plt.subplots()` to create both a `Figure` and one or more `Axes` objects  \n",
    "  - or `fig.add_subplot()` on a `Figure` instance "
   ]
  },
  {
   "cell_type": "markdown",
   "metadata": {},
   "source": [
    "<img src=\"https://matplotlib.org/stable/_images/sphx_glr_anatomy_001.png\" alt=\"anatomy of a figure\" width=\"600\"/>"
   ]
  },
  {
   "cell_type": "markdown",
   "metadata": {},
   "source": [
    "<div class=\"admonition alert alert-info\">\n",
    "    <p class=\"admonition-title\" style=\"font-weight:bold\">Info</p>\n",
    "    Matplotlib has <a href=\"https://matplotlib.org/stable/users/explain/figure/api_interfaces.html\">two main interfaces</a>. The explicit \"Axes\" interface uses methods on a Figure or Axes object to create visual elements step by step. Example: Creating a plot with <code>ax.plot()</code>. The implicit \"pyplot\" interface: Automatically manages Figures and Axes, adding elements to the last created plot. Example: Creating a plot with <code>plt.plot()</code>. In this tutorial, we will use the \"Axes\" interface.\n",
    "</div>"
   ]
  },
  {
   "cell_type": "markdown",
   "metadata": {},
   "source": [
    "### 4.2 Creating a plot in Matplotlib\n",
    "\n",
    "Creating a plot typically involves the following steps:\n",
    "- Initiating a `Figure` object, which will be the container for your plots.\n",
    "- Adding `Axes` to the `Figure`. These can be added using:\n",
    "  - `plt.subplots()` to create a new `Figure` and `Axes` simultaneously\n",
    "  -  or `fig.add_subplot()` if you have already created a `Figure`\n",
    "- Plotting data on the `Axes` by calling plotting methods such as `plot()`, `scatter()`, etc.\n",
    "- Enhancing the plot with titles, axis labels, legends, and other annotations to make the information clear.\n",
    "- Finally, displaying the plot with `plt.show()` or saving it with `fig.savefig()`."
   ]
  },
  {
   "cell_type": "markdown",
   "metadata": {},
   "source": [
    "## 5. Basic line plot\n",
    "\n",
    "Plotting with: \n",
    "- `fig=plt.figure()` creates a single figure and you can you use `ax=fig.add_subplot()` to add plots.\n",
    "- `fig,ax=plt.subplots()` creates a single figure with a grid of one or multiple subplots\n",
    "\n",
    "Both methods will allow you to create a figure with one or multiple subplots. For this tutorial, it is easier to use `plt.subplots()`. "
   ]
  },
  {
   "cell_type": "markdown",
   "metadata": {},
   "source": [
    "### 5.1 One subplot\n",
    "\n",
    "Let use see an example. To plot `pre_values` we need to:\n",
    "1. Create a `Figure` with dimensions of 10 inches wide and 6 inches long using the `figsize` parameter.\n",
    "2. create an `Axes` object with a single subplot on the `Figure` using `plt.subplots()`\n",
    "3. use the `plot` method of the `Axes` object, with\n",
    "   - datetime data `pre_dates` for the x-axis (i.e., the independent values)\n",
    "   - and PM2.5 data `pre_values[:,0]` for the y-axis (i.e., the dependent values)"
   ]
  },
  {
   "cell_type": "code",
   "execution_count": null,
   "metadata": {},
   "outputs": [],
   "source": [
    "# Create a figure object and Axes object using subplots() method\n",
    "\n",
    "\n",
    "# Plot time  [day] as x-variable and PM2.5 ['µg/m³] as y-variable\n"
   ]
  },
  {
   "cell_type": "markdown",
   "metadata": {},
   "source": [
    "<div class=\"admonition alert alert-info\">\n",
    "    <p class=\"admonition-title\" style=\"font-weight:bold\">Info</p>\n",
    "    By default, <code>ax.plot</code> will create a line plot, as seen in the above example.\n",
    "</div>"
   ]
  },
  {
   "cell_type": "markdown",
   "metadata": {},
   "source": [
    "### 5.2 Multiple subplots"
   ]
  },
  {
   "cell_type": "markdown",
   "metadata": {},
   "source": [
    "Now how to plot PM10 on a different subplot? \n",
    "\n",
    "The `subplots()` method takes the arguments `.subplots(rows, columns)`. If we want to plot PM10 below PM2.5 we need a 2x1 grid:\n",
    "```python\n",
    "fig, ax = plt.subplots(2, 1, figsize=(10, 6))\n",
    "```\n",
    "You can access each Axes using indexing. For example,\n",
    "```python\n",
    "ax[0].plot(x,y)\n",
    "```\n",
    "Below is a concise example using axes within a figure:"
   ]
  },
  {
   "cell_type": "code",
   "execution_count": null,
   "metadata": {},
   "outputs": [],
   "source": [
    "# Create a figure\n",
    "\n",
    "# Plot times as x-variable and air quality parameters as y-variable\n"
   ]
  },
  {
   "cell_type": "markdown",
   "metadata": {},
   "source": [
    "### 5.3 Subplot function"
   ]
  },
  {
   "cell_type": "markdown",
   "metadata": {},
   "source": [
    "You might have noticed that we called the `subplots` function with the keyword argument `figsize`. Here are some of the keyword arguments that you can use when you call `subplots` or `.add_subplot()` method:\n",
    "\n",
    "| Keyword          | Description                                 | Common Values / Ranges                       | Example           | `subplots` | `addsubplot` |\n",
    "|------------------|---------------------------------------------|----------------------------------------------|-------------------|----------|------------|\n",
    "| nrows            | The number of rows of subplots              | Integer >= 1                                 | 2                 | Yes      | Yes        |\n",
    "| ncols            | The number of columns of subplots           | Integer >= 1                                 | 2                 | Yes      | Yes        |\n",
    "| index            | The index of the subplot                    | Integer starting from 1                      | 1                 | No       | Yes        |\n",
    "| figsize          | Size of the figure in inches                | Tuple (width, height) in inches              | figsize=(8, 6)    | Yes      | No         |\n",
    "| sharex           | Share the x-axis with other subplots        | Boolean (True/False)                         | sharex=True       | Yes      | Yes        |\n",
    "| sharey           | Share the y-axis with other subplots        | Boolean (True/False)                         | sharey=True       | Yes      | Yes        |\n",
    "| xlabel           | The label for the x-axis                    | Any text                                     | xlabel=\"X-axis\"   | No       | Yes        |\n",
    "| ylabel           | The label for the y-axis                    | Any text                                     | ylabel=\"Y-axis\"   | No       | Yes        |\n",
    "| title            | The title of the subplot                    | Any text                                     | title=\"Main Plot\" | Yes      | Yes        |\n",
    "| xlim             | The limits for the x-axis                   | Tuple (min, max)                             | xlim=(0, 10)      | No       | Yes        |\n",
    "| ylim             | The limits for the y-axis                   | Tuple (min, max)                             | ylim=(0, 20)      | No       | Yes        |\n",
    "| xticks           | The positions of tick marks on the x-axis   | List of values                               | xticks=[0, 5,10]  | No       | Yes        |\n",
    "\n",
    "These are just a few common keyword arguments used with these two methods to customize and configure subplots in a figure.\n",
    "\n",
    "Let us try one of these keyowrds. Let us try to remove the ticks of x-axis of the upper plot, since both plots share the same axis. We can use the `sharex` argument."
   ]
  },
  {
   "cell_type": "code",
   "execution_count": null,
   "metadata": {},
   "outputs": [],
   "source": [
    "# Create a figure\n",
    "\n",
    "# Plot times as x-variable and air quality parameters as y-variable\n",
    "ax[0].plot(pre_dates,pre_values[:,0] ); #PM 2.5\n",
    "ax[1].plot(pre_dates,pre_values[:,1] );  #PM 10"
   ]
  },
  {
   "cell_type": "markdown",
   "metadata": {},
   "source": [
    "### 5.4 Plotting multiple graphs on the same axis\n",
    "\n",
    "We can call `.plot()` more than once to add more plots to our Axes. Let rewrite the above code to plot both pre and post data only for PM2.5"
   ]
  },
  {
   "cell_type": "code",
   "execution_count": null,
   "metadata": {},
   "outputs": [],
   "source": [
    "# Create a figure\n",
    "fig, ax = plt.subplots(2, 1, figsize=(10, 6), sharex=True)\n",
    "\n",
    "# Plot times as x-variable and air quality parameters as y-variable for PM2.5\n",
    "ax[0].plot(pre_dates,pre_values[:,0] ); #PM 2.5\n",
    "\n",
    "# Plot times as x-variable and air quality parameters as y-variable for PM10\n",
    "ax[1].plot(pre_dates,pre_values[:,1] );  #PM 10\n"
   ]
  },
  {
   "cell_type": "markdown",
   "metadata": {},
   "source": [
    "## 6. Customizing plot"
   ]
  },
  {
   "cell_type": "markdown",
   "metadata": {},
   "source": [
    "### 6.1 Customizing plot with `Axes` object\n",
    "\n",
    "Let us look at post-plot customization by leveraging the `Axes` object in Matplotlib. We can specify \"Time\" as x-axis label and \"PM2.5\" as y-axis label. This is achieved through the `ax.set_xlabel()` and `ax.set_ylabel()` methods, respectively.\n",
    "\n",
    "Let us add labels and visualize the updated the above figure:"
   ]
  },
  {
   "cell_type": "code",
   "execution_count": null,
   "metadata": {},
   "outputs": [],
   "source": [
    "# Add some labels to the y-axis\n",
    "ax[0].set_ylabel(f'{parameters[0]} ({units[0]}) ')\n",
    "ax[1].set_ylabel(f'{parameters[1]} ({units[1]}) ')\n",
    "\n",
    "# Add some labels to x-axis\n",
    "\n",
    "\n",
    "# Prompt the notebook to re-display the figure after we modify it\n",
    "fig"
   ]
  },
  {
   "cell_type": "markdown",
   "metadata": {},
   "source": [
    "<div class=\"admonition alert alert-info\">\n",
    "    <p class=\"admonition-title\" style=\"font-weight:bold\">Info</p>\n",
    "    If you have Figure object stored in a variable named <code>fig</code>, you can display it using <code>plt.show(fig)</code>, or simply by placing the variable name <code>fig</code> at the end of the code. This prompts the notebook to re-display the figure after modifications have been made to it rather than recreating the figure from scratch. \n",
    "</div>"
   ]
  },
  {
   "cell_type": "markdown",
   "metadata": {},
   "source": [
    "The `set_xlabel` and `set_ylabel` are methods in `Axes` object. Here are a few others for creating and modifying plots using Axes objects. \n",
    "\n",
    "\n",
    "**Labels and Title**\n",
    "| Method         | Description                               |\n",
    "|-------------------------|-------------------------------------------|\n",
    "| `ax.set_xlabel('Time')`       | Set the label for the x-axis to 'Time'             |\n",
    "| `ax.set_ylabel('Value')`       | Set the label for the y-axis to 'Value'             |\n",
    "| `ax.set_title('Sample Plot')`        | Set the title of the plot to 'Sample Plot'                 |\n",
    "\n",
    "**Legends and Grid**\n",
    "| Method         | Description                               |\n",
    "|-------------------------|-------------------------------------------|\n",
    "| `ax.legend(['A', 'B', 'C'])`           | Add a legend with labels 'A', 'B', 'C' to the plot                  |\n",
    "| `ax.grid(True, linestyle='--')`             | Add grid lines to the plot with a dashed linestyle                |\n",
    "    \n",
    "**Axis Limits and Ticks**\n",
    "| Method       | Description                               |\n",
    "|-------------------------|-------------------------------------------|\n",
    "| `ax.set_xlim(0, 10)`         | Set the limits for the x-axis from 0 to 10             |\n",
    "| `ax.set_ylim(0, 100)`         | Set the limits for the y-axis from 0 to 100             |\n",
    "| `ax.set_xticks([0, 5, 10])`       | Set the positions of the x-axis ticks at 0, 5, 10     |\n",
    "| `ax.set_yticks([0, 50, 100])`       | Set the positions of the y-axis ticks at 0, 50, 100     |\n",
    "| `ax.set_xticklabels(['low', 'medium', 'high'])`  | Set the labels for the x-axis ticks as 'low', 'medium', 'high'    |\n",
    "| `ax.set_yticklabels(['start', 'mid', 'end'])`   | Set the labels for the y-axis ticks as 'start', 'mid', 'end'      |\n",
    "| `ax.tick_params(axis='x', rotation=45)`   | Rotate x-axis tick labels by 45 degrees     |\n",
    "\n",
    " **Annotation and Lines**\n",
    "| Method         | Description                               |\n",
    "|-------------------------|-------------------------------------------|\n",
    "| `ax.text(0, 80, 'Peak', fontsize=12)`             | Add the text 'Peak' at coordinates (0, 80) with font size 12           |\n",
    "| `ax.annotate('Max', xy=(5, 90), xytext=(3, 95), arrowprops=dict(facecolor='black', shrink=0.05))`         | Add an annotation 'Max' at point (5, 90) with an arrow pointing to (3, 95)              |\n",
    "| `ax.axhline(y=50, color='r', linestyle='--')`          | Add a horizontal dashed line at y=50 with red color              |\n",
    "| `ax.axvline(x=7, color='g', linestyle=':')`          | Add a vertical dotted line at x=7 with green color            |\n",
    "| `ax.axhspan(20, 40, alpha=0.3, color='yellow')`          | Add a yellow shaded area between y=20 and y=40 with transparency 0.3          |\n",
    "| `ax.axvspan(2, 5, alpha=0.5, color='gray')`          | Add a gray shaded area between x=2 and x=5 with transparency 0.5           |\n",
    "\n",
    "**Plotting and Visualization**\n",
    "| Method        | Description                               |\n",
    "|-------------------------|-------------------------------------------|\n",
    "| `ax.plot(x, y, linestyle='-', marker='o', color='purple')`             | Plot lines connecting data points with circular markers in purple color          |\n",
    "| `ax.scatter(x, y, s=100, c='red', marker='s')`          | Make a scatter plot with red squares of size 100                   |\n",
    "| `ax.fill_between(x, y1, y2, color='gray', alpha=0.5)`          | Fill area between two curves with gray color and transparency 0.5           |\n",
    "| `ax.imshow(image, cmap='viridis')`           | Display an image on the axes using the 'viridis' colormap               |\n",
    "| `ax.hist(data, bins=20, color='orange')`             | Plot a histogram of data with 20 bins and orange color                 |\n",
    "| `ax.bar(categories, values, color='skyblue')`              | Plot vertical bars with sky blue color for each category               |\n",
    "| `ax.barh(categories, values, color='lightgreen')`             | Plot horizontal bars with light green color for each category            |\n",
    "| `ax.errorbar(x, y, yerr=0.1, fmt='o', color='blue')`          | Plot error bars with a blue color for data points with y error of 0.1           |\n",
    "\n",
    "For more details on the keyword arguments each method can take, use help functions like `ax[1].set_ylabel?` or `help(ax[1].set_label)`."
   ]
  },
  {
   "cell_type": "code",
   "execution_count": null,
   "metadata": {},
   "outputs": [],
   "source": [
    "ax[1].set_ylabel?"
   ]
  },
  {
   "cell_type": "markdown",
   "metadata": {},
   "source": [
    "<div class=\"admonition alert alert-info\">\n",
    "    <p class=\"admonition-title\" style=\"font-weight:bold\">Info</p>\n",
    "    Note you  would need to have <code>`ax`</code>, defined before you can access help for its methods like <code>`set_xlabel</code>,\n",
    "</div>"
   ]
  },
  {
   "cell_type": "markdown",
   "metadata": {},
   "source": [
    "#### Test your understanding\n",
    "\n",
    "For both plots (PM2.5 and PM10), add a title to a plot and adjust the font size:\n",
    "- Use `ax.set_title()` to set the plot title\n",
    "- with `fontsize` keyword to set font size. of the title\n",
    "\n",
    "For the first plot (PM2.5), add a black dotted horizontal line indicating the healthy limit only when the air quality parameter exceeds healthy limit. \n",
    "- Use `ax.axhline()` to add a horizontal line\n",
    "- at `y` equal to healty limit of that air quality healty limit\n",
    "- if max(pre_post_data of PM2.5) >= healthy limit of PM 2.5 \n",
    "\n",
    "Let us try it out"
   ]
  },
  {
   "cell_type": "code",
   "execution_count": null,
   "metadata": {},
   "outputs": [],
   "source": [
    "#Add title and increase title font size to 16\n",
    "\n",
    "#Add horizontal line\n",
    "max_value = np.max([pre_values[:,0].max(), post_values[:,0].max()])\n",
    "\n",
    "\n",
    "#Display updated figure\n",
    "fig"
   ]
  },
  {
   "cell_type": "markdown",
   "metadata": {},
   "source": [
    "### 6.2 Cutomize plot when calling `.plot()` function"
   ]
  },
  {
   "cell_type": "markdown",
   "metadata": {},
   "source": [
    "Instead of customizing the plot using `ax.` after its creation, you can create the plot with customization directly. Let us try to:\n",
    "1. add legened for pre and post at upper left,\n",
    "2. have blue line for pre and red line for post,\n",
    "3. add gird to each subplot.\n",
    "\n",
    "and do not forget to add axis labels as we did before.\n",
    "\n",
    "To add a legend to each subplot:\n",
    "- Use `label` keyowrd of `plot` in each `plot` call to create legend labels automatically.\n",
    "- Use the `legend` method of `Axes` to display the legend labels.\n",
    "- Use the `loc` keyword of `legend` method to set the legend location \n",
    "\n",
    "To change line colors:\n",
    "- Use`color` keyword of `plot` in each `plot` call to specify the desired colors for \"pre\" (blue) and \"post\" (red)\n",
    "\n",
    "To add grid:\n",
    "- Use grid method of `Axes` to add a grid to the `Axes` objects \n",
    "\n",
    "Let us try it out:"
   ]
  },
  {
   "cell_type": "code",
   "execution_count": null,
   "metadata": {},
   "outputs": [],
   "source": [
    "# Create a 2x1 grid figure with sharex=True\n",
    "fig, ax = plt.subplots(2, 1, figsize=(10, 6), sharex=True)\n",
    "\n",
    "# Plot time versus PM 2.5 with label and color blue for pre and red for post \n",
    "ax[0].plot(pre_dates,     #time\n",
    "           pre_values[:,0],     #PM2.5\n",
    "           label='PM2.5 Pre', #Legend label\n",
    "           color='red'        #Line color\n",
    "          ); #pre\n",
    "ax[0].plot(post_dates,     #time\n",
    "           post_values[:,0],     #PM2.5\n",
    "           label='PM2.5 Pre', #Legend label\n",
    "           color='blue'        #Line color\n",
    "          ); #post\n",
    "\n",
    "# Plot time versus PM 10 with label and color blue for pre and red for post \n",
    "ax[1].plot(pre_dates,     #time\n",
    "           pre_values[:,1],     #PM10\n",
    "           label='PM10 Pre', #Legend label\n",
    "           color='red'        #Line color\n",
    "          ); #pre\n",
    "\n",
    "# Add a legend to the upper left corner of the plot\n",
    "ax[0].legend(loc='upper left');\n",
    "ax[1].legend(loc='upper left');\n",
    "\n",
    "# Add gridlines\n",
    "ax[0].grid(True)\n",
    "ax[1].grid(True)\n",
    "\n",
    "# Add some labels to the y-axis\n",
    "ax[0].set_ylabel(f'{parameters[0]} ({units[0]}) ')\n",
    "ax[1].set_ylabel(f'{parameters[1]} ({units[1]}) ')\n",
    "\n",
    "# Add some labels to x-axis\n",
    "ax[1].set_xlabel('Time');"
   ]
  },
  {
   "cell_type": "markdown",
   "metadata": {},
   "source": [
    "Here are some keyword arguments of the `.plot` function in Matplotlib:\n",
    "\n",
    "| Keyword          | Description                                 | Common Values / Ranges                                    | Example           |\n",
    "|------------------|---------------------------------------------|-----------------------------------------------------------|-------------------|\n",
    "| x                | The x-coordinates of the data points        | Any numerical values                                      | [1, 2, 3, 4, 5]  |\n",
    "| y                | The y-coordinates of the data points        | Any numerical values                                      | [10, 20, 15, 30, 25] |\n",
    "| label            | The label for the data series               | Any text                                                  | label= \"Data Points\"     |\n",
    "| color            | The color of the line                       | Any color name or code                                    | color=\"blue\"            |\n",
    "| linestyle        | The style of the line (solid, dashed, etc)  | \"solid\" or \"-\"(solid line), \"dashed\" or \"--\", \"dotted\" or \":\", \"dashdot\" or \"-.\"      | linestyle=\"dashed\"          |\n",
    "| linewidth        | The width of the line                       | Any numerical values                                      | linewidth=2                 |\n",
    "| marker           | The marker style for data points            | \"o\" (circle), \".\" (point), \"^\" (triangle), \"s\" (square), \"d\" (diamond), \"*\" (star),\"+\" (plus sign)| marker=\"o\"         |\n",
    "| markersize       | The size of the markers                     | Any numerical values                                      | markersize= 8                 |\n",
    "| markerfacecolor  | The face color of the markers               | Any color name or code                                    | markerfacecolor=\"red\"             |\n",
    "| markeredgewidth  | The width of the marker edges               | Any numerical values                                      | markeredgewidth= 1                 |\n",
    "| alpha            | The transparency of the line                | Range: 0 (completely transparent) to 1 (completely opaque)| alpha= 0.5               |\n",
    "| zorder           | The z-order of the line (layering order)    | Any numerical values                                      | zorder=2                 |\n",
    "| visible          | Whether the line is visible or not          | True or False                                             | visible=True              |\n",
    "| cmap             | The colormap for coloring the line          | Any colormap name                                         | cmap=\"viridis\"         |\n",
    "| clip_on          | Whether to clip the line to the axes or not | True or False                                             | clip_on=False             |\n",
    "| solid_capstyle   | The cap style for solid linestyle            | \"butt\", \"round\", \"projecting\"                            | solid_capstyle=\"butt\"            |\n",
    "| solid_joinstyle  | The join style for solid linestyle           | \"miter\", \"round\", \"bevel\"                                | solid_joinstyle=\"miter\"           |"
   ]
  },
  {
   "cell_type": "markdown",
   "metadata": {},
   "source": [
    "#### Test your understanding\n",
    "\n",
    "For the code below add `.plot()` keywords to cutomize your post PM2.5 plot\n",
    "- line color black \n",
    "- with dotted lines\n",
    "- linewidth 2"
   ]
  },
  {
   "cell_type": "code",
   "execution_count": null,
   "metadata": {},
   "outputs": [],
   "source": [
    "# Create a 2x1 grid figure with sharex=True\n",
    "fig, ax = plt.subplots(2, 1, figsize=(10, 6), sharex=True)\n",
    "\n",
    "# Plot time versus PM 2.5 with label and color blue for pre and red for post \n",
    "ax[0].plot(pre_dates,     #time\n",
    "           pre_values[:,0],     #PM2.5\n",
    "           label='PM2.5 Pre', #Legend label\n",
    "           color='red'        #Line color\n",
    "          ); #pre\n",
    "ax[0].plot(post_dates,     #time\n",
    "           post_values[:,1],     #PM2.5\n",
    "           label='PM2.5 Pre', #Legend label\n",
    "\n",
    "\n",
    "\n",
    "          ); #post\n",
    "\n",
    "# Plot time versus PM 10 with label and color blue for pre and red for post \n",
    "ax[1].plot(pre_dates,     #time\n",
    "           pre_values[:,1],     #PM10\n",
    "           label='PM10 Pre', #Legend label\n",
    "           color='red'        #Line color\n",
    "          ); #pre\n",
    "\n",
    "# Add a legend to the upper left corner of the plot\n",
    "ax[0].legend(loc='upper left');\n",
    "ax[1].legend(loc='upper left');\n",
    "\n",
    "# Add gridlines\n",
    "ax[0].grid(True)\n",
    "ax[1].grid(True)\n",
    "\n",
    "# Add some labels to the y-axis\n",
    "ax[0].set_ylabel(f'{parameters[0]} ({units[0]}) ')\n",
    "ax[1].set_ylabel(f'{parameters[1]} ({units[1]}) ')\n",
    "\n",
    "# Add some labels to x-axis\n",
    "ax[1].set_xlabel('Time');"
   ]
  },
  {
   "cell_type": "markdown",
   "metadata": {},
   "source": [
    "### 6.3 Customizing plot with `Figure` object\n",
    "\n",
    "In the above plot, we can improve the visual appeal by reducing spacing between the two subplot. This is adjustment involves the `Figure` object rather than the `Axes` objects. By increasing the vertical space between subplots using `fig.subplots_adjust(hspace=)`, we can improve the layout.\n",
    "\n",
    "Let us try this:"
   ]
  },
  {
   "cell_type": "code",
   "execution_count": null,
   "metadata": {},
   "outputs": [],
   "source": [
    "# Reduce the vertical space between subplots to 0.05 inches or 0 inches\n",
    "fig.subplots_adjust(hspace=0)\n",
    "\n",
    "#Display updated figure\n",
    "fig"
   ]
  },
  {
   "cell_type": "markdown",
   "metadata": {},
   "source": [
    "There other methods associated with `Figure` objects as follows.\n",
    "\n",
    "**Adjusting Layout**\n",
    "| Method               | Description                                 |\n",
    "|------------------------------|---------------------------------------------|\n",
    "| `fig.subplots_adjust(left=0.1, right=0.9, bottom=0.1, top=0.9)`      | Adjust the spacing between subplots by setting the margins for left, right, bottom, and top |\n",
    "| `fig.tight_layout(pad=1.0)`         | Automatically adjust subplot parameters with additional padding specified     |\n",
    "| `fig.set_constrained_layout_pads(w_pad=2.0, h_pad=2.0, hspace=0.2, wspace=0.2)`         | Set padding between subplots and adjust horizontal and vertical spacing     |\n",
    "\n",
    "**Saving and Displaying**\n",
    "| Method               | Description                                 |\n",
    "|------------------------------|---------------------------------------------|\n",
    "| `fig.savefig('plot.png', dpi=300)`               | Save the figure to a file with a specific resolution                   |\n",
    "| `fig.canvas.draw_idle()`                  | Redraw the figure canvas, updating it if changes have been made                           |\n",
    "| `fig.show(warn=True)`                  | Display the figure with a warning if there are potential issues                           |\n",
    "\n",
    "These examples demonstrate further functionalities for adjusting layout and saving/displaying figures. "
   ]
  },
  {
   "cell_type": "markdown",
   "metadata": {},
   "source": [
    "### 6.4 Customizing colors"
   ]
  },
  {
   "attachments": {},
   "cell_type": "markdown",
   "metadata": {},
   "source": [
    "When customizing colors in your visualizations, the `color` attribute offers various options for color representation:\n",
    "\n",
    "- **Named Colors**: You can use named colors such as `red` and `blue` for convenience.\n",
    "- **HTML Color Codes**: Specify colors using hexadecimal color codes (#RRGGBB), like `#FFA500` for red and `#008000` for blue.\n",
    "- **RGB Color Codes**: Utilize RGB color codes in the range of 0 to 255, such as `(255, 0, 0)` for red and `(0, 0, 255)` for blue.\n",
    "- **RGBA Color Codes**: Include an alpha channel for transparency with RGBA color codes, for example, `(255, 0, 0, 0.5)`.\n",
    "\n",
    "Color maps (colormaps) map scalar data values to colors in visualizations, aiding in visualizing data gradients and patterns. Matplotlib provides [various built-in color maps]((https://matplotlib.org/stable/users/explain/colors/colormaps.html)) tailored for different data types. Understanding color maps can enhance plot interpretability and aesthetic appeal.\n",
    "\n",
    "For more detailed information, you can refer to the [list of named colors in Matplotlib](https://matplotlib.org/stable/gallery/color/named_colors.html) or learn about [specifying colors in Matplotlib](https://matplotlib.org/stable/users/explain/colors/colors.html#colors-def)."
   ]
  },
  {
   "cell_type": "markdown",
   "metadata": {},
   "source": [
    "## 7. Class Exercise: Putting this all together"
   ]
  },
  {
   "cell_type": "markdown",
   "metadata": {},
   "source": [
    "Complete the code below by:\n",
    "1. plotting pre and post data for the six parameter with legend (Hint: use for loop)\n",
    "2. removing horizontal spacing between subplots using `fig.subplots_adjust()` with `hspace` keyword\n",
    "3. setting x-axis limits from '2019-01-01' to '2021-01-01' using `ax.set_xlim()` with the aid of `pd.to_datetime('2019-04-01')` to convert string to datetime\n",
    "\n",
    "Let us try it out:"
   ]
  },
  {
   "cell_type": "code",
   "execution_count": null,
   "metadata": {},
   "outputs": [],
   "source": [
    "#Create Figure and Axes objects (6x1) \n",
    "# with figure size 10 inche long by 8 wide inches and shared x-axis\n",
    "fig, ax = plt.subplots(6, 1, figsize=(10, 8), sharex=True)\n",
    "\n",
    "#Change horizontal spaces between subplot\n",
    "fig.subplots_adjust(hspace=0)\n",
    "    \n",
    "for index, (parameter, unit, limit) in enumerate(zip(parameters, units, limits)):\n",
    "    \n",
    "    # Plot times as x-variable and air qualiy parameter as y-variable\n",
    "    ax[index].plot(pre_dates, pre_values[:, index])   #pre\n",
    "    ax[index].plot(post_dates, post_values[:, index]) #post \n",
    "    \n",
    "    # Add a horizontal line for healthy limit\n",
    "    if (limit<= pre_values[:, index].max()) or (limit <= post_values[:, index].max()):\n",
    "        print(f\"{parameter} exceeds healthy limit {limit}\")\n",
    "        ax[index].axhline(y=limit, color='r', linestyle='--', label='Healthy Limit')\n",
    "    \n",
    "    # Set the x-axis limits using the datetime objects\n",
    "    # Note we need to convert date strings to datetime objects because our NumPy area has datetime\n",
    "    ax[index].set_xlim(pd.to_datetime('2019-04-01') , pd.to_datetime('2021-04-01'))\n",
    "    \n",
    "    # Set y-label\n",
    "    ax[index].set_ylabel(f\"{parameter} [{unit}]\");"
   ]
  },
  {
   "cell_type": "markdown",
   "metadata": {},
   "source": [
    "## 8. Scatterplot (*optional*)\n",
    "Some data cannot be plotted accurately as a line plot.  Another type of plot that is popular  is the marker plot, more commonly known as a scatter plot. A simple scatter plot can be created by setting the `linestyle` to `None`, and specifying a marker type, size, color, etc., like this:"
   ]
  },
  {
   "cell_type": "code",
   "execution_count": null,
   "metadata": {},
   "outputs": [],
   "source": [
    "fig, ax = plt.subplots(figsize=(10, 6))\n",
    "\n",
    "# Specify no line with circle markers\n",
    "ax.plot(post_dates, post_values[:,0], #x,y\n",
    "        linestyle='None', #no line\n",
    "        marker='o', #marker style\n",
    "        markersize=5) #marker size\n",
    "\n",
    "ax.set_xlabel('Time')\n",
    "ax.set_ylabel(f'{parameters[0]} [{units[0]}]')\n",
    "ax.grid(True)"
   ]
  },
  {
   "cell_type": "code",
   "execution_count": null,
   "metadata": {},
   "outputs": [],
   "source": [
    "fig, ax = plt.subplots(figsize=(10, 6))\n",
    "\n",
    "# Specify no line with circle markers\n",
    "ax.scatter(post_dates, post_values[:,0], #x,y\n",
    "           marker='o', #marker style \n",
    "           s=50) #marker size \n",
    "\n",
    "ax.set_xlabel('Time')\n",
    "ax.set_ylabel(f'{parameters[0]} [{units[0]}]')\n",
    "ax.grid(True)"
   ]
  },
  {
   "cell_type": "markdown",
   "metadata": {},
   "source": [
    "<div class=\"admonition alert alert-info\">\n",
    "    <p class=\"admonition-title\" style=\"font-weight:bold\">Info</p>\n",
    "    You can also use the <code>scatter</code> method, which is slower, but will give you more control, such as being able to color the points individually based upon a third variable.\n",
    "</div>\n"
   ]
  },
  {
   "cell_type": "markdown",
   "metadata": {},
   "source": [
    "Let us make different colors for dots such that values below healty limit is back and above healthy limit is read.\n",
    "\n",
    "Here is how to assign colors to dots based on air quality:\n",
    "* Start with the provided code snippet\n",
    "* Define colors for markers based on air quality values\n",
    "* Include the `c` keyword argument in the `scatter` function call"
   ]
  },
  {
   "cell_type": "code",
   "execution_count": null,
   "metadata": {},
   "outputs": [],
   "source": [
    "fig, ax = plt.subplots(figsize=(10, 6))\n",
    "\n",
    "# Creating an array of strings using np.full() with black color\n",
    "marker_colors = np.full(post_dates.shape[0], \"black\")\n",
    "\n",
    "# Change black to red for values >= healthy limit \n",
    "Check = post_values[:,0] >= limits[0]\n",
    "marker_colors[Check] = 'red'\n",
    "\n",
    "# Specify no line with circle markers\n",
    "ax.scatter(post_dates, post_values[:,0], #x,y\n",
    "           c=marker_colors,   # the color value of each marker\n",
    "           marker='o', #marker style \n",
    "           s=50) #marker size \n",
    "\n",
    "ax.set_xlabel('Time')\n",
    "ax.set_ylabel(f'{parameters[0]} [{units[0]}]')\n",
    "ax.grid(True)"
   ]
  },
  {
   "cell_type": "markdown",
   "metadata": {},
   "source": [
    "## 9. Displaying images (*optional*)\n",
    "\n",
    "`imshow` displays the values in an array as colored pixels, similar to a heat map.\n",
    "\n",
    "Here, we declare some fake data in a bivariate normal distribution, to illustrate the `imshow` method:"
   ]
  },
  {
   "cell_type": "code",
   "execution_count": null,
   "metadata": {},
   "outputs": [],
   "source": [
    "# Create an array of values from -3.0 to 3.0 with a step size of 0.025 for both x and y\n",
    "x = y = np.arange(-3.0, 3.0, 0.025)\n",
    "\n",
    "# Create a meshgrid using the x and y values\n",
    "X, Y = np.meshgrid(x, y)\n",
    "\n",
    "# Calculate Z1 and Z2 based on exponential functions with X and Y\n",
    "Z1 = np.exp(-(X**2) - Y**2)\n",
    "Z2 = np.exp(-((X - 1) ** 2) - (Y - 1) ** 2)\n",
    "\n",
    "# Calculate Z as the difference between Z1 and Z2 multiplied by 2\n",
    "Z = (Z1 - Z2) * 2\n",
    "\n",
    "# Print the shapes of arrays X, Y, and Z\n",
    "print(f\"X: {X.shape}\")\n",
    "print(f\"Y: {Y.shape}\")\n",
    "print(f\"Z: {Z.shape}\")"
   ]
  },
  {
   "cell_type": "markdown",
   "metadata": {},
   "source": [
    "We can now pass this fake data to `imshow` to create a heat map of the distribution:"
   ]
  },
  {
   "cell_type": "code",
   "execution_count": null,
   "metadata": {},
   "outputs": [],
   "source": [
    "# Create a new figure and its subplot\n",
    "fig, ax = plt.subplots()\n",
    "\n",
    "# Display the 2D array Z as an image on the subplot ax\n",
    "im = ax.imshow(\n",
    "    Z,                   # The 2D array of data to be plotted as an image\n",
    "    interpolation='bilinear',  # Specifies the interpolation method for displaying the image\n",
    "    cmap='coolwarm',           # Sets the colormap for the image plot to 'coolwarm'\n",
    "    origin='lower',            # Sets the origin of the image data to be at the lower left corner\n",
    "    extent=[-3, 3, -3, 3]     # Sets the extent of the image data along the x and y axes\n",
    ")\n"
   ]
  },
  {
   "cell_type": "markdown",
   "metadata": {},
   "source": [
    "## 10. Contour and filled contour plots (*optional*)\n",
    "\n",
    "- `contour` creates contours around data.\n",
    "- `contourf` creates filled contours around data."
   ]
  },
  {
   "cell_type": "markdown",
   "metadata": {},
   "source": [
    "Let's start with the `contour` method, which, as just mentioned, creates contours around data:"
   ]
  },
  {
   "cell_type": "code",
   "execution_count": null,
   "metadata": {},
   "outputs": [],
   "source": [
    "# Create a new figure and its subplot\n",
    "fig, ax = plt.subplots()\n",
    "\n",
    "# Create contour lines on the subplot ax using the meshgrid X, Y, and data Z\n",
    "ax.contour(X, Y, Z);"
   ]
  },
  {
   "cell_type": "markdown",
   "metadata": {},
   "source": [
    "After creating contours, we can label the lines using the `clabel` method, like this:"
   ]
  },
  {
   "cell_type": "code",
   "execution_count": null,
   "metadata": {},
   "outputs": [],
   "source": [
    "# Create a new figure and its subplot\n",
    "fig, ax = plt.subplots()\n",
    "\n",
    "# Create contour lines on the subplot ax using the meshgrid X, Y, and data Z with specified levels\n",
    "c = ax.contour(X, Y, Z, levels=np.arange(-2, 2, 0.25))\n",
    "\n",
    "# Label the contour lines on the plot\n",
    "ax.clabel(c);"
   ]
  },
  {
   "cell_type": "markdown",
   "metadata": {},
   "source": [
    "As described above, the `contourf` (contour fill) method creates filled contours around data, like this:"
   ]
  },
  {
   "cell_type": "code",
   "execution_count": null,
   "metadata": {},
   "outputs": [],
   "source": [
    "# Create a new figure and its subplot\n",
    "fig, ax = plt.subplots()\n",
    "\n",
    "# Create filled contour plot on the subplot ax using the meshgrid X, Y, and data Z\n",
    "c = ax.contourf(X, Y, Z);"
   ]
  },
  {
   "cell_type": "markdown",
   "metadata": {},
   "source": [
    "As a final example, let's create a heatmap figure with contours using the `contour` and `imshow` methods.  First, we use `imshow` to create the heatmap, specifying a colormap using the `cmap` keyword argument.  We then call `contour`, specifying black contours and an interval of 0.5.  Here is the example code, and resulting figure:"
   ]
  },
  {
   "cell_type": "code",
   "execution_count": null,
   "metadata": {},
   "outputs": [],
   "source": [
    "# Create a new figure and its subplot\n",
    "fig, ax = plt.subplots()\n",
    "\n",
    "# Display an image (imshow) of the data Z on the subplot ax with specified settings\n",
    "im = ax.imshow(   # Display an image of the data Z on the subplot ax with specified settings\n",
    "    Z, interpolation='bilinear', # Use bilinear interpolation for smoother image display\n",
    "    cmap='PiYG',  # Use the PiYG colormap for coloring the image\n",
    "    origin='lower', # Set the origin of the image to be at the lower left corner\n",
    "    extent=[-3, 3, -3, 3] # Set the extent of the image in the plot\n",
    ")\n",
    "\n",
    "# Add contour lines on the plot\n",
    "c = ax.contour( # Create contour lines on the plot\n",
    "    X, # X coordinates for the contour plot\n",
    "    Y, # Y coordinates for the contour plot\n",
    "    Z, # Data values for the contour plot\n",
    "    levels=np.arange(-2, 2, 0.5), # Specify the levels at which contour lines should be drawn\n",
    "    colors='black' # Set the color of the contour lines to black\n",
    ") \n",
    "\n",
    "# Label the contour lines on the plot\n",
    "ax.clabel(c);"
   ]
  },
  {
   "cell_type": "markdown",
   "metadata": {},
   "source": [
    "## 11. Heatmap plot (*optional*)\n",
    "\n",
    "A `matshow` plot is a type of heatmap that displays a matrix of data as a color-encoded image. Each cell in the matrix is represented by a colored square, with colors indicating the values in the matrix. It is useful for visualizing relationships or patterns in the data, such as correlations between variables in a correlation matrix. The color intensity represents the magnitude of the values, making it easy to identify trends or clusters within the data."
   ]
  },
  {
   "cell_type": "code",
   "execution_count": null,
   "metadata": {},
   "outputs": [],
   "source": [
    "# Generate a random correlation matrix\n",
    "data = np.random.rand(4, 4)\n",
    "correlation_matrix = np.corrcoef(data, rowvar=False)\n",
    "\n",
    "fig, ax = plt.subplots(figsize=(8, 6))\n",
    "im = ax.matshow(correlation_matrix, cmap='coolwarm')\n",
    "\n",
    "# Set x-axis and y-axis labels\n",
    "ax.set_xticks(np.arange(len(correlation_matrix)))\n",
    "ax.set_yticks(np.arange(len(correlation_matrix)))\n",
    "ax.set_xticklabels(['A', 'B', 'C', 'D'])\n",
    "ax.set_yticklabels(['A', 'B', 'C', 'D'])\n",
    "\n",
    "fig.colorbar(im, ax=ax)\n",
    "ax.set_title('Correlation Matrix')\n",
    "plt.show()\n"
   ]
  },
  {
   "cell_type": "markdown",
   "metadata": {},
   "source": [
    "## 12. Automating subplot index in a loop (*optional*)"
   ]
  },
  {
   "cell_type": "markdown",
   "metadata": {},
   "source": [
    "If you want to work with an m x n grid, automating the indexing process can be beneficial, particularly in loop scenarios. You can achieve this automation using `index // n` and `index % n`. For instance, in a 2 x 3 subplot grid, you would access the Axes using `ax[index // 3, index % 3]`.\n",
    "\n",
    "Here is an example:"
   ]
  },
  {
   "cell_type": "code",
   "execution_count": null,
   "metadata": {},
   "outputs": [],
   "source": [
    "# Generate sample data for 3x2 subplots\n",
    "data = [np.random.normal(0, 1, 100) for _ in range(6)]\n",
    "\n",
    "# Create a figure object and Axes object using subplots() method\n",
    "n = 2 #Number of rows\n",
    "m = 3 #Number of colums\n",
    "\n",
    "fig, ax = plt.subplots(n, m, figsize=(8, 4))\n",
    "\n",
    "# Plot data on each subplot\n",
    "for index in range(6):\n",
    "    ax[index // m, index % m].hist(data[index], bins=20)  # Plot histogram for sample data\n",
    "    ax[index // m, index % m].set_title(f'Subplot {index + 1}')  # Set subplot title\n",
    "\n",
    "plt.tight_layout()\n",
    "plt.show()"
   ]
  },
  {
   "cell_type": "markdown",
   "metadata": {},
   "source": [
    "In the provided code, the expression `ax[index // 3, index % 3]` is used to access each subplot within a 2x3 grid of subplots. The `//` and `%` operations compute the row and column indices in the grid, making element access and traversal easier during iteration. \n",
    "- The modulo operation `%` gives the remainder after division, ensuring the column index remains within the range of 0 to 2, allowing for cyclic behavior in element indexing.\n",
    "- Integer division `//` divides two numbers and provides the integer part of the quotient, neglecting any remainder, which helps in keeping the row index within the range of 0 to 2.\n",
    "\n",
    "Combining these two expressions (`index // 3` for rows and `index % 3` for columns) allows us to access each subplot in the 2x3 grid systematically. This correctly maps the loop variable `index` to the corresponding row and column indices in the 2x3 grid, enabling dynamic subplot within the loop iteration."
   ]
  },
  {
   "cell_type": "code",
   "execution_count": null,
   "metadata": {},
   "outputs": [],
   "source": [
    "for index in range(10):\n",
    "    print(index // 3, index % 3)"
   ]
  },
  {
   "cell_type": "markdown",
   "metadata": {},
   "source": [
    "## 13. Boxplot for multiple datasets with for-loop (*optional*)\n",
    "\n",
    "Here we create box plots for multiple datasets iteratively using a for loop in Matplotlib. This example show how to add data one by one and then display the box plots together. \n",
    "\n",
    "Here is how you can achieve this:"
   ]
  },
  {
   "cell_type": "code",
   "execution_count": null,
   "metadata": {},
   "outputs": [],
   "source": [
    "# Generating sample data for demonstration purposes\n",
    "data1 = np.random.normal(0, 1, 100)\n",
    "data2 = np.random.normal(1, 1.5, 100)\n",
    "data3 = np.random.normal(-1, 0.5, 100)\n",
    "data4 = np.random.normal(-0.5, 1, 100)\n",
    "\n",
    "# Creating the data list with the sample datasets\n",
    "data_list = [data1, data2, data3, data4]\n",
    "\n",
    "# Create dataset and label for plotting\n",
    "boxplot_data = []\n",
    "labels = []\n",
    "for index, data in enumerate(data_list, start=1):\n",
    "    boxplot_data.append(data)\n",
    "    labels.append(f'Dataset {index}')\n",
    "\n",
    "#Plot data\n",
    "fig, ax = plt.subplots(figsize=(10, 6))\n",
    "\n",
    "ax.boxplot(boxplot_data)\n",
    "ax.set_title('Box Plot for Multiple Datasets')\n",
    "ax.set_ylabel('Values')\n",
    "ax.set_xticks(range(1, len(boxplot_data) + 1))\n",
    "ax.set_xticklabels(labels)\n",
    "plt.show()"
   ]
  },
  {
   "cell_type": "markdown",
   "metadata": {},
   "source": [
    "In the above code:\n",
    "- `data_list` is a list containing the datasets you want to plot.\n",
    "- We iterate over each dataset in the `data_list` using a for loop, adding the data to `boxplot_data` and creating labels for each dataset.\n",
    "- Finally, we use `plt.boxplot()` to create the box plots for each dataset in `boxplot_data`, with corresponding labels.\n",
    "\n",
    "By running this code, you can create box plots for multiple datasets one by one using a for loop."
   ]
  },
  {
   "cell_type": "markdown",
   "metadata": {},
   "source": [
    "## 14. \"Axes\" interface and \"pyplot\" interface (*optional*)\n",
    "\n",
    "Matplotlib has [two main interfaces](https://matplotlib.org/stable/users/explain/figure/api_interfaces.html). The explicit \"Axes\" interface uses methods on a Figure or Axes object to create visual elements step by step. Example: Creating a plot with `ax.plot()`. The implicit \"pyplot\" interface: Automatically manages Figures and Axes, adding elements to the last created plot. Example: Creating a plot with `plt.plot()`\n",
    "\n",
    "Here is the above example, with the explicit \"Axes\" interface `ax.plot()`:"
   ]
  },
  {
   "cell_type": "code",
   "execution_count": null,
   "metadata": {},
   "outputs": [],
   "source": [
    "fig, ax = plt.subplots(figsize=(10, 6))\n",
    "\n",
    "ax.boxplot(boxplot_data)\n",
    "ax.set_title('Box Plot for Multiple Datasets')\n",
    "ax.set_ylabel('Values')\n",
    "ax.set_xticks(range(1, len(boxplot_data) + 1))\n",
    "ax.set_xticklabels(labels)\n",
    "plt.show()"
   ]
  },
  {
   "cell_type": "markdown",
   "metadata": {},
   "source": [
    "The same example with the implicit \"pyplot\" interface`plt.plot()`:"
   ]
  },
  {
   "cell_type": "code",
   "execution_count": null,
   "metadata": {},
   "outputs": [],
   "source": [
    "plt.subplots(figsize=(10, 6))\n",
    "\n",
    "plt.boxplot(boxplot_data)\n",
    "plt.title('Box Plot for Multiple Datasets')\n",
    "plt.ylabel('Values')\n",
    "plt.xticks(range(1, len(boxplot_data) + 1), labels)\n",
    "plt.show()"
   ]
  },
  {
   "cell_type": "markdown",
   "metadata": {},
   "source": [
    "Note how the methods names for these two interfaces are different (e.g., `ax.set_ylabel` vs. `plt.ylabel`)."
   ]
  },
  {
   "cell_type": "markdown",
   "metadata": {},
   "source": [
    "---"
   ]
  },
  {
   "cell_type": "markdown",
   "metadata": {},
   "source": [
    "## 15. Summary\n",
    "* `Matplotlib` can be used to visualize datasets you are working with.\n",
    "* You can customize various features such as labels and styles.\n",
    "* There are a wide variety of plotting options available, including (but not limited to):\n",
    "    * Line plots (`plot`)\n",
    "    * Scatter plots (`scatter`)\n",
    "    * Heatmaps (`imshow`)\n",
    "    * Contour line and contour fill plots (`contour`, `contourf`)\n",
    "* You can learn next about more plotting functionality such as histograms, pie charts, and animation"
   ]
  },
  {
   "cell_type": "markdown",
   "metadata": {},
   "source": [
    "## Resources and References\n",
    "\n",
    "The goal of this tutorial is to provide an overview of the use of the Matplotlib library. It covers creating simple line plots, but it is by no means comprehensive. For more information, try looking at the following documentation:\n",
    "- [Matplotlib cheatsheets and handouts](https://matplotlib.org/cheatsheets/)\r\n",
    "- [Matplotlib documentation](http://matplotlib.org)\n",
    "- [Matplotlib examples gallery](https://matplotlib.org/stable/gallery/index.html)\n",
    "- [GeoCAT examples gallery](https://geocat-examples.readthedocs.io/en/latest/gallery/index.html)\n",
    " "
   ]
  }
 ],
 "metadata": {
  "kernelspec": {
   "display_name": "Python 3 (ipykernel)",
   "language": "python",
   "name": "python3"
  },
  "language_info": {
   "codemirror_mode": {
    "name": "ipython",
    "version": 3
   },
   "file_extension": ".py",
   "mimetype": "text/x-python",
   "name": "python",
   "nbconvert_exporter": "python",
   "pygments_lexer": "ipython3",
   "version": "3.11.5"
  }
 },
 "nbformat": 4,
 "nbformat_minor": 4
}
