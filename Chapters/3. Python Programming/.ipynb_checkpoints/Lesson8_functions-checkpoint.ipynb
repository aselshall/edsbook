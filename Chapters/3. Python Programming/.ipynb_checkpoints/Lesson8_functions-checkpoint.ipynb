{
 "cells": [
  {
   "cell_type": "markdown",
   "metadata": {},
   "source": [
    "# <h1 style=\"color:green; text-align:center;\">Lesson 8: Functions </h1> \n",
    "\n",
    "This lesson is modified from [functions](https://geo-python-site.readthedocs.io/en/latest/notebooks/L4/functions.html) from [geo-python](https://geo-python-site.readthedocs.io/en/latest/index.html).\n",
    "\n",
    "[![Binder](https://mybinder.org/badge_logo.svg)](https://mybinder.org/v2/gh/aselshall/eds/HEAD)"
   ]
  },
  {
   "cell_type": "markdown",
   "metadata": {
    "slideshow": {
     "slide_type": ""
    },
    "tags": []
   },
   "source": [
    "---\n",
    "## Objectives  \n",
    "\n",
    "By the end of this lesson, you will be able to\n",
    "- explain the importance of using functions in your code\n",
    "- create and call a function \n",
    "- pass multiple inputs and return multipe outputs of different types to a function\n",
    "- explain the difference between global and local name space with respect to names of variables (*opitional*)\n",
    "\n",
    "---"
   ]
  },
  {
   "cell_type": "markdown",
   "metadata": {},
   "source": [
    "## 1. Functions\n",
    "A functions is a block of code for a specific task that you can re-use in your programs (this lesson). A module is a collection of functions (next lesson). In this lesson, we will learn how to create and use functions, one of the most powerful concepts in programming. "
   ]
  },
  {
   "cell_type": "markdown",
   "metadata": {},
   "source": [
    "### 1.1 Why do we use functions?\n",
    "A function is a block of organized, reusable code that can make your programs more effective, easier to read, and simple to manage. You can think functions as little self-contained programs that can perform a specific task that you can use repeatedly in your code. "
   ]
  },
  {
   "cell_type": "markdown",
   "metadata": {},
   "source": [
    "One of the basic principles in good programming is \"do not repeat yourself\". In other words, you should avoid having duplicate lines of code in your scripts. Functions are a good way to avoid such situations and they can save you a lot of time and effort as you don't need to tell the computer repeatedly what to do every time it does a common task, such as converting temperatures from Fahrenheit to Celsius. \n",
    "\n",
    "During the course we have already used some functions such as the `print()` , `min()`, `range()` and many other built-in functions in Python."
   ]
  },
  {
   "cell_type": "markdown",
   "metadata": {},
   "source": [
    "Take the `min()` function as an example. Imagine every time you need to find the minimum of a list, you write a code that looks like that?"
   ]
  },
  {
   "cell_type": "code",
   "execution_count": null,
   "metadata": {},
   "outputs": [],
   "source": [
    "numbers = [5, 3, 8, 2, 7]\n",
    "\n",
    "# Initialize the minimum_value with the first element of the list\n",
    "minimum_value = numbers[0]\n",
    "\n",
    "# Iterate through the list to find the minimum value\n",
    "for number in numbers[1:]:\n",
    "    if number < minimum_value:\n",
    "        minimum_value = number\n",
    "print(f\"The minimum value in the list is: {minimum_value}\")"
   ]
  },
  {
   "cell_type": "markdown",
   "metadata": {},
   "source": [
    "Would not it be easier to define a function and call it when we need to find the minimum of a list? Here is an example."
   ]
  },
  {
   "cell_type": "code",
   "execution_count": null,
   "metadata": {},
   "outputs": [],
   "source": [
    "def minimum(numbers):\n",
    "    # Check if the list is not empty\n",
    "    if not numbers:\n",
    "        return None  # Return None if the list is empty\n",
    "\n",
    "    # Initialize the minimum_value with the first element of the list\n",
    "    minimum_value = numbers[0]\n",
    "\n",
    "    # Iterate through the list to find the minimum value\n",
    "    for number in numbers[1:]:\n",
    "        if number < minimum_value:\n",
    "            minimum_value = number\n",
    "\n",
    "    return minimum_value"
   ]
  },
  {
   "cell_type": "code",
   "execution_count": null,
   "metadata": {},
   "outputs": [],
   "source": [
    "# Example usage:\n",
    "numbers = [5, 3, 8, 2, 7]\n",
    "minimum_value = minimum(numbers)\n",
    "print(f\"The minimum value in the list is: {minimum_value}\")"
   ]
  },
  {
   "cell_type": "markdown",
   "metadata": {},
   "source": [
    "Here are few advantages of doing this:\n",
    "- Functions allow you to abstract away complex operations. Abstraction makes it easier to reason about your code such that the users of the function only need to know what it does, not necessarily how it achieves it.\n",
    "- Functions can accept parameters, allowing them to be more flexible and adaptable to different situations.\n",
    "- Once you've written a function to perform a specific task, you can reuse that function whenever you need to perform that task again.\n",
    "   \n",
    "Here you will learn to to create and use functions"
   ]
  },
  {
   "cell_type": "markdown",
   "metadata": {},
   "source": [
    "### 1.2 Anatomy of a function\n",
    "Let's consider the task from the first lesson when we converted temperatures from Celsius to Fahrenheit.\n",
    "Such an operation is a fairly common task when dealing with temperature datasets.\n",
    "Thus we might need to repeat such calculations quite often when analysing or comparing weather or climate data between the US and Europe, for example."
   ]
  },
  {
   "cell_type": "markdown",
   "metadata": {},
   "source": [
    "#### 1.2.1 Our first function\n",
    "\n",
    "Let's define our first function called `celsius_to_fahr`."
   ]
  },
  {
   "cell_type": "code",
   "execution_count": null,
   "metadata": {},
   "outputs": [],
   "source": [
    "def celsius_to_fahr(temp):\n",
    "    return 9 / 5 * temp + 32"
   ]
  },
  {
   "cell_type": "markdown",
   "metadata": {},
   "source": [
    "![Anatomy of a function.](https://geo-python-site.readthedocs.io/en/latest/_images/Function_anatomy-400.png)\n",
    "\n",
    "The function definition opens with the keyword `def` followed by the name of the function and a list of parameter names in parentheses. The body of the function, the statements that are executed when it runs, is indented below the definition line just like for for loops or conditional statements.\n",
    "\n",
    "When we call the function, the values we pass to it are assigned to the corresponding parameter variables so that we can use them inside the function (e.g., the variable `temp` in this function example).\n",
    "Inside the function, we use a `return` statement to define the value that should be given back when the function is used, or called.\n",
    "\n",
    "Defining a function does nothing other than make it available for use in our notebooks. In order to use the function we need to call it."
   ]
  },
  {
   "cell_type": "markdown",
   "metadata": {},
   "source": [
    "#### 1.2.2 Calling functions\n",
    "Now let's try using our function.\n",
    "Calling our self-defined function is no different from calling any other function such as `print()`.\n",
    "You need to call it with its name and provide your value(s) as the required parameter(s) inside the parentheses.\n",
    "Here, we can define a variable `freezing_point` that is the temperature in degrees Fahrenheit we get when using our function with the temperature 0°C (the temperature at which water freezes). We can then print that value to confirm. We should get a temperature of 32°F."
   ]
  },
  {
   "cell_type": "code",
   "execution_count": null,
   "metadata": {},
   "outputs": [],
   "source": [
    "def celsius_to_fahr(temp):\n",
    "    return 9 / 5 * temp + 32"
   ]
  },
  {
   "cell_type": "code",
   "execution_count": null,
   "metadata": {},
   "outputs": [],
   "source": [
    "freezing_point = celsius_to_fahr(0)\n",
    "print(f\"The freezing point of water in Fahrenheit is {freezing_point}\")"
   ]
  },
  {
   "cell_type": "markdown",
   "metadata": {},
   "source": [
    "We can do the same thing with the boiling point of water in degrees Celsius (100°C). Just like with other functions, we can use our new function directly within something like the `print()` function to print out the boiling point of water in degrees Fahrenheit."
   ]
  },
  {
   "cell_type": "code",
   "execution_count": null,
   "metadata": {},
   "outputs": [],
   "source": [
    "print(f\"The boiling point of water in Fahrenheit is {celsius_to_fahr(100)}\")"
   ]
  },
  {
   "cell_type": "markdown",
   "metadata": {},
   "source": [
    "#### 1.2.3 Let's make another function\n",
    "\n",
    "Now that we know how to create a function to convert Celsius to Fahrenheit, let’s create another function called `kelvins_to_celsius`. We can define this just like we did with our `celsius_to_fahr()` function, noting that the Celsius temperature is just the temperature in Kelvins minus 273.15. Just to avoid confusion this time, let's call the temperature variable used in the function `temp_kelvins`.\n",
    "\n",
    "```{note}\n",
    "It would be perfectly fine to use the variable name `temp` inside our new function as well. As you will see below, variables defined in functions exist only within the function itself and will not conflict with other variables defined in other functions.\n",
    "```"
   ]
  },
  {
   "cell_type": "code",
   "execution_count": null,
   "metadata": {},
   "outputs": [],
   "source": [
    "def kelvins_to_celsius(temp_kelvins):\n",
    "    temp_celsius = temp_kelvins - 273.15\n",
    "    return temp_celsius"
   ]
  },
  {
   "cell_type": "markdown",
   "metadata": {},
   "source": [
    "##### Using our second function\n",
    "\n",
    "Let's use it in the same way as the earlier one by defining a new variable `absolute_zero` that is the Celsius temperature of 0 Kelvins. Note that we can also use the parameter name `temp_kelvins` when calling the function to explicitly state which variable value is being used. Again, let's print the result to confirm everything works."
   ]
  },
  {
   "cell_type": "code",
   "execution_count": null,
   "metadata": {},
   "outputs": [],
   "source": [
    "absolute_zero = kelvins_to_celsius(temp_kelvins=0)\n",
    "print(f\"Absolute zero in Celsius is {absolute_zero}\")"
   ]
  },
  {
   "cell_type": "markdown",
   "metadata": {},
   "source": [
    "#### 1.2.4 Check your understanding\n",
    "Create a new function called `kelvins_fahr` that \n",
    "- Has one parameter that is the temperature in degrees Kelvins to be converted to degrees Fahrenheit \n",
    "- Returns the temperature in degrees Fahrenheit\n",
    "- Recall this function to calculate temperature of absolute zero in degrees Fahrenheit\n",
    "   \n",
    "Note first convert from Kevins to Celsius `temp_celsius=temp_kelvins - 273.15` and then from Celsius to Fahrenheit `temp_fahrenheit= (temp_celsius*9/5) + 32`\n",
    "\n",
    "Ans. -459.66999999999996"
   ]
  },
  {
   "cell_type": "code",
   "execution_count": null,
   "metadata": {
    "tags": [
     "hide-cell"
    ]
   },
   "outputs": [],
   "source": [
    "# Write your function here\n"
   ]
  },
  {
   "cell_type": "code",
   "execution_count": null,
   "metadata": {},
   "outputs": [],
   "source": [
    "# Call your funcyion from here and print results\n"
   ]
  },
  {
   "cell_type": "markdown",
   "metadata": {},
   "source": [
    "### 1.3 Functions within a function\n",
    "\n",
    "You can use functions that you created inside a function. In the previous example, instead of writing these formulas gain, we can simply call the two functions that we have previously created that are `kelvins_to_celsius` and `celsius_to_fahr`. \n",
    "\n",
    "Try to create a new function `kelvins_to_fahr` that takes the temperature in Kelvins as the parameter value `temp_kelvins` and uses our `kelvins_to_celsius` and `celsius_to_fahr` functions within the new function to convert temperatures from Kelvins to degrees Fahrenheit."
   ]
  },
  {
   "cell_type": "code",
   "execution_count": null,
   "metadata": {},
   "outputs": [],
   "source": [
    "def kelvins_to_fahr(temp_kelvins):\n",
    "    temp_celsius = kelvins_to_celsius(temp_kelvins)\n",
    "    temp_fahr = celsius_to_fahr(temp_celsius)\n",
    "    return temp_fahr"
   ]
  },
  {
   "cell_type": "markdown",
   "metadata": {},
   "source": [
    "#### Using our combined functions\n",
    "\n",
    "Now let's use the function to calculate the temperature of absolute zero in degrees Fahrenheit. We can then print that value to the screen again."
   ]
  },
  {
   "cell_type": "code",
   "execution_count": null,
   "metadata": {},
   "outputs": [],
   "source": [
    "absolute_zero_fahr = kelvins_to_fahr(temp_kelvins=0)"
   ]
  },
  {
   "cell_type": "code",
   "execution_count": null,
   "metadata": {},
   "outputs": [],
   "source": [
    "print(f\"Absolute zero in Fahrenheit is {absolute_zero_fahr}\")"
   ]
  },
  {
   "cell_type": "markdown",
   "metadata": {},
   "source": [
    "### 1.4 Functions generally have multiple inputs and multiple outputs\n",
    "In this example, the function calculate_sum_and_product takes two input parameters (`x1` and `x2`). Inside the function, it calculates the `sum`, `product` , and `power` of these two numbers and returns them as a tuple. When calling the function, you can use multiple variables to capture the multiple return values."
   ]
  },
  {
   "cell_type": "code",
   "execution_count": null,
   "metadata": {},
   "outputs": [],
   "source": [
    "def sum_product(x1, x2):\n",
    "    \n",
    "    # Calculate the sum\n",
    "    sum = x1 + x2\n",
    "    \n",
    "    # Calculate the product\n",
    "    prod = x1 * x2\n",
    "\n",
    "    # Calculate the power\n",
    "    power = x1 ** x2\n",
    "    \n",
    "    # Return both results\n",
    "    return sum, prod, power"
   ]
  },
  {
   "cell_type": "code",
   "execution_count": null,
   "metadata": {},
   "outputs": [],
   "source": [
    "# Example usage:\n",
    "num1 = 5\n",
    "num2 = 3\n",
    "\n",
    "# Call the function and store the results in variables\n",
    "sum_result, product_result,power_result = sum_product(num1,num2)\n",
    "\n",
    "\n",
    "# Print the results\n",
    "print(f\"{num1} + {num2} = {sum_result}\")\n",
    "print(f\"{num1} x {num2} = {product_result}\")\n",
    "print(f\"{num1} ^ {num2} = {power_result}\")"
   ]
  },
  {
   "cell_type": "markdown",
   "metadata": {},
   "source": [
    "Note in the above example, the names of the input and output variables are not consistant, that is fine because they are defined by their order and not their variable names, unless you specify the variable name,e.g., `sum_product(x1=5, num2)`. If you specified all variable names then the order is not not important, e.g., `sum_product(x2=3, x1=5)`. You can also directly input the values, e.g., `sum_product(5, 3)`. The same is true for the output variable names. "
   ]
  },
  {
   "cell_type": "markdown",
   "metadata": {},
   "source": [
    "#### Check your understanding\n",
    "Write a function `math_operation` that takes numbers `num1` and `num2` and returns `results` and `operation` such that if the sum of the two numbers is less than 10, then the two numbers will be multiplied and in that case the operation will be \"Multiplication\"; if the sum of the two numbers are larger than or equal 10, then the two numbers will be added and in that case the operation will be “Addition\". Here is an example of your output\n",
    "```\n",
    "Multiplication of 8 and 2 is 16\n",
    "```\n",
    "Try to write the function and print results using the given function call"
   ]
  },
  {
   "cell_type": "code",
   "execution_count": null,
   "metadata": {},
   "outputs": [],
   "source": [
    "#Write your function here\n",
    "\n",
    "\n",
    "# Call you function using these two numbers\n",
    "x=8\n",
    "y=2\n",
    "results=math_operation(x,y)\n",
    "\n",
    "# Print output\n"
   ]
  },
  {
   "cell_type": "markdown",
   "metadata": {
    "tags": []
   },
   "source": [
    "## 2. Functions and variable names (advanced topic)"
   ]
  },
  {
   "cell_type": "markdown",
   "metadata": {
    "tags": []
   },
   "source": [
    "### 2.1 A local variable in function is not accessible to global namespace\n",
    "\n",
    "A common point of confusion for new programmers is understanding how variable names in functions relate to those defined elsewhere in their code (or your notebooks).\n",
    "When defining a function, the variable names given in the function definition exist and will only be used when the function is called.\n",
    "That might seem confusing, but as it turns out this is an excellent feature in Python that can save you from much suffering.\n",
    "Let's try to understand this by way of an example.\n",
    "\n",
    "Let us define modified version of our `kelvins_to_celsius` function where the parameter value is still called `temp_kelvins`, but we now store the converted temperature as temp_celsius first and return that value."
   ]
  },
  {
   "cell_type": "code",
   "execution_count": null,
   "metadata": {},
   "outputs": [],
   "source": [
    "def kelvins_to_celsius(temp_kelvins):\n",
    "    temp_celsius = temp_kelvins - 273.15\n",
    "    return temp_celsius"
   ]
  },
  {
   "cell_type": "markdown",
   "metadata": {},
   "source": [
    "So, we have defined our function to accept `temp_kelvins` as its only parameter, calculate `temp_celsius`, and return that value.\n",
    "As you will see below, the variables defined in the function exist only in its *namespace*.\n",
    "Let's confirm that by printing each out to the screen."
   ]
  },
  {
   "cell_type": "code",
   "execution_count": null,
   "metadata": {
    "tags": [
     "raises-exception"
    ]
   },
   "outputs": [],
   "source": [
    "temp_kelvins"
   ]
  },
  {
   "cell_type": "code",
   "execution_count": null,
   "metadata": {
    "tags": [
     "raises-exception"
    ]
   },
   "outputs": [],
   "source": [
    "temp_celsius"
   ]
  },
  {
   "cell_type": "markdown",
   "metadata": {},
   "source": [
    "Here, in the *global namespace* we get a `NameError` when trying to access the variables `temp_kelvins` and `temp_celsius` because they have only been defined within the scope of the `kelvins_to_celsius()` function.\n",
    "\n",
    "Perhaps, however, you are thinking that we have not yet called the function, so that is why we get a `NameError`. Maybe if we use the function these variable values will be defined.\n",
    "Let's try that and print out `temp_kelvins` once again."
   ]
  },
  {
   "cell_type": "code",
   "execution_count": null,
   "metadata": {},
   "outputs": [],
   "source": [
    "kelvins_to_celsius(temp_kelvins=293.15)"
   ]
  },
  {
   "cell_type": "code",
   "execution_count": null,
   "metadata": {
    "tags": [
     "raises-exception"
    ]
   },
   "outputs": [],
   "source": [
    "temp_kelvins"
   ]
  },
  {
   "cell_type": "markdown",
   "metadata": {},
   "source": [
    "As you can see `temp_kelvins` is still not defined in the global namespace, where values such as `freezing_point` have been defined."
   ]
  },
  {
   "cell_type": "markdown",
   "metadata": {},
   "source": [
    "### 2.2 A local variable in function does not affect a global variable of same name"
   ]
  },
  {
   "cell_type": "markdown",
   "metadata": {},
   "source": [
    "Changing a variable in a function will not change a variable with the same name in global namespace.\n",
    "  \n",
    "Why does Python or generally most programming languages work this way?  \n",
    "   \n",
    "Well, as it turns out, the benefit of having a separate namespace for functions is that we can define a variable in the global namespace, such as `temp_kelvins` and not need to worry about its name within a function, or the use of a function changing its value.\n",
    "Inside the function, the value that is passed will be known as `temp_kelvins`, but modifying that value will not alter a variable of the same name in the global namespace.\n",
    "Let's have a look at another example using a modified `kelvins_to_celsius()` function we can call `kelvins_to_celsius2()`."
   ]
  },
  {
   "cell_type": "code",
   "execution_count": null,
   "metadata": {},
   "outputs": [],
   "source": [
    "def kelvins_to_celsius2(temperature):\n",
    "    temperature = temperature - 273.15\n",
    "    return temperature"
   ]
  },
  {
   "cell_type": "markdown",
   "metadata": {},
   "source": [
    "Here, we pass in a value as `temperature` and modify the value that is passed in before returning it.\n",
    "This is probably not a good idea in most cases because it could cause confusion, but it is perfectly valid code.\n",
    "\n",
    "Let's now define a variable `temperature` in the global namespace, use our function with it, and print its value out to the screen afterwards."
   ]
  },
  {
   "cell_type": "code",
   "execution_count": null,
   "metadata": {},
   "outputs": [],
   "source": [
    "temperature = 303.15"
   ]
  },
  {
   "cell_type": "code",
   "execution_count": null,
   "metadata": {},
   "outputs": [],
   "source": [
    "kelvins_to_celsius2(temperature=temperature)"
   ]
  },
  {
   "cell_type": "code",
   "execution_count": null,
   "metadata": {},
   "outputs": [],
   "source": [
    "temperature"
   ]
  },
  {
   "cell_type": "markdown",
   "metadata": {},
   "source": [
    "As you can see, the value of the variable `temperature` in the global namespace was set to 303.15 and remains 303.15 even after using the `kelvins_to_celsius2()` function.\n",
    "Although there is a variable inside that function with the same name as the value in the global namespace, using the function assigns the value of `temperature` inside the function and manipulates that value only inside the function."
   ]
  },
  {
   "cell_type": "markdown",
   "metadata": {},
   "source": [
    "### 2.3 A global variables is accessible to a function without explicit passing"
   ]
  },
  {
   "cell_type": "markdown",
   "metadata": {},
   "source": [
    "Any gobal variable is accessiable and can be used by the function even if it was not explicitly passed to the function.\n",
    "\n",
    "```{caution}\n",
    "It is important to be aware that it is possible to access variable values that have been defined in the global namespace from within functions, even if the value has not been passed to the function.\n",
    "This is because Python will search for variables defined with a given name first inside the function, and then outside the function (the search domain is known as the variable's *scope*).\n",
    "If such a value is found then it can be used by the function, which could be dangerous!\n",
    "```\n",
    "\n",
    "Let's look at an example of behavior in a function that may be unexpected. Here we can define a third version of the `kelvins_to_celsius()` function "
   ]
  },
  {
   "cell_type": "code",
   "execution_count": null,
   "metadata": {},
   "outputs": [],
   "source": [
    "def kelvins_to_celsius3(temp_kelvins):\n",
    "    temp = temperature - 273.15\n",
    "    return temp"
   ]
  },
  {
   "cell_type": "code",
   "execution_count": null,
   "metadata": {},
   "outputs": [],
   "source": [
    "kelvins_to_celsius3(273.15)"
   ]
  },
  {
   "cell_type": "markdown",
   "metadata": {},
   "source": [
    "Perhaps you were expecting to see a value of `0` returned by `kelvins_to_celsius3()`, but that does not occur because `temp` is assigned `temperature - 273.15` inside the function.\n",
    "Although `temperature` was not passed to `kelvins_to_celsius3()` it is defined in the global namespace and thus can be used by our example function.\n",
    "Since `temperature = 303.15` we get a value of 30.0 returned when using `kelvins_to_celsius3()`.\n",
    "Conclusion: Be careful!\n",
    "   \n",
    "If you understand that much, you have a very good understanding of functions in programming langugage and specifically in python. For those who are interested, more information about namespaces and variables scopes can be found on the [Real Python website](https://realpython.com/python-namespaces-scope/)."
   ]
  }
 ],
 "metadata": {
  "kernelspec": {
   "display_name": "Python 3 (ipykernel)",
   "language": "python",
   "name": "python3"
  },
  "language_info": {
   "codemirror_mode": {
    "name": "ipython",
    "version": 3
   },
   "file_extension": ".py",
   "mimetype": "text/x-python",
   "name": "python",
   "nbconvert_exporter": "python",
   "pygments_lexer": "ipython3",
   "version": "3.11.5"
  }
 },
 "nbformat": 4,
 "nbformat_minor": 4
}
