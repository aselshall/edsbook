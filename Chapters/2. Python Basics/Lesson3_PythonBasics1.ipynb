{
 "cells": [
  {
   "cell_type": "markdown",
   "metadata": {},
   "source": [
    "# <h1 style=\"color:green; text-align:center;\">Lesson 3: Python Basics 1 </h1>\n",
    "\n",
    "This lesson is modified from [A taste of Python](https://geo-python-site.readthedocs.io/en/latest/notebooks/L1/a-taste-of-python.html) from [geo-python](https://geo-python-site.readthedocs.io/en/latest/index.html).\n",
    "\n",
    "[![Binder](https://mybinder.org/badge_logo.svg)](https://mybinder.org/v2/gh/aselshall/eds/HEAD)"
   ]
  },
  {
   "cell_type": "markdown",
   "metadata": {
    "jp-MarkdownHeadingCollapsed": true
   },
   "source": [
    "## Objectives\n",
    "By the end of this lesson, you will be able to\n",
    "- Define and update python variables\n",
    "- Import a python module or library\n",
    "- Use and combine functions in python\n",
    "- Apply these concepts to write simple python code"
   ]
  },
  {
   "cell_type": "markdown",
   "metadata": {},
   "source": [
    "## 1. Math operations\n",
    "\n",
    "We will start our Python lesson by learning a bit of the basic operations you can perform using Python.\n",
    "\n",
    "Python can be used as a simple calculator. Remember, you can press <kbd>Shift</kbd> + <kbd>Enter</kbd> to execute the code in the cells below. Try it out by typing `1 + 1` or `5 * 7` and see what you get."
   ]
  },
  {
   "cell_type": "code",
   "execution_count": null,
   "metadata": {
    "jupyter": {
     "outputs_hidden": false
    },
    "tags": []
   },
   "outputs": [],
   "source": []
  },
  {
   "cell_type": "markdown",
   "metadata": {},
   "source": [
    "If you want to edit and re-run some code, simply make changes to the cell and press <kbd>Shift</kbd> + <kbd>Enter</kbd> to execute the modified code."
   ]
  },
  {
   "cell_type": "markdown",
   "metadata": {},
   "source": [
    "The list of basic arithmetic operations that can be done by default in Python is in the table below.\n",
    "\n",
    "| Operation      | Symbol | Example syntax | Returned value |\n",
    "| -------------- | ------ | -------------- | -------------- |\n",
    "| Addition       | `+`    | `2 + 2`        | `4`            |\n",
    "| Subtraction    | `-`    | `4 - 2`        | `2`            |\n",
    "| Multiplication | `*`    | `2 * 3`        | `6`            | \n",
    "| Division       | `/`    | `4 / 2`        | `2`            |\n",
    "| Exponentiation | `**`   | `2**3`         | `8`            |"
   ]
  },
  {
   "cell_type": "markdown",
   "metadata": {},
   "source": [
    "Try to do the following calcluation\n",
    "$$9 - \\frac{5^3}{5 \\times 25}$$\n",
    "Ans: 8"
   ]
  },
  {
   "cell_type": "code",
   "execution_count": null,
   "metadata": {},
   "outputs": [],
   "source": []
  },
  {
   "cell_type": "markdown",
   "metadata": {},
   "source": [
    "For anything more advanced such as `sin(30°)`, we need to use some functions in a `module` or `library`."
   ]
  },
  {
   "cell_type": "markdown",
   "metadata": {},
   "source": [
    "## 2. functions, modules and libraries"
   ]
  },
  {
   "cell_type": "markdown",
   "metadata": {},
   "source": [
    "### 2.1 Functions\n",
    "\n",
    "You can use Python for more advanced math by using a `function`.  \n",
    "\n",
    "Functions are pieces of code that perform a single action such as printing information to the screen (e.g., the `print()` function). Functions exist for a huge number of operations in Python. \n",
    "\n",
    "For example, try out the `print()` function to display `Hi` on screen"
   ]
  },
  {
   "cell_type": "code",
   "execution_count": null,
   "metadata": {},
   "outputs": [],
   "source": []
  },
  {
   "cell_type": "markdown",
   "metadata": {},
   "source": [
    "Another example, try `min()` or `max()` function to return the minimum or maximum of this list [4, 1, 8] "
   ]
  },
  {
   "cell_type": "code",
   "execution_count": null,
   "metadata": {},
   "outputs": [],
   "source": []
  },
  {
   "cell_type": "markdown",
   "metadata": {},
   "source": [
    "Let's try out a few simple examples using functions to find the sine or square root of a value.   \n",
    "You can type `sin(3)` or `sqrt(4)` into the cells below to test this out. "
   ]
  },
  {
   "cell_type": "code",
   "execution_count": null,
   "metadata": {},
   "outputs": [],
   "source": []
  },
  {
   "cell_type": "markdown",
   "metadata": {},
   "source": [
    "Wait, what? Python can’t calculate square roots or do basic trigonometry? Of course it can, but we need one more step."
   ]
  },
  {
   "cell_type": "markdown",
   "metadata": {},
   "source": [
    "For a specialized `sin(30°)`, we need to load a specialized `module` or `library`.  "
   ]
  },
  {
   "cell_type": "markdown",
   "metadata": {},
   "source": [
    "### 2.2 Modules and libraries"
   ]
  },
  {
   "cell_type": "markdown",
   "metadata": {},
   "source": [
    "\n",
    "A`library` is a collection of modules that can include a variety of related functions.  \n",
    "A `module` is a file or files(.py) that is imported by one import and used to perform a related block of tasks.  \n",
    "A `function` is a reusable piece of code that performs a single action.  .\n"
   ]
  },
  {
   "cell_type": "markdown",
   "metadata": {},
   "source": [
    "For example, to evaluate `sin(90°)`, we need to load a specialized `module` or `library`.  \n",
    "\n",
    "For math operations, one module is called [*math*](https://docs.python.org/3/library/math.html) and it can be loaded by typing `import math`. Try that below."
   ]
  },
  {
   "cell_type": "code",
   "execution_count": null,
   "metadata": {},
   "outputs": [],
   "source": []
  },
  {
   "cell_type": "markdown",
   "metadata": {},
   "source": [
    "Now that we have access to functions in the math module, we can use it by typing the module name, a period (dot), and the the name of the function we want to use. For example, try to find out the square root of 4 using `math.sqrt(4)`"
   ]
  },
  {
   "cell_type": "code",
   "execution_count": null,
   "metadata": {},
   "outputs": [],
   "source": []
  },
  {
   "cell_type": "markdown",
   "metadata": {},
   "source": [
    "Try another example. the function math.sin(x) returns the sine of x radians.  \n",
    "\n",
    "Now find `sin(1.5)`"
   ]
  },
  {
   "cell_type": "code",
   "execution_count": null,
   "metadata": {
    "jupyter": {
     "outputs_hidden": false
    }
   },
   "outputs": [],
   "source": []
  },
  {
   "cell_type": "markdown",
   "metadata": {},
   "source": [
    "Note that modules may also contain constants such as `math.pi`.  \n",
    "Type this in the cell below to see the value of the contant `math.pi`."
   ]
  },
  {
   "cell_type": "code",
   "execution_count": null,
   "metadata": {},
   "outputs": [],
   "source": []
  },
  {
   "cell_type": "markdown",
   "metadata": {},
   "source": [
    "#### Check your understanding\n",
    "\n",
    "Use the empty Python cell below to calculate the sine of pi `sin(π)"
   ]
  },
  {
   "cell_type": "code",
   "execution_count": null,
   "metadata": {},
   "outputs": [],
   "source": []
  },
  {
   "cell_type": "markdown",
   "metadata": {},
   "source": [
    "Now, how to find `sin(90°)` ?  \n",
    "\n",
    "You need to not only the `sin()` function, but also a function that converts from degrees to radians.\n",
    "\n",
    "Check the documentation of the [math](https://docs.python.org/3/library/math.html) module to find the function the converts from degrees to radians."
   ]
  },
  {
   "cell_type": "code",
   "execution_count": null,
   "metadata": {
    "jupyter": {
     "outputs_hidden": false
    }
   },
   "outputs": [],
   "source": []
  },
  {
   "cell_type": "markdown",
   "metadata": {
    "jp-MarkdownHeadingCollapsed": true
   },
   "source": [
    "### 2.3 Combining functions\n",
    "\n",
    "Functions can also be combined. You have done this already above. \n",
    "\n",
    "The `print()` function displays values within the parentheses as text on the screen. Below, try printing the value of the square root of four."
   ]
  },
  {
   "cell_type": "code",
   "execution_count": null,
   "metadata": {
    "jupyter": {
     "outputs_hidden": false
    }
   },
   "outputs": [],
   "source": []
  },
  {
   "cell_type": "markdown",
   "metadata": {},
   "source": [
    "You can also combine text with other calculated values using the `print()` function. \n",
    "\n",
    "For example, `print('Two plus two is', 2+2)`"
   ]
  },
  {
   "cell_type": "code",
   "execution_count": null,
   "metadata": {},
   "outputs": [],
   "source": []
  },
  {
   "cell_type": "markdown",
   "metadata": {},
   "source": [
    "#### Check your understanding\n",
    "\n",
    "Combine the `print()` function with the `math.sqrt()` function to produce text that reads 'The square root of 4 is 2.0'."
   ]
  },
  {
   "cell_type": "code",
   "execution_count": null,
   "metadata": {
    "jupyter": {
     "outputs_hidden": false
    }
   },
   "outputs": [],
   "source": []
  },
  {
   "cell_type": "markdown",
   "metadata": {},
   "source": [
    "## 3. Variables\n",
    "\n",
    "### 3.1 Define a variable\n",
    "A `variable` can be used to store values calculated in expressions and used for other calculations.  \n",
    "To assign a value, you simply type `variable_name = value`"
   ]
  },
  {
   "cell_type": "markdown",
   "metadata": {},
   "source": [
    "In the cell below, define a variable called `temp_celsius`, assign it a value of '10.0'.  \n",
    "Then print that variable value using the `print()` function.  \n",
    "Note that you should do this on two separate lines."
   ]
  },
  {
   "cell_type": "code",
   "execution_count": null,
   "metadata": {
    "jupyter": {
     "outputs_hidden": false
    }
   },
   "outputs": [],
   "source": []
  },
  {
   "cell_type": "markdown",
   "metadata": {},
   "source": [
    "Print out the value of `temp_celsius` in degrees Fahrenheit. \n",
    "\n",
    "Note: tempFahrenheit = (temp_celsius * 9/5) + 32  \n",
    "\n",
    "The output should read 'Temperature in Fahrenheit: 50.0'."
   ]
  },
  {
   "cell_type": "code",
   "execution_count": null,
   "metadata": {
    "jupyter": {
     "outputs_hidden": false
    }
   },
   "outputs": [],
   "source": []
  },
  {
   "cell_type": "markdown",
   "metadata": {},
   "source": [
    "#### Check your understanding\n",
    "Define any two variables that you like with text or numeric values.  \n",
    "Print the two variables using `print` function "
   ]
  },
  {
   "cell_type": "code",
   "execution_count": null,
   "metadata": {
    "tags": [
     "hide-cell"
    ]
   },
   "outputs": [],
   "source": []
  },
  {
   "cell_type": "markdown",
   "metadata": {},
   "source": [
    "### 3.2 Updating variables\n",
    "\n",
    "Values stored in variables can also be updated. Let's redefine the value of `temp_celsius` to be equal to 15.0 and print its value in the cells below."
   ]
  },
  {
   "cell_type": "code",
   "execution_count": null,
   "metadata": {},
   "outputs": [],
   "source": []
  },
  {
   "cell_type": "code",
   "execution_count": null,
   "metadata": {
    "jupyter": {
     "outputs_hidden": false
    }
   },
   "outputs": [],
   "source": []
  },
  {
   "cell_type": "markdown",
   "metadata": {},
   "source": [
    "```{warning}\n",
    "If you try to run some code that accesses a variable that has not yet been defined you will get a `NameError` message. Try printing out the value of the variable `tempFahrenheit` using the `print()` function in the cell below.\n",
    "```"
   ]
  },
  {
   "cell_type": "code",
   "execution_count": null,
   "metadata": {},
   "outputs": [],
   "source": []
  },
  {
   "cell_type": "markdown",
   "metadata": {},
   "source": [
    "Define the variable:  \n",
    "tempFahrenheit = 9 / 5 * temp_celsius + 32\n",
    "\n",
    "Now try again"
   ]
  },
  {
   "cell_type": "code",
   "execution_count": null,
   "metadata": {
    "jupyter": {
     "outputs_hidden": false
    }
   },
   "outputs": [],
   "source": []
  },
  {
   "cell_type": "markdown",
   "metadata": {},
   "source": [
    "#### Check your understanding\n",
    "Write a code the converts temperature in celsius to Fahrenheit and prints to screen the temperature in both celsius and fahrenheit.\n",
    "Here is the an example of the output \"20 degrees celsius is 68 degree Fahrenheit\""
   ]
  },
  {
   "cell_type": "markdown",
   "metadata": {},
   "source": [
    "### 3.3 Variable Names"
   ]
  },
  {
   "cell_type": "markdown",
   "metadata": {},
   "source": [
    "Following good coding practices is essential, not just for keeping the code organized but also for making it readable and easy to follow. When writing a program, it's likely that others will need to reference it later. Therefore, you should write your code in a way that is easy to understand and follow at all times.\n",
    "\n",
    "An important factor in this is using \"good\" variable names. A good variable name should be short, concise, and descriptive. For instance, if you need a variable to store the number of students in a class, the variable name should be clear enough for others reading the code to understand its purpose. Instead of using a vague name like <b>n</b> or <b>num</b>, a better example would be <b>student_count</b>. Below there are some rules you should follow when selecting a \"good\" variable name.\n",
    "\n",
    "### Selecting \"good\" variable names\n",
    "A good variable name should:\n",
    "\n",
    "1. Be clear and concise. \n",
    "2. Be written in English.\n",
    "3. Not contain special characters. Stick to the [standard printable ASCII character set](https://en.wikipedia.org/wiki/ASCII#Printable_characters) to be safe.\n",
    "4. Not conflict with any [Python keywords](https://www.pythonforbeginners.com/basics/keywords-in-python), such as ``for``, ``True``, ``False``, ``and``, ``if``, or ``else``. These are reserved for speical operations in Python and cannot be used as variable names.\n",
    "\n",
    "With this in mind, let's now look at a few better options for variable names."
   ]
  },
  {
   "cell_type": "markdown",
   "metadata": {},
   "source": [
    "###  Formatting \"good\" variable names\n",
    "\n",
    "There are several possibilities for \"good\" variable name formats, of which we'll consider two:\n",
    "\n",
    "#### Recommendation 1: pothole_case_naming\n",
    "\n",
    "*pothole_case_naming* uses lowercase words separated by underscores ``_``. This is our suggested format as the underscores make it easy to read the variable, and don't add too much to the length of the variable name. As an example, consider the variable ``temp_celsius``. "
   ]
  },
  {
   "cell_type": "code",
   "execution_count": 1,
   "metadata": {},
   "outputs": [],
   "source": [
    "fawn_station_id = \"440\""
   ]
  },
  {
   "cell_type": "markdown",
   "metadata": {},
   "source": [
    "Here, our new variable name conveys all of the essential information we need, while remaining easy to read."
   ]
  },
  {
   "cell_type": "markdown",
   "metadata": {},
   "source": [
    "#### Recommendation 2: camelCase naming\n",
    "\n",
    "*camelCase* or *CamelCase* uses capitalization of the first letter of words in a variable name to make it easier to read. In some cases the first letter of the variable may be capitalized. The variable ``tempFahrenheit`` was one example of camelCase."
   ]
  },
  {
   "cell_type": "code",
   "execution_count": 2,
   "metadata": {},
   "outputs": [],
   "source": [
    "fawnStationID = \"440\""
   ]
  },
  {
   "cell_type": "markdown",
   "metadata": {},
   "source": [
    "Again, this variable name is clear and easy to read."
   ]
  },
  {
   "cell_type": "markdown",
   "metadata": {},
   "source": [
    "#### Note: ####\n",
    "pothole_case_naming is the easiest to read and seems to be most common amongst Python programmers. For your homework, project, and exam, you can use either option, as long as you are consistent in the use. "
   ]
  },
  {
   "cell_type": "markdown",
   "metadata": {},
   "source": [
    "### Some \"not-so-good\" variable names\n",
    "To illustrate the point, consider a few not-so-good examples below."
   ]
  },
  {
   "cell_type": "code",
   "execution_count": 3,
   "metadata": {},
   "outputs": [],
   "source": [
    "s = \"440\"\n",
    "\n",
    "sid = \"440\""
   ]
  },
  {
   "cell_type": "markdown",
   "metadata": {},
   "source": [
    "Any idea what these variables are for? \n",
    "\n",
    "Let's look at another example."
   ]
  },
  {
   "cell_type": "code",
   "execution_count": 4,
   "metadata": {},
   "outputs": [],
   "source": [
    "floridaautomatedweathernetworkobservationstationidentificationnumber = \"440\""
   ]
  },
  {
   "cell_type": "markdown",
   "metadata": {},
   "source": [
    "The above variable provides more information\n",
    "but in a format not easy to read, nor something you want to type more than once."
   ]
  },
  {
   "cell_type": "markdown",
   "metadata": {},
   "source": [
    "## 4. Data types\n",
    "\n",
    "A `data type` determines the characteristics of data in a program.\n",
    "There are 4 basic data types in Python as shown in the table below.\n",
    "\n",
    "| Data type name | Data type            | Example    |\n",
    "| -------------- | -------------------- | ---------- |\n",
    "| `int`          | Whole integer values | `4`        |\n",
    "| `float`        | Decimal values       | `3.1415`   |\n",
    "| `str`          | Character strings    | `'Hot'`    |\n",
    "| `bool`         | True/false values    | `True`     |\n",
    "\n",
    "The data type can be found using the `type()` function.\n",
    "As you will see, the data types are important because some are not compatible with one another.\n",
    "\n",
    "Let's define a variable `weatherForecast` and assign it the value `'Hot'`. After this, we can check its data type using the `type()` function."
   ]
  },
  {
   "cell_type": "code",
   "execution_count": null,
   "metadata": {
    "jupyter": {
     "outputs_hidden": false
    }
   },
   "outputs": [],
   "source": []
  },
  {
   "cell_type": "markdown",
   "metadata": {},
   "source": [
    "Let's also check the type of `tempFahrenheit`. What happens if you try to combine `tempFahrenheit` and `weatherForecast` in a single math equation such as `tempFahrenheit = tempFahrenheit + 5.0 * weatherForecast`?"
   ]
  },
  {
   "cell_type": "code",
   "execution_count": null,
   "metadata": {
    "jupyter": {
     "outputs_hidden": false
    },
    "tags": [
     "raises-exception"
    ]
   },
   "outputs": [],
   "source": []
  },
  {
   "cell_type": "markdown",
   "metadata": {},
   "source": [
    "In this case we get at `TypeError` because we are trying to execute a math operation with data types that are not compatible. There is no way in Python to multpily decimal numbers with a character string."
   ]
  },
  {
   "cell_type": "markdown",
   "metadata": {},
   "source": [
    "#### Check your understanding\n",
    "\n",
    "As it turns out, you can do some math with character strings in Python. Define two variables and assign them character string values in the Python cell below."
   ]
  },
  {
   "cell_type": "code",
   "execution_count": null,
   "metadata": {
    "tags": [
     "hide-cell"
    ]
   },
   "outputs": [],
   "source": [
    "# Here is an example solution\n"
   ]
  },
  {
   "cell_type": "markdown",
   "metadata": {},
   "source": [
    "What happens if you try to add two character strings together `print(first_variable + second_variable)`?"
   ]
  },
  {
   "cell_type": "code",
   "execution_count": null,
   "metadata": {},
   "outputs": [],
   "source": []
  },
  {
   "cell_type": "markdown",
   "metadata": {},
   "source": [
    "Can we subtract them `print(first_variable - second_variable)` ?"
   ]
  },
  {
   "cell_type": "code",
   "execution_count": null,
   "metadata": {},
   "outputs": [],
   "source": []
  },
  {
   "cell_type": "markdown",
   "metadata": {},
   "source": [
    "Which other math operations work for character strings? Check multiplication `5*first_variable`"
   ]
  },
  {
   "cell_type": "code",
   "execution_count": null,
   "metadata": {},
   "outputs": [],
   "source": []
  },
  {
   "cell_type": "markdown",
   "metadata": {},
   "source": [
    "## 5. Character input (optional)\n",
    "\n",
    "Python and Jupyter notebooks also let us interact in another way with our code! The built-in [input()](https://docs.python.org/3.6/library/functions.html?highlight=input#input) function reads a line from input and returns it as a string.\n",
    "\n",
    "Let's try for example"
   ]
  },
  {
   "cell_type": "code",
   "execution_count": null,
   "metadata": {
    "jupyter": {
     "outputs_hidden": false
    },
    "tags": [
     "raises-exception"
    ]
   },
   "outputs": [],
   "source": [
    "place = input(\"Where are you from? \")\n",
    "print(place, \"is a nice place!\")"
   ]
  },
  {
   "cell_type": "markdown",
   "metadata": {},
   "source": [
    "```{warning}\n",
    "Jupyter Notebooks might sometimes get stuck when using the `input()` function. If this happens, restart the kernel.\n",
    "```"
   ]
  },
  {
   "cell_type": "markdown",
   "metadata": {},
   "source": [
    "Let's try another example in the cell below using the similar approach. Ask the user for a temperature in Celsius using the `input()` function and print the input value to the screen."
   ]
  },
  {
   "cell_type": "code",
   "execution_count": null,
   "metadata": {
    "jupyter": {
     "outputs_hidden": false
    },
    "tags": [
     "raises-exception"
    ]
   },
   "outputs": [],
   "source": [
    "tempCelsius = input(\"How cold can it be in Fort Myers (in degrees Celsius)? \")\n",
    "print(tempCelsius, \"degrees Celsius is quite cold!\")"
   ]
  },
  {
   "cell_type": "markdown",
   "metadata": {},
   "source": [
    "What is the data type of variable `place`? What about the other variable you defined? Check their data types using the cell below."
   ]
  },
  {
   "cell_type": "code",
   "execution_count": null,
   "metadata": {
    "tags": [
     "raises-exception"
    ]
   },
   "outputs": [],
   "source": [
    "print(type(place))\n",
    "print(type(temp_celsius))"
   ]
  },
  {
   "cell_type": "markdown",
   "metadata": {},
   "source": [
    "What happens when you try to convert your Celsius temperature value to Fahrenheit using the equation from earlier in the lesson?"
   ]
  },
  {
   "cell_type": "code",
   "execution_count": null,
   "metadata": {
    "scrolled": true,
    "tags": [
     "raises-exception"
    ]
   },
   "outputs": [],
   "source": [
    "tempFahrenheit = 9 / 5 * temp_celsius + 32"
   ]
  },
  {
   "cell_type": "markdown",
   "metadata": {},
   "source": [
    "How to solve this problem?   \n",
    "Check online how to convert str to float."
   ]
  },
  {
   "cell_type": "code",
   "execution_count": null,
   "metadata": {},
   "outputs": [],
   "source": [
    "tempCelsius=float(temp_celsius)\n",
    "tempFahrenheit = 9 / 5 * temp_celsius + 32\n",
    "print(tempFahrenheit)"
   ]
  },
  {
   "cell_type": "markdown",
   "metadata": {},
   "source": [
    "## 6. Problem - A low-effort way to become a millionaire"
   ]
  },
  {
   "cell_type": "markdown",
   "metadata": {},
   "source": [
    "According to [New Trader U: 3 Low-Effort Ways To Become A Millionaire](https://www.newtraderu.com/2023/05/07/3-low-effort-ways-to-become-a-millionaire/), Standard and Poor's 500 index fund (S&P 500) tracks the stock performance of 500 of the largest companies listed on stock exchanges in the US. The average historical rate an investor can expect long-term on S&P 500 is 8% annual compounded growth. The formula is:\n",
    "$$\n",
    "FV = PM * \\frac{[(1 + r)^{nt} – 1]}{r} \n",
    "$$\n",
    "Where:      \n",
    "FV:  Future value of the investment (e.g., \\\\$1,000,000)     \n",
    "PM: Monthly investment amount (e.g., \\\\$300)     \n",
    "r:   Monthly interest rate (i.e., annual interest rate divided by 12)      \n",
    "n:   Number of times the interest is compounded per year (i.e., 12 for monthly compounding)     \n",
    "t:   Number of years (e.g., 20 years)   \n",
    "\n",
    "To convert annual interest rate of 8% to monthly interest rate you can use this formula $ r = (1 + 0.08)^{1/n} – 1  $\n",
    "\n",
    "For example,  for FV= \\\\$1,000,000 and t = 40 years, then PM ≈ \\\\$310.5. Note while there is wide variance in monthly and annual returns, long-term destination will likely lead to being a millionaire based on historical performance of past 100 years. "
   ]
  },
  {
   "cell_type": "markdown",
   "metadata": {},
   "source": [
    "#### Exercise 1"
   ]
  },
  {
   "cell_type": "markdown",
   "metadata": {},
   "source": [
    "Write a code to check that if you invisted about $310.5 you will be a millionaire in 40 years.  \n",
    "Display your answer as \"For a monthly invistment of \\\\$ 310.5 for 40 years, the future value will be \\\\$ 1.0 million\"  \n",
    "Note that \\\\$ 1.0 is rounded and the actual value is 1.0001451368328833.  \n",
    "How to round a number in python? Check online"
   ]
  },
  {
   "cell_type": "code",
   "execution_count": null,
   "metadata": {},
   "outputs": [],
   "source": [
    "#Calculate monthly interest rate (r)\n",
    "\n",
    "# Given PM of $310.5 and t of 40 years find FV\n"
   ]
  },
  {
   "cell_type": "markdown",
   "metadata": {},
   "source": [
    "#### Exercise 2"
   ]
  },
  {
   "cell_type": "markdown",
   "metadata": {
    "jp-MarkdownHeadingCollapsed": true
   },
   "source": [
    "(2) Write a code to check how much do you need to invest monthly to become a millionaire in 25 years?  \n",
    "Display your answer as \"For a future value of \\\\$ 1.0 million in 25 years, you need to invist \\\\$ 1100.0 per month\"  \n",
    "Note that \\\\$ 1100.0 is rounded and the actual value is 1100.120953605599.\n",
    "$$\n",
    "FV = PM * \\frac{[(1 + r)^{nt} – 1]}{r} \n",
    "$$"
   ]
  },
  {
   "cell_type": "code",
   "execution_count": null,
   "metadata": {},
   "outputs": [],
   "source": [
    "#Calculate monthly interest rate (r)\n",
    "\n",
    "# Find PM given t of 25 years and FV of $1,000,000\n"
   ]
  },
  {
   "cell_type": "markdown",
   "metadata": {},
   "source": [
    "#### Exercise 3"
   ]
  },
  {
   "cell_type": "markdown",
   "metadata": {},
   "source": [
    "Write a code to find out that if you will invest $1000 per month, after how many years will you become a millionaire?  \n",
    "Display your answer as \"If you invisited \\\\$ 1000.0 per month, you will become a milloire in 25.5 years\"\n",
    "\n",
    "Note you need to import *math* module to solve the exponential equation using logarithms.  \n",
    "We did not learn logarithms, but we learned how to find functions in the documentation of the [*math*](https://docs.python.org/3/library/math.html) module \n",
    "$$\n",
    "FV = PM * \\frac{[(1 + r)^{nt} – 1]}{r} \n",
    "$$"
   ]
  },
  {
   "cell_type": "code",
   "execution_count": null,
   "metadata": {},
   "outputs": [],
   "source": [
    "import math"
   ]
  },
  {
   "cell_type": "code",
   "execution_count": null,
   "metadata": {},
   "outputs": [],
   "source": [
    "#Calculate monthly interest rate (r)\n",
    "\n",
    "\n",
    "# Find PM given t of 25 years and FV of $1,000,000"
   ]
  }
 ],
 "metadata": {
  "anaconda-cloud": {},
  "kernelspec": {
   "display_name": "Python 3 (ipykernel)",
   "language": "python",
   "name": "python3"
  },
  "language_info": {
   "codemirror_mode": {
    "name": "ipython",
    "version": 3
   },
   "file_extension": ".py",
   "mimetype": "text/x-python",
   "name": "python",
   "nbconvert_exporter": "python",
   "pygments_lexer": "ipython3",
   "version": "3.11.5"
  }
 },
 "nbformat": 4,
 "nbformat_minor": 4
}
