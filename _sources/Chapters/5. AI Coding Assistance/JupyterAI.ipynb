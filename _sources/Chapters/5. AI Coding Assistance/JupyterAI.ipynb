{
 "cells": [
  {
   "cell_type": "markdown",
   "id": "b715f875",
   "metadata": {},
   "source": [
    "# Jupyter AI\n",
    "\n",
    "## Installing Jupyter AI:\n",
    "https://aselshall.github.io/eds/L/L1/installing_python#6-install-jupyter-ai-optional-highly-recommended\n",
    "\n",
    "## OpenAI API Key for Jupyter AI Extension (Optional)\n",
    "\n",
    "Jupyter AI extension integrates ChatGPT and other generative AI models into JupyterLab, providing real-time coding assistance. If you would like to follow along during class with the instructor's demo of the Jupyter AI extension, you need to have an OpenAI API key.\n",
    "\n",
    "If you do not know how to get an OpenAI API key or what is an OpenAI API key, please see the instructions in this link: [OpenAI API Key Instructions](https://aselshall.github.io/eds/L/L5/openai_api_key).\n",
    "\n"
   ]
  }
 ],
 "metadata": {
  "kernelspec": {
   "display_name": "Python 3 (ipykernel)",
   "language": "python",
   "name": "python3"
  },
  "language_info": {
   "codemirror_mode": {
    "name": "ipython",
    "version": 3
   },
   "file_extension": ".py",
   "mimetype": "text/x-python",
   "name": "python",
   "nbconvert_exporter": "python",
   "pygments_lexer": "ipython3",
   "version": "3.12.9"
  }
 },
 "nbformat": 4,
 "nbformat_minor": 5
}
