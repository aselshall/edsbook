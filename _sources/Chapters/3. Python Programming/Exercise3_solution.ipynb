{
 "cells": [
  {
   "cell_type": "markdown",
   "metadata": {},
   "source": [
    "<h1 style=\"color:green; text-align:center;\"> Exercise 3 - Python Programming </h1> \n",
    "\n",
    "[![Binder](https://mybinder.org/badge_logo.svg)](https://mybinder.org/v2/gh/aselshall/eds/HEAD)"
   ]
  },
  {
   "cell_type": "markdown",
   "metadata": {
    "jp-MarkdownHeadingCollapsed": true
   },
   "source": [
    "---\n",
    "## Objectives  \n",
    "If you can do this exercise, this means that you are comfortable with\n",
    "- preforming loops and conditional statements\n",
    "- writing and calling a function\n",
    "- writing, importing, and calling functions from a script file \n",
    "\n",
    "---"
   ]
  },
  {
   "cell_type": "markdown",
   "metadata": {},
   "source": [
    "## Travel time under different weather conditions\n",
    "\n",
    "We will utilizes the [Greenshields model](https://www.webpages.uidaho.edu/niatt_labmanual/chapters/trafficflowtheory/theoryandconcepts/GreenshieldsModel.htm) for traffic flow to estimate travel time under different weather conditions, specifically when it's dry versus when it's raining.  The Greenshields model is a fundamental traffic flow model that describes the relationship between the traffic density (k) and the speed of the traffic (v). According to this model, the speed decreases linearly with the increase of traffic density until it reaches a maximum density where the speed is zero.\n",
    "  \n",
    "The model follows the equation:\n",
    "$$v = v_{max} \\left( 1 - \\frac{k}{k_{max}} \\right)$$\n",
    "\n",
    "where:\n",
    "\n",
    "$v$ is the speed of the traffic at a particular density,  \n",
    "$v_{max}$ is the maximum (free flow),  \n",
    "$k$ is the current traffic density,  \n",
    "$k_{max}$ is the jam density (where traffic comes to a halt).  "
   ]
  },
  {
   "cell_type": "markdown",
   "metadata": {},
   "source": [
    "### Exercise 3.1 - If condition"
   ]
  },
  {
   "cell_type": "markdown",
   "metadata": {},
   "source": [
    "#### Exercise 3.1.1 - if condition with string variable"
   ]
  },
  {
   "cell_type": "markdown",
   "metadata": {},
   "source": [
    "In this problem, you will calculate the travel time under two different scenarios: clear weather and rainy weather. We will assume that rainfall reduces the maximum speed under clear condition ($v_{max}$) by 20%, due to lower visibility and increased braking distances.  Write a code that calculates the time of travel ($t$) from home to work when it is raining and when it is not raining. Note $v=d/t$\n",
    "\n",
    "For the values for your variables, you can use a distance ($d$) from home to work of 20 kilometers, a max speed ($v_{max}$) under clear conditions of 60 km/h, a current traffic density ($k$) of 30 vehicles/km, and a jam density ($k_{max}$) of 150 vehicles/km.\n",
    "\n",
    "Your output should look like this \n",
    "```\n",
    "Travel without rain : 25.00 minutes\n",
    "```\n",
    "Note the formatting."
   ]
  },
  {
   "cell_type": "code",
   "execution_count": 1,
   "metadata": {},
   "outputs": [
    {
     "name": "stdout",
     "output_type": "stream",
     "text": [
      "Travel without rain : 25.00 minutes\n"
     ]
    }
   ],
   "source": [
    "# Variables:\n",
    "distance_to_work = 20  # Distance to work in kilometers\n",
    "v_max_clear = 60      # Max speed under clear conditions (km/h)\n",
    "traffic_density = 30   # Current traffic density (vehicles/km)\n",
    "jam_density = 150      # Jam density (vehicles/km)\n",
    "\n",
    "#If-condition to determine the travel time based on the weather (\"with rain\" or \"without rain\")\n",
    "weather=\"without rain\"\n",
    "if weather == \"with rain\":\n",
    "    v_max= 0.8 * v_max_clear\n",
    "else:\n",
    "    v_max= v_max_clear\n",
    "\n",
    "# Calculate speed using the Greenshields' model\n",
    "speed = v_max * (1 - (traffic_density / jam_density))\n",
    "\n",
    "# Calculate travel time (min)\n",
    "travel_time = (distance_to_work / speed)*60\n",
    "\n",
    "#print your result\n",
    "print(f\"Travel {weather} : {travel_time:.2f} minutes\")"
   ]
  },
  {
   "cell_type": "markdown",
   "metadata": {},
   "source": [
    "#### Exercise 3.1.2 - if condition with a boolen variable"
   ]
  },
  {
   "cell_type": "markdown",
   "metadata": {},
   "source": [
    "Repeat the above code using a boolen variable. For example, define a boolen variable `israining=False`, and use this variable to do your if condition."
   ]
  },
  {
   "cell_type": "code",
   "execution_count": 2,
   "metadata": {},
   "outputs": [
    {
     "name": "stdout",
     "output_type": "stream",
     "text": [
      "Travel without raining : 25.00 minutes\n"
     ]
    }
   ],
   "source": [
    "# Variables:\n",
    "distance_to_work = 20  # Distance to work in kilometers\n",
    "v_max_clear = 60      # Max speed under clear conditions (km/h)\n",
    "traffic_density = 30   # Current traffic density (vehicles/km)\n",
    "jam_density = 150      # Jam density (vehicles/km)\n",
    "\n",
    "# If condition for cases of \"with rain\" and \"without rain\" using boolen variable (True / False)\n",
    "israining=False\n",
    "if israining:\n",
    "    v_max= v_max_clear * 0.8\n",
    "    weather =\"with raining\"\n",
    "else:\n",
    "    v_max= v_max_clear\n",
    "    weather =\"without raining\"\n",
    "\n",
    "# Calculate speed using the Greenshields' model\n",
    "speed = v_max_clear * (1 - (traffic_density / jam_density))\n",
    "\n",
    "# Calculate travel time (min)\n",
    "travel_time = (distance_to_work / speed)*60\n",
    "\n",
    "#Print your results\n",
    "print(f\"Travel {weather} : {travel_time:.2f} minutes\")"
   ]
  },
  {
   "cell_type": "markdown",
   "metadata": {},
   "source": [
    "### Exercise 3.2 - For loop"
   ]
  },
  {
   "cell_type": "markdown",
   "metadata": {},
   "source": [
    "It is not only raining or not raining, but the rainfall intensity could also have an impact. There is no universal relationship between rainfall intensity and the reduction in maximum travel speed because it depends on various factors such as road conditions, vehicle characteristics, driver behavior, visibility, and local regulations. We can use big data and machine learning to develop a relationship for roads of interest. However, for the purpose of this exercise, we can create a simplified model that assumes a linear relationship between rainfall intensity and a reduction in maximum speed. Let's say that for every mm/hour increase in rainfall intensity, the maximum speed is reduced by a certain percentage. To keep things simple, we can introduce `speed_reduction_factor` to the maximum speed based on the rainfall intensity:\n",
    "```python\n",
    "speed_reduction_factor = (rainfall_intensity / max_rainfall_intensity) * max_speed_reduction\n",
    "```\n",
    "where `rainfall_intensity` is the current rainfall intensity (mm/hour); `max_rainfall_intensity` is the maximum expected rainfall intensity based on a return period (mm/hour);  `max_speed_reduction` is the max speed reduction at max rainfall intensity. "
   ]
  },
  {
   "cell_type": "markdown",
   "metadata": {},
   "source": [
    "#### Exercise 3.2.1 Calculate speed reduction factor\n",
    "\n",
    "Calculate the speed reduction based on different rainfall intensities `[0,5, ... , 20]`. \n",
    "\n",
    "Here is a sample of your output\n",
    "```\n",
    "For rainfall of 0.00 mm/hour the maximum speed is reduced by 0.00%\n",
    "For rainfall of 5.00 mm/hour the maximum speed is reduced by 7.50%\n",
    "For rainfall of 10.00 mm/hour the maximum speed is reduced by 15.00%\n",
    "For rainfall of 15.00 mm/hour the maximum speed is reduced by 22.50%\n",
    "For rainfall of 20.00 mm/hour the maximum speed is reduced by 30.00%\n",
    "```\n",
    "\n",
    "Pay attention to formatting. You can use the following values for your traffic and weather variable."
   ]
  },
  {
   "cell_type": "code",
   "execution_count": 3,
   "metadata": {},
   "outputs": [
    {
     "name": "stdout",
     "output_type": "stream",
     "text": [
      "For rainfall of 0.0 mm/hour     the maximum speed is reduced by 0.00%\n",
      "For rainfall of 5.0 mm/hour     the maximum speed is reduced by 7.50%\n",
      "For rainfall of 10.0 mm/hour     the maximum speed is reduced by 15.00%\n",
      "For rainfall of 15.0 mm/hour     the maximum speed is reduced by 22.50%\n",
      "For rainfall of 20.0 mm/hour     the maximum speed is reduced by 30.00%\n"
     ]
    }
   ],
   "source": [
    "# Traffic variables:\n",
    "distance_to_work = 20  # Distance to work in kilometers\n",
    "v_max_clear = 60      # Max speed under clear conditions (km/h)\n",
    "traffic_density = 30   # Current traffic density (vehicles/km)\n",
    "jam_density = 150      # Jam density (vehicles/km)\n",
    "\n",
    "# Weather variables:\n",
    "max_speed_reduction = 0.3  # 30% speed reduction at max rainfall intensity\n",
    "max_rainfall_intensity = 20  # Maximum expected rainfall intensity (mm/hour)\n",
    "\n",
    "#List of rainfall intensities (mm/hour)\n",
    "rainfall_intensities = [*range(0,25,5)] \n",
    "\n",
    "# For loop to calculate speed reduction factor given different rainfall intensities\n",
    "speed_reduction_factors = []\n",
    "for rainfall_intensity in rainfall_intensities:\n",
    "    speed_reduction_factor = (rainfall_intensity / max_rainfall_intensity) * max_speed_reduction\n",
    "    speed_reduction_factors.append(speed_reduction_factor)\n",
    "    print(f\"For rainfall of {rainfall_intensity:.1f} mm/hour \\\n",
    "    the maximum speed is reduced by {speed_reduction_factor:.2%}\")"
   ]
  },
  {
   "cell_type": "markdown",
   "metadata": {},
   "source": [
    "#### Exercise 3.2.2 Calcuate reduction in travel time\n",
    "Based on different speed reduction factors, calculate different travel times accordingly.\n",
    "  \n",
    "Your output should look like this:\n",
    "```\n",
    "For rainfall of 0.0 mm/hour, the travel time is 25 minutes\n",
    "For rainfall of 5.0 mm/hour, the travel time is 27 minutes\n",
    "For rainfall of 10.0 mm/hour, the travel time is 29 minutes\n",
    "For rainfall of 15.0 mm/hour, the travel time is 32 minutes\n",
    "For rainfall of 20.0 mm/hour, the travel time is 36 minutes\n",
    "```\n",
    "Pay attention to formatting."
   ]
  },
  {
   "cell_type": "code",
   "execution_count": 4,
   "metadata": {},
   "outputs": [
    {
     "name": "stdout",
     "output_type": "stream",
     "text": [
      "For rainfall of 0.0 mm/hour     the travel time is 25 minutes\n",
      "For rainfall of 5.0 mm/hour     the travel time is 27 minutes\n",
      "For rainfall of 10.0 mm/hour     the travel time is 29 minutes\n",
      "For rainfall of 15.0 mm/hour     the travel time is 32 minutes\n",
      "For rainfall of 20.0 mm/hour     the travel time is 36 minutes\n"
     ]
    }
   ],
   "source": [
    "#For loop to calculate travel time based on different speed reduction factors\n",
    "for speed_reduction_factor, rainfall_intensity in zip(speed_reduction_factors,rainfall_intensities):\n",
    "\n",
    "    #New maximum velocity\n",
    "    v_max= v_max_clear * (1-speed_reduction_factor)\n",
    "\n",
    "    # Calculate speed using the Greenshields' model\n",
    "    speed = v_max * (1 - (traffic_density / jam_density))\n",
    "\n",
    "    # Calculate travel time (min)\n",
    "    travel_time = (distance_to_work / speed)*60\n",
    "\n",
    "    #Print output \n",
    "    print(f\"For rainfall of {rainfall_intensity:.1f} mm/hour \\\n",
    "    the travel time is {travel_time:.0f} minutes\")"
   ]
  },
  {
   "cell_type": "markdown",
   "metadata": {},
   "source": [
    "You might have noticed that solving a simple problem like this with for loop is tedious. Later we will learn NumPy that does array operations similar to MATLAB, which can solve this problem in a couple of lines"
   ]
  },
  {
   "cell_type": "markdown",
   "metadata": {},
   "source": [
    "### Exercise 3.3 - Functions"
   ]
  },
  {
   "cell_type": "markdown",
   "metadata": {},
   "source": [
    "Repeat [Exercise 3.2](#Exercise-3.2---for-loop) using functions. Write the function `speed_reduction()` to calculate speed reduction factor, and the function `time_reduction()` to calculate the travel time reduction. Your output should look like this:\n",
    "```\n",
    "For rainfall of 0.0 mm/hour the maximum speed is reduced by 0.00%\n",
    "For rainfall of 0.0 mm/hour the travel time is 25 minutes\n",
    "For rainfall of 5.0 mm/hour the maximum speed is reduced by 7.50%\n",
    "For rainfall of 5.0 mm/hour the travel time is 27 minutes\n",
    "...\n",
    "```\n",
    "\n",
    "... and so on."
   ]
  },
  {
   "cell_type": "code",
   "execution_count": 5,
   "metadata": {},
   "outputs": [],
   "source": [
    "def speed_reduction(rainfall_intensity, max_rainfall_intensity, max_speed_reduction):\n",
    "    \"\"\"\n",
    "    Calculate speed reduction factor given rainfall intensity.\n",
    "    \n",
    "    Args:\n",
    "    rainfall_intensity (float): The current rainfall intensity.\n",
    "    max_rainfall_intensity (float): The maximum rainfall intensity.\n",
    "    max_speed_reduction (float): The maximum speed reduction factor.\n",
    "    \n",
    "    Returns:\n",
    "    float: The speed reduction factor calculated based on the given rainfall intensity.\n",
    "    \"\"\"\n",
    "\n",
    "    #Speed reduction factor given rainfall intensity\n",
    "    speed_reduction_factor= (rainfall_intensity / max_rainfall_intensity) * max_speed_reduction\n",
    "    \n",
    "    return speed_reduction_factor\n",
    "\n",
    "def time_reduction(speed_reduction_factor,rainfall_intensity,v_max_clear, \n",
    "                   traffic_density, jam_density, distance_to_work):\n",
    "    \"\"\"\n",
    "    Calculate travel time based on a speed reduction factor.\n",
    "    \n",
    "    Args:\n",
    "    speed_reduction_factor (float): The speed reduction factor.\n",
    "    rainfall_intensity (float): The current rainfall intensity.\n",
    "    v_max_clear (float): The maximum clear velocity.\n",
    "    traffic_density (float): The traffic density.\n",
    "    jam_density (float): The jam density.\n",
    "    distance_to_work (float): The distance to travel to work.\n",
    "    \n",
    "    Returns:\n",
    "    float: The travel time calculated based on the given parameters.\n",
    "    \"\"\"\n",
    "\n",
    "    #New maximum velocity\n",
    "    v_max= v_max_clear * (1-speed_reduction_factor)\n",
    "\n",
    "    # Calculate speed using the Greenshields' model\n",
    "    speed = v_max * (1 - (traffic_density / jam_density))\n",
    "\n",
    "    # Calculate travel time (min)\n",
    "    travel_time = (distance_to_work / speed)*60\n",
    "\n",
    "    return travel_time"
   ]
  },
  {
   "cell_type": "code",
   "execution_count": 6,
   "metadata": {},
   "outputs": [
    {
     "name": "stdout",
     "output_type": "stream",
     "text": [
      "For rainfall of 0.0 mm/hour     the maximum speed is reduced by 0.00%\n",
      "For rainfall of 0.0 mm/hour     the travel time is 25 minutes\n",
      "For rainfall of 5.0 mm/hour     the maximum speed is reduced by 7.50%\n",
      "For rainfall of 5.0 mm/hour     the travel time is 27 minutes\n",
      "For rainfall of 10.0 mm/hour     the maximum speed is reduced by 15.00%\n",
      "For rainfall of 10.0 mm/hour     the travel time is 29 minutes\n",
      "For rainfall of 15.0 mm/hour     the maximum speed is reduced by 22.50%\n",
      "For rainfall of 15.0 mm/hour     the travel time is 32 minutes\n",
      "For rainfall of 20.0 mm/hour     the maximum speed is reduced by 30.00%\n",
      "For rainfall of 20.0 mm/hour     the travel time is 36 minutes\n"
     ]
    }
   ],
   "source": [
    "# Traffic variables:\n",
    "distance_to_work = 20  # Distance to work in kilometers\n",
    "v_max_clear = 60      # Max speed under clear conditions (km/h)\n",
    "traffic_density = 30   # Current traffic density (vehicles/km)\n",
    "jam_density = 150      # Jam density (vehicles/km)\n",
    "\n",
    "# Weather variables:\n",
    "max_speed_reduction = 0.3  # 30% speed reduction at max rainfall intensity\n",
    "max_rainfall_intensity = 20  # Maximum expected rainfall intensity (mm/hour)\n",
    "\n",
    "# Loop for different rainfall intensities (mm/hour)\n",
    "for rainfall_intensity in range(0,25,5):\n",
    "    \n",
    "    # Calculate speed reduction factor given rainfall intensity\n",
    "    speed_reduction_factor = speed_reduction(rainfall_intensity, \n",
    "                                             max_rainfall_intensity, max_speed_reduction)\n",
    "\n",
    "    # Calculate travel time based on a speed reduction factor\n",
    "    travel_time = time_reduction(speed_reduction_factor,rainfall_intensity,\n",
    "                                 v_max_clear, traffic_density, jam_density, distance_to_work)\n",
    "\n",
    "    # Print output\n",
    "    print(f\"For rainfall of {rainfall_intensity:.1f} mm/hour \\\n",
    "    the maximum speed is reduced by {speed_reduction_factor:.2%}\")\n",
    "    print(f\"For rainfall of {rainfall_intensity:.1f} mm/hour \\\n",
    "    the travel time is {travel_time:.0f} minutes\")\n"
   ]
  },
  {
   "cell_type": "markdown",
   "metadata": {},
   "source": [
    "### Exercise 3.4 - Script file  "
   ]
  },
  {
   "cell_type": "markdown",
   "metadata": {},
   "source": [
    "Repeat [Exercise 3.3](Exercise-3.3---Functions) by adding your two functions in a script file 'Ex3.py' and importing them to solve the problem."
   ]
  },
  {
   "cell_type": "code",
   "execution_count": 7,
   "metadata": {},
   "outputs": [],
   "source": [
    "# Traffic variables:\n",
    "distance_to_work = 20  # Distance to work in kilometers\n",
    "v_max_clear = 60      # Max speed under clear conditions (km/h)\n",
    "traffic_density = 30   # Current traffic density (vehicles/km)\n",
    "jam_density = 150      # Jam density (vehicles/km)\n",
    "\n",
    "# Weather variables:\n",
    "max_speed_reduction = 0.3  # 30% speed reduction at max rainfall intensity\n",
    "max_rainfall_intensity = 20  # Maximum expected rainfall intensity (mm/hour)"
   ]
  },
  {
   "cell_type": "markdown",
   "metadata": {},
   "source": [
    "#### Solution 1"
   ]
  },
  {
   "cell_type": "code",
   "execution_count": 8,
   "metadata": {},
   "outputs": [],
   "source": [
    "#Import your functions here\n",
    "from Ex3 import speed_reduction, time_reduction"
   ]
  },
  {
   "cell_type": "code",
   "execution_count": 9,
   "metadata": {},
   "outputs": [
    {
     "name": "stdout",
     "output_type": "stream",
     "text": [
      "For rainfall of 0.0 mm/hour     the maximum speed is reduced by 0.00%\n",
      "For rainfall of 0.0 mm/hour     the travel time is 25 minutes\n",
      "For rainfall of 5.0 mm/hour     the maximum speed is reduced by 7.50%\n",
      "For rainfall of 5.0 mm/hour     the travel time is 27 minutes\n",
      "For rainfall of 10.0 mm/hour     the maximum speed is reduced by 15.00%\n",
      "For rainfall of 10.0 mm/hour     the travel time is 29 minutes\n",
      "For rainfall of 15.0 mm/hour     the maximum speed is reduced by 22.50%\n",
      "For rainfall of 15.0 mm/hour     the travel time is 32 minutes\n",
      "For rainfall of 20.0 mm/hour     the maximum speed is reduced by 30.00%\n",
      "For rainfall of 20.0 mm/hour     the travel time is 36 minutes\n"
     ]
    }
   ],
   "source": [
    "# Loop for different rainfall intensities (mm/hour)\n",
    "for rainfall_intensity in range(0,25,5):\n",
    "    \n",
    "    # Calculate speed reduction factor given rainfall intensity\n",
    "    speed_reduction_factor = speed_reduction(rainfall_intensity, \n",
    "                                             max_rainfall_intensity, max_speed_reduction)\n",
    "\n",
    "    # Calculate travel time based on a speed reduction factor\n",
    "    travel_time = time_reduction(speed_reduction_factor,rainfall_intensity,\n",
    "                                 v_max_clear, traffic_density, jam_density, distance_to_work)\n",
    "\n",
    "    # Print output\n",
    "    print(f\"For rainfall of {rainfall_intensity:.1f} mm/hour \\\n",
    "    the maximum speed is reduced by {speed_reduction_factor:.2%}\")\n",
    "    print(f\"For rainfall of {rainfall_intensity:.1f} mm/hour \\\n",
    "    the travel time is {travel_time:.0f} minutes\")"
   ]
  },
  {
   "cell_type": "markdown",
   "metadata": {},
   "source": [
    "#### Solution 2"
   ]
  },
  {
   "cell_type": "code",
   "execution_count": 10,
   "metadata": {},
   "outputs": [],
   "source": [
    "#Import your module here\n",
    "import Ex3"
   ]
  },
  {
   "cell_type": "code",
   "execution_count": 11,
   "metadata": {},
   "outputs": [
    {
     "name": "stdout",
     "output_type": "stream",
     "text": [
      "For rainfall of 0.0 mm/hour     the maximum speed is reduced by 0.00%\n",
      "For rainfall of 0.0 mm/hour     the travel time is 25 minutes\n",
      "For rainfall of 5.0 mm/hour     the maximum speed is reduced by 7.50%\n",
      "For rainfall of 5.0 mm/hour     the travel time is 27 minutes\n",
      "For rainfall of 10.0 mm/hour     the maximum speed is reduced by 15.00%\n",
      "For rainfall of 10.0 mm/hour     the travel time is 29 minutes\n",
      "For rainfall of 15.0 mm/hour     the maximum speed is reduced by 22.50%\n",
      "For rainfall of 15.0 mm/hour     the travel time is 32 minutes\n",
      "For rainfall of 20.0 mm/hour     the maximum speed is reduced by 30.00%\n",
      "For rainfall of 20.0 mm/hour     the travel time is 36 minutes\n"
     ]
    }
   ],
   "source": [
    "# Loop for different rainfall intensities (mm/hour)\n",
    "for rainfall_intensity in range(0,25,5):\n",
    "    \n",
    "    # Calculate speed reduction factor given rainfall intensity\n",
    "    speed_reduction_factor = Ex3.speed_reduction(rainfall_intensity, \n",
    "                                             max_rainfall_intensity, max_speed_reduction)\n",
    "\n",
    "    # Calculate travel time based on a speed reduction factor\n",
    "    travel_time = Ex3.time_reduction(speed_reduction_factor,rainfall_intensity,\n",
    "                                 v_max_clear, traffic_density, jam_density, distance_to_work)\n",
    "\n",
    "    # Print output\n",
    "    print(f\"For rainfall of {rainfall_intensity:.1f} mm/hour \\\n",
    "    the maximum speed is reduced by {speed_reduction_factor:.2%}\")\n",
    "    print(f\"For rainfall of {rainfall_intensity:.1f} mm/hour \\\n",
    "    the travel time is {travel_time:.0f} minutes\")"
   ]
  }
 ],
 "metadata": {
  "kernelspec": {
   "display_name": "Python 3 (ipykernel)",
   "language": "python",
   "name": "python3"
  },
  "language_info": {
   "codemirror_mode": {
    "name": "ipython",
    "version": 3
   },
   "file_extension": ".py",
   "mimetype": "text/x-python",
   "name": "python",
   "nbconvert_exporter": "python",
   "pygments_lexer": "ipython3",
   "version": "3.12.9"
  }
 },
 "nbformat": 4,
 "nbformat_minor": 4
}
