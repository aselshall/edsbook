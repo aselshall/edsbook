{
 "cells": [
  {
   "cell_type": "markdown",
   "id": "ae93ad13-d062-4e63-a4de-1207020494e6",
   "metadata": {},
   "source": [
    "<h1 style=\"color:green; text-align:center;\"> Homework 2 Python Programming </h1>  \n",
    "\n",
    "**Instructions:**\n",
    "* LLM Not Permitted (Check syllabus for details)\n",
    "* Here is how you can find [python help](https://github.com/aselshall/eds/blob/main/L/L1/find_help_python.md) \n",
    "* Answer all questions in one notebook \n",
    "* Rename notebook file name to `HW1_YourFirstName_YourLastName`\n",
    "* Submit your notebook and other required files to Canvas by the due date on Canvas\n",
    "* 100 points (20 points each)"
   ]
  },
  {
   "cell_type": "markdown",
   "id": "65dbf624-43ab-407b-938e-532015af8590",
   "metadata": {},
   "source": [
    "### Problem 1 - For-loop and indexing"
   ]
  },
  {
   "cell_type": "markdown",
   "id": "76613d7b-3eb6-4811-b21a-34de3860e832",
   "metadata": {},
   "source": [
    "Calcuate daily streamflow concentrations of a contaminant over a week, 7-day period. The contaminant's concentration is measured in milligrams per liter (mg/L). You are given the following information:\n",
    "```\n",
    "Initial concentration: 0.5 mg/L\n",
    "Daily increase: 0.02 mg/L\n",
    "Degradation rate: 10% per day \n",
    "```\n",
    "This means that after the daily increase of 0.02 mg/L, 10% of the contaminant is removed from the stream each day. Note that your initial concentration is your initial condition at time zero.\n",
    "\n",
    "Tasks:\n",
    "- Create a list called `concentrations` that you can use to store the daily concentrations\n",
    "- Use a for-loop to calculate the 7-day period:\n",
    "   - Calculate the concentration for each day\n",
    "   - Append the calculated concentration to the `concentrations` list\n",
    "- Use f-strings and print the following information\n",
    "   -  calculated concentration for each day with two decimal places \n",
    "   -  minimum concentration over the one week period with two decimal places \n",
    "  \n",
    "Output:   \n",
    "Your output should look something like this\n",
    "```\n",
    "Day 0: 0.50 mg/L\n",
    "Day 1: 0.47 mg/L\n",
    "Day 2: 0.44 mg/L\n",
    "...\n",
    "Day 7: 0.33 mg/L\n",
    "The minimum concentration is 0.33 mg/L\n",
    "```\n",
    "Note the formatting of the outputs."
   ]
  },
  {
   "cell_type": "code",
   "execution_count": null,
   "id": "0545443a-64a0-408e-98a8-41ffe7e5474b",
   "metadata": {},
   "outputs": [],
   "source": [
    "# Initial values\n",
    "initial_concentration = 0.5  # mg/L\n",
    "daily_increase = 0.02  # mg/L\n",
    "degradation_rate = 0.1  # 10%\n",
    "\n",
    "#Creating a list of concentrations\n",
    "\n",
    "#Calculate the concentrations for the analysis periods\n",
    "\n",
    "#Minimum concentration\n"
   ]
  },
  {
   "cell_type": "markdown",
   "id": "9a5d7c25-f902-4739-bd9f-549ac86fc3b7",
   "metadata": {},
   "source": [
    "### Problem 2  - If condition"
   ]
  },
  {
   "cell_type": "markdown",
   "id": "956c4732-b4b0-49aa-8e60-a64fa80798b9",
   "metadata": {},
   "source": [
    "You are analyzing a big dataset about water quality in a river based on  nutrient levels (total nitrogen and total phosphorus), oxygen availability for aquatic life (dissolved oxygen), and bacterial contamination (fecal coliform bacteria). High nutrient levels and low dissolved oxygen levels indicate ecosystem imbalance and stress. High nutrient levels of nitrogen and phosphorus lead to algal blooms and eutrophication, depleting oxygen in the water. Dissolved oxygen is also necessary for fish, macroinvertebrates, and other aquatic life to breathe. Presence of fecal coliform bacteria indicates contamination from human or animal waste. This poses health risks to humans and animals when using the water for recreation or drinking.\n",
    "    \n",
    "This is an index for nutrients based on total nitrogen, total phosphorus, and dissolved oxygen.\n",
    "```\n",
    "nutrient_index = (total_nitrogen x 0.3) + (total_phosphorus x 0.7) + (10/dissolved_oxygen)\n",
    "```\n",
    "Where:\n",
    "- `total_nitrogen`, `total_phosphorus`, and `dissolved_oxygen` are measured in mg/L\n",
    "- Weights of 0.3 and 0.7 are applied to nitrogen and phosphorus based on their relative impacts\n",
    "- `dissolved_oxygen` is inverted on a scale of 10 to account for low DO indicating poor quality\n",
    "   \n",
    "This is an overall water quality classification with just two parameters, nutirmt index and fecal coliform:\n",
    "```\n",
    "Good Water Quality:\n",
    "- Nutrient Index: <2.5\n",
    "- Fecal Coliform: <200 MPN/100mL\n",
    "\n",
    "Moderate Water Quality:\n",
    "- Nutrient Index: 2.5 -3.5\n",
    "- Fecal Coliform: 200-1000 MPN/100mL\n",
    "\n",
    "Poor Water Quality:\n",
    "- Nutrient Index: >3.5\n",
    "- Fecal Coliform: >1000 MPN/100mL\n",
    "```\n",
    "Using if-condition statements, write a python code that takes the above four water quality parameters and outputs: \n",
    "- classificaion of nutrient index (good, moderate, or bad) \n",
    "- classification of the overall water quality (good, moderate, or bad) \n",
    "\n",
    "Here is a sample input and output that your code can produce:\n",
    "```\n",
    "Input: total_nitrogen = 1.2  \n",
    "Input: total_phosphorus = 0.01  \n",
    "Input: dissolved_oxygen = 4.5   \n",
    "Input: fecal_coliform = 1200\n",
    "  \n",
    "Output: Given a total nitrogen of 1.2 mg/L,  total phosphorus of 0.01 mg/L,  and dissolved oxygen of 4.5 mg/L, the nutrient index is 2.35 indicating moderate water quality with respect to nutrient index.\n",
    "  \n",
    "Output: Given a nutrient index of 2.35 and fecal coliform concentration of 1200, the overall water quality in the river is poor.\n",
    "```\n",
    "Your code should produce the same outputs with the same format, but your numbers and water quality classifications will be different for each new sample. Solvle the problem for the water quality data sample given below."
   ]
  },
  {
   "cell_type": "code",
   "execution_count": null,
   "id": "aa0d4cee-8d34-478f-8bdf-93e1bbd611ea",
   "metadata": {},
   "outputs": [],
   "source": [
    "# water quality data sample\n",
    "total_nitrogen = 0.8\n",
    "total_phosphorus = 0.044\n",
    "dissolved_oxygen = 5.3\n",
    "fecal_coliform = 800\n",
    "\n",
    "# Calculate nutrient index\n",
    "\n",
    "# Classif water quality based on nutrient index\n",
    "\n",
    "# Print results of nutrient index\n",
    "\n",
    "# Classify overall water quality\n",
    "\n",
    "# Print results of overall water quality \n"
   ]
  },
  {
   "cell_type": "markdown",
   "id": "fd2670f6-2db1-4d39-9bc6-ae52783b2b5e",
   "metadata": {},
   "source": [
    "### Problem 3 - For loop and if condition"
   ]
  },
  {
   "cell_type": "markdown",
   "id": "ca7a5267-049c-4e8a-81fe-ccdaf0ec680d",
   "metadata": {},
   "source": [
    "You have collected a series of water quality measurements from a local stream. Each measurement includes dissolved oxygen (DO), pH, and turbidity values.  Using for-loop and if condition, write a python code that counts the number of samples the has any parameter that exceeds the critical measurment.\n",
    "```\n",
    "Critical measurement for each parameter:\n",
    "DO< 4 mg/L\n",
    "pH< 6.5\n",
    "pH> 8.5\n",
    "Turbidity > 20 NTU.\n",
    "```\n",
    "Print messages indicating the number of critical measurements found.\n",
    "You answer should look something like this:\n",
    "```\n",
    "Number of samples with critical measurements:  3\n",
    "```"
   ]
  },
  {
   "cell_type": "code",
   "execution_count": null,
   "id": "c16d1c25-4ae8-478f-9146-13336b86ceb1",
   "metadata": {},
   "outputs": [],
   "source": [
    "# DO, pH, and Turbidity measurements for four samples.\n",
    "measurements = [\n",
    "    [6.2, 8.6, 15],  # DO, pH, and Turbidity measurements Sample # 1\n",
    "    [3.8, 6.9, 22],  # DO, pH, and Turbidity measurements Sample # 2\n",
    "    [5.1, 6.1, 18],  # DO, pH, and Turbidity measurements Sample # 3\n",
    "    [6.2, 7.1, 17],  # DO, pH, and Turbidity measurements Sample # 4\n",
    "]\n",
    "\n",
    "# Counter for critical measurements\n",
    "\n",
    "# Loop through each measurement\n"
   ]
  },
  {
   "cell_type": "markdown",
   "id": "755253c9-c68d-404f-9a55-0e1a38d82a7b",
   "metadata": {},
   "source": [
    "### Problem 4 - Functions"
   ]
  },
  {
   "cell_type": "markdown",
   "id": "7ea06c83-3188-44b1-b801-b0cfa826aee2",
   "metadata": {},
   "source": [
    "You want to analyze rainfall data from a series of sensors located at different points in a river basin. The data is represented as a list of lists, where each inner list contains measurements from a sensor for a day. Each sensor records rainfall in millimeters (mm).\n",
    "```\n",
    "rainfall_data = [\n",
    "    [0, 2.5, 12.1, 0, 1.0, 0, 0],  # Sensor 1 data for 7 days\n",
    "    [1.2, 0, 0, 3.4, 0, 0, 4.5],   # Sensor 2 data for 7 days\n",
    "    # ... more sensors\n",
    "]\n",
    "```\n",
    "Create the function `rainfall_analysis` that takes a sensor measurements as input and outputs for each sensor the:\n",
    "- average rainfall over the observed period\n",
    "- day with the highest rainfall\n",
    "- number of days with no rainfall  \n",
    "\n",
    "In other words, your function will have one input (a list) and three outputs (floats). \n",
    "  \n",
    "Use print funnction with f-formatting to make your output look like this:\n",
    "```\n",
    "Station # 1 recorded average rainfall of 2.23 mm with 4 dry days and max rainfall was recorded on Wednesday\n",
    "Station # 2 recorded average rainfall of 1.30 mm with 4 dry days and max rainfall was recorded on Sunday\n",
    "Station # 3 recorded average rainfall of 2.87 mm with 2 dry days and max rainfall was recorded on Saturday\n",
    "Station # 4 recorded average rainfall of 2.16 mm with 1 dry days and max rainfall was recorded on Sunday\n",
    "Station # 5 recorded average rainfall of 0.64 mm with 6 dry days and max rainfall was recorded on Monday \n",
    "```\n",
    "Hint: This problem will help reinforce your understanding of defining and calling a function, for-loops, if-conditions, and some of the list methods such as `list.index()`, and python functions that you learned. These are what you need to solve this problem."
   ]
  },
  {
   "cell_type": "code",
   "execution_count": null,
   "id": "6d510706-7a1a-4829-9be3-265506ad33c5",
   "metadata": {},
   "outputs": [],
   "source": [
    "# Dataset for five sensors starting from Monday for each sensor\n",
    "rainfall_data = [\n",
    "    [0, 2.5, 12.1, 0, 0, 0, 0],            # Sensor 1 data for 7 days\n",
    "    [0.1, 2.3, 13.1, 3.4, 0, 0, 4.5],      # ... \n",
    "    [0.2, 0, 0, 3.4, 5.0, 6.0, 5.5],\n",
    "    [1.2, 1, 4, 3.4, 1, 0, 4.5],\n",
    "    [4.5, 0, 0, 0, 0, 0, 0],              # Sensor 5 data for 7 days\n",
    "]"
   ]
  },
  {
   "cell_type": "code",
   "execution_count": null,
   "id": "1c9d7e7b-b364-4df5-9aa8-01e9640eb1eb",
   "metadata": {},
   "outputs": [],
   "source": [
    "# rainfall analysis function\n"
   ]
  },
  {
   "cell_type": "code",
   "execution_count": null,
   "id": "57f4184e-91ef-4438-b8b9-02ef09d9b42d",
   "metadata": {},
   "outputs": [],
   "source": [
    "#rainfall analysis \n"
   ]
  },
  {
   "cell_type": "markdown",
   "id": "6248a9a1-b4ba-4524-99de-a2a062e30e76",
   "metadata": {},
   "source": [
    "#### Problem 5 - Script files"
   ]
  },
  {
   "cell_type": "markdown",
   "id": "1e233a7c-cec9-45a8-9142-4b94a9300977",
   "metadata": {},
   "source": [
    "Resolve [Problem 4](#Problem-4---Functions) but using a script file. \n",
    "\n",
    "1. Create a new script file and rename is to \"YourFirstName_YourLastName_HW2_P5.py\"\n",
    "2. Write three functions to calculate: \n",
    "   - average rainfal `averageRainfall`\n",
    "   - highest rainfall per day `\n",
    "   - Number of days with no rainfall\n",
    "3. Add your three functions to your script file\n",
    "4. Add a docstring to one of your three functions\n",
    "5. Import your three functions and resolve [Problem 4](#Problem-4---Functions)\n",
    "6. Use `help()` to show the docstring of your function\n",
    "\n",
    "When you submit your homework on Canvas do not forget to submit your script file along with this file. Also, make sure that your function names do not match any of your variable names."
   ]
  },
  {
   "cell_type": "code",
   "execution_count": null,
   "id": "0bb9a09f-c153-4fa0-a282-0718c68d33a9",
   "metadata": {},
   "outputs": [],
   "source": [
    "#rainfall analysis \n"
   ]
  }
 ],
 "metadata": {
  "kernelspec": {
   "display_name": "Python 3 (ipykernel)",
   "language": "python",
   "name": "python3"
  },
  "language_info": {
   "codemirror_mode": {
    "name": "ipython",
    "version": 3
   },
   "file_extension": ".py",
   "mimetype": "text/x-python",
   "name": "python",
   "nbconvert_exporter": "python",
   "pygments_lexer": "ipython3",
   "version": "3.11.5"
  }
 },
 "nbformat": 4,
 "nbformat_minor": 5
}
