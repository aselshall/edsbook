{
 "cells": [
  {
   "cell_type": "markdown",
   "id": "4bf7b2db-a83f-441a-a238-c046ebb72618",
   "metadata": {},
   "source": [
    "# Homework 3\n",
    "\n",
    "Homework 3 can be found at this web page or markdown page:\n",
    "- Web page: [https://aselshall.github.io/eds/HW/HW3](https://aselshall.github.io/eds/HW/HW3)\n",
    "- Markdown page: [https://github.com/aselshall/eds/blob/main/HW/HW3.md](https://github.com/aselshall/eds/blob/main/HW/HW3.md)\n"
   ]
  },
  {
   "cell_type": "markdown",
   "id": "4c8ccc56-60e8-4df5-a2f1-73fc6f47bd83",
   "metadata": {},
   "source": [
    "# Problem 1\n",
    "\n",
    "Each student will have a different solution based on the selected dataset. \n",
    "\n",
    "Problem 1 can be submitted in separate notebook."
   ]
  },
  {
   "cell_type": "markdown",
   "id": "166ee2de-e2fc-468c-9614-1132efee8dc8",
   "metadata": {},
   "source": [
    "# Problem 2"
   ]
  },
  {
   "cell_type": "markdown",
   "id": "93fc9c5f-7ca5-4bd5-a98a-e51405a9e301",
   "metadata": {},
   "source": [
    "## Problem statement\n",
    "\n",
    "**Task 1:** Plot the maximum concentration of Karenia brevis (cell counts per letter) per week for the whole dataset for each of the regions of Tampa Bay and Charlotte Harbor estuary.\n",
    " \n",
    "**Task 2:** FWRI classifies Karenia brevis abundance based on cell counts as described [here](https://myfwc.com/research/redtide/statewide/) as follows: \n",
    "\n",
    "\n",
    "| Index | Description             | K. brevis abundance           | Possible effects (K. brevis only)                                                  |\n",
    "|-------|-------------------------|-------------------------------|-----------------------------------------------------------------------------------|\n",
    "| 0     | NOT PRESENT- BACKGROUND| background levels of 1,000 cells or less | no effects anticipated                                                             |\n",
    "| 1     | VERY LOW                | > 1,000 - 10,000 cells/L     | possible respiratory irritation; shellfish harvesting closures when cell abundance equals or exceeds 5,000 cells/L |\n",
    "| 2     | LOW                     | > 10,000 - 100,000 cells/L   | respiratory irritation; shellfish harvesting closures; possible fish kills; probable detection of chlorophyll by satellites at upper range of cell abundance |\n",
    "| 3     | MEDIUM                  | > 100,000 - 1,000,000 cells/L| respiratory irritation; shellfish harvesting closures; probable fish kills; detection of surface chlorophyll by satellites |\n",
    "| 4     | HIGH                    | > 1,000,000 cells/L          | as above, plus water discoloration                                                |\n",
    "\n",
    "\n",
    "Create new columns `Weekly_Index_Tampa` and `Weekly_Index_Naples`, and use the maximum concentration of K. brevis (cells/L) per week to do weekly classifcation of bloom impact per week for the two regions of Tampa Bay and Charlotte Harbor estuary for the whole dataset. For example, if the max concentration in week 1 is 50,000 cells/L in Tampa Bay and 1,500,000 cell/L in Charlotte Harbor estuary, then the first rows in `Weekly_Index_Tampa` and `Weekly_Index_Naples` will have the values of 2 and 4, respectively. If the max concentration in a given week is 0 then the index will be 0 and so on. \n",
    "   \n",
    "Create a histogram plot for only index values 1 to 4 for the two regions."
   ]
  },
  {
   "cell_type": "markdown",
   "id": "ea028474-98f9-4418-a3d2-08f248fdd736",
   "metadata": {},
   "source": [
    "## Dataset\n",
    "Red tides are caused by Karenia brevis harmful algae blooms. For Karenia brevis cell count data, you can use the [current dataset](https://www.ncei.noaa.gov/access/metadata/landing-page/bin/iso?id=gov.noaa.nodc:0120767) of Physical and biological data collected along the Texas, Mississippi, Alabama, and Florida Gulf coasts in the Gulf of Mexico as part of the Harmful Algal BloomS Observing System from 1953-08-19 to 2023-07-06 (NCEI Accession 0120767). For direct data download, you can use this [data link](https://www.nodc.noaa.gov/archive/arc0069/0120767/7.7/data/0-data/habsos_20230714.csv) and this [data documentation link](https://www.nodc.noaa.gov/archive/arc0069/0120767/7.7/data/0-data/Support%20Documents/).  Alternatively, FWRI documents Karenia brevis blooms from 1953 to the present. The dataset has more than 200,000 records is updated daily. To request this dataset email: HABdata@MyFWC.com. To learn more about this data, check the [FWRI  Red Tide  Red Tide Current Status](https://myfwc.com/research/redtide/statewide/)."
   ]
  },
  {
   "cell_type": "markdown",
   "id": "53177fb8-c759-483a-b5cc-e9a2a8ec86d7",
   "metadata": {},
   "source": [
    "## Study areas\n",
    "Conduct your analysis in Tampa Bay and Charlotte Harbor estuary. For Tampa Bay, restrict the Karenia brevis measurements from 27° N to 28° N and 85° W to coast. For Charlotte Harbor estuary, restrict the Karenia brevis measurements from 25.5° N to less than 27° N and 85° W to coast."
   ]
  },
  {
   "cell_type": "markdown",
   "id": "1de3d72b-c410-46b4-a8dc-48875b6a2301",
   "metadata": {},
   "source": [
    "## Solution"
   ]
  },
  {
   "cell_type": "code",
   "execution_count": null,
   "id": "859d0aac-8806-4968-a30b-c64045fb5349",
   "metadata": {},
   "outputs": [],
   "source": [
    "#As a good coding practice, we add all the libraries that we will use at the beginning of our code\n"
   ]
  },
  {
   "cell_type": "markdown",
   "id": "593310d9-c076-4d15-a73d-3a062f455170",
   "metadata": {},
   "source": [
    "## 1. Data reading and data wrangling"
   ]
  },
  {
   "cell_type": "code",
   "execution_count": null,
   "id": "5e87aa70-2714-434f-a4f2-444671ffbc0a",
   "metadata": {
    "scrolled": true
   },
   "outputs": [],
   "source": [
    "# Read a csv file with Pandas\n"
   ]
  },
  {
   "cell_type": "code",
   "execution_count": null,
   "id": "799ff9c2-ee27-4f8b-8e0b-c3baa5a0fbea",
   "metadata": {},
   "outputs": [],
   "source": [
    "#Display columns labels\n"
   ]
  },
  {
   "cell_type": "code",
   "execution_count": null,
   "id": "e262e9cb-e831-4117-925d-f7ee2907bd19",
   "metadata": {},
   "outputs": [],
   "source": [
    "# List of column names to focus on\n",
    "\n",
    "# Filter the DataFrame to include only the selected columns\n"
   ]
  },
  {
   "cell_type": "code",
   "execution_count": null,
   "id": "35a8cf4d-d5c0-4605-b7cd-e42f05ab9eed",
   "metadata": {},
   "outputs": [],
   "source": [
    "# Convert the \"SAMPLE_DATE\" column to datetime format using pd.to_datetime()\n",
    "\n",
    "# Set the \"SAMPLE_DATE\" column as the index of your DataFrame\n",
    "\n",
    "#Display DataFrame\n"
   ]
  },
  {
   "cell_type": "markdown",
   "id": "e6e10920-b937-49d7-b172-04a808730730",
   "metadata": {},
   "source": [
    "### 2. Task 1 Plot the maximum concentration"
   ]
  },
  {
   "cell_type": "markdown",
   "id": "1a73e16d-b166-4e4a-bf2d-8ce666354698",
   "metadata": {},
   "source": [
    "#### 2.1 Assign region name based on latitude and longitude values. \n",
    "\n",
    "Create a new column `REGION` with default value 'Other'. Then use a Boolean mask to change 'Other' in each row to 'Tampa Bay' or 'Charlotte Harbor' based on latitude and longitude values."
   ]
  },
  {
   "cell_type": "code",
   "execution_count": null,
   "id": "d8f3be0d-87d3-4e5a-9402-3cc95e221712",
   "metadata": {},
   "outputs": [],
   "source": [
    "# Create a new column 'region' with default value 'Other'\n",
    "\n",
    "# Mask for dicing: Define mask for Tampa Bay region based on latitude and longitude values\n",
    "\n",
    "# Assign value 'Tampa Bay' to rows matching Tampa Bay mask \n",
    "\n",
    "# Mask for dicing: Define mask for Charlotte Harbor estuary region  based on latitude and longitude values\n",
    "\n",
    "# Assign value 'Charlotte Harbor' to rows matching Charlotte Harbor mask\n",
    "\n",
    "#Display dataframe\n"
   ]
  },
  {
   "cell_type": "markdown",
   "id": "aa1eec4c-c79c-4865-a2b4-f174b3dc0131",
   "metadata": {},
   "source": [
    "#### 2.2. Select the data for each region\n",
    "\n",
    "Create a new DataFrame from for each region: `charlotte_harbor_plot_data` and `tampa_bay_plot_data`. Each DataFrame should contain the maximum cellcount per week for the whole period. "
   ]
  },
  {
   "cell_type": "code",
   "execution_count": null,
   "id": "3cfca66a-1aa9-40c5-bd11-29630edf789f",
   "metadata": {},
   "outputs": [],
   "source": [
    "#Get rows for charlotte harbor region\n",
    "\n",
    "#Get rows for tampa bay region\n",
    "\n",
    "#For these rows, find the maximum cellcount per month for the study period \n",
    "\n",
    "#For these rows find the maximum cellcount per month for the study period \n",
    "\n",
    "# display data\n",
    "\n",
    "# display data\n"
   ]
  },
  {
   "cell_type": "markdown",
   "id": "4476fa0a-aa70-49f4-8b9f-73fb982d5e93",
   "metadata": {},
   "source": [
    "#### 2.3 Plot data\n",
    "\n",
    "I seeked assistance from ChatGPT 3.5 Turbo to learn how to add legend to a pandas figure with two plots."
   ]
  },
  {
   "cell_type": "code",
   "execution_count": null,
   "id": "59710f8c-47a2-4b73-aa18-226d6d97d522",
   "metadata": {},
   "outputs": [],
   "source": [
    "# Plot the data with cutomization \n"
   ]
  },
  {
   "cell_type": "markdown",
   "id": "16ad7dc5-2692-4d74-a5cb-290bfa5f3b76",
   "metadata": {},
   "source": [
    "#### 2.4 Management question\n",
    "\n",
    "**Which region experienced more severe red tides in the last 10 years?**\n",
    "\n",
    "Add your analysis here"
   ]
  },
  {
   "cell_type": "markdown",
   "id": "b0075a6f-577e-4fdc-89a0-569f07da1a18",
   "metadata": {},
   "source": [
    "### 3. Task 2 Classify red tides blooms "
   ]
  },
  {
   "cell_type": "markdown",
   "id": "77b4a805-ef98-4e67-8232-ef6cfcee46f9",
   "metadata": {},
   "source": [
    "#### 3.1 Assign bloom index based on cellcount\n",
    "\n",
    "| Index | Description             | K. brevis abundance           | Possible effects (K. brevis only)                                                  |\n",
    "|-------|-------------------------|-------------------------------|-----------------------------------------------------------------------------------|\n",
    "| 0     | NOT PRESENT- BACKGROUND| background levels of 1,000 cells or less | no effects anticipated                                                             |\n",
    "| 1     | VERY LOW                | > 1,000 - 10,000 cells/L     | possible respiratory irritation; shellfish harvesting closures when cell abundance equals or exceeds 5,000 cells/L |\n",
    "| 2     | LOW                     | > 10,000 - 100,000 cells/L   | respiratory irritation; shellfish harvesting closures; possible fish kills; probable detection of chlorophyll by satellites at upper range of cell abundance |\n",
    "| 3     | MEDIUM                  | > 100,000 - 1,000,000 cells/L| respiratory irritation; shellfish harvesting closures; probable fish kills; detection of surface chlorophyll by satellites |\n",
    "| 4     | HIGH                    | > 1,000,000 cells/L          | as above, plus water discoloration                                                |"
   ]
  },
  {
   "cell_type": "code",
   "execution_count": null,
   "id": "a39bc7de-0de2-4b81-9772-6159a20f5a4b",
   "metadata": {},
   "outputs": [],
   "source": [
    "# Create a new column 'Bloom_Class' with default value 0\n",
    "\n",
    "#Dicing to fill-out 'Bloom_Class':\n",
    "\n",
    "\n",
    "\n",
    "#Display dataframe\n"
   ]
  },
  {
   "cell_type": "markdown",
   "id": "1c91ca3e-878e-4aa8-946d-c476d61b7ea3",
   "metadata": {},
   "source": [
    "#### 3.2. Select the data for each region\n",
    "\n",
    "Create a new DataFrame from for each region: `charlotte_harbor_hist_data` and `tampa_bay_hist_data`. Each DataFrame should contain the maximum cellcount per week for the whole period. "
   ]
  },
  {
   "cell_type": "code",
   "execution_count": null,
   "id": "5b9c4244-9253-4042-ba0f-88533d8a4b55",
   "metadata": {},
   "outputs": [],
   "source": [
    "#Get rows for both regions \n",
    "\n",
    "\n",
    "#It is always a good idea to sort your index \n",
    "\n",
    "#Select the numeric columns that you want to resample (numeric only)\n",
    "\n",
    "#Apply resample with max to numeric column\n",
    "\n",
    "#View data\n"
   ]
  },
  {
   "cell_type": "markdown",
   "id": "ce8e3677-fd28-439a-8e5e-046b1cc73b5a",
   "metadata": {},
   "source": [
    "#### 3.3 Plot histogram"
   ]
  },
  {
   "cell_type": "code",
   "execution_count": null,
   "id": "f175c71f-48cb-458a-aa85-e53efc7460d3",
   "metadata": {},
   "outputs": [],
   "source": [
    "#Mask to filter out rows with BLOOM_CLASS equal to zero for charlotte_harbor\n",
    "\n",
    "#Plot data using Pandas plot for charlotte harbor region \n"
   ]
  },
  {
   "cell_type": "code",
   "execution_count": null,
   "id": "802a9c37-fad1-4d20-9684-5f034de1b856",
   "metadata": {},
   "outputs": [],
   "source": [
    "#Mask to filter out rows with BLOOM_CLASS equal to zerotampa bay\n",
    "\n",
    "\n",
    "#Plot data using Pandas plot for tampa bay region\n"
   ]
  },
  {
   "cell_type": "markdown",
   "id": "b1e5492e-cd63-44b7-b55d-4b7d07784f99",
   "metadata": {},
   "source": [
    "#### 3.4 Management question\n",
    "\n",
    "**Which region experienced more severe red tides in the last 10 years?**\n",
    "\n",
    "Add your answer here."
   ]
  }
 ],
 "metadata": {
  "kernelspec": {
   "display_name": "Python 3 (ipykernel)",
   "language": "python",
   "name": "python3"
  },
  "language_info": {
   "codemirror_mode": {
    "name": "ipython",
    "version": 3
   },
   "file_extension": ".py",
   "mimetype": "text/x-python",
   "name": "python",
   "nbconvert_exporter": "python",
   "pygments_lexer": "ipython3",
   "version": "3.12.9"
  }
 },
 "nbformat": 4,
 "nbformat_minor": 5
}
