{
 "cells": [
  {
   "cell_type": "markdown",
   "id": "745e28aa-0779-4263-ae40-d88b5694bcb5",
   "metadata": {},
   "source": [
    "# Exercise:  GeeMap, GEE, and Sentinel-2 data\n",
    "\n",
    "This lesson is modified from [An Introduction to Cloud-Based Geospatial Analysis with Earth Engine and Geemap](https://geemap.org/workshops/AGU_2023/). Codes, annotation, and formatting are produced wuth assistant from Jupter AI using ChatGPT 3.5 Turbo and ChatGPT4o.\n",
    "\n",
    "[![Binder](https://mybinder.org/badge_logo.svg)](https://mybinder.org/v2/gh/aselshall/eds/HEAD)\n",
    "\n",
    "-----"
   ]
  },
  {
   "cell_type": "markdown",
   "id": "b79f70ce-587b-4ac8-b0ea-8ef09784e058",
   "metadata": {},
   "source": [
    "## 1. Environment Setup"
   ]
  },
  {
   "cell_type": "markdown",
   "id": "cea4b299-de29-4755-a984-0b0124ab73e2",
   "metadata": {},
   "source": [
    "You need to install [GeeMap](https://geemap.org/) library. Installing geemap library can take more than 5 minutes depending on the specs of your machine."
   ]
  },
  {
   "cell_type": "code",
   "execution_count": 21,
   "id": "d95aa91b-65a3-4636-abb8-3b6010981f63",
   "metadata": {},
   "outputs": [
    {
     "data": {
      "text/html": [
       "\n",
       "            <style>\n",
       "                .geemap-dark {\n",
       "                    --jp-widgets-color: white;\n",
       "                    --jp-widgets-label-color: white;\n",
       "                    --jp-ui-font-color1: white;\n",
       "                    --jp-layout-color2: #454545;\n",
       "                    background-color: #383838;\n",
       "                }\n",
       "\n",
       "                .geemap-dark .jupyter-button {\n",
       "                    --jp-layout-color3: #383838;\n",
       "                }\n",
       "\n",
       "                .geemap-colab {\n",
       "                    background-color: var(--colab-primary-surface-color, white);\n",
       "                }\n",
       "\n",
       "                .geemap-colab .jupyter-button {\n",
       "                    --jp-layout-color3: var(--colab-primary-surface-color, white);\n",
       "                }\n",
       "            </style>\n",
       "            "
      ],
      "text/plain": [
       "<IPython.core.display.HTML object>"
      ]
     },
     "metadata": {},
     "output_type": "display_data"
    }
   ],
   "source": [
    "#pip install geemap"
   ]
  },
  {
   "cell_type": "markdown",
   "id": "365ce7be-3da1-4eeb-9ce8-d8135192942f",
   "metadata": {},
   "source": [
    "You need to [register](https://code.earthengine.google.com/register) to [Google Earth Engine](https://earthengine.google.com/)  and follow the instructions [here]( https://docs.google.com/document/d/1ZGSmrNm6_baqd8CHt33kIBWOlvkh-HLr46bODgJN1h0/edit?usp=sharing) to create a Cloud Project. "
   ]
  },
  {
   "cell_type": "markdown",
   "id": "6d6028df-d6ec-4ad5-bbe0-a192f2fb5556",
   "metadata": {},
   "source": [
    "<div class=\"admonition alert alert-info\">\n",
    "    <p class=\"admonition-title\" style=\"font-weight:bold\">Note</p>\n",
    "If you have an Earth Engine account with your university email but have not used the Earth Engine Python API,  creating a new account with your personal Gmail is a good idea. The API needs a Google Cloud Project, which universities may restrict users from creating.\n",
    "</div>"
   ]
  },
  {
   "cell_type": "code",
   "execution_count": 22,
   "id": "4d079f2d-c441-4213-bbe7-3e01b576cf9a",
   "metadata": {},
   "outputs": [
    {
     "data": {
      "text/html": [
       "\n",
       "            <style>\n",
       "                .geemap-dark {\n",
       "                    --jp-widgets-color: white;\n",
       "                    --jp-widgets-label-color: white;\n",
       "                    --jp-ui-font-color1: white;\n",
       "                    --jp-layout-color2: #454545;\n",
       "                    background-color: #383838;\n",
       "                }\n",
       "\n",
       "                .geemap-dark .jupyter-button {\n",
       "                    --jp-layout-color3: #383838;\n",
       "                }\n",
       "\n",
       "                .geemap-colab {\n",
       "                    background-color: var(--colab-primary-surface-color, white);\n",
       "                }\n",
       "\n",
       "                .geemap-colab .jupyter-button {\n",
       "                    --jp-layout-color3: var(--colab-primary-surface-color, white);\n",
       "                }\n",
       "            </style>\n",
       "            "
      ],
      "text/plain": [
       "<IPython.core.display.HTML object>"
      ]
     },
     "metadata": {},
     "output_type": "display_data"
    }
   ],
   "source": [
    "#pip install earthengine-api"
   ]
  },
  {
   "cell_type": "markdown",
   "id": "26f4689c-4093-41bb-89ee-f7c6e49c0b57",
   "metadata": {},
   "source": [
    "Running the following cell will start the Earth Engine authentication. Follow the instructions [here](https://book.geemap.org/chapters/01_introduction.html#earth-engine-authentication) to authenticate Earth Engine."
   ]
  },
  {
   "cell_type": "code",
   "execution_count": 23,
   "id": "5886ac81-c143-415a-b14b-eb604d31f8a1",
   "metadata": {},
   "outputs": [
    {
     "data": {
      "text/html": [
       "\n",
       "            <style>\n",
       "                .geemap-dark {\n",
       "                    --jp-widgets-color: white;\n",
       "                    --jp-widgets-label-color: white;\n",
       "                    --jp-ui-font-color1: white;\n",
       "                    --jp-layout-color2: #454545;\n",
       "                    background-color: #383838;\n",
       "                }\n",
       "\n",
       "                .geemap-dark .jupyter-button {\n",
       "                    --jp-layout-color3: #383838;\n",
       "                }\n",
       "\n",
       "                .geemap-colab {\n",
       "                    background-color: var(--colab-primary-surface-color, white);\n",
       "                }\n",
       "\n",
       "                .geemap-colab .jupyter-button {\n",
       "                    --jp-layout-color3: var(--colab-primary-surface-color, white);\n",
       "                }\n",
       "            </style>\n",
       "            "
      ],
      "text/plain": [
       "<IPython.core.display.HTML object>"
      ]
     },
     "metadata": {},
     "output_type": "display_data"
    }
   ],
   "source": [
    "# import ee\n",
    "# ee.Authenticate()\n",
    "# ee.Initialize()"
   ]
  },
  {
   "cell_type": "code",
   "execution_count": 24,
   "id": "a800de7e-e6be-47a0-8da8-4b793aea6191",
   "metadata": {},
   "outputs": [
    {
     "data": {
      "text/html": [
       "\n",
       "            <style>\n",
       "                .geemap-dark {\n",
       "                    --jp-widgets-color: white;\n",
       "                    --jp-widgets-label-color: white;\n",
       "                    --jp-ui-font-color1: white;\n",
       "                    --jp-layout-color2: #454545;\n",
       "                    background-color: #383838;\n",
       "                }\n",
       "\n",
       "                .geemap-dark .jupyter-button {\n",
       "                    --jp-layout-color3: #383838;\n",
       "                }\n",
       "\n",
       "                .geemap-colab {\n",
       "                    background-color: var(--colab-primary-surface-color, white);\n",
       "                }\n",
       "\n",
       "                .geemap-colab .jupyter-button {\n",
       "                    --jp-layout-color3: var(--colab-primary-surface-color, white);\n",
       "                }\n",
       "            </style>\n",
       "            "
      ],
      "text/plain": [
       "<IPython.core.display.HTML object>"
      ]
     },
     "metadata": {},
     "output_type": "display_data"
    },
    {
     "name": "stdout",
     "output_type": "stream",
     "text": [
      "Please enter the authorization code from 'auth_code.txt' after running ee.Authenticate().\n"
     ]
    }
   ],
   "source": [
    "import ee\n",
    "\n",
    "# Function to read the authorization code from a file\n",
    "def read_auth_code(file_path):\n",
    "    with open(file_path, 'r') as file:\n",
    "        return file.read().strip()\n",
    "\n",
    "# Read the authorization code\n",
    "auth_code = read_auth_code('auth_code.txt')\n",
    "\n",
    "# Authenticate using the authorization code\n",
    "# Note: Use the 'ee.Authenticate()' method without parameters\n",
    "ee.Authenticate()\n",
    "\n",
    "# After calling ee.Authenticate(), you will need to manually input the \n",
    "# authorization code obtained from the 'auth_code.txt' file in the console\n",
    "print(\"Please enter the authorization code from 'auth_code.txt' after running ee.Authenticate().\")\n",
    "\n",
    "# Initialize the Earth Engine\n",
    "ee.Initialize()"
   ]
  },
  {
   "cell_type": "markdown",
   "id": "838b59d2-d348-46b7-857e-1e9f7f7adf42",
   "metadata": {},
   "source": [
    "### 2. Import Libraries\n",
    "\n",
    "Import geemap and run the code below. If you can see the image then geemap is working. If you cannot see the image close your JupyterLab and reopen it again."
   ]
  },
  {
   "cell_type": "code",
   "execution_count": 25,
   "id": "77602676-75f3-4d98-bfe7-df3156f92959",
   "metadata": {},
   "outputs": [
    {
     "data": {
      "text/html": [
       "\n",
       "            <style>\n",
       "                .geemap-dark {\n",
       "                    --jp-widgets-color: white;\n",
       "                    --jp-widgets-label-color: white;\n",
       "                    --jp-ui-font-color1: white;\n",
       "                    --jp-layout-color2: #454545;\n",
       "                    background-color: #383838;\n",
       "                }\n",
       "\n",
       "                .geemap-dark .jupyter-button {\n",
       "                    --jp-layout-color3: #383838;\n",
       "                }\n",
       "\n",
       "                .geemap-colab {\n",
       "                    background-color: var(--colab-primary-surface-color, white);\n",
       "                }\n",
       "\n",
       "                .geemap-colab .jupyter-button {\n",
       "                    --jp-layout-color3: var(--colab-primary-surface-color, white);\n",
       "                }\n",
       "            </style>\n",
       "            "
      ],
      "text/plain": [
       "<IPython.core.display.HTML object>"
      ]
     },
     "metadata": {},
     "output_type": "display_data"
    }
   ],
   "source": [
    "#jupyter nbextension enable --py widgetsnbextension"
   ]
  },
  {
   "cell_type": "code",
   "execution_count": 26,
   "id": "e2fa08a4-6756-4866-8a52-8a35467ea1e8",
   "metadata": {},
   "outputs": [
    {
     "data": {
      "text/html": [
       "\n",
       "            <style>\n",
       "                .geemap-dark {\n",
       "                    --jp-widgets-color: white;\n",
       "                    --jp-widgets-label-color: white;\n",
       "                    --jp-ui-font-color1: white;\n",
       "                    --jp-layout-color2: #454545;\n",
       "                    background-color: #383838;\n",
       "                }\n",
       "\n",
       "                .geemap-dark .jupyter-button {\n",
       "                    --jp-layout-color3: #383838;\n",
       "                }\n",
       "\n",
       "                .geemap-colab {\n",
       "                    background-color: var(--colab-primary-surface-color, white);\n",
       "                }\n",
       "\n",
       "                .geemap-colab .jupyter-button {\n",
       "                    --jp-layout-color3: var(--colab-primary-surface-color, white);\n",
       "                }\n",
       "            </style>\n",
       "            "
      ],
      "text/plain": [
       "<IPython.core.display.HTML object>"
      ]
     },
     "metadata": {},
     "output_type": "display_data"
    }
   ],
   "source": [
    "import geemap\n",
    "import pandas as pd\n",
    "import matplotlib.pyplot as plt\n",
    "import seaborn as sns\n",
    "from statsmodels.tsa.seasonal import seasonal_decompose\n",
    "import statsmodels.api as sm\n"
   ]
  },
  {
   "cell_type": "code",
   "execution_count": 27,
   "id": "364ad424-c4e0-4ba7-a494-c673c1f1caa8",
   "metadata": {},
   "outputs": [
    {
     "data": {
      "text/html": [
       "\n",
       "            <style>\n",
       "                .geemap-dark {\n",
       "                    --jp-widgets-color: white;\n",
       "                    --jp-widgets-label-color: white;\n",
       "                    --jp-ui-font-color1: white;\n",
       "                    --jp-layout-color2: #454545;\n",
       "                    background-color: #383838;\n",
       "                }\n",
       "\n",
       "                .geemap-dark .jupyter-button {\n",
       "                    --jp-layout-color3: #383838;\n",
       "                }\n",
       "\n",
       "                .geemap-colab {\n",
       "                    background-color: var(--colab-primary-surface-color, white);\n",
       "                }\n",
       "\n",
       "                .geemap-colab .jupyter-button {\n",
       "                    --jp-layout-color3: var(--colab-primary-surface-color, white);\n",
       "                }\n",
       "            </style>\n",
       "            "
      ],
      "text/plain": [
       "<IPython.core.display.HTML object>"
      ]
     },
     "metadata": {},
     "output_type": "display_data"
    },
    {
     "data": {
      "application/vnd.jupyter.widget-view+json": {
       "model_id": "7f13da157395408c9a4dbd3d9ff9c0b1",
       "version_major": 2,
       "version_minor": 0
      },
      "text/plain": [
       "Map(center=[26.465, -81.775], controls=(WidgetControl(options=['position', 'transparent_bg'], widget=SearchDat…"
      ]
     },
     "execution_count": 27,
     "metadata": {},
     "output_type": "execute_result"
    }
   ],
   "source": [
    "m =geemap.Map(center=[26.465, -81.775], zoom=17)\n",
    "\n",
    "m"
   ]
  },
  {
   "cell_type": "markdown",
   "id": "b2aa7004-b684-43e1-b131-fbe2a1e8ff96",
   "metadata": {},
   "source": [
    "To learn how to use Google Earth engine (gee) and geemap package, please check the [geemap developer's YouTube channel](https://www.youtube.com/@giswqs). As a start please check the playlist of [Earth Engine and Geemap Workshops](https://www.youtube.com/playlist?list=PLAxJ4-o7ZoPeeJZL-_3kcZ2WLYF5x87eX). You need to have an idea about GEE and geemap before you do this exercise."
   ]
  },
  {
   "cell_type": "markdown",
   "id": "9d02848a-7c5c-4f18-9db1-cd759b9e659b",
   "metadata": {},
   "source": [
    "## 3. Exercise\n",
    "\n",
    "There are several remote sensing indices that can be useful for studying harmful algal blooms (HABs) in Big Cypress, Florida that include normalized difference chlorophyll index (NDCI), turbidity, water vegetation index (WVI), chlorophyll-a concentration, normalized difference water index (NDWI), floating algae index (FAI) and so on. \n",
    "\n",
    "This example shows the workflow for Sentinel-2 data and GEE to study time series changes in NDCI, turbidity and WVI.\n",
    "\n",
    "**[Normalized Difference Chlorophyll Index (NDCI)](https://custom-scripts.sentinel-hub.com/custom-scripts/sentinel-2/ndci/)**   \n",
    "used to estimate chlorophyll concentration in water bodies, indicating the presence of algae and phytoplankton.\n",
    "$$\n",
    "\\text{NDCI} = \\frac{(\\text{B5} - \\text{B4})}{(\\text{B5} + \\text{B4})}\n",
    "$$\n",
    "\n",
    "Bands Used:\n",
    "- B5 (Red Edge)\n",
    "- B4(Red)\n",
    "\n",
    "**[Turbidity](https://custom-scripts.sentinel-hub.com/custom-scripts/sentinel-2/se2waq/)**   \n",
    "measures the cloudiness or haziness of water caused by suspended particles, which can affect light penetration and water quality.\n",
    "$$\n",
    "\\text{Turbidity} = 8.93 \\left(\\frac{\\text{B3}}{\\text{B1}}\\right) - 6.39\n",
    "$$\n",
    "\n",
    "Bands Used:\n",
    "- B3 (Green)\n",
    "- B1 (Coastal Aerosol- Blue)\n",
    "\n",
    "\n",
    "**[Water Vegetation Index (WVI)](https://www.ncbi.nlm.nih.gov/pmc/articles/PMC6111878/)**  \n",
    "used to assess the vegetation health and extent in water-related environments such as wetlands, by combining normalized difference vegetation index (NDVI) that measures live green vegetation, and the modified normalized difference water index (MNDWI) that better distinguishes water bodies such as lakes, and rivers.\n",
    "\n",
    "$$\n",
    "\\text{WVI} = \\text{NDVI} + \\text{MNDWI}\n",
    "$$\n",
    "Where:\n",
    "$$\n",
    "\\text{NDVI} = \\frac{(\\text{B8} - \\text{B4})}{(\\text{B8} + \\text{B4})}\n",
    "$$\n",
    "$$\n",
    "\\text{MNDWI} = \\frac{(\\text{B3} - \\text{B11})}{(\\text{B3} + \\text{B11})}\n",
    "$$\n",
    "\n",
    "Bands Used:\n",
    "- B8 (Near Infrared - NIR)\n",
    "- B4 (Red)\n",
    "- B3 (Green)\n",
    "- B11 (Shortwave Infrared - SWIR1)\n",
    "3 (Green)\n",
    "- B11 (Shortwave Infrared - SWIR1)\n",
    "\n",
    "\n",
    "Similarly we can also consider:\n",
    "- **[Chlorophyll-a concentration](https://custom-scripts.sentinel-hub.com/custom-scripts/sentinel-2/cyanobacteria_chla_ndci_l1c/)** to directly measures the concentration of chlorophyll-a as key indicator of algal biomass\n",
    "- **[Normalized difference water index (NDWI)](https://custom-scripts.sentinel-hub.com/custom-scripts/sentinel-2/ndwi/)** to monitor changes in water content of water bodies\n",
    "- **[Floating algae index (FAI)](https://forum.sentinel-hub.com/t/floating-algae-monitoring-with-s-2-and-s-3/1867)** to detect floating algae in water bodies\n",
    "- **[Water In Wetlands Index (WIW)](https://custom-scripts.sentinel-hub.com/custom-scripts/sentinel-2/wiw_s2_script/)** to generate water maps by featuring water in blue and other landscape features in natural colors\n",
    "\n",
    "Check [Sentinel-hub](https://custom-scripts.sentinel-hub.com/custom-scripts/sentinel/sentinel-2/) for more details about these indicies, code snippets, and more indicies that you can use.\n",
    "\n",
    "The purpose of this exercise is to illustrate the workflow using NDCI, Turbidity, and WVI indicies as examples."
   ]
  },
  {
   "cell_type": "markdown",
   "id": "869bdd1b-3306-4cd2-ace9-f90e7cd01d1a",
   "metadata": {},
   "source": [
    "<div class=\"admonition alert alert-info\">\n",
    "    <p class=\"admonition-title\" style=\"font-weight:bold\">Note</p>\n",
    "Bofore starting this exercise you need to set up Google Earth Engine (GEE) and important geemap as shown above.\n",
    "</div>"
   ]
  },
  {
   "cell_type": "markdown",
   "id": "a1900f4c-dc95-4480-8b05-c108486e78aa",
   "metadata": {},
   "source": [
    "### 3.1 Select an area of interest in Big Cypress, Florida\n",
    "\n",
    "Use coordinates to define your area of interest (AOI). You can obtain the boundaries from a shapefile, or you can manually digitize your AOI using geemap. Here we will select a polygon at our study area."
   ]
  },
  {
   "cell_type": "code",
   "execution_count": 28,
   "id": "cc652d00-506e-467a-b881-a92ad2d5dece",
   "metadata": {},
   "outputs": [
    {
     "data": {
      "text/html": [
       "\n",
       "            <style>\n",
       "                .geemap-dark {\n",
       "                    --jp-widgets-color: white;\n",
       "                    --jp-widgets-label-color: white;\n",
       "                    --jp-ui-font-color1: white;\n",
       "                    --jp-layout-color2: #454545;\n",
       "                    background-color: #383838;\n",
       "                }\n",
       "\n",
       "                .geemap-dark .jupyter-button {\n",
       "                    --jp-layout-color3: #383838;\n",
       "                }\n",
       "\n",
       "                .geemap-colab {\n",
       "                    background-color: var(--colab-primary-surface-color, white);\n",
       "                }\n",
       "\n",
       "                .geemap-colab .jupyter-button {\n",
       "                    --jp-layout-color3: var(--colab-primary-surface-color, white);\n",
       "                }\n",
       "            </style>\n",
       "            "
      ],
      "text/plain": [
       "<IPython.core.display.HTML object>"
      ]
     },
     "metadata": {},
     "output_type": "display_data"
    },
    {
     "data": {
      "application/vnd.jupyter.widget-view+json": {
       "model_id": "3b0c8e32504047c3bd9b6649f2fc5c68",
       "version_major": 2,
       "version_minor": 0
      },
      "text/plain": [
       "Map(center=[25.8, -81.3], controls=(WidgetControl(options=['position', 'transparent_bg'], widget=SearchDataGUI…"
      ]
     },
     "execution_count": 28,
     "metadata": {},
     "output_type": "execute_result"
    }
   ],
   "source": [
    "# Define the AOI using a polygon\n",
    "aoi = ee.Geometry.Polygon([\n",
    "  [\n",
    "    [-81.4, 25.9],\n",
    "    [-81.4, 25.7],\n",
    "    [-81.2, 25.7],\n",
    "    [-81.2, 25.9]\n",
    "  ]\n",
    "])\n",
    "\n",
    "# Create a map centered on the AOI\n",
    "Map = geemap.Map(center=[25.8, -81.3], zoom=10)\n",
    "\n",
    "# Add a high-resolution satellite image as the basemap\n",
    "#Map.add_basemap('SATELLITE')\n",
    "\n",
    "\n",
    "# Add the AOI to the map\n",
    "Map.addLayer(aoi, {}, 'AOI')\n",
    "\n",
    "# Display the map\n",
    "Map"
   ]
  },
  {
   "cell_type": "markdown",
   "id": "b58abf5e-aca7-49c7-aab6-53c6191146d1",
   "metadata": {},
   "source": [
    "### 3.2 Import and process Sentinel-2 data\n",
    "\n",
    "This step filters Sentinel-2 data and calculate the necessary indices."
   ]
  },
  {
   "cell_type": "markdown",
   "id": "599188ff-8e00-4a54-aba7-7ff2dc5e3db5",
   "metadata": {},
   "source": [
    "#### 3.2.1 Import Sentinel-2 data\n",
    "\n",
    "From GEE the Sentinel-2 Level-2A surface reflectance image collection [COPERNICUS/S2_HARMONIZED](https://developers.google.com/earth-engine/datasets/catalog/COPERNICUS_S2_SR_HARMONIZED) is imported and filtered by bounds, date, and cloud cover. The code below will initializes the Sentinel-2 image collection from the GEE catalog. Then will filter the image collection to include only images that intersect with AOI, taken with defined time range, and with less than 20% cloud cover."
   ]
  },
  {
   "cell_type": "markdown",
   "id": "8d88e3ed-b89c-4414-8771-4c553185dd10",
   "metadata": {},
   "source": [
    "<div class=\"admonition alert alert-info\">\n",
    "    <p class=\"admonition-title\" style=\"font-weight:bold\">Note</p>\n",
    "COPERNICUS/S2_HARMONIZED provides harmonized Sentinel-2 surface reflectance imagery. This collection combines data from Sentinel-2A and Sentinel-2B satellites and ensures consistent data quality across both satellites. It applies atmospheric correction to convert the top-of-atmosphere (TOA) reflectance values to surface reflectance values.\n",
    "</div>"
   ]
  },
  {
   "cell_type": "code",
   "execution_count": 29,
   "id": "a583e1be-d542-4ce6-a111-bfc000a1000c",
   "metadata": {},
   "outputs": [
    {
     "data": {
      "text/html": [
       "\n",
       "            <style>\n",
       "                .geemap-dark {\n",
       "                    --jp-widgets-color: white;\n",
       "                    --jp-widgets-label-color: white;\n",
       "                    --jp-ui-font-color1: white;\n",
       "                    --jp-layout-color2: #454545;\n",
       "                    background-color: #383838;\n",
       "                }\n",
       "\n",
       "                .geemap-dark .jupyter-button {\n",
       "                    --jp-layout-color3: #383838;\n",
       "                }\n",
       "\n",
       "                .geemap-colab {\n",
       "                    background-color: var(--colab-primary-surface-color, white);\n",
       "                }\n",
       "\n",
       "                .geemap-colab .jupyter-button {\n",
       "                    --jp-layout-color3: var(--colab-primary-surface-color, white);\n",
       "                }\n",
       "            </style>\n",
       "            "
      ],
      "text/plain": [
       "<IPython.core.display.HTML object>"
      ]
     },
     "metadata": {},
     "output_type": "display_data"
    },
    {
     "name": "stdout",
     "output_type": "stream",
     "text": [
      "Number of images in the filtered collection: 355\n"
     ]
    }
   ],
   "source": [
    "# Import Sentinel-2 image collection\n",
    "sentinel2 = ee.ImageCollection('COPERNICUS/S2_HARMONIZED') \\\n",
    "  .filterBounds(aoi) \\\n",
    "  .filterDate('2019-01-01', '2023-12-31') \\\n",
    "  .filter(ee.Filter.lt('CLOUDY_PIXEL_PERCENTAGE', 20))\n",
    "\n",
    "# Display the collection size to verify the filtering\n",
    "print('Number of images in the filtered collection:', sentinel2.size().getInfo())"
   ]
  },
  {
   "cell_type": "markdown",
   "id": "35486f34-7cf6-46a6-9527-4d57e0bde2a1",
   "metadata": {},
   "source": [
    "You could also further filter images to a specific dates such as a specific season or month.\n",
    "\n",
    "```python\n",
    "# Import Sentinel-2 image collection and apply the season filter\n",
    "sentinel2 = ee.ImageCollection('COPERNICUS/S2') \\\n",
    "  .filterBounds(aoi) \\\n",
    "  .filterDate('2016-01-01', '2023-12-31') \\\n",
    "  .filter(ee.Filter.calendarRange(6, 8, 'month')) \\\n",
    "  .filter(ee.Filter.lt('CLOUDY_PIXEL_PERCENTAGE', 20))\n",
    "```\n",
    "\n",
    "The `.filter(ee.Filter.calendarRange(6, 8, 'month'))` selects images captured between June and August of each year within the specified date range. You can also select specific dates using `ee.Date()` such as `ee.Date.fromYMD(year, 8, 31)` to select a specific day as a start or end date for example.For details, you can check [Harmonization of Landsat and Sentinel 2 in Google Earth Engine, documentation and scripts](\n",
    "https://github.com/ndminhhus/geeguide/tree/maste). You can also use AI coding assistance.a"
   ]
  },
  {
   "cell_type": "markdown",
   "id": "225fafae-4044-4637-8fac-de18d7f907d6",
   "metadata": {},
   "source": [
    "#### 3.2.2 View Sentinel-2 data\n",
    "\n",
    "Before any data processing let use geemap to visualize Sentinel-2 data for the given AOI."
   ]
  },
  {
   "cell_type": "code",
   "execution_count": 30,
   "id": "61efe7fe-d858-4541-a7de-4dc0c4fa54e8",
   "metadata": {},
   "outputs": [
    {
     "data": {
      "text/html": [
       "\n",
       "            <style>\n",
       "                .geemap-dark {\n",
       "                    --jp-widgets-color: white;\n",
       "                    --jp-widgets-label-color: white;\n",
       "                    --jp-ui-font-color1: white;\n",
       "                    --jp-layout-color2: #454545;\n",
       "                    background-color: #383838;\n",
       "                }\n",
       "\n",
       "                .geemap-dark .jupyter-button {\n",
       "                    --jp-layout-color3: #383838;\n",
       "                }\n",
       "\n",
       "                .geemap-colab {\n",
       "                    background-color: var(--colab-primary-surface-color, white);\n",
       "                }\n",
       "\n",
       "                .geemap-colab .jupyter-button {\n",
       "                    --jp-layout-color3: var(--colab-primary-surface-color, white);\n",
       "                }\n",
       "            </style>\n",
       "            "
      ],
      "text/plain": [
       "<IPython.core.display.HTML object>"
      ]
     },
     "metadata": {},
     "output_type": "display_data"
    },
    {
     "data": {
      "application/vnd.jupyter.widget-view+json": {
       "model_id": "3a99b0e6adc940f7a6f4a41911b0f421",
       "version_major": 2,
       "version_minor": 0
      },
      "text/plain": [
       "Map(center=[25.8, -81.3], controls=(WidgetControl(options=['position', 'transparent_bg'], widget=SearchDataGUI…"
      ]
     },
     "execution_count": 30,
     "metadata": {},
     "output_type": "execute_result"
    }
   ],
   "source": [
    "# Create a map centered on the AOI\n",
    "# Creates a map object centered at the specified latitude and longitude (25.8, -81.3) with a zoom level of 10.\n",
    "Map = geemap.Map(center=[25.8, -81.3], zoom=10)\n",
    "\n",
    "#Select an image\n",
    "# These are examples for some selections that you can make\n",
    "#first_image = sentinel2.first().clip(aoi)                             #first image\n",
    "#specific_image = sentinel2.toList(sentinel2.size()).get(4).clip(aoi)  #Fifth image\n",
    "#image_with_specific_date = sentinel2.filterDate('2020-06-15', '2020-06-15').first().clip(aoi)\n",
    "#image_with_lowest_cloud_coverage = sentinel2.sort('CLOUDY_PIXEL_PERCENTAGE').first().clip(aoi)\n",
    "\n",
    "# Select the median image\n",
    "# Reduces the image collection to a single image \n",
    "# by taking the median value of each pixel across all images in the collection.\n",
    "# Clips the median image to the boundaries of the AOI \n",
    "median_image = sentinel2.median().clip(aoi)\n",
    "\n",
    "\n",
    "# Define visualization parameters\n",
    "vis_params = {\n",
    "   # Specifies the bands used for visualization. B4 (Red), B3 (Green), and B2 (Blue) are selected for a true color image\n",
    "  'bands': ['B4', 'B3', 'B2'],  # True color visualization\n",
    "   # Defines the range of values to display. Pixel values between 0 and 3000 will be mapped to the color range\n",
    "  'min': 0,\n",
    "  'max': 3000,\n",
    "  # Adjusts the gamma correction to enhance the visual contrast of the image\n",
    "  'gamma': 1.4,\n",
    "}\n",
    "\n",
    "# Add the Sentinel-2 image to the map\n",
    "# Adds the median image layer to the map using the specified visualization parameters.\n",
    "# The layer is labeled 'Sentinel-2' in the map's layer control\n",
    "Map.addLayer(median_image, vis_params, 'Sentinel-2')\n",
    "\n",
    "# Add the AOI to the map\n",
    "# Adds the area of interest (AOI) as a layer on the map. \n",
    "# The AOI layer is labeled 'AOI' in the map's layer control\n",
    "Map.addLayer(aoi, {}, 'AOI')\n",
    "\n",
    "# Display the map\n",
    "# Adds a layer control to the map, allowing users to toggle the visibility of different layers.\n",
    "Map.addLayerControl()  # Add layer control to toggle layers on/off\n",
    "\n",
    "# Displays the map with the added layers and controls.\n",
    "Map"
   ]
  },
  {
   "cell_type": "markdown",
   "id": "e9efd290-f79c-43e7-a913-35dd9a999310",
   "metadata": {},
   "source": [
    "#### 3.2.3 Define and calcuate indices for each image\n",
    "\n",
    "Let us define functions that we can use to calcuate NDCI, turbidity and WVI. We use the equations with the bands shown above.  \n",
    "  \n",
    "Then we can use the `map` method to apply specified functions to each image in the sentinel2 image collection.Each function (`calculateNDCI`, `calculateTurbidity`, `calculateWVI`) calculates a specific index for an image and adds that index as a new band to the image. The result is a new image collection called `processed_images` where each image now contains additional bands for NDCI, Turbidity, and WVI. By processing each image to include these additional bands, we prepare the dataset for further analysis and visualization. \n"
   ]
  },
  {
   "cell_type": "code",
   "execution_count": 31,
   "id": "cedcbadb-a841-4de9-af46-406a734bc1a1",
   "metadata": {},
   "outputs": [
    {
     "data": {
      "text/html": [
       "\n",
       "            <style>\n",
       "                .geemap-dark {\n",
       "                    --jp-widgets-color: white;\n",
       "                    --jp-widgets-label-color: white;\n",
       "                    --jp-ui-font-color1: white;\n",
       "                    --jp-layout-color2: #454545;\n",
       "                    background-color: #383838;\n",
       "                }\n",
       "\n",
       "                .geemap-dark .jupyter-button {\n",
       "                    --jp-layout-color3: #383838;\n",
       "                }\n",
       "\n",
       "                .geemap-colab {\n",
       "                    background-color: var(--colab-primary-surface-color, white);\n",
       "                }\n",
       "\n",
       "                .geemap-colab .jupyter-button {\n",
       "                    --jp-layout-color3: var(--colab-primary-surface-color, white);\n",
       "                }\n",
       "            </style>\n",
       "            "
      ],
      "text/plain": [
       "<IPython.core.display.HTML object>"
      ]
     },
     "metadata": {},
     "output_type": "display_data"
    },
    {
     "name": "stdout",
     "output_type": "stream",
     "text": [
      "Bands in the first processed image: ['B1', 'B2', 'B3', 'B4', 'B5', 'B6', 'B7', 'B8', 'B8A', 'B9', 'B10', 'B11', 'B12', 'QA10', 'QA20', 'QA60', 'MSK_CLASSI_OPAQUE', 'MSK_CLASSI_CIRRUS', 'MSK_CLASSI_SNOW_ICE', 'NDCI', 'Turbidity', 'WVI']\n"
     ]
    }
   ],
   "source": [
    "# Define indices calculation functions\n",
    "def calculate_indices(image):\n",
    "    ndci = image.normalizedDifference(['B5', 'B4']).rename('NDCI')\n",
    "    turbidity = (image.select('B3')  # Select band B3\n",
    "                .divide(image.select('B1'))  # Divide B3 by B1\n",
    "                .multiply(8.93)          # Multiply the result by 8.93\n",
    "                .subtract(6.39)        # Subtract 6.39 from the result\n",
    "                .rename('Turbidity')         # Rename the resulting band to 'Turbidity\n",
    "                )\n",
    "    ndvi = image.normalizedDifference(['B8', 'B4']).rename('NDVI')\n",
    "    mndwi = image.normalizedDifference(['B3', 'B11']).rename('MNDWI')\n",
    "    wvi = ndvi.add(mndwi).rename('WVI')\n",
    "    return image.addBands([ndci, turbidity, wvi])\n",
    "\n",
    "# Apply the calculation functions\n",
    "processed_images = sentinel2.map(calculate_indices)\n",
    "\n",
    "# Print the bands of the first image to verify\n",
    "# Get the first image from the processed collection\n",
    "# Get the band names of the first image\n",
    "first_image_bands = processed_images.first().bandNames().getInfo()\n",
    "print('Bands in the first processed image:', first_image_bands)"
   ]
  },
  {
   "cell_type": "markdown",
   "id": "83c312d8-c1be-406b-ae8f-c398c35a7191",
   "metadata": {},
   "source": [
    "#### 3.3.4 Visualize NDCI, Turbidity, and WVI\n",
    "\n",
    "Now let us visualize the NDCI, Turbidity, and WVI bands on the map using geemap."
   ]
  },
  {
   "cell_type": "code",
   "execution_count": 32,
   "id": "68f47e5f-8ef0-4cf1-8d1c-ddae7438daec",
   "metadata": {},
   "outputs": [
    {
     "data": {
      "text/html": [
       "\n",
       "            <style>\n",
       "                .geemap-dark {\n",
       "                    --jp-widgets-color: white;\n",
       "                    --jp-widgets-label-color: white;\n",
       "                    --jp-ui-font-color1: white;\n",
       "                    --jp-layout-color2: #454545;\n",
       "                    background-color: #383838;\n",
       "                }\n",
       "\n",
       "                .geemap-dark .jupyter-button {\n",
       "                    --jp-layout-color3: #383838;\n",
       "                }\n",
       "\n",
       "                .geemap-colab {\n",
       "                    background-color: var(--colab-primary-surface-color, white);\n",
       "                }\n",
       "\n",
       "                .geemap-colab .jupyter-button {\n",
       "                    --jp-layout-color3: var(--colab-primary-surface-color, white);\n",
       "                }\n",
       "            </style>\n",
       "            "
      ],
      "text/plain": [
       "<IPython.core.display.HTML object>"
      ]
     },
     "metadata": {},
     "output_type": "display_data"
    }
   ],
   "source": [
    "# # Create a map centered on the AOI\n",
    "# Map = geemap.Map(center=[25.8, -81.3], zoom=8)\n",
    "\n",
    "# # Add the NDCI layer to the map\n",
    "# ndci_params = {'min': -1, 'max': 1, 'palette': ['blue', 'white', 'green']}\n",
    "# Map.addLayer(processed_images.select('NDCI').mean(), ndci_params, 'NDCI')\n",
    "\n",
    "# # # Add the Turbidity layer to the map\n",
    "# # turbidity_params = {'min': 0, 'max': 10, 'palette': ['blue', 'white', 'red']}\n",
    "# # Map.addLayer(processed_images.select('Turbidity').mean(), turbidity_params, 'Turbidity')\n",
    "\n",
    "# # # Add the WVI layer to the map\n",
    "# # wvi_params = {'min': -1, 'max': 1, 'palette': ['blue', 'white', 'green']}\n",
    "# # Map.addLayer(processed_images.select('WVI').mean(), wvi_params, 'WVI')\n",
    "\n",
    "# # Display the map\n",
    "# Map"
   ]
  },
  {
   "cell_type": "markdown",
   "id": "2c904e24-506e-4861-b345-379d85a280b0",
   "metadata": {},
   "source": [
    "We now have defined our data and we are ready to do some analysis."
   ]
  },
  {
   "cell_type": "markdown",
   "id": "1d4ed40f-2837-43b4-be7c-ba8de6c90c35",
   "metadata": {},
   "source": [
    "### 3.3 Perform Time Series Analysis\n",
    "\n",
    "In this step we define a function to calculate the mean values of specific indices (NDCI, Turbidity, and WVI) over time for each image in the collection and then generate time series data for these indices."
   ]
  },
  {
   "cell_type": "markdown",
   "id": "dcfd0d8c-d26b-46f5-b2dc-299014a6666f",
   "metadata": {},
   "source": [
    "#### 3.3.1 Calculate mean values over time\n",
    "\n",
    "The `calculate_time_series(image_collection, index_name)` function takes an image collection and the name of an index (e.g., 'NDCI', 'Turbidity', 'WVI') and returns a time series of mean values for the specified index over time. The nested function `reduce_region(image)` reduces each image in the collection to its mean value over the AOI. "
   ]
  },
  {
   "cell_type": "markdown",
   "id": "6cfa50ca-a53e-484d-9179-c5d8892cf2ac",
   "metadata": {},
   "source": [
    "<div class=\"admonition alert alert-info\" >\n",
    "    <p class=\"admonition-title\" style=\"font-weight:bold\">Note</p>\n",
    "Sometime the below function will take overever to run. In that case restart kernel and clear all outputs. This will fix the problem.\n",
    "</div>"
   ]
  },
  {
   "cell_type": "code",
   "execution_count": null,
   "id": "97b34857-4c7a-4c3c-add4-e9df15b5c62c",
   "metadata": {},
   "outputs": [
    {
     "data": {
      "text/html": [
       "\n",
       "            <style>\n",
       "                .geemap-dark {\n",
       "                    --jp-widgets-color: white;\n",
       "                    --jp-widgets-label-color: white;\n",
       "                    --jp-ui-font-color1: white;\n",
       "                    --jp-layout-color2: #454545;\n",
       "                    background-color: #383838;\n",
       "                }\n",
       "\n",
       "                .geemap-dark .jupyter-button {\n",
       "                    --jp-layout-color3: #383838;\n",
       "                }\n",
       "\n",
       "                .geemap-colab {\n",
       "                    background-color: var(--colab-primary-surface-color, white);\n",
       "                }\n",
       "\n",
       "                .geemap-colab .jupyter-button {\n",
       "                    --jp-layout-color3: var(--colab-primary-surface-color, white);\n",
       "                }\n",
       "            </style>\n",
       "            "
      ],
      "text/plain": [
       "<IPython.core.display.HTML object>"
      ]
     },
     "metadata": {},
     "output_type": "display_data"
    }
   ],
   "source": [
    "# Function to calculate mean values over time\n",
    "def calculate_time_series(image_collection, index_name):\n",
    "    # Inner function to reduce each image to a mean value over the AOI\n",
    "    def reduce_region(image):\n",
    "        # Calculate mean value for the specified index over the AOI\n",
    "        stats = image.reduceRegion(      # Computes the mean value of the specified index over the AOI.\n",
    "            reducer=ee.Reducer.mean(),   # Specifies that we want to calculate the mean\n",
    "            geometry=aoi,                # Area of Interest (AOI) over which to calculate the mean\n",
    "            scale=10,                    # Spatial resolution in meter at which to perform the calculation (e.g. 10 meters)\n",
    "            maxPixels=1e9                # Max number of pixels to include in the calculation (large number ensures completeness)\n",
    "        )\n",
    "\n",
    "        #Converts the result to a feature and adds the date of the image to the feature\n",
    "        return ee.Feature(None, stats).set('date', image.date().format('YYYY-MM-dd'))\n",
    "\n",
    "    # Apply the reduce_region function to each image in the collection\n",
    "    # Maps the reduce_region function over the entire image collection, \n",
    "    # resulting in a collection of features with mean index values and dates\n",
    "    time_series = image_collection.map(reduce_region)\n",
    "\n",
    "    # Converts the collection of features to a list of date-index value pairs.\n",
    "    time_series_list = time_series.reduceColumns(\n",
    "        ee.Reducer.toList(2),            #  Aggregates the results into a list\n",
    "        ['date', index_name]             # Specifies the properties to include in the list (date and the specified index).\n",
    "    ).get('list').getInfo()              # Retrieves the list from the server as a Python object\n",
    "\n",
    "    # Return the time series list\n",
    "    return time_series_list\n",
    "\n",
    "# Calculate time series for each index\n",
    "# apply the calculate_time_series function \n",
    "# to the processed_images collection for each index (NDCI, Turbidity, and WVI)\n",
    "ndci_time_series = calculate_time_series(processed_images, 'NDCI')    \n",
    "turbidity_time_series = calculate_time_series(processed_images, 'Turbidity') \n",
    "wvi_time_series = calculate_time_series(processed_images, 'WVI')     \n",
    "\n",
    "# Convert time series to pandas DataFrame\n",
    "def time_series_to_df(time_series, index_name):\n",
    "    df = pd.DataFrame(time_series, columns=['date', index_name])\n",
    "    df['date'] = pd.to_datetime(df['date'])\n",
    "    return df\n",
    "ndci_df = time_series_to_df(ndci_time_series, 'NDCI')\n",
    "turbidity_df = time_series_to_df(turbidity_time_series, 'Turbidity')\n",
    "wvi_df = time_series_to_df(wvi_time_series, 'WVI')\n",
    "\n",
    "# Merge dataframes for analysis\n",
    "merged_df = pd.merge(pd.merge(ndci_df, turbidity_df, on='date'), wvi_df, on='date')\n",
    "\n",
    "# Save data to CSV\n",
    "ndci_df.to_csv('NDCI_TimeSeries_BigCypress.csv', index=False)\n",
    "turbidity_df.to_csv('Turbidity_TimeSeries_BigCypress.csv', index=False)\n",
    "wvi_df.to_csv('WVI_TimeSeries_BigCypress.csv', index=False)\n",
    "merged_df.to_csv('Merged_TimeSeries_BigCypress.csv', index=False)"
   ]
  },
  {
   "cell_type": "markdown",
   "id": "a802f184-2111-42ef-8354-ca78a543591c",
   "metadata": {},
   "source": [
    "#### 3.3.2 Plot time series"
   ]
  },
  {
   "cell_type": "code",
   "execution_count": null,
   "id": "392f948e-ea44-4165-8a87-29f6aa1ca5b3",
   "metadata": {},
   "outputs": [],
   "source": [
    "fig, axs = plt.subplots(3, 1, figsize=(14, 8))\n",
    "\n",
    "# Plot NDCI time series\n",
    "axs[0].plot(ndci_df['date'], ndci_df['NDCI'], label='NDCI', color='green')\n",
    "axs[0].set_xlabel('Date')\n",
    "axs[0].set_ylabel('NDCI')\n",
    "axs[0].set_title('NDCI Time Series in Big Cypress AOI')\n",
    "axs[0].legend()\n",
    "\n",
    "# Plot Turbidity time series\n",
    "axs[1].plot(turbidity_df['date'], turbidity_df['Turbidity'], label='Turbidity', color='blue')\n",
    "axs[1].set_xlabel('Date')\n",
    "axs[1].set_ylabel('Turbidity')\n",
    "axs[1].set_title('Turbidity Time Series in Big Cypress AOI')\n",
    "axs[1].legend()\n",
    "\n",
    "# Plot WVI time series\n",
    "axs[2].plot(wvi_df['date'], wvi_df['WVI'], label='WVI', color='red')\n",
    "axs[2].set_xlabel('Date')\n",
    "axs[2].set_ylabel('WVI')\n",
    "axs[2].set_title('WVI Time Series in Big Cypress AOI')\n",
    "axs[2].legend()\n",
    "\n",
    "plt.tight_layout()\n",
    "plt.show()"
   ]
  },
  {
   "cell_type": "markdown",
   "id": "300e3949-1d79-4d65-9f4b-503f473e362d",
   "metadata": {},
   "source": [
    "### 3.4 Statistical analysis\n",
    "\n",
    "#### 3.41 Correlation matrix and heatmap \n",
    "Correlation matrix and heatmap display correlations between multiple variables, and how variables are related to each other, with darker colors indicating stronger correlations. Let us calculate and plot correlation coefficient to determine linear relationship between indices."
   ]
  },
  {
   "cell_type": "code",
   "execution_count": null,
   "id": "d8c95370-dfd2-45cf-aefe-5de17626ce99",
   "metadata": {},
   "outputs": [],
   "source": [
    "# Correlation Analysis\n",
    "corr_matrix = merged_df[['NDCI', 'Turbidity', 'WVI']].corr()\n",
    "\n",
    "# Plotting Correlation Matrix\n",
    "plt.figure(figsize=(8, 6))\n",
    "sns.heatmap(corr_matrix, annot=True, cmap='coolwarm', vmin=-1, vmax=1)\n",
    "plt.title('Correlation Matrix of NDCI, Turbidity, and WVI')\n",
    "plt.show()\n",
    "\n",
    "# Print Correlation Matrix\n",
    "plt.savefig('heat_map.png')  # Save the figure\n",
    "print(\"Correlation Matrix:\\n\", corr_matrix)\n"
   ]
  },
  {
   "cell_type": "markdown",
   "id": "6063f898-ca8d-47d4-bf17-50fdcbacf03e",
   "metadata": {},
   "source": [
    "A heat map would show the strength of correlation between different indices (NDCI, Turbidity, WVI). \n",
    "- High positive values (closer to 1) indicate a strong positive correlation\n",
    "- High negative values (closer to -1) indicate a strong negative correlation.\n",
    "- Values near zero suggest no significant correlation."
   ]
  },
  {
   "cell_type": "markdown",
   "id": "96f565ca-e456-45c0-9541-e70e96e45bb7",
   "metadata": {},
   "source": [
    "#### 3.4.2 Scatter plots\n",
    "\n",
    "Scatter plots show relationships between two variables to identify patterns and correlations in data, to spot outliers and to understand the strength and direction of relationships between variables."
   ]
  },
  {
   "cell_type": "code",
   "execution_count": null,
   "id": "dbb6bcaf-19b2-4994-b9ae-a2119b21d635",
   "metadata": {},
   "outputs": [],
   "source": [
    "# Scatter Plot Analysis\n",
    "fig, axs = plt.subplots(2, 2, figsize=(14, 8))\n",
    "\n",
    "axs[0, 0].scatter(merged_df['NDCI'], merged_df['Turbidity'], c='blue')\n",
    "axs[0, 0].set_xlabel('NDCI')\n",
    "axs[0, 0].set_ylabel('Turbidity')\n",
    "axs[0, 0].set_title('NDCI vs Turbidity')\n",
    "\n",
    "axs[0, 1].scatter(merged_df['NDCI'], merged_df['WVI'], c='red')\n",
    "axs[0, 1].set_xlabel('NDCI')\n",
    "axs[0, 1].set_ylabel('WVI')\n",
    "axs[0, 1].set_title('NDCI vs WVI')\n",
    "\n",
    "axs[1, 0].scatter(merged_df['Turbidity'], merged_df['WVI'], c='green')\n",
    "axs[1, 0].set_xlabel('Turbidity')\n",
    "axs[1, 0].set_ylabel('WVI')\n",
    "axs[1, 0].set_title('Turbidity vs WVI')\n",
    "\n",
    "plt.tight_layout()\n",
    "plt.savefig('Scatter_plot.png')  # Save the figure\n",
    "plt.show()"
   ]
  },
  {
   "cell_type": "markdown",
   "id": "5ef0b3c1-b4a3-4fd3-b7c4-f332d7d2cf1d",
   "metadata": {},
   "source": [
    "**Interpretation:** \n",
    "- As the chlorophyll concentration (indicated by NDCI) increases, turbidity tends to decrease. This does not make sense as higher chlorophyll levels (algae) is generally not associated with clearer water. However, in this specific area this might be possible due to settling of particles. Or this could be a calculation error!\n",
    "- Higher values of chlorophyll concentration (NDCI) are associated with higher water vegetation health (WVI). This suggests that areas with more chlorophyll (algae) also have healthier or more abundant water-related vegetation\n",
    "- As turbidity increases, the health of water-related vegetation (WVI) decreases. High turbidity, which indicates more suspended particles in the water, might reduce light penetration, adversely affecting aquatic vegetation. Thus, that it makes sense that clearer water conditions (lower turbidity) can lead to healthier water vegetation."
   ]
  },
  {
   "cell_type": "markdown",
   "id": "72f17acf-aa0e-4f9b-a217-6685992aa5ad",
   "metadata": {},
   "source": [
    "#### 3.4.3 Trend analysis\n",
    "\n",
    "We can use trend analysis (seasonal decomposition) to analyze the time series data of three indices: NDCI, Turbidity, and WVI. Seasonal decomposition helps us understand the underlying patterns in the time series data by breaking it down into three components: trend, seasonal, and residual components:\n",
    "- Trend: The long-term movement in the data.\n",
    "- Seasonal: The repeating short-term cycle in the data.\n",
    "- Residual: The remaining noise or random fluctuations after removing the trend and seasonal components.\n",
    "\n",
    "By decomposing the time series for NDCI, Turbidity, and WVI, we can better understand the long-term trends, seasonal patterns, and any residual noise in the data. \n",
    "\n",
    "We can use the `seasonal_decompose` function from the statsmodels library to perform this decomposition."
   ]
  },
  {
   "cell_type": "code",
   "execution_count": null,
   "id": "96a588c6-b935-4e0a-8967-8feebafc016f",
   "metadata": {},
   "outputs": [],
   "source": [
    "#Plotting function to be called as needed\n",
    "def plot_seasonal_decomposition(result, title, file_name):\n",
    "    fig, axes = plt.subplots(4, 1, figsize=(10, 8), sharex=True)\n",
    "    result.observed.plot(ax=axes[0], legend=False)\n",
    "    axes[0].set_ylabel('Observed')\n",
    "    axes[0].set_title(title)\n",
    "    result.trend.plot(ax=axes[1], legend=False)\n",
    "    axes[1].set_ylabel('Trend')\n",
    "    result.seasonal.plot(ax=axes[2], legend=False)\n",
    "    axes[2].set_ylabel('Seasonal')\n",
    "    result.resid.plot(ax=axes[3], legend=False)\n",
    "    axes[3].set_ylabel('Residual')\n",
    "\n",
    "    # Format x-axis labels to be more readable\n",
    "    plt.xticks(rotation=0)\n",
    "    plt.tight_layout()\n",
    "    plt.savefig(file_name)\n",
    "    plt.show()"
   ]
  },
  {
   "cell_type": "code",
   "execution_count": null,
   "id": "6e162422-2590-4d02-8e18-2795293ee7f5",
   "metadata": {},
   "outputs": [],
   "source": [
    "# Ensure that the 'date' column is in datetime format and set it as the index\n",
    "merged_df.index = pd.to_datetime(merged_df.date)\n",
    "\n",
    "# Remove or aggregate duplicates by taking the mean for each date\n",
    "merged_df = merged_df.groupby(merged_df.index).mean()\n",
    "\n",
    "# Resample the data to a daily frequency and interpolate missing values\n",
    "df_resampled = merged_df.resample('D').interpolate()\n",
    "\n",
    "# Set the period for seasonal decomposition (e.g., 365 for yearly seasonality)\n",
    "period = 365\n",
    "\n",
    "# Decompose and plot the NDCI time series\n",
    "result_ndci = seasonal_decompose(df_resampled['NDCI'], model='additive', period=period)\n",
    "plot_seasonal_decomposition(result_ndci, 'NDCI Seasonal Decomposition', 'NDCI_seasonal_decomposition_custom.png')\n",
    "\n",
    "# Decompose and plot the Turbidity time series\n",
    "result_turbidity = seasonal_decompose(df_resampled['Turbidity'], model='additive', period=period)\n",
    "plot_seasonal_decomposition(result_turbidity, 'Turbidity Seasonal Decomposition', 'Turbidity_seasonal_decomposition_custom.png')\n",
    "\n",
    "# Decompose and plot the WVI time series\n",
    "result_wvi = seasonal_decompose(df_resampled['WVI'], model='additive', period=period)\n",
    "plot_seasonal_decomposition(result_wvi, 'WVI Seasonal Decomposition', 'WVI_seasonal_decomposition_custom.png')\n"
   ]
  },
  {
   "cell_type": "markdown",
   "id": "9c1f724d-e608-49eb-aeed-90d4bf00c329",
   "metadata": {},
   "source": [
    "**NDCI (Normalized difference chlorophyll index)**  \n",
    "- Gradual increase in chlorophyll concentration over time suggest possible increase in algal blooms or vegetation\n",
    "- Seasonal patterns in chlorophyll concentration could be due to climatic conditions or human activities \n",
    "- Residuals are fairly consistent and centered around zero, indicating that the model has captured most of the variability with the trend and seasonal components\n",
    "\n",
    "**Turbidity**\n",
    "- Gradual reduction in turbidity levels over times suggesting improvements in water clarity or reductions in sediment or pollution levels\n",
    "- Periodic fluctuations suggest that turbidity levels are influenced by seasonal factors such as rainfall, runoff, or human activities\n",
    "- Residuals are more dispersed than those for NDCI meaning more unexplained variability\n",
    "\n",
    "**WVI (Water vegetation index)**\n",
    "- Increase in water vegetation health and extent over time could be due to environmental changes, conservation efforts, or other factors enhancing vegetation growth. Plants could be stressed due pollution, invasive species, or changes in hydrology. Also, vegetation health indicates the wetland's capacity to filter pollutants, regulate water flow, and maintain water quality. This can also suggest less over-irrigation leading to waterlogging and nutrient leaching. Climate change can also impact vegetation health by altering precipitation patterns, and temperature. Changes in land use (e.g., urbanization, deforestation, or agricultural expansion) can affect water-related vegetation. Conservation efforts such as wetland restoration projects also has an impact. There can be also stress due to due to pollution such as runoff from agricultural fields containing high levels of nutrients (nitrogen and phosphorus) and pesticides. These are some of the drivers that can be invistigated.\n",
    "- Seasonal component shows clear periodic variations mainly due seasonal growth and decay cycles of water vegetation\n",
    "- Residuals indicated that the seasonal decomposition model has effectively captured the main patterns in the data\n",
    "\n",
    "**Some key points:**\n",
    "- Increasing trends in both NDCI and WVI suggest a rise in chlorophyll concentration and water vegetation over time. One reason for this is increased nutrient levels leading to more algal growth and vegetation\n",
    "- Decreasing trend in turbidity suggests improving water clarity that could be due to some water management practices that we can identify\n",
    "- All three indices show strong seasonal patterns, highlighting the influence of seasonal climatic factors. Understanding these patterns can help in planning and managing water resources\n",
    "- Residuals for all three indices indicates the decomposition model has successfully captured the primary trends and seasonal variations"
   ]
  },
  {
   "cell_type": "markdown",
   "id": "491bbe7c-836c-45cd-91d1-21ead345aa8e",
   "metadata": {},
   "source": [
    "#### 3.4.4 Regression analysis\n",
    "\n",
    "Ordinary least squares (OLS) regression model assesses the relationship between the dependent variable (WVI) and two independent variables (NDCI and Turbidity)."
   ]
  },
  {
   "cell_type": "code",
   "execution_count": null,
   "id": "ff8b8f80-8048-46a8-87b0-a894876ff229",
   "metadata": {},
   "outputs": [],
   "source": [
    "# Regression Analysis\n",
    "X = merged_df[['NDCI', 'Turbidity']]\n",
    "X = sm.add_constant(X)  # Adding a constant\n",
    "y = merged_df['WVI']\n",
    "\n",
    "# Fit the regression model\n",
    "model = sm.OLS(y, X).fit()\n",
    "print(model.summary())"
   ]
  },
  {
   "cell_type": "markdown",
   "id": "13fe3b80-a19a-4dbc-b35a-177be75bb9da",
   "metadata": {},
   "source": [
    "Key Statistics and interpretation\n",
    "- Adj R-squared 0.868 indicates that 86.7% of the variability in WVI can be explained by the model. Note that adjusted R-squared accounts for the number of predictors in the model.\n",
    "- The p-value associated with the F-statistic (7.39e-154) indicats the model is highly significant (p < 0.05). Both NDCI and Turbidity are significant predictors of WVI. NDCI has a positive relationship, while Turbidity has a negative relationship with WVI. The model fit is strong, and the predictors are statistically significant, making the model useful for understanding the relationships between these indices.\n",
    "- Durbin-Watson: 1.622 for the presence of autocorrelation in the residuals, which is close to 2, suggesting no autocorrelation. However, the Prob(Omnibus) with p-value 0.019 suggests that the residuals are not perfectly normal (p < 0.05).\n",
    "We see here the same story that we saw above. The regression model shows that WVI is significantly influenced by both NDCI and Turbidity. An increase in NDCI leads to an increase in WVI, suggesting healthier water-related vegetation with higher chlorophyll levels. Conversely, an increase in Turbidity leads to a decrease in WVI, indicating that higher turbidity negatively impacts water-related vegetation health. "
   ]
  },
  {
   "cell_type": "code",
   "execution_count": null,
   "id": "c77ba546-527f-417c-a676-9022e0359a2c",
   "metadata": {},
   "outputs": [],
   "source": [
    "# This code is generated by ChatGPT4o.\n",
    "# Scatter plots with regression lines\n",
    "fig, axs = plt.subplots(1, 2, figsize=(14, 6))\n",
    "\n",
    "# NDCI vs WVI\n",
    "sns.regplot(x='NDCI', y='WVI', data=merged_df, ax=axs[0], color='blue', line_kws={'color': 'red'})\n",
    "axs[0].set_title('NDCI vs WVI with Regression Line')\n",
    "axs[0].set_xlabel('NDCI')\n",
    "axs[0].set_ylabel('WVI')\n",
    "\n",
    "# Turbidity vs WVI\n",
    "sns.regplot(x='Turbidity', y='WVI', data=merged_df, ax=axs[1], color='green', line_kws={'color': 'red'})\n",
    "axs[1].set_title('Turbidity vs WVI with Regression Line')\n",
    "axs[1].set_xlabel('Turbidity')\n",
    "axs[1].set_ylabel('WVI')\n",
    "\n",
    "plt.tight_layout()\n",
    "plt.show()\n",
    "\n",
    "# Residuals Plot\n",
    "residuals = model.resid\n",
    "\n",
    "plt.figure(figsize=(10, 6))\n",
    "sns.residplot(x=model.fittedvalues, y=residuals, lowess=True, line_kws={'color': 'red'})\n",
    "plt.xlabel('Fitted Values')\n",
    "plt.ylabel('Residuals')\n",
    "plt.title('Residuals vs Fitted Values')\n",
    "plt.show()\n",
    "\n",
    "# Coefficient Plot\n",
    "coefficients = model.params\n",
    "conf = model.conf_int()\n",
    "conf['Coefficient'] = coefficients\n",
    "conf.columns = ['Lower Bound', 'Upper Bound', 'Coefficient']\n",
    "\n",
    "plt.figure(figsize=(10, 6))\n",
    "sns.pointplot(x=conf.index, y='Coefficient', data=conf, join=False)\n",
    "plt.errorbar(x=conf.index, y=conf['Coefficient'], yerr=[conf['Coefficient'] - conf['Lower Bound'], conf['Upper Bound'] - conf['Coefficient']], fmt='o', color='black', capsize=5)\n",
    "plt.xlabel('Variables')\n",
    "plt.ylabel('Coefficient')\n",
    "plt.title('Coefficient Plot with 95% Confidence Intervals')\n",
    "\n",
    "# Add Adj. R-squared annotation\n",
    "adj_r_squared = model.rsquared_adj\n",
    "plt.annotate(f'Adj. R-squared: {adj_r_squared:.3f}', xy=(0.05, 0.95), \n",
    "             xycoords='axes fraction', fontsize=12, ha='left', va='center')\n",
    "\n",
    "plt.show()\n"
   ]
  },
  {
   "cell_type": "markdown",
   "id": "9a0533df-db7f-4b82-9b2f-dbaebb61ad84",
   "metadata": {},
   "source": [
    "The coef. plot visually confirms the statistical significance and direction of the relationships between the predictors (NDCI and Turbidity) and the response variable (WVI) supporting the conclusions drawn from the regression summary.\n",
    "- NDCI has a positive coefficient, meaning that higher NDCI values (indicative of higher chlorophyll concentration) are associated with higher WVI (better water vegetation health)\n",
    "- Turbidity has a negative coefficient, indicating that higher turbidity levels (cloudier water) are associated with lower WVI (worse water vegetation health)\n",
    "- Narrow confidence intervals, especially for the intercept and Turbidity, suggest that the estimates are precise and reliable"
   ]
  },
  {
   "cell_type": "markdown",
   "id": "f4949580-5c3e-49cf-8e9f-c80f908970d5",
   "metadata": {},
   "source": [
    "### Resources\n",
    "- [Geemap Documentation](https://geemap.org/) for extensive examples and tutorials at the YouTube channel that will help you to learn geemap, GEE, and machine learning of GEE for [unsupervised classification](https://youtu.be/k9MEy2awVJQ?si=4anPnBaC2W12d4dn) and [supervised classification](https://youtu.be/qWaEfgWi21o?si=G3LyluK3DUtIPw8w) and codes at [Geemap GitHub Repository](https://github.com/gee-community/geemap)\n",
    "- [Earth Engine Python API Documentation](https://developers.google.com/earth-engine/tutorials/community/intro-to-python-api) for detailed documentation and examples\n",
    "- [Google Earth Engine YouTube Channel](https://www.youtube.com/@googleearth/playlists) for tutorials on various GEE functionalities and applications.\n",
    "- AI coding assistants (e.g. ChatGPT), [Google Earth Engine Developers Community](https://groups.google.com/g/google-earth-engine-developers/about), and [Stack Overflow](https://stackoverflow.com/questions/tagged/google-earth-engine) to get help with specific issues.\n",
    "- [Resource gallery of projectpythia](https://projectpythia.org/resource-gallery.html) for additional resources "
   ]
  }
 ],
 "metadata": {
  "kernelspec": {
   "display_name": "Python 3 (ipykernel)",
   "language": "python",
   "name": "python3"
  },
  "language_info": {
   "codemirror_mode": {
    "name": "ipython",
    "version": 3
   },
   "file_extension": ".py",
   "mimetype": "text/x-python",
   "name": "python",
   "nbconvert_exporter": "python",
   "pygments_lexer": "ipython3",
   "version": "3.12.9"
  }
 },
 "nbformat": 4,
 "nbformat_minor": 5
}
