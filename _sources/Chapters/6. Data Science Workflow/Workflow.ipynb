{
 "cells": [
  {
   "cell_type": "markdown",
   "metadata": {},
   "source": [
    "# Lessons 16 : Data Science Workflow\n",
    "\n",
    "This lesson was developed with assistance from GPT-4-1106-preview, claude-2.1, and GPT-3.5-turbo.\n",
    "\n",
    "[![Binder](https://mybinder.org/badge_logo.svg)](https://mybinder.org/v2/gh/aselshall/eds/HEAD)"
   ]
  },
  {
   "cell_type": "markdown",
   "metadata": {},
   "source": [
    "## Overview\n",
    "Data science workflow is the process to gain knowledge and insights from data. By the end of this lesson, you will be able to:\n",
    "- describe different steps in data science workflow \n",
    "- collect and preprocess data for analysis"
   ]
  },
  {
   "attachments": {},
   "cell_type": "markdown",
   "metadata": {},
   "source": [
    "## 1. Data science\n",
    "\n",
    "Data science employs techniques and theories from statistics, computer science, domain knowledge, and other areas to analyze and interpret complex data sets.\n",
    "![image.png](https://raw.githubusercontent.com/aselshall/edsbook/refs/heads/gh-pages/figures/workflow1.png)"
   ]
  },
  {
   "cell_type": "markdown",
   "metadata": {},
   "source": [
    "**Data science** is a multidisciplinary field that uses\n",
    "- scientific methods: formulating hypotheses, collecting data, analyzing data, and drawing conclusions based on evidence\n",
    "- processes: data collection, data preprocessing, data analysis, evaluation, and deployment\n",
    "- algorithms: clustering, classification, regression, machine learning, and more \n",
    "- systems: databases, cloud computing platforms, programming languages, and other software tools \n",
    "\n",
    "to extract knowledge and insights from structured and unstructured data. \n",
    "\n",
    "\n",
    "**Environmental Data Science** focuses specifically on applying data science techniques to study environmental systems and phenomena. It involves the collection, analysis, and interpretation of data related to the environment, such as climate data, air and water quality data, biodiversity data, and more. Environmental data science aims to understand and address environmental challenges by leveraging data-driven science and engineering.\n",
    "\n",
    "\n",
    "**Paradigms in science and engineering** \n",
    "- Empirical description of nature\n",
    "- Theoretical with models and generalization\n",
    "- Computational with complex system simulations\n",
    "- Data driven science and engineering"
   ]
  },
  {
   "cell_type": "markdown",
   "metadata": {},
   "source": [
    "---"
   ]
  },
  {
   "cell_type": "markdown",
   "metadata": {},
   "source": [
    "## 2. Data-information-knowledge-wisdom hierarchy\n",
    "\n",
    "The Data-Information-Knowledge-Wisdom (DIKW) hierarchy is a pyramid with four levels, each representing a different stage in the transformation of data. Here is an example:"
   ]
  },
  {
   "attachments": {},
   "cell_type": "markdown",
   "metadata": {},
   "source": [
    "![image.png](https://github.com/aselshall/edsbook/blob/gh-pages/figures/workflow2.png?raw=true)"
   ]
  },
  {
   "cell_type": "markdown",
   "metadata": {},
   "source": [
    "**Data:**\n",
    "- Description: Raw, unprocessed facts and figures without context.\n",
    "- Characteristics: Discrete, objective, quantitative.\n",
    "- Example: Satellite images, sensor readings of water quality, temperature measurements, species population counts.\n",
    "\n",
    "**Information:**\n",
    "- Description: Data that has been given context and meaning, often by being organized or structured.\n",
    "- Characteristics: Processed, contextual, interpretable.\n",
    "- Example: deforestation rates, pollution levels in an urban lakes in low-income and high-income communities, trends in temperature changes over time, maps showing species distribution\n",
    "\n",
    "**Knowledge:**\n",
    "- Description: Information that has been synthesized and understood, allowing for the drawing of conclusions.\n",
    "- Characteristics: Modeled, actionable, experiential.\n",
    "- Example : Understanding the impact of deforestation on local ecosystems, recognizing the correlation between urban lake pollution and public health, identifying the causes of climate change, understanding various drivers and species population dynamics.\n",
    "\n",
    "**Wisdom:**\n",
    "- Description: The ability to make sound decisions based on knowledge, including a deep understanding of the consequences.\n",
    "- Characteristics: Decisional, reflective, moral.\n",
    "- Example: Implementing sustainable land management practices, developing an integrated project for urban lake restoration, developing policies for reducing carbon emissions, creating conservation strategies for endangered species."
   ]
  },
  {
   "cell_type": "markdown",
   "metadata": {},
   "source": [
    "## 2. Workflow\n",
    "\n",
    "A data science workflow involves the process of collecting, preparing, analyzing, and interpreting data to extract valuable insights and make informed decisions. \n",
    "  \n",
    "Here is one workflow:"
   ]
  },
  {
   "attachments": {},
   "cell_type": "markdown",
   "metadata": {},
   "source": [
    "![image.png](https://github.com/aselshall/edsbook/blob/gh-pages/figures/workflow3.png?raw=true)"
   ]
  },
  {
   "cell_type": "markdown",
   "metadata": {},
   "source": [
    "where:\n",
    "1. Problem Definition: Identifying the problem to solve and defining objectives\n",
    "2. Data Requirements: Determining what data is needed and available and how to obtain it\n",
    "3. Data Preparation: Collecting and preparing raw data from various sources for analysis\n",
    "4. Data Analysis: Extracting insights and patterns from the prepared data\n",
    "5. Evaluation: Assessing the performance of models and analysis results\n",
    "6. Dissemination: Communicating and sharing findings and results\n",
    "7. Deployment: Implementing models or solutions in a real-world setting\n",
    "8. Post-auditing: Conducting assessments after deployment to ensure continued effectiveness"
   ]
  },
  {
   "cell_type": "markdown",
   "metadata": {},
   "source": [
    "### 2.1 Define problem\n",
    "\n",
    "Identifying the problem to solve and defining objectives\n",
    "- Understanding the research, management or business question\n",
    "- Defining the scope and objectives\n",
    "- Identifying key stakeholders\n",
    "\n",
    "**Exampe**: What is the impact of COVID19 lockdown orders on air quality in Miami?"
   ]
  },
  {
   "cell_type": "markdown",
   "metadata": {},
   "source": [
    "### 2.2 Data Requirements\n",
    "\n",
    "Determining what data is needed and available and how to obtain it, which includes\n",
    "- identifying data needed and its format\n",
    "- understanding the availability of the data\n",
    "- outlining the methods for obtaining such as surveys, experiments, or datasets\n",
    "- consider the quality and reliability of the data sources\n",
    "\n",
    "This is an important steps the quality of your analysis depends on the quality of the collected data.\n",
    "\n",
    "**Example:** We need to collect daily air quality data for parameters such as PM2.5, PM10, NO2, SO2, and CO in csv format from 2019 to 2021. That is one year before and one year after the lockdown orders of COVID 19. EPA Air Data contains air quality data collected at outdoor monitors across the US. \n"
   ]
  },
  {
   "attachments": {},
   "cell_type": "markdown",
   "metadata": {},
   "source": [
    "### 2.3 Prepare Data\n",
    "![image.png](https://github.com/aselshall/edsbook/blob/gh-pages/figures/workflow4.png?raw=true)\n",
    "\n",
    "1. Data discovery and profiling: Exploring the content, quality, and structure of the dataset\n",
    "2. Data collection: Gathering raw data from various sources for analysis\n",
    "3. Data cleaning: Standardizing inconsistent data formats, correcting errors, and handling missing values\n",
    "4. Data structuring: Organizing data for efficient storage and retrieval\n",
    "5. Data enrichment: Enhancing dataset with additional information from external sources to improve analysis\n",
    "6. Data transformation: Optimizing the content and structure of data for further analysis\n",
    "7. Data validation: Ensuring the accuracy, completeness, and reliability of the data\n",
    "8. Data integration: Combining data from multiple sources to create a unified dataset for analysis"
   ]
  },
  {
   "cell_type": "markdown",
   "metadata": {
    "jp-MarkdownHeadingCollapsed": true
   },
   "source": [
    "#### 2.3.1 Data discovery and profiling\n",
    "\n",
    "This step involves the process of exploring and understanding the characteristics and quality of your dataset. This step includes:\n",
    "- examine the data to gain insights into its structure, distribution, completeness, and quality\n",
    "- identifying the types of variables in the dataset\n",
    "- checking for missing values\n",
    "- assessing data quality issues including scrutinizing for inconsistencies, errors, outliers, or data entry mistakes that could impact the reliability of analyses\n",
    "\n",
    "By the end of this step, you should be equipped with a comprehensive understanding of your dataset to make informed decisions regarding data collection, preprocessing and analysis strategies."
   ]
  },
  {
   "cell_type": "markdown",
   "metadata": {},
   "source": [
    "#### 2.3.2 Data collection\n",
    "\n",
    "This is the process of gathering raw data from various sources: \n",
    "- Databases: Extracting data from structured databases like SQL databases or NoSQL databases such as MongoDB\n",
    "- Files: Reading data from various file formats like CSV, netCDF, shapefiles, JSON, images, or text files\n",
    "- Sensors: Collecting data from environmental sensors that monitor parameters like temperature, humidity, air quality, etc.\n",
    "- APIs: Fetching data from web APIs provided by organizations, government agencies, or environmental monitoring systems such as USGS, NOAA, NASA, CMIP, Google Earth enginer, and many more\n",
    "- Manual Data Entry: Inputting data manually when automated methods are not available or feasible\n",
    "\n",
    "Python provides a rich ecosystem of libraries and tools that facilitate efficient data collection from various sources including \n",
    "- tools for making HTTP requests to APIs and fetching data with wide formats such csv, JSCON, XML, netCDF, images, shapefile, zip file, and many other such as `requests` \n",
    "- libraries like `Geemap` that interact with the Google Earth Engine API for accessing and analyzing geospatial data on cloud\n",
    "- tools like `beautifulsoup` for web scraping\n",
    "- tools for changing file formats and unzipping files such as `zipfile`\n",
    "- libraries like `SQLAlchemy` for interacting with SQL databases and `PyMongo` for NoSQL databases like MongoDB\n",
    "- libraries for specialized file formats like netCDF and shapefiles such as libraries like `xarray`, `cartopy`, and `geopandas`\n",
    "- libraries like `sensors` or `Adafruit CircuitPython` can be employed to interface with sensors and capture data in real-time\n",
    "- capabilities for manual data entry through GUI libraries like `tkinter` or `PyQt` can be used to create interactive forms for manual data input within Python applications\n",
    "\n",
    "By leveraging Python and its versatile libraries, engineers and scientists can streamline the data collection process across a wide array of sources."
   ]
  },
  {
   "cell_type": "markdown",
   "metadata": {},
   "source": [
    "#### 2.3.3 Data cleaning\n",
    "\n",
    "This step involves identifying and correcting errors, inconsistencies, missing values, and outliers in the dataset. Common data cleaning tasks include:\n",
    "- Identifying and removing duplicate records from the dataset to ensure data integrity and avoid redundancy in analyses. Python provides functions like `drop_duplicates()` in libraries such as pandas for efficiently handling duplicate data entries.\n",
    "- Dealing with missing data points by either imputing them with a suitable value or removing them from the dataset. Libraries like pandas offer methods like `fillna()` and `dropna()` to address missing values effectively.\n",
    "- Ensuring consistency in data formats across different columns or variables in the dataset. Python allows for format standardization using functions like `str.lower()`, `str.upper()`, or regular expressions to manipulate text data formats.\n",
    "- Rectifying errors in data entries that may arise due to typographical mistakes, inconsistencies, or inaccuracies. Python's string manipulation functions, data validation techniques, and outlier detection algorithms can aid in identifying and correcting data entry errors.\n",
    "\n",
    "By performing these data cleaning tasks engineers and scientists can enhance the quality and reliability of the dataset."
   ]
  },
  {
   "cell_type": "markdown",
   "metadata": {},
   "source": [
    "#### 2.3.4 Data structuring\n",
    "\n",
    "This steps involves organizing and formating the data in a way that is optimal for storage and retrieval. This step involves tasks such as: \n",
    "- restructuring data into a tidy format\n",
    "- combining datasets\n",
    "- reshaping data\n",
    "- creating new variables or features that may be needed for analysis\n",
    "\n",
    "This step ensure that you can efficiently access your data for further analysis. "
   ]
  },
  {
   "cell_type": "markdown",
   "metadata": {},
   "source": [
    "#### 2.3.5 Data Enrichment\n",
    "\n",
    "Data enrichment is a process in which existing datasets are enhanced with additional information to make the data more valuable for analysis:\n",
    "- Incorporating external information such scientific understanding, engineering heuristics, demographic information, economic indicators, weather information, or any relevant external information that can provide context and deeper insights into the analysis\n",
    "- Creating new features or variables from existing data through transformation, aggregation, or combination \n",
    "- Calculating derived metrics or indicators that capture specific patterns, trends, or relationships within the data.\n",
    "\n",
    "Data enrichment enriches the dataset with additional context, insights, and features to improve analysis."
   ]
  },
  {
   "cell_type": "markdown",
   "metadata": {},
   "source": [
    "#### 2.3.6 Data Transformation\n",
    "\n",
    "Data transformation involves converting data into a format suitable for analysis. This step often includes tasks such as:\n",
    "- aggregation by combining multiple data points into a summary statistic\n",
    "- Filtering by selecting specific rows or subsets of data based on defined criteria or conditions\n",
    "- generating new variables or features from existing data\n",
    "- convert a Pandas DataFrame to numpy array for more advanced array operations. You can do this conversion using the method `.values.\n",
    "\n",
    "Data enrichment and data transformation are closely related but distinct from data structuring. While data structuring primarily involves data wrangling for efficient storage and retrieval, data transformation focuses on preparing data for optimal analysis."
   ]
  },
  {
   "cell_type": "markdown",
   "metadata": {},
   "source": [
    "#### 2.3.7 Data validation\n",
    "\n",
    "This ensures the data is accurate, complete, and consistent. Common techniques used in data validation include\n",
    "- statistical analysis\n",
    "- visualization\n",
    "- cross-referencing with known sources of truth.\n",
    "\n",
    "This step ensures the integrity and reliability of the data for subsequent analysis. "
   ]
  },
  {
   "cell_type": "markdown",
   "metadata": {},
   "source": [
    "#### 2.3.8 Data Integration\n",
    "\n",
    "Data integration is the process of combining variables from different sources and formats into a unified view. Common challenges in data integration include dealing with \n",
    "- data inconsistencies\n",
    "- ensuring data quality\n",
    "- handling different data formats\n",
    "- resolving conflicts between datasets\n",
    "\n",
    "By overcoming these challenges through robust data integration techniques is needed to reach a comprehensive dataset that include are your variables and is analysis ready. "
   ]
  },
  {
   "cell_type": "markdown",
   "metadata": {},
   "source": [
    "### 2.4 Data Analysis\n",
    "\n",
    "Applying algorithms and statistical models to analyze the data\n",
    "- Data Exploration: Exploratory Data Analysis (EDA), statistical analysis, visualization\n",
    "- Feature Engineering: Creating new features from existing data, feature (variable) selection, dimensionality reduction (e.g., reducing the number of your variables)\n",
    "- Model Building: selecting algorithms, training models, hyperparameter tuning for machine learning"
   ]
  },
  {
   "cell_type": "markdown",
   "metadata": {},
   "source": [
    "### 2.5 Evaluation\n",
    "\n",
    "Validating your data through techniques like \n",
    "- cross-validation\n",
    "- analyzing performance metrics\n",
    "- conducting error analysis\n",
    "\n",
    "This is to ensure the accuracy and reliability of your findings"
   ]
  },
  {
   "cell_type": "markdown",
   "metadata": {},
   "source": [
    "### 2.6 Dissemination \n",
    "\n",
    "Communicating your results and present your findings through \n",
    "-  reports and presentations\n",
    "-  embracing open science practices\n",
    "-  onsidering other relevant factors in the dissemination of your research"
   ]
  },
  {
   "cell_type": "markdown",
   "metadata": {},
   "source": [
    "### 2.7 Deployment\n",
    "\n",
    "Implementing the analytical model to solve the problem including\n",
    "- Integration into production environment and real world applications \n",
    "- Monitoring and maintenance"
   ]
  },
  {
   "cell_type": "markdown",
   "metadata": {},
   "source": [
    "### 2.8 Post-auditing\n",
    "\n",
    "Model monitoring and updating including\n",
    "- performance monitoring\n",
    "- updating models with new data\n",
    "- iteration and continuous improvement"
   ]
  }
 ],
 "metadata": {
  "kernelspec": {
   "display_name": "Python 3 (ipykernel)",
   "language": "python",
   "name": "python3"
  },
  "language_info": {
   "codemirror_mode": {
    "name": "ipython",
    "version": 3
   },
   "file_extension": ".py",
   "mimetype": "text/x-python",
   "name": "python",
   "nbconvert_exporter": "python",
   "pygments_lexer": "ipython3",
   "version": "3.12.9"
  },
  "toc-autonumbering": false
 },
 "nbformat": 4,
 "nbformat_minor": 4
}
