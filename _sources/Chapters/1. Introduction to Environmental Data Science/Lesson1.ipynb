{
 "cells": [
  {
   "cell_type": "markdown",
   "id": "d25e717a",
   "metadata": {},
   "source": [
    "# Lesson 1 Introduction to Environmental Data Science with Python"
   ]
  },
  {
   "cell_type": "markdown",
   "id": "7cab0c9b",
   "metadata": {},
   "source": [
    "## Syllabus\n",
    "[https://aselshall.github.io/eds](https://aselshall.github.io/eds)\n"
   ]
  },
  {
   "cell_type": "markdown",
   "id": "460d7c1d",
   "metadata": {},
   "source": [
    "## Get to Know Each Other\n",
    "[https://bit.ly/eds-2026](https://bit.ly/eds-2026)"
   ]
  },
  {
   "cell_type": "markdown",
   "id": "9eb138bf",
   "metadata": {},
   "source": [
    "## Installing Python and Jupyter Lab\n",
    "\n",
    "[https://aselshall.github.io/eds/L/L1/installing_python](https://aselshall.github.io/eds/L/L1/installing_python)\n",
    "\n"
   ]
  }
 ],
 "metadata": {
  "kernelspec": {
   "display_name": "Python 3 (ipykernel)",
   "language": "python",
   "name": "python3"
  },
  "language_info": {
   "codemirror_mode": {
    "name": "ipython",
    "version": 3
   },
   "file_extension": ".py",
   "mimetype": "text/x-python",
   "name": "python",
   "nbconvert_exporter": "python",
   "pygments_lexer": "ipython3",
   "version": "3.12.9"
  }
 },
 "nbformat": 4,
 "nbformat_minor": 5
}
