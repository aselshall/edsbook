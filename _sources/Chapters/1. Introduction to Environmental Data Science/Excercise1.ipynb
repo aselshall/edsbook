{
 "cells": [
  {
   "cell_type": "markdown",
   "id": "3a6e4e48",
   "metadata": {},
   "source": [
    "# Exercise 1: Installing Python and JupyterLab"
   ]
  },
  {
   "cell_type": "markdown",
   "id": "53fd9cb3-b6da-4dbf-a86a-032af6b82073",
   "metadata": {},
   "source": [
    "   \n",
    "Check the link below for this exercise:   \n",
    "[https://aselshall.github.io/eds/L/L1/installing_python](https://aselshall.github.io/eds/L/L1/installing_python)\n"
   ]
  }
 ],
 "metadata": {
  "kernelspec": {
   "display_name": "Python 3 (ipykernel)",
   "language": "python",
   "name": "python3"
  },
  "language_info": {
   "codemirror_mode": {
    "name": "ipython",
    "version": 3
   },
   "file_extension": ".py",
   "mimetype": "text/x-python",
   "name": "python",
   "nbconvert_exporter": "python",
   "pygments_lexer": "ipython3",
   "version": "3.12.9"
  }
 },
 "nbformat": 4,
 "nbformat_minor": 5
}
