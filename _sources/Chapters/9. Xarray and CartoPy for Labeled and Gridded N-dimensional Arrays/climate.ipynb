{
 "cells": [
  {
   "cell_type": "markdown",
   "id": "d27e0db8-d1bd-4de6-a50a-c07caf471ed2",
   "metadata": {},
   "source": [
    "# Lessons 24 : Climate Data - CMIP6 and Remote Sensing\n",
    "\n",
    "[![Binder](https://mybinder.org/badge_logo.svg)](https://mybinder.org/v2/gh/aselshall/eds/HEAD)\n",
    "\n",
    "---"
   ]
  },
  {
   "attachments": {},
   "cell_type": "markdown",
   "id": "50d20442-4cee-4674-9d38-14f8c2006ebb",
   "metadata": {},
   "source": [
    "## 1. CMIP6\n",
    "\n",
    "CMIP6, which stands for Coupled Model Intercomparison Project Phase 6, is an international effort to coordinate and compare climate models to improve our understanding of climate change and its impacts on the environment.\n",
    "\n",
    "\n",
    "[![Video Title](https://img.youtube.com/vi/WdRiYPJLt4o/0.jpg)](https://www.youtube.com/watch?v=WdRiYPJLt4o)"
   ]
  },
  {
   "attachments": {},
   "cell_type": "markdown",
   "id": "7a370935-ea41-48b6-906d-8adfa1656812",
   "metadata": {},
   "source": [
    "## 2. CMIP6 experiments \n",
    "\n",
    "CMIP6 experiments include a wide range of simulations designed to explore different aspects of the Earth's climate system, such as historical simulations, future projections under various scenarios, and sensitivity experiments to understand key processes driving climate change.\n",
    "\n",
    "![image.png](https://raw.githubusercontent.com/aselshall/edsbook/refs/heads/master/figures/climate1.png)\n",
    "\n",
    "Source: [https://cmip-data-pool.dkrz.de/](https://cmip-data-pool.dkrz.de/)"
   ]
  },
  {
   "attachments": {},
   "cell_type": "markdown",
   "id": "5f860bcb-5c00-4352-af58-1fbc54c87f05",
   "metadata": {},
   "source": [
    "## 3. Earth system models\n",
    "\n",
    "Earth system models are complex computer models that simulate the interactions between the atmosphere, oceans, land surface, and ice, allowing researchers to study the Earth as a coupled system and make predictions about future climate changes. Earth system models emerged from ocean circulation models to general circulation models to global climate models to Earth system models.\n",
    "\n",
    "![image.png](https://raw.githubusercontent.com/aselshall/edsbook/refs/heads/master/figures/climate2.png)\n",
    "\n",
    "Source: Elshall et al. 2022"
   ]
  },
  {
   "attachments": {},
   "cell_type": "markdown",
   "id": "e4688b69-1bf1-44fe-951d-124a326b50f4",
   "metadata": {},
   "source": [
    "Earth system models emerged from ocean circulation models to general circulation models to global climate models to Earth system models.\n",
    "\n",
    "\n",
    "![image.png](https://raw.githubusercontent.com/aselshall/edsbook/refs/heads/master/figures/climate3.png)"
   ]
  },
  {
   "attachments": {},
   "cell_type": "markdown",
   "id": "309ab77a-267d-4634-b567-f15291fa44d5",
   "metadata": {},
   "source": [
    "## 5. Climate data analysis \n",
    "\n",
    "Studying climate data is imporant for water resources and environmental engineers as it provides valuable insights into long-term trends, extreme events, and variability in precipitation patterns, temperatures, and other climate variables, helping engineers in designing resilient infrastructure and sustainable water management strategies.\n",
    "\n",
    "![image.png](https://raw.githubusercontent.com/aselshall/edsbook/refs/heads/master/figures/climate4.png)\n",
    "\n",
    "\n",
    "Source:[https://sealevel.nasa.gov](https://sealevel.nasa.gov/ipcc-ar6-sea-level-projection-tool?psmsl_id=1106&data_layer=scenario)"
   ]
  },
  {
   "attachments": {},
   "cell_type": "markdown",
   "id": "c5deb2d7-5aa7-42e5-aafb-abd639a1d383",
   "metadata": {},
   "source": [
    "## 4. Shared Socioeconomic Pathways \n",
    "\n",
    "The Shared Socioeconomic Pathways (SSPs) are a set of scenarios used in the Coupled Model Intercomparison Project Phase 6 (CMIP6) to explore different possible futures of societal development, covering a range of plausible socioeconomic developments, including demographics, technology, economy, policy, and governance.\n",
    "\n",
    "![image.png](https://raw.githubusercontent.com/aselshall/edsbook/refs/heads/master/figures/climate5.png)\n",
    "\n",
    "\n",
    "| Scenario | Socioeconomic Pathway | Radiative Forcing (2100) | Description |\n",
    "|----------|------------------------|---------------------------|-------------|\n",
    "| **SSP1-1.9** | Sustainability (low challenges) | 1.9 W/m² | Net-zero CO₂ by ~2050, 1.5°C target (Paris Agreement). |\n",
    "| **SSP1-2.6** | Sustainability | 2.6 W/m² | Rapid decarbonization; well below 2°C. |\n",
    "| **SSP2-4.5** | Middle of the road | 4.5 W/m² | Intermediate path, some mitigation, ~2.7–3°C warming. |\n",
    "| **SSP3-7.0** | Regional rivalry | 7.0 W/m² | High emissions, fragmented development, ~3.5–4°C warming. |\n",
    "| **SSP5-8.5** | Fossil-fueled development | 8.5 W/m² | Very high emissions, worst-case baseline, >4°C warming. |\n",
    "\n",
    "\n",
    "![image.png](https://raw.githubusercontent.com/aselshall/edsbook/refs/heads/master/figures/climate6.png)\n"
   ]
  },
  {
   "attachments": {},
   "cell_type": "markdown",
   "id": "6a3e0e82-d5be-4f86-b548-250573a14e04",
   "metadata": {},
   "source": [
    "### What does 1 m of sea-level rise mean?\n",
    "\n",
    "![image.png](https://raw.githubusercontent.com/aselshall/edsbook/refs/heads/master/figures/climate7.png)\n",
    "\n"
   ]
  },
  {
   "cell_type": "markdown",
   "id": "e955e461-7c6a-45a6-8497-37a3ce44033b",
   "metadata": {},
   "source": [
    "## 6. Accessing CMIP6 and remote sensing data\n",
    "\n",
    "\n",
    "We can get climate data from different sources such as: \n",
    "- [ESGF MetaGrid](https://aims2.llnl.gov/search/cmip6/) for CMIP6 data,\n",
    "- [NASA Earth Exchange Global Daily Downscaled Projections (NEX-GDDP-CMIP6)](https://www.nccs.nasa.gov/services/data-collections/land-based-products/nex-gddp-cmip6) for CORDEX downscald data,\n",
    "- Copernicus Climate Data Store incuding\n",
    "  - [Gridded monthly climate projection dataset underpinning the IPCC AR6 Interactive Atlas](https://cds.climate.copernicus.eu/cdsapp#!/dataset/projections-climate-atlas),\n",
    "  - [CMIP6 climate projections](https://cds.climate.copernicus.eu/cdsapp#!/dataset/projections-cmip6),\n",
    "  - [CORDEX regional climate model data on single levels](https://cds.climate.copernicus.eu/cdsapp#!/dataset/projections-cordex-domains-single-levels),\n",
    "  - [Temperature and precipitation gridded data for global and regional domains derived from in-situ and satellite observations](https://cds.climate.copernicus.eu/cdsapp#!/dataset/insitu-gridded-observations-global-and-regional?tab=overview),\n",
    "  - [Climate extreme indices and heat stress indicators derived from CMIP6 global climate projections](https://cds.climate.copernicus.eu/cdsapp#!/dataset/sis-extreme-indices-cmip6)\n",
    "  - [Essential climate variables for water sector applications derived from climate projections](https://cds.climate.copernicus.eu/cdsapp#!/dataset/sis-ecv-cmip5-bias-corrected?tab=overview)\n",
    "  - [Global bioclimatic indicators from 1950 to 2100 derived from climate projections](https://cds.climate.copernicus.eu/cdsapp#!/dataset/sis-biodiversity-cmip5-global?tab=overview)\n",
    "  - [Agroclimatic indicators from 1951 to 2099 derived from climate projections](\n",
    "https://cds.climate.copernicus.eu/cdsapp#!/dataset/sis-agroclimatic-indicators?tab=overvie)\n",
    "- [Google Earth engine](https://developers.google.com/earth-engine/datasets/): A multi-petabyte catalog of satellite imagery and geospatial datasets\r\n",
    "\n",
    "\r\n",
    "\r\n",
    "\n",
    "\n",
    "\n"
   ]
  }
 ],
 "metadata": {
  "kernelspec": {
   "display_name": "Python 3 (ipykernel)",
   "language": "python",
   "name": "python3"
  },
  "language_info": {
   "codemirror_mode": {
    "name": "ipython",
    "version": 3
   },
   "file_extension": ".py",
   "mimetype": "text/x-python",
   "name": "python",
   "nbconvert_exporter": "python",
   "pygments_lexer": "ipython3",
   "version": "3.12.9"
  }
 },
 "nbformat": 4,
 "nbformat_minor": 5
}
