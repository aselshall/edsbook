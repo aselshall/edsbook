{
 "cells": [
  {
   "cell_type": "markdown",
   "metadata": {},
   "source": [
    "# Exercise 2 - Becoming a millionaire\n",
    "\n",
    "This lesson is modified from [A taste of Python](https://geo-python-site.readthedocs.io/en/latest/notebooks/L1/a-taste-of-python.html) from [geo-python](https://geo-python-site.readthedocs.io/en/latest/index.html).\n",
    "\n",
    "[![Binder](https://mybinder.org/badge_logo.svg)](https://mybinder.org/v2/gh/aselshall/eds/HEAD)"
   ]
  },
  {
   "cell_type": "markdown",
   "metadata": {},
   "source": [
    "## A low-effort way to become a millionaire"
   ]
  },
  {
   "cell_type": "markdown",
   "metadata": {},
   "source": [
    "According to [New Trader U: 3 Low-Effort Ways To Become A Millionaire](https://www.newtraderu.com/2023/05/07/3-low-effort-ways-to-become-a-millionaire/), Standard and Poor's 500 index fund (S&P 500) tracks the stock performance of 500 of the largest companies listed on stock exchanges in the US. The average historical rate an investor can expect long-term on S&P 500 is 8% annual compounded growth. The formula is:\n",
    "$$\n",
    "FV = PM * \\frac{[(1 + r)^{nt} – 1]}{r} \n",
    "$$\n",
    "Where:      \n",
    "FV:  Future value of the investment (e.g., \\\\$1,000,000)     \n",
    "PM: Monthly investment amount (e.g., \\\\$300)     \n",
    "r:   Monthly interest rate (e.g. 0.64%)     \n",
    "n:   Number of times the interest is compounded per year (i.e., 12 for monthly compounding)     \n",
    "t:   Number of years (e.g., 20 years)   \n",
    "\n",
    "To convert annual interest rate of 8% to monthly interest rate you can use this formula $ r = (1 + 0.08)^{1/n} – 1  $\n",
    "\n",
    "For example,  for FV= \\\\$1,000,000 and t = 40 years, then PM ≈ \\\\$310.5. Note while there is wide variance in monthly and annual returns, long-term destination will likely lead to being a millionaire based on historical performance of past 100 years. "
   ]
  },
  {
   "cell_type": "markdown",
   "metadata": {},
   "source": [
    "#### Exercise 1"
   ]
  },
  {
   "cell_type": "markdown",
   "metadata": {},
   "source": [
    "Write a code to check that if you invisted about $310.5 you will be a millionaire in 40 years.  \n",
    "Display your answer as \"For a monthly invistment of \\\\$ 310.5 for 40 years, the future value will be \\\\$ 1.0 million\"  \n",
    "Note that \\\\$ 1.0 is rounded and the actual value is 1.0001451368328833.  \n",
    "How to round a number in python? Check online"
   ]
  },
  {
   "cell_type": "code",
   "execution_count": 1,
   "metadata": {},
   "outputs": [
    {
     "name": "stdout",
     "output_type": "stream",
     "text": [
      "For a monthly investment of $ 310.5 for 40 years, the future value will be $ 1.0 million\n",
      "The actual value is 1.0001451368328833 million\n"
     ]
    }
   ],
   "source": [
    "# Given PM of $310.5 and t of 40 years find FV\n",
    "\n",
    "#Parameters\n",
    "pm = 310.5  # Monthly investment\n",
    "annual_rate = 0.08  # Annual interest rate (8%)\n",
    "n = 12  # Compounded monthly\n",
    "r = (1 + annual_rate)**(1/n) - 1 #Monthly interest rate \n",
    "t = 40  # Investment period in years\n",
    "\n",
    "# Calculate future value (FV) using the formula\n",
    "fv = pm * (((1 + r)**(n * t) - 1) / r) \n",
    "\n",
    "# Display the result\n",
    "rounded_fv = round(fv / 1000000, 1)  \n",
    "\n",
    "\n",
    "# Display the result\n",
    "print(f\"For a monthly investment of $ {pm} for {t} years, the future value will be $ {rounded_fv} million\")\n",
    "print(f\"The actual value is {fv / 1000000:.16f} million\")\n",
    "\n",
    "\n"
   ]
  },
  {
   "cell_type": "markdown",
   "metadata": {},
   "source": [
    "#### Exercise 2"
   ]
  },
  {
   "cell_type": "markdown",
   "metadata": {
    "jp-MarkdownHeadingCollapsed": true
   },
   "source": [
    "(2) Write a code to check how much do you need to invest monthly to become a millionaire in 25 years?  \n",
    "Display your answer as \"For a future value of \\\\$ 1.0 million in 25 years, you need to invist \\\\$ 1100.0 per month\"  \n",
    "Note that \\\\$ 1100.0 is rounded and the actual value is 1100.120953605599.\n",
    "$$\n",
    "FV = PM * \\frac{[(1 + r)^{nt} – 1]}{r} \n",
    "$$"
   ]
  },
  {
   "cell_type": "code",
   "execution_count": 2,
   "metadata": {},
   "outputs": [
    {
     "name": "stdout",
     "output_type": "stream",
     "text": [
      "For a future value of $ 1.0 million in 25 years, you need to invest $ 1100 per month\n",
      "The actual value is 1100.120953605599 per month\n"
     ]
    }
   ],
   "source": [
    "# Find PM given t of 25 years and FV of $1,000,000\n",
    "\n",
    "\n",
    "# Parameters\n",
    "fv = 1e6  # Future value (in dollars)\n",
    "annual_rate = 0.08  # Annual interest rate (8%)\n",
    "n = 12  # Compounded monthly\n",
    "t = 25  # Investment period in years\n",
    "r = (1 + annual_rate)**(1/n) - 1 # Calculate monthly interest rate using the formula\n",
    "\n",
    "# Calculate monthly investment (PM) using the formula\n",
    "# PM = FV / [ ((1 + r)^(nt) - 1) / r * (1 + r) ]\n",
    "pm = fv*r / ((1 + r)**(n * t) - 1)\n",
    "\n",
    "# Round the monthly investment to 1 decimal place\n",
    "rounded_pm = round(pm, 0)\n",
    "\n",
    "# Display the result\n",
    "print(f\"For a future value of $ {fv/1e6:.1f} million in {t} years, you need to invest $ {rounded_pm:.0f} per month\")\n",
    "print(f\"The actual value is {pm:.12f} per month\")\n",
    "\n"
   ]
  },
  {
   "cell_type": "markdown",
   "metadata": {},
   "source": [
    "#### Exercise 3"
   ]
  },
  {
   "cell_type": "markdown",
   "metadata": {},
   "source": [
    "Write a code to find out that if you will invest $1000 per month, after how many years will you become a millionaire?  \n",
    "Display your answer as \"If you invisited \\\\$ 1000.0 per month, you will become a milloire in 26.1 years\"\n",
    "\n",
    "Note you need to import *math* module to solve the exponential equation using logarithms.  \n",
    "We did not learn logarithms, but we learned how to find functions in the documentation of the [*math*](https://docs.python.org/3/library/math.html) module \n",
    "$$\n",
    "FV = PM * \\frac{[(1 + r)^{nt} – 1]}{r} \n",
    "$$"
   ]
  },
  {
   "cell_type": "code",
   "execution_count": 3,
   "metadata": {},
   "outputs": [
    {
     "name": "stdout",
     "output_type": "stream",
     "text": [
      "If you invested $ 1000.0 per month, you will become a millionaire in 26.1 years\n"
     ]
    }
   ],
   "source": [
    "# Find t given PM $1,000 per month and FV of $1,000,000\n",
    "\n",
    "import math\n",
    "\n",
    "# Parameters\n",
    "pm = 1000  # Monthly investment\n",
    "fv = 1e6  # Future value (in dollars)\n",
    "annual_rate = 0.08  # Annual interest rate (8%)\n",
    "n = 12  # Compounded monthly\n",
    "r = (1 + annual_rate)**(1/n) - 1 # Calculate monthly interest rate using the formula\n",
    "\n",
    "# Solve for t (time in years) using logarithms\n",
    "# FV = PM *((1 + r)^(n * t) - 1) / r \n",
    "# log(FV*r/PM + 1) = (n*T)log(1 + r )\n",
    "# Rearrange to find t:\n",
    "# t = log((FV * r / PM) + 1) / (n * log(1 + r))\n",
    "t = math.log((fv * r / pm) + 1) / (n * math.log(1 + r))\n",
    "\n",
    "# Round t to 1 decimal place\n",
    "rounded_t = round(t, 1)\n",
    "\n",
    "# Display the result\n",
    "print(f\"If you invested $ {pm:.1f} per month, you will become a millionaire in {rounded_t} years\")"
   ]
  }
 ],
 "metadata": {
  "anaconda-cloud": {},
  "kernelspec": {
   "display_name": "Python 3 (ipykernel)",
   "language": "python",
   "name": "python3"
  },
  "language_info": {
   "codemirror_mode": {
    "name": "ipython",
    "version": 3
   },
   "file_extension": ".py",
   "mimetype": "text/x-python",
   "name": "python",
   "nbconvert_exporter": "python",
   "pygments_lexer": "ipython3",
   "version": "3.12.9"
  }
 },
 "nbformat": 4,
 "nbformat_minor": 4
}
