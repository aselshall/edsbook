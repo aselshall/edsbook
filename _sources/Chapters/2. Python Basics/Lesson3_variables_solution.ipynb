{
 "cells": [
  {
   "cell_type": "markdown",
   "metadata": {},
   "source": [
    "# Lesson 3: Python Basics 1 - Variables\n",
    "\n",
    "This lesson is modified from [A taste of Python](https://geo-python-site.readthedocs.io/en/latest/notebooks/L1/a-taste-of-python.html) from [geo-python](https://geo-python-site.readthedocs.io/en/latest/index.html).\n",
    "\n",
    "[![Binder](https://mybinder.org/badge_logo.svg)](https://mybinder.org/v2/gh/aselshall/eds/HEAD)"
   ]
  },
  {
   "cell_type": "markdown",
   "metadata": {},
   "source": [
    "## Objectives\n",
    "By the end of this lesson, you will be able to\n",
    "- Define and update python variables\n",
    "- Apply these concepts to write simple python code"
   ]
  },
  {
   "cell_type": "markdown",
   "metadata": {
    "deletable": true,
    "editable": true
   },
   "source": [
    "## 1. Variables\n",
    "\n",
    "### 1.1 Define a variable\n",
    "A `variable` can be used to store values calculated in expressions and used for other calculations.  \n",
    "To assign a value, you simply type `variable_name = value`"
   ]
  },
  {
   "cell_type": "markdown",
   "metadata": {},
   "source": [
    "In the cell below, define a variable called `temp_celsius`, assign it a value of '10.0'.  \n",
    "Then print that variable value using the `print()` function.  \n",
    "Note that you should do this on two separate lines."
   ]
  },
  {
   "cell_type": "code",
   "execution_count": 8,
   "metadata": {
    "collapsed": false,
    "deletable": true,
    "editable": true,
    "jupyter": {
     "outputs_hidden": false
    }
   },
   "outputs": [
    {
     "name": "stdout",
     "output_type": "stream",
     "text": [
      "10.0\n"
     ]
    }
   ],
   "source": [
    "temp_celsius=10.0\n",
    "print(temp_celsius)"
   ]
  },
  {
   "cell_type": "markdown",
   "metadata": {},
   "source": [
    "Print out the value of `temp_celsius` in degrees Fahrenheit. \n",
    "\n",
    "Note: tempFahrenheit = (temp_celsius * 9/5) + 32  \n",
    "\n",
    "The output should read 'Temperature in Fahrenheit: 50.0'."
   ]
  },
  {
   "cell_type": "code",
   "execution_count": 9,
   "metadata": {
    "collapsed": false,
    "deletable": true,
    "editable": true,
    "jupyter": {
     "outputs_hidden": false
    }
   },
   "outputs": [
    {
     "name": "stdout",
     "output_type": "stream",
     "text": [
      "Temperature in Fahrenheit: 50.0\n"
     ]
    }
   ],
   "source": [
    "tempFahrenheit = (temp_celsius * 9/5) + 32\n",
    "print('Temperature in Fahrenheit:',tempFahrenheit)"
   ]
  },
  {
   "cell_type": "markdown",
   "metadata": {
    "deletable": true,
    "editable": true
   },
   "source": [
    "#### Check your understanding\n",
    "Define any two variables that you like with text or numeric values.  \n",
    "Print the two variables using `print` function "
   ]
  },
  {
   "cell_type": "code",
   "execution_count": 10,
   "metadata": {
    "deletable": true,
    "editable": true,
    "tags": [
     "hide-cell"
    ]
   },
   "outputs": [
    {
     "name": "stdout",
     "output_type": "stream",
     "text": [
      "my name is Bibo and my age is 8\n"
     ]
    }
   ],
   "source": [
    "name='Bibo'\n",
    "age=8\n",
    "print('my name is', name, 'and my age is', age)"
   ]
  },
  {
   "cell_type": "markdown",
   "metadata": {
    "deletable": true,
    "editable": true
   },
   "source": [
    "### 1.2 Updating variables\n",
    "\n",
    "Values stored in variables can also be updated. Let's redefine the value of `temp_celsius` to be equal to 15.0 and print its value in the cells below."
   ]
  },
  {
   "cell_type": "code",
   "execution_count": 11,
   "metadata": {
    "deletable": true,
    "editable": true
   },
   "outputs": [],
   "source": [
    "temp_celsius=15.0"
   ]
  },
  {
   "cell_type": "code",
   "execution_count": 12,
   "metadata": {
    "collapsed": false,
    "deletable": true,
    "editable": true,
    "jupyter": {
     "outputs_hidden": false
    }
   },
   "outputs": [
    {
     "name": "stdout",
     "output_type": "stream",
     "text": [
      "15.0\n"
     ]
    }
   ],
   "source": [
    "print(temp_celsius)"
   ]
  },
  {
   "cell_type": "markdown",
   "metadata": {
    "deletable": true,
    "editable": true
   },
   "source": [
    "```{warning}\n",
    "If you try to run some code that accesses a variable that has not yet been defined you will get a `NameError` message. Try printing out the value of the variable `TempFahrenheit` using the `print()` function in the cell below.\n",
    "```"
   ]
  },
  {
   "cell_type": "code",
   "execution_count": 13,
   "metadata": {},
   "outputs": [
    {
     "ename": "NameError",
     "evalue": "name 'TempFahrenheit' is not defined",
     "output_type": "error",
     "traceback": [
      "\u001b[31m---------------------------------------------------------------------------\u001b[39m",
      "\u001b[31mNameError\u001b[39m                                 Traceback (most recent call last)",
      "\u001b[36mCell\u001b[39m\u001b[36m \u001b[39m\u001b[32mIn[13]\u001b[39m\u001b[32m, line 1\u001b[39m\n\u001b[32m----> \u001b[39m\u001b[32m1\u001b[39m \u001b[38;5;28mprint\u001b[39m(\u001b[43mTempFahrenheit\u001b[49m)\n",
      "\u001b[31mNameError\u001b[39m: name 'TempFahrenheit' is not defined"
     ]
    }
   ],
   "source": [
    "print(TempFahrenheit)"
   ]
  },
  {
   "cell_type": "markdown",
   "metadata": {},
   "source": [
    "Define the variable:  \n",
    "TempFahrenheit = 9 / 5 * temp_celsius + 32\n",
    "\n",
    "Now try again"
   ]
  },
  {
   "cell_type": "code",
   "execution_count": 14,
   "metadata": {
    "collapsed": false,
    "deletable": true,
    "editable": true,
    "jupyter": {
     "outputs_hidden": false
    }
   },
   "outputs": [
    {
     "name": "stdout",
     "output_type": "stream",
     "text": [
      "59.0\n"
     ]
    }
   ],
   "source": [
    "TempFahrenheit = 9 / 5 * temp_celsius + 32\n",
    "print(TempFahrenheit)"
   ]
  },
  {
   "cell_type": "markdown",
   "metadata": {
    "deletable": true,
    "editable": true
   },
   "source": [
    "#### Check your understanding\n",
    "Write a code the converts temperature in celsius to Fahrenheit and prints to screen the temperature in both celsius and fahrenheit.\n",
    "Here is the an example of the output \"20 degrees celsius is 68 degree Fahrenheit\""
   ]
  },
  {
   "cell_type": "code",
   "execution_count": 15,
   "metadata": {},
   "outputs": [
    {
     "name": "stdout",
     "output_type": "stream",
     "text": [
      "20.0 degrees celsius is 68.0 degree Fahrenheit\n"
     ]
    }
   ],
   "source": [
    "temp_celsius=20.0\n",
    "tempFahrenheit= 9 / 5 * temp_celsius + 32\n",
    "print(temp_celsius, 'degrees celsius is', tempFahrenheit,'degree Fahrenheit')"
   ]
  },
  {
   "cell_type": "markdown",
   "metadata": {
    "deletable": true,
    "editable": true
   },
   "source": [
    "## 2. Data types\n",
    "\n",
    "A `data type` determines the characteristics of data in a program.\n",
    "There are 4 basic data types in Python as shown in the table below.\n",
    "\n",
    "| Data type name | Data type            | Example    |\n",
    "| -------------- | -------------------- | ---------- |\n",
    "| `int`          | Whole integer values | `4`        |\n",
    "| `float`        | Decimal values       | `3.1415`   |\n",
    "| `str`          | Character strings    | `'Hot'`    |\n",
    "| `bool`         | True/false values    | `True`     |\n",
    "\n",
    "The data type can be found using the `type()` function.\n",
    "As you will see, the data types are important because some are not compatible with one another.\n",
    "\n",
    "Let's define a variable `weatherForecast` and assign it the value `'Hot'`. After this, we can check its data type using the `type()` function."
   ]
  },
  {
   "cell_type": "code",
   "execution_count": 16,
   "metadata": {
    "collapsed": false,
    "deletable": true,
    "editable": true,
    "jupyter": {
     "outputs_hidden": false
    }
   },
   "outputs": [
    {
     "data": {
      "text/plain": [
       "str"
      ]
     },
     "execution_count": 16,
     "metadata": {},
     "output_type": "execute_result"
    }
   ],
   "source": [
    "weatherForecast='Hot'\n",
    "type(weatherForecast)"
   ]
  },
  {
   "cell_type": "markdown",
   "metadata": {},
   "source": [
    "Let's also check the type of `tempFahrenheit`. What happens if you try to combine `tempFahrenheit` and `weatherForecast` in a single math equation such as `tempFahrenheit = tempFahrenheit + 5.0 * weatherForecast`?"
   ]
  },
  {
   "cell_type": "code",
   "execution_count": 17,
   "metadata": {
    "collapsed": false,
    "deletable": true,
    "editable": true,
    "jupyter": {
     "outputs_hidden": false
    },
    "tags": [
     "raises-exception"
    ]
   },
   "outputs": [
    {
     "data": {
      "text/plain": [
       "float"
      ]
     },
     "execution_count": 17,
     "metadata": {},
     "output_type": "execute_result"
    }
   ],
   "source": [
    "type(tempFahrenheit)"
   ]
  },
  {
   "cell_type": "code",
   "execution_count": 18,
   "metadata": {},
   "outputs": [
    {
     "ename": "TypeError",
     "evalue": "can't multiply sequence by non-int of type 'float'",
     "output_type": "error",
     "traceback": [
      "\u001b[31m---------------------------------------------------------------------------\u001b[39m",
      "\u001b[31mTypeError\u001b[39m                                 Traceback (most recent call last)",
      "\u001b[36mCell\u001b[39m\u001b[36m \u001b[39m\u001b[32mIn[18]\u001b[39m\u001b[32m, line 1\u001b[39m\n\u001b[32m----> \u001b[39m\u001b[32m1\u001b[39m tempFahrenheit = tempFahrenheit + \u001b[32;43m5.0\u001b[39;49m\u001b[43m \u001b[49m\u001b[43m*\u001b[49m\u001b[43m \u001b[49m\u001b[43mweatherForecast\u001b[49m\n",
      "\u001b[31mTypeError\u001b[39m: can't multiply sequence by non-int of type 'float'"
     ]
    }
   ],
   "source": [
    "tempFahrenheit = tempFahrenheit + 5.0 * weatherForecast"
   ]
  },
  {
   "cell_type": "markdown",
   "metadata": {
    "deletable": true,
    "editable": true
   },
   "source": [
    "In this case we get at `TypeError` because we are trying to execute a math operation with data types that are not compatible. There is no way in Python to multpily decimal numbers with a character string."
   ]
  },
  {
   "cell_type": "markdown",
   "metadata": {
    "deletable": true,
    "editable": true
   },
   "source": [
    "#### Check your understanding\n",
    "\n",
    "As it turns out, you can do some math with character strings in Python. Define two variables and assign them character string values in the Python cell below."
   ]
  },
  {
   "cell_type": "code",
   "execution_count": 19,
   "metadata": {
    "deletable": true,
    "editable": true,
    "tags": [
     "hide-cell"
    ]
   },
   "outputs": [],
   "source": [
    "# Here is an example solution\n",
    "var1='Hi'\n",
    "var2= 'Bye'"
   ]
  },
  {
   "cell_type": "markdown",
   "metadata": {},
   "source": [
    "What happens if you try to add two character strings together `print(first_variable + second_variable)`?"
   ]
  },
  {
   "cell_type": "code",
   "execution_count": 20,
   "metadata": {},
   "outputs": [
    {
     "name": "stdout",
     "output_type": "stream",
     "text": [
      "HiBye\n"
     ]
    }
   ],
   "source": [
    "print(var1+var2)"
   ]
  },
  {
   "cell_type": "markdown",
   "metadata": {},
   "source": [
    "Can we subtract them `print(first_variable - second_variable)` ?"
   ]
  },
  {
   "cell_type": "code",
   "execution_count": 21,
   "metadata": {},
   "outputs": [
    {
     "ename": "TypeError",
     "evalue": "unsupported operand type(s) for -: 'str' and 'str'",
     "output_type": "error",
     "traceback": [
      "\u001b[31m---------------------------------------------------------------------------\u001b[39m",
      "\u001b[31mTypeError\u001b[39m                                 Traceback (most recent call last)",
      "\u001b[36mCell\u001b[39m\u001b[36m \u001b[39m\u001b[32mIn[21]\u001b[39m\u001b[32m, line 1\u001b[39m\n\u001b[32m----> \u001b[39m\u001b[32m1\u001b[39m \u001b[38;5;28mprint\u001b[39m(\u001b[43mvar1\u001b[49m\u001b[43m-\u001b[49m\u001b[43mvar2\u001b[49m)\n",
      "\u001b[31mTypeError\u001b[39m: unsupported operand type(s) for -: 'str' and 'str'"
     ]
    }
   ],
   "source": [
    "print(var1-var2)"
   ]
  },
  {
   "cell_type": "markdown",
   "metadata": {},
   "source": [
    "Which other math operations work for character strings? Check multiplication `5*first_variable`"
   ]
  },
  {
   "cell_type": "code",
   "execution_count": 22,
   "metadata": {},
   "outputs": [
    {
     "name": "stdout",
     "output_type": "stream",
     "text": [
      "HiHiHiHiHi\n"
     ]
    }
   ],
   "source": [
    "print(5*var1)"
   ]
  },
  {
   "cell_type": "markdown",
   "metadata": {
    "deletable": true,
    "editable": true
   },
   "source": [
    "## 3. Character input (optional)\n",
    "\n",
    "Python and Jupyter notebooks also let us interact in another way with our code! The built-in [input()](https://docs.python.org/3.6/library/functions.html?highlight=input#input) function reads a line from input and returns it as a string.\n",
    "\n",
    "Let's try for example"
   ]
  },
  {
   "cell_type": "code",
   "execution_count": 23,
   "metadata": {
    "collapsed": false,
    "deletable": true,
    "editable": true,
    "jupyter": {
     "outputs_hidden": false
    },
    "tags": [
     "raises-exception"
    ]
   },
   "outputs": [
    {
     "name": "stdin",
     "output_type": "stream",
     "text": [
      "Where are you from?  Cairo\n"
     ]
    },
    {
     "name": "stdout",
     "output_type": "stream",
     "text": [
      "Cairo is a nice place!\n"
     ]
    }
   ],
   "source": [
    "place = input(\"Where are you from? \")\n",
    "print(place, \"is a nice place!\")"
   ]
  },
  {
   "cell_type": "markdown",
   "metadata": {},
   "source": [
    "```{warning}\n",
    "Jupyter Notebooks might sometimes get stuck when using the `input()` function. If this happens, restart the kernel.\n",
    "```"
   ]
  },
  {
   "cell_type": "markdown",
   "metadata": {},
   "source": [
    "Let's try another example in the cell below using the similar approach. Ask the user for a temperature in Celsius using the `input()` function and print the input value to the screen."
   ]
  },
  {
   "cell_type": "code",
   "execution_count": 28,
   "metadata": {
    "collapsed": false,
    "deletable": true,
    "editable": true,
    "jupyter": {
     "outputs_hidden": false
    },
    "tags": [
     "raises-exception"
    ]
   },
   "outputs": [
    {
     "name": "stdin",
     "output_type": "stream",
     "text": [
      "How cold can it be in Fort Myers (in degrees Celsius)?  10\n"
     ]
    },
    {
     "name": "stdout",
     "output_type": "stream",
     "text": [
      "10 degrees Celsius is quite cold!\n"
     ]
    }
   ],
   "source": [
    "tempCelsius = input(\"How cold can it be in Fort Myers (in degrees Celsius)? \")\n",
    "print(tempCelsius, \"degrees Celsius is quite cold!\")"
   ]
  },
  {
   "cell_type": "markdown",
   "metadata": {
    "deletable": true,
    "editable": true
   },
   "source": [
    "What is the data type of variable `place`? What about the other variable you defined? Check their data types using the cell below."
   ]
  },
  {
   "cell_type": "code",
   "execution_count": 25,
   "metadata": {
    "deletable": true,
    "editable": true,
    "tags": [
     "raises-exception"
    ]
   },
   "outputs": [
    {
     "name": "stdout",
     "output_type": "stream",
     "text": [
      "<class 'str'>\n",
      "<class 'float'>\n"
     ]
    }
   ],
   "source": [
    "print(type(place))\n",
    "print(type(temp_celsius))"
   ]
  },
  {
   "cell_type": "markdown",
   "metadata": {},
   "source": [
    "What happens when you try to convert your Celsius temperature value to Fahrenheit using the equation from earlier in the lesson?"
   ]
  },
  {
   "cell_type": "code",
   "execution_count": 26,
   "metadata": {
    "scrolled": true,
    "tags": [
     "raises-exception"
    ]
   },
   "outputs": [],
   "source": [
    "tempFahrenheit = 9 / 5 * temp_celsius + 32"
   ]
  },
  {
   "cell_type": "markdown",
   "metadata": {},
   "source": [
    "How to solve this problem?   \n",
    "Check online how to convert str to float."
   ]
  },
  {
   "cell_type": "code",
   "execution_count": 27,
   "metadata": {},
   "outputs": [
    {
     "name": "stdout",
     "output_type": "stream",
     "text": [
      "68.0\n"
     ]
    }
   ],
   "source": [
    "tempCelsius=float(temp_celsius)\n",
    "tempFahrenheit = 9 / 5 * temp_celsius + 32\n",
    "print(tempFahrenheit)"
   ]
  }
 ],
 "metadata": {
  "anaconda-cloud": {},
  "kernelspec": {
   "display_name": "Python 3 (ipykernel)",
   "language": "python",
   "name": "python3"
  },
  "language_info": {
   "codemirror_mode": {
    "name": "ipython",
    "version": 3
   },
   "file_extension": ".py",
   "mimetype": "text/x-python",
   "name": "python",
   "nbconvert_exporter": "python",
   "pygments_lexer": "ipython3",
   "version": "3.12.9"
  }
 },
 "nbformat": 4,
 "nbformat_minor": 4
}
