{
 "cells": [
  {
   "cell_type": "markdown",
   "id": "80c7a86e-92b5-44d4-b0c6-d1d74dd11959",
   "metadata": {},
   "source": [
    "<h1 style=\"color:green; text-align:center;\"> Homework 1 Python Basics </h1>  \n",
    "\n",
    "**Instructions:**\n",
    "* LLM Not Permitted  \n",
    "* Answer all questions in one notebook\n",
    "* Rename notebook file name to `YourLastName_YourFirstName`\n",
    "* Submit your notebook to Canvas by the due date on Canvas"
   ]
  },
  {
   "cell_type": "markdown",
   "id": "e0b9e7b1-27de-4b5a-99c8-fc364f86f84d",
   "metadata": {
    "jp-MarkdownHeadingCollapsed": true
   },
   "source": [
    "## Problem 1 - Happiness rating\n",
    "\n",
    "**The objective** of this problem is to demonstrate that you can use Jupyter Notebook to write an run a simple python code.\n",
    "\n",
    "This problem is modified from [Geo-python - Exercise 1](https://github.com/Geo-Python-2023/Exercise-1). You will assess your happiness based on two of life's most important happiness factors: Ice cream and sleep!\n",
    "\n",
    "- Rename notebook `HW1_LastName_FirstName`.\n",
    "- Create code cell to define some variables and do some calculations as follows:\n",
    "    - Define variable `my_name` to store your name\n",
    "    - Define variabless `ice_cream_rating`, and `sleeping_rating` to store an integer value (whole number) between 0 and 10 that reflects your general opinion about how much you enjoy eating ice cream and enjoy sleeping, respectively\n",
    "    - Calculate the average of your `ice_cream_rating` and `sleeping_rating` variables using a variable called `happiness_rating`\n",
    "    - Use print function with the variables that you defined to print the something like this (with your inputs)\n",
    "    ```\n",
    "    My name is Wormfy Noseborn and my happiness rating is 8.5 out of 10, or 85.0%\n",
    "    ```\n",
    "- Run your code cell and show output to screen."
   ]
  },
  {
   "cell_type": "markdown",
   "id": "5e94438b-583c-4fe1-965a-3c29f1fbd497",
   "metadata": {},
   "source": [
    "## Problem 2 - Becoming a millionare\n",
    "\n",
    "**The objectives** of this problems are to show that you can perform math operations in python and use math functions (e.g., `log`) that you did not learn in class.\n",
    "\n",
    "According to [New Trader U: 3 Low-Effort Ways To Become A Millionaire](https://www.newtraderu.com/2023/05/07/3-low-effort-ways-to-become-a-millionaire/), Standard and Poor's 500 index fund (S&P 500) tracks the stock performance of 500 of the largest companies listed on stock exchanges in the US. The average historical rate an investor can expect long-term on S&P 500 is 8% annual compounded growth. The formula is:\n",
    "$$\n",
    "FV = PM * \\frac{[(1 + r)^{nt} – 1]}{r} \n",
    "$$\n",
    "Where:      \n",
    "FV:  Future value of the investment (e.g., \\\\$1,000,000)     \n",
    "PM: Monthly investment amount (e.g., \\\\$300)     \n",
    "r:   Monthly interest rate       \n",
    "n:   Number of times the interest is compounded per year (i.e., 12 for monthly compounding)     \n",
    "t:   Number of years (e.g., 20 years)   \n",
    "\n",
    "To convert annual interest rate of 8% to monthly interest rate you can use this formula $ r = (1 + 0.08)^{1/n} – 1  $\n",
    "\n",
    "For example,  for FV= \\\\$1,000,000 and t = 40 years, then PM ≈ \\\\$310.5. Note while there is wide variance in monthly and annual returns, long-term destination will likely lead to being a millionaire based on historical performance of past 100 years. \n",
    "\n",
    "**Answer these two questions:**       \n",
    "**(1)** Write a code to check how much do you need to invest monthly to become a millionaire in 25 years? Display your answer as \"For a future value of \\\\$ 1.0 million in 25 years, you need to invist \\\\$ 1100.0 per month\". Note that \\$ 1100.0 is rounded and the actual value is 1100.120953605599.   "
   ]
  },
  {
   "cell_type": "code",
   "execution_count": 28,
   "id": "d94aee66-d750-42c9-91ac-8e6e9a776872",
   "metadata": {},
   "outputs": [
    {
     "name": "stdout",
     "output_type": "stream",
     "text": [
      "For a future value of $ 1.0 million in 25 years, you need to invist $ 1100.0 per month\n"
     ]
    }
   ],
   "source": []
  },
  {
   "cell_type": "markdown",
   "id": "a54163c4-2d16-498b-92e7-4d8de5d55e38",
   "metadata": {},
   "source": [
    "**(2)** Write a code to find out that if you will invest \\\\$1000 per month, after how many years will you become a millionaire? Display your answer as \"If you invisited \\\\$1000.0 per month, you will become a milloire in 25.5 years\". **Note** you need to import [math](https://docs.python.org/3/library/math.html) module to solve the exponential equation using logarithms. We did not learn logarithms, but we learned how to find functions in the documentation of the math module."
   ]
  },
  {
   "cell_type": "code",
   "execution_count": 25,
   "id": "d0b6b999-6789-440c-a6f0-aa2567908a2e",
   "metadata": {},
   "outputs": [],
   "source": [
    "import math"
   ]
  },
  {
   "cell_type": "code",
   "execution_count": 29,
   "id": "a52921bc-6414-4573-b3ca-4c375d588e6a",
   "metadata": {},
   "outputs": [
    {
     "name": "stdout",
     "output_type": "stream",
     "text": [
      "If you invisited $ 1000.0 per month, you will become a milloire in 26.1 years\n"
     ]
    }
   ],
   "source": []
  },
  {
   "cell_type": "markdown",
   "id": "f6e7815d-2c07-44be-8c6a-b0577162f760",
   "metadata": {},
   "source": [
    "Note in the first question I used long variable names. In the second question, I used the symobls in the above equation the variable names. This is fine as these symbols are clearly defined the markdown cell."
   ]
  },
  {
   "cell_type": "markdown",
   "id": "0a703b09-0f93-4204-a78c-372736dd59d1",
   "metadata": {},
   "source": [
    "## Problem 3 - List \n",
    "\n",
    "**The objectives** of this problem is that you demonstrate that you have a good understanding python list including different methods of list, and that you can find help in python beyond what you learned in the class (e.g., to find and apply new methods that you did not learn in class).\n",
    "\n",
    "You are given a list representing daily average temperatures (in degrees Celsius) for a week in Estero, FL as follows.\n",
    "```python\n",
    "temperatures = [16, 17, 18, 15, 17, 19, 20]\n",
    "```\n",
    "   \n",
    "**Answer these questions:**   \n",
    "1. Find the number of days in the dataset.   \n",
    "2. A new average temperature of 21 degrees Celsius was recorded for the next day (Monday of the following week). Add the new temperature reading.   \n",
    "3. Add to the list this other list of temperatures from a different region: [25, 26, 25, 27, 28, 26, 27]. You did not learn the method to add a list to another list. Check [Finding Help in Python](https://github.com/aselshall/eds/blob/main/L/L1/find_help_python.md) to get ideas on how to find help.   \n",
    "4. Use python functions to find the highest and lowest temperatures in the list.   \n",
    "5. Replace the third from the last temperature in the list (i.e., 28) with 35.   \n",
    "6. Create a list of temperatures converted to Fahrenheit. The formula for converting Celsius to Fahrenheit is (Celsius * 9/5) + 32.\n",
    "\n",
    "Print you answers clearly (e.g., Number of days: 7)."
   ]
  },
  {
   "cell_type": "markdown",
   "id": "c065352f-4654-4c14-87ee-0246d88620b3",
   "metadata": {},
   "source": [
    "## Problem 3 - List \n",
    "\n",
    "**The objectives** of this problem is that you demonstrate that you have a good understanding python list including different methods of list, and that you can find help in python beyond what you learned in the class (e.g., to find and apply new methods that you did not learn in class).\n",
    "\n",
    "You are given a list representing daily average temperatures (in degrees Celsius) for a week in Estero, FL as follows.\n",
    "```python\n",
    "temperatures = [16, 17, 18, 15, 17, 19, 20]\n",
    "```\n",
    "   \n",
    "**Answer these questions:**   \n",
    "1. Find the number of days in the dataset.   \n",
    "2. A new average temperature of 21 degrees Celsius was recorded for the next day (Monday of the following week). Add the new temperature reading.   \n",
    "3. Add to the list this other list of temperatures from a different region: [25, 26, 25, 27, 28, 26, 27]. You did not learn the method to add a list to another list. Check [Finding Help in Python](https://github.com/aselshall/eds/blob/main/L/L1/find_help_python.md) to get ideas on how to find help.   \n",
    "4. Use python functions to find the highest and lowest temperatures in the list.   \n",
    "5. Replace the third from the last temperature in the list (i.e., 28) with 35.   \n",
    "6. Create a list of temperatures converted to Fahrenheit. The formula for converting Celsius to Fahrenheit is (Celsius * 9/5) + 32.\n",
    "\n",
    "Print you answers clearly (e.g., Number of days: 7)."
   ]
  },
  {
   "cell_type": "code",
   "execution_count": 9,
   "id": "d3e94439-9997-47ed-86bf-12fb0b037d88",
   "metadata": {},
   "outputs": [
    {
     "name": "stdout",
     "output_type": "stream",
     "text": [
      "Append object to the end of the list.\n"
     ]
    }
   ],
   "source": [
    "temperatures = [16, 17, 18, 15, 17, 19, 20]\n",
    "temperatures1 = [17, 19, 18, 15, 17, 19, 20]\n",
    "\n",
    "print(temperatures.append.__doc__) \n"
   ]
  },
  {
   "cell_type": "code",
   "execution_count": 13,
   "id": "73ff149f-d645-4e89-beba-267af1236f29",
   "metadata": {},
   "outputs": [
    {
     "name": "stdout",
     "output_type": "stream",
     "text": [
      "Temperatures list: [16, 17, 18, 15, 17, 19, 20]\n",
      "Number of days: 7\n",
      "Updated temperatures list: [16, 17, 18, 15, 17, 19, 20, 21]\n",
      "Updated temperatures list: [16, 17, 18, 15, 17, 19, 20, 21, 25, 26, 25, 27, 28, 26, 27]\n",
      "Highest temperature: 28\n",
      "Lowest temperature: 15\n",
      "Updated temperatures list: [16, 17, 18, 15, 17, 19, 20, 21, 25, 26, 25, 27, 35, 26, 27]\n",
      "Temperatures in Fahrenheit: [60.8, 62.6, 64.4, 59.0, 62.6, 66.2, 68.0, 69.8, 77.0, 78.8, 77.0, 80.6, 95.0, 78.8, 80.6]\n"
     ]
    }
   ],
   "source": []
  },
  {
   "cell_type": "markdown",
   "id": "d4370aca-8cfe-466a-9154-710b5019ec32",
   "metadata": {},
   "source": [
    "## Problem 4 - Using f-formatting\n",
    "\n",
    "**The objectives** of this problem is to show that you can use f-formatting with scientific notation and percentage.\n",
    "\n",
    "Consider the concentration of particulate matter (PM2.5) in the air as follows.\n",
    "```python\n",
    "#pm2.5 concentration in micrograms per cubic meter (µg/m³)\n",
    "pm25_concentration=0.215  \n",
    "# reference standard or permissible limit in micrograms per cubic meter (µg/m³)\n",
    "pm25_limit=10\n",
    "```\n",
    "**Write a python code to perform the following:**   \n",
    "(1) Calculate this ratio:   \n",
    "$$\\text{PM2.5 Ratio} = \\frac{\\text{PM2.5 Concentration}}{\\text{PM2.5 Permissible Limit}}$$ \n",
    "\n",
    "(2) Print this ratio using f-formatting as follows:  \n",
    "  \n",
    "\"A PM2.5 concentration of 2.15E-1 µg/m³ is approximately 2.15% of the permissible limit.\"\n",
    "  \n",
    "**Note**  The concentration format has 2 decimal places in scientific notation, and the ratio format is in percentage with 2 decimal places. \n",
    ".\n"
   ]
  },
  {
   "cell_type": "code",
   "execution_count": 4,
   "id": "94ba5ddd-0813-4a39-910e-8eab13bcf604",
   "metadata": {},
   "outputs": [
    {
     "name": "stdout",
     "output_type": "stream",
     "text": [
      "A PM2.5 concentration of 2.15E-01 µg/m³ is approximately 2.15% of the permissible limit.\n"
     ]
    }
   ],
   "source": []
  }
 ],
 "metadata": {
  "kernelspec": {
   "display_name": "Python 3 (ipykernel)",
   "language": "python",
   "name": "python3"
  },
  "language_info": {
   "codemirror_mode": {
    "name": "ipython",
    "version": 3
   },
   "file_extension": ".py",
   "mimetype": "text/x-python",
   "name": "python",
   "nbconvert_exporter": "python",
   "pygments_lexer": "ipython3",
   "version": "3.11.5"
  }
 },
 "nbformat": 4,
 "nbformat_minor": 5
}
