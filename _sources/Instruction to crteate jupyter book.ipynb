{
 "cells": [
  {
   "cell_type": "markdown",
   "id": "afe08df8-8422-40eb-9471-a53be4d11ffb",
   "metadata": {},
   "source": [
    "### Step 1: Set Up Your Environment\n",
    "Install Python and Jupyter Book: Make sure you have Python installed. Then, install Jupyter Book using pip:"
   ]
  },
  {
   "cell_type": "code",
   "execution_count": null,
   "id": "ef547e37-65cb-4fec-9c6d-45199b8f2830",
   "metadata": {},
   "outputs": [],
   "source": []
  },
  {
   "cell_type": "code",
   "execution_count": null,
   "id": "ab81e9a5-77d2-4653-b549-ae1a1b32d32e",
   "metadata": {},
   "outputs": [],
   "source": [
    "pip install jupyter-book"
   ]
  },
  {
   "cell_type": "markdown",
   "id": "b5f998e2-9c5d-4874-a37b-0dd69fb9bc71",
   "metadata": {},
   "source": [
    "### Step 2: Create a Jupyter Book\n",
    "Initialize the Book: Create a new Jupyter Book structure:Add Content: Navigate to the created folder [name] and add your content:\n",
    "Place Markdown (.md) or Jupyter Notebook (.ipynb) files in the appropriate directories. Update the toc.yml file to define the structure of your book."
   ]
  },
  {
   "cell_type": "code",
   "execution_count": null,
   "id": "17d67769-27db-4070-a582-35477bcdc153",
   "metadata": {},
   "outputs": [],
   "source": [
    "jupyter-book create data"
   ]
  },
  {
   "cell_type": "markdown",
   "id": "63591840-fd78-4f22-aeb9-33e1150e4dca",
   "metadata": {},
   "source": [
    "### Step 3: Build the Book Locally"
   ]
  },
  {
   "cell_type": "code",
   "execution_count": null,
   "id": "b76eddb0-6804-48ea-b122-681d6ab5e0eb",
   "metadata": {},
   "outputs": [],
   "source": [
    "#This generates the HTML files in _build/html.\n",
    "jupyter-book build code"
   ]
  },
  {
   "cell_type": "markdown",
   "id": "b76f9b32-cfd8-4ffd-8ab3-ecaaaff989c6",
   "metadata": {},
   "source": [
    "### Step 4: Publish to GitHub\n",
    "Create a GitHub Repository:Go to GitHub and create a new repository.\n",
    "Do not initialize the repository with a README file (it will conflict with your local files). Then clone to add all the files to the created repository using the following command. NBI-project is the repository created in gitgub"
   ]
  },
  {
   "cell_type": "code",
   "execution_count": null,
   "id": "c6a13cb1-993a-4bc1-bf31-27d0dc1e6ed0",
   "metadata": {},
   "outputs": [],
   "source": [
    "git clone https://github.com/aselshall/redtides"
   ]
  },
  {
   "cell_type": "markdown",
   "id": "dd17602c-4a20-42ea-80e6-9934c9c8addf",
   "metadata": {},
   "source": [
    "### Step 5: copy all file from the folder in step3 to the folder in step 4 (github repository)\n",
    "For better handling of folder structures, use the robocopy command (available by default in Windows):"
   ]
  },
  {
   "cell_type": "code",
   "execution_count": null,
   "id": "673ddd99-2285-4e64-b5a8-b7ff269940cd",
   "metadata": {},
   "outputs": [],
   "source": [
    "robocopy code redtides /E"
   ]
  },
  {
   "cell_type": "markdown",
   "id": "49be44b8-ae58-4b36-8462-ff972019073b",
   "metadata": {},
   "source": [
    "### Step 6: Uplload your html to the repository\n",
    "change the directory in the anaconda propmt to the repository folder (redtides). \n",
    "use ghp-import tool to publish the html. The ghp-import Python package is a utility designed to quickly deploy static files (like the HTML files generated for your Jupyter Book) to GitHub Pages."
   ]
  },
  {
   "cell_type": "code",
   "execution_count": null,
   "id": "14c1984d-5099-481f-b950-d14f52dd55a0",
   "metadata": {},
   "outputs": [],
   "source": [
    "#transferring your built website to a GitHub Pages branch (gh-pages)\n",
    "pip install ghp-import\n",
    "#Deploy to GitHub Pages \n",
    "ghp-import -n -p -f _build/html"
   ]
  },
  {
   "cell_type": "markdown",
   "id": "f8e850f3-7020-4938-b636-e667a141594e",
   "metadata": {},
   "source": [
    "### Step 4: Enable GitHub Pages\n",
    "1. Go to the Settings of your GitHub repository.\n",
    "2. Scroll down to the Pages section.\n",
    "3. Under Source, select gh-pages (or the appropriate branch if you've built your book differently).\n",
    "4. Save the settings, and GitHub will generate a public URL for your book."
   ]
  },
  {
   "cell_type": "markdown",
   "id": "f3d18160-ee00-4cb1-b50a-529c49a1d92e",
   "metadata": {},
   "source": [
    "reference: https://www.youtube.com/watch?v=lZ2FHTkyaMU"
   ]
  }
 ],
 "metadata": {
  "kernelspec": {
   "display_name": "Python 3 (ipykernel)",
   "language": "python",
   "name": "python3"
  },
  "language_info": {
   "codemirror_mode": {
    "name": "ipython",
    "version": 3
   },
   "file_extension": ".py",
   "mimetype": "text/x-python",
   "name": "python",
   "nbconvert_exporter": "python",
   "pygments_lexer": "ipython3",
   "version": "3.12.9"
  }
 },
 "nbformat": 4,
 "nbformat_minor": 5
}
